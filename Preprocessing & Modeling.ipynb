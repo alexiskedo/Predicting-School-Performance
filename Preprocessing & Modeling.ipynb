{
 "cells": [
  {
   "cell_type": "code",
   "execution_count": 121,
   "metadata": {},
   "outputs": [],
   "source": [
    "# Import all necessary libraries\n",
    "import numpy as np\n",
    "import pandas as pd\n",
    "import matplotlib.pyplot as pl\n",
    "import seaborn as sn\n",
    "import functions as fn\n",
    "import functions as fn\n",
    "from sklearn.pipeline import Pipeline\n",
    "from sklearn.model_selection import train_test_split, GridSearchCV\n",
    "from sklearn.linear_model import LogisticRegression\n",
    "from sklearn.neighbors import KNeighborsClassifier\n",
    "from sklearn.ensemble import GradientBoostingClassifier\n",
    "from sklearn.ensemble import RandomForestClassifier\n",
    "from sklearn.ensemble import AdaBoostClassifier\n",
    "from sklearn.preprocessing import StandardScaler, MinMaxScaler\n",
    "from sklearn.metrics import accuracy_score, classification_report\n",
    "from sklearn.metrics import f1_score, roc_auc_score, plot_confusion_matrix, precision_score, recall_score, make_scorer\n",
    "from sklearn.model_selection import GridSearchCV"
   ]
  },
  {
   "cell_type": "code",
   "execution_count": 2,
   "metadata": {},
   "outputs": [],
   "source": [
    "#View options\n",
    "#'display.float_format', lambda x: '%8.0f' % x\n",
    "pd.set_option('display.max_columns', None, 'display.max_rows', None)"
   ]
  },
  {
   "cell_type": "code",
   "execution_count": 3,
   "metadata": {},
   "outputs": [],
   "source": [
    "#Import final polished dataframe\n",
    "df = pd.read_csv('data/final.csv',encoding='cp1252')"
   ]
  },
  {
   "cell_type": "code",
   "execution_count": 4,
   "metadata": {},
   "outputs": [],
   "source": [
    "df = df.drop(columns=['Unnamed: 0'], axis=1)"
   ]
  },
  {
   "cell_type": "code",
   "execution_count": 5,
   "metadata": {
    "scrolled": false
   },
   "outputs": [
    {
     "data": {
      "text/plain": [
       "(73040, 23)"
      ]
     },
     "execution_count": 5,
     "metadata": {},
     "output_type": "execute_result"
    }
   ],
   "source": [
    "df.shape"
   ]
  },
  {
   "cell_type": "code",
   "execution_count": 6,
   "metadata": {},
   "outputs": [],
   "source": [
    "#Dealing with some missing school size data before transforming\n",
    "df = df[df.Total_Students.apply(lambda x: x.isnumeric())]"
   ]
  },
  {
   "cell_type": "code",
   "execution_count": 7,
   "metadata": {},
   "outputs": [],
   "source": [
    "#Transform all numerical data to appropriate datatypes\n",
    "df['Total_Students'] = df['Total_Students'].astype(int)"
   ]
  },
  {
   "cell_type": "code",
   "execution_count": 8,
   "metadata": {},
   "outputs": [],
   "source": [
    "#Found some nonsense values in Student/Teacher ratio column, need to replace with 16 (national average)\n",
    "gibberish = df.loc[df['Student_Teacher_Ratio'] == 'Ã¢â‚¬â€œ']"
   ]
  },
  {
   "cell_type": "code",
   "execution_count": 9,
   "metadata": {},
   "outputs": [],
   "source": [
    "df['level'] = np.nan"
   ]
  },
  {
   "cell_type": "code",
   "execution_count": 10,
   "metadata": {
    "scrolled": false
   },
   "outputs": [
    {
     "name": "stderr",
     "output_type": "stream",
     "text": [
      "<ipython-input-10-3d3f8f40a880>:12: SettingWithCopyWarning: \n",
      "A value is trying to be set on a copy of a slice from a DataFrame\n",
      "\n",
      "See the caveats in the documentation: https://pandas.pydata.org/pandas-docs/stable/user_guide/indexing.html#returning-a-view-versus-a-copy\n",
      "  df['level'][i] = element\n",
      "/opt/anaconda3/envs/learn-env/lib/python3.8/site-packages/pandas/core/indexing.py:670: SettingWithCopyWarning: \n",
      "A value is trying to be set on a copy of a slice from a DataFrame\n",
      "\n",
      "See the caveats in the documentation: https://pandas.pydata.org/pandas-docs/stable/user_guide/indexing.html#returning-a-view-versus-a-copy\n",
      "  iloc._setitem_with_indexer(indexer, value)\n",
      "<ipython-input-10-3d3f8f40a880>:4: SettingWithCopyWarning: \n",
      "A value is trying to be set on a copy of a slice from a DataFrame\n",
      "\n",
      "See the caveats in the documentation: https://pandas.pydata.org/pandas-docs/stable/user_guide/indexing.html#returning-a-view-versus-a-copy\n",
      "  df['level'][i] = 'High'\n",
      "<ipython-input-10-3d3f8f40a880>:10: SettingWithCopyWarning: \n",
      "A value is trying to be set on a copy of a slice from a DataFrame\n",
      "\n",
      "See the caveats in the documentation: https://pandas.pydata.org/pandas-docs/stable/user_guide/indexing.html#returning-a-view-versus-a-copy\n",
      "  df['level'][i] = 'Other'\n",
      "<ipython-input-10-3d3f8f40a880>:6: SettingWithCopyWarning: \n",
      "A value is trying to be set on a copy of a slice from a DataFrame\n",
      "\n",
      "See the caveats in the documentation: https://pandas.pydata.org/pandas-docs/stable/user_guide/indexing.html#returning-a-view-versus-a-copy\n",
      "  df['level'][i] = 'Other'\n",
      "<ipython-input-10-3d3f8f40a880>:8: SettingWithCopyWarning: \n",
      "A value is trying to be set on a copy of a slice from a DataFrame\n",
      "\n",
      "See the caveats in the documentation: https://pandas.pydata.org/pandas-docs/stable/user_guide/indexing.html#returning-a-view-versus-a-copy\n",
      "  df['level'][i] = 'Other'\n"
     ]
    }
   ],
   "source": [
    "# Enumerate to replace values in ['Level'] to simplify variables\n",
    "for i, element in enumerate(df['Level']): \n",
    "    if element == 'Secondary':\n",
    "        df['level'][i] = 'High'\n",
    "    elif element == 'Prekindergarten': \n",
    "        df['level'][i] = 'Other'\n",
    "    elif element == 'Ungraded': \n",
    "        df['level'][i] = 'Other'\n",
    "    elif element == 'Not applicable':\n",
    "        df['level'][i] = 'Other' \n",
    "    else: \n",
    "        df['level'][i] = element"
   ]
  },
  {
   "cell_type": "code",
   "execution_count": 11,
   "metadata": {
    "scrolled": true
   },
   "outputs": [
    {
     "data": {
      "text/plain": [
       "Elementary    40801\n",
       "High          16288\n",
       "Middle        13103\n",
       "Other          2608\n",
       "Name: level, dtype: int64"
      ]
     },
     "execution_count": 11,
     "metadata": {},
     "output_type": "execute_result"
    }
   ],
   "source": [
    "df['level'].value_counts()"
   ]
  },
  {
   "cell_type": "code",
   "execution_count": 12,
   "metadata": {},
   "outputs": [],
   "source": [
    "df = df.drop(['Level'], axis=1)"
   ]
  },
  {
   "cell_type": "code",
   "execution_count": 13,
   "metadata": {},
   "outputs": [],
   "source": [
    "df = df.rename(columns={'level':'Level'})"
   ]
  },
  {
   "cell_type": "code",
   "execution_count": 14,
   "metadata": {},
   "outputs": [],
   "source": [
    "#Need to fill Nans in Level column"
   ]
  },
  {
   "cell_type": "code",
   "execution_count": 15,
   "metadata": {},
   "outputs": [],
   "source": [
    "df['Student_Teacher_Ratio'].replace('Ã¢â‚¬â€œ','16',inplace=True)"
   ]
  },
  {
   "cell_type": "code",
   "execution_count": 16,
   "metadata": {},
   "outputs": [],
   "source": [
    "df = df[df['Student_Teacher_Ratio'] != 'Ã¢â‚¬Â']"
   ]
  },
  {
   "cell_type": "code",
   "execution_count": 17,
   "metadata": {},
   "outputs": [],
   "source": [
    "df['Student_Teacher_Ratio'].replace('Ã¢â‚¬Â\\xa0','16',inplace=True)"
   ]
  },
  {
   "cell_type": "code",
   "execution_count": 18,
   "metadata": {
    "scrolled": false
   },
   "outputs": [],
   "source": [
    "df['Student_Teacher_Ratio'] = df['Student_Teacher_Ratio'].astype(float)"
   ]
  },
  {
   "cell_type": "code",
   "execution_count": 19,
   "metadata": {
    "scrolled": true
   },
   "outputs": [
    {
     "data": {
      "text/plain": [
       "0    0.506308\n",
       "1    0.493692\n",
       "Name: Target, dtype: float64"
      ]
     },
     "execution_count": 19,
     "metadata": {},
     "output_type": "execute_result"
    }
   ],
   "source": [
    "# Exploring balance of target classes\n",
    "df['Target'].value_counts(normalize=True)"
   ]
  },
  {
   "cell_type": "code",
   "execution_count": 20,
   "metadata": {},
   "outputs": [],
   "source": [
    "#Splitting data into features and target\n",
    "#Dropping all identifier columns including zipcode - as median income is based on zipcode and is a good stand-in\n",
    "target = df['Target']\n",
    "features = df.drop(['School_ID','School_Name','District_Name','District_ID','Zip','City','Target'], axis=1)               "
   ]
  },
  {
   "cell_type": "code",
   "execution_count": 21,
   "metadata": {},
   "outputs": [
    {
     "data": {
      "image/png": "[encoded data removed]",
      "text/plain": [
       "<Figure size 1440x1296 with 2 Axes>"
      ]
     },
     "metadata": {
      "needs_background": "light"
     },
     "output_type": "display_data"
    }
   ],
   "source": [
    "#Exploring multicollinearity\n",
    "corr = features.corr()\n",
    "pl.figure(figsize = (20,18))\n",
    "sn.heatmap(corr, annot=True)\n",
    "pl.show()"
   ]
  },
  {
   "cell_type": "code",
   "execution_count": 22,
   "metadata": {},
   "outputs": [],
   "source": [
    "#Performing train-test split\n",
    "X_train, X_test, y_train, y_test = train_test_split(features, target, test_size=0.20, random_state=42)"
   ]
  },
  {
   "cell_type": "markdown",
   "metadata": {},
   "source": [
    "### Dealing with Categorical Data"
   ]
  },
  {
   "cell_type": "code",
   "execution_count": 23,
   "metadata": {},
   "outputs": [
    {
     "data": {
      "text/plain": [
       "State                       object\n",
       "Zip_Population               int64\n",
       "Density                     object\n",
       "Median_Income                int64\n",
       "Property_Taxes               int64\n",
       "Percent_Taxes              float64\n",
       "Per_Pupil_Spending           int64\n",
       "Per_Pupil_Support            int64\n",
       "Per_Pupil_Support_Staff      int64\n",
       "Per_Pupil_Salaries           int64\n",
       "Total_Students               int64\n",
       "Student_Teacher_Ratio      float64\n",
       "Title_I                     object\n",
       "Virtual                     object\n",
       "%_Proficient_Reading         int64\n",
       "Level                       object\n",
       "dtype: object"
      ]
     },
     "execution_count": 23,
     "metadata": {},
     "output_type": "execute_result"
    }
   ],
   "source": [
    "features.dtypes"
   ]
  },
  {
   "cell_type": "markdown",
   "metadata": {},
   "source": [
    "Since there are 50 state possibilities, one-hot encoding would lead to dozens of unnecessary columns. After some thought, I decided to use target encoding to deal with states, using the continuous version of the target to replace each state with the average percentage of students proficient in that state. Though this is an imperfect substitute for location, it is true that states differ markedly from each other in their levels of student achievement and tend to stay consistent from year to year (for example, Massachusetts is continually one of the top-performing states in the nation, while Louisiana is consistently one of the lowest). Thus, treating states this way should feed my model some valuable information about student performance."
   ]
  },
  {
   "cell_type": "code",
   "execution_count": 24,
   "metadata": {},
   "outputs": [],
   "source": [
    "#Target encoding state column \n",
    "#Create a groupby dataframe that gives us the mean in each numeric column for each state\n",
    "state_averages = X_train.groupby(['State']).mean().reset_index()"
   ]
  },
  {
   "cell_type": "code",
   "execution_count": 25,
   "metadata": {},
   "outputs": [],
   "source": [
    "state_averages = state_averages.filter(['%_Proficient_Reading','State'], axis=1).rename(columns={'%_Proficient_Reading':'State_Avg_Reading'})\n"
   ]
  },
  {
   "cell_type": "code",
   "execution_count": 26,
   "metadata": {
    "scrolled": true
   },
   "outputs": [],
   "source": [
    "#Join state helper dataframe with my training predictors and testing data\n",
    "X_train = pd.merge(state_averages, X_train, how = 'inner', on='State').drop(['State','%_Proficient_Reading'], axis=1)\n",
    "X_test = pd.merge(state_averages, X_test, how = 'inner', on='State').drop(['State','%_Proficient_Reading'], axis=1)"
   ]
  },
  {
   "cell_type": "code",
   "execution_count": 27,
   "metadata": {
    "scrolled": true
   },
   "outputs": [
    {
     "data": {
      "text/html": [
       "<div>\n",
       "<style scoped>\n",
       "    .dataframe tbody tr th:only-of-type {\n",
       "        vertical-align: middle;\n",
       "    }\n",
       "\n",
       "    .dataframe tbody tr th {\n",
       "        vertical-align: top;\n",
       "    }\n",
       "\n",
       "    .dataframe thead th {\n",
       "        text-align: right;\n",
       "    }\n",
       "</style>\n",
       "<table border=\"1\" class=\"dataframe\">\n",
       "  <thead>\n",
       "    <tr style=\"text-align: right;\">\n",
       "      <th></th>\n",
       "      <th>State_Avg_Reading</th>\n",
       "      <th>Zip_Population</th>\n",
       "      <th>Density</th>\n",
       "      <th>Median_Income</th>\n",
       "      <th>Property_Taxes</th>\n",
       "      <th>Percent_Taxes</th>\n",
       "      <th>Per_Pupil_Spending</th>\n",
       "      <th>Per_Pupil_Support</th>\n",
       "      <th>Per_Pupil_Support_Staff</th>\n",
       "      <th>Per_Pupil_Salaries</th>\n",
       "      <th>Total_Students</th>\n",
       "      <th>Student_Teacher_Ratio</th>\n",
       "      <th>Title_I</th>\n",
       "      <th>Virtual</th>\n",
       "      <th>Level</th>\n",
       "    </tr>\n",
       "  </thead>\n",
       "  <tbody>\n",
       "    <tr>\n",
       "      <th>0</th>\n",
       "      <td>35.559524</td>\n",
       "      <td>1410</td>\n",
       "      <td>midsize</td>\n",
       "      <td>72188</td>\n",
       "      <td>7518</td>\n",
       "      <td>35.6</td>\n",
       "      <td>10545</td>\n",
       "      <td>389</td>\n",
       "      <td>438</td>\n",
       "      <td>4049</td>\n",
       "      <td>39</td>\n",
       "      <td>4.18</td>\n",
       "      <td>yes</td>\n",
       "      <td>no</td>\n",
       "      <td>NaN</td>\n",
       "    </tr>\n",
       "    <tr>\n",
       "      <th>1</th>\n",
       "      <td>35.559524</td>\n",
       "      <td>1410</td>\n",
       "      <td>midsize</td>\n",
       "      <td>72188</td>\n",
       "      <td>7518</td>\n",
       "      <td>35.6</td>\n",
       "      <td>10545</td>\n",
       "      <td>389</td>\n",
       "      <td>438</td>\n",
       "      <td>4049</td>\n",
       "      <td>48</td>\n",
       "      <td>4.05</td>\n",
       "      <td>yes</td>\n",
       "      <td>no</td>\n",
       "      <td>NaN</td>\n",
       "    </tr>\n",
       "    <tr>\n",
       "      <th>2</th>\n",
       "      <td>35.559524</td>\n",
       "      <td>45366</td>\n",
       "      <td>midsize</td>\n",
       "      <td>61089</td>\n",
       "      <td>989357</td>\n",
       "      <td>47.9</td>\n",
       "      <td>10173</td>\n",
       "      <td>392</td>\n",
       "      <td>1145</td>\n",
       "      <td>3257</td>\n",
       "      <td>198</td>\n",
       "      <td>9.66</td>\n",
       "      <td>yes</td>\n",
       "      <td>yes</td>\n",
       "      <td>Elementary</td>\n",
       "    </tr>\n",
       "    <tr>\n",
       "      <th>3</th>\n",
       "      <td>35.559524</td>\n",
       "      <td>107571</td>\n",
       "      <td>urban</td>\n",
       "      <td>62602</td>\n",
       "      <td>6090</td>\n",
       "      <td>41.4</td>\n",
       "      <td>9813</td>\n",
       "      <td>581</td>\n",
       "      <td>616</td>\n",
       "      <td>3995</td>\n",
       "      <td>321</td>\n",
       "      <td>12.07</td>\n",
       "      <td>yes</td>\n",
       "      <td>yes</td>\n",
       "      <td>Elementary</td>\n",
       "    </tr>\n",
       "    <tr>\n",
       "      <th>4</th>\n",
       "      <td>35.559524</td>\n",
       "      <td>12114</td>\n",
       "      <td>midsize</td>\n",
       "      <td>47060</td>\n",
       "      <td>7640</td>\n",
       "      <td>36.2</td>\n",
       "      <td>13364</td>\n",
       "      <td>661</td>\n",
       "      <td>223</td>\n",
       "      <td>4595</td>\n",
       "      <td>280</td>\n",
       "      <td>15.56</td>\n",
       "      <td>yes</td>\n",
       "      <td>yes</td>\n",
       "      <td>Elementary</td>\n",
       "    </tr>\n",
       "  </tbody>\n",
       "</table>\n",
       "</div>"
      ],
      "text/plain": [
       "   State_Avg_Reading  Zip_Population  Density  Median_Income  Property_Taxes  \\\n",
       "0          35.559524            1410  midsize          72188            7518   \n",
       "1          35.559524            1410  midsize          72188            7518   \n",
       "2          35.559524           45366  midsize          61089          989357   \n",
       "3          35.559524          107571    urban          62602            6090   \n",
       "4          35.559524           12114  midsize          47060            7640   \n",
       "\n",
       "   Percent_Taxes  Per_Pupil_Spending  Per_Pupil_Support  \\\n",
       "0           35.6               10545                389   \n",
       "1           35.6               10545                389   \n",
       "2           47.9               10173                392   \n",
       "3           41.4                9813                581   \n",
       "4           36.2               13364                661   \n",
       "\n",
       "   Per_Pupil_Support_Staff  Per_Pupil_Salaries  Total_Students  \\\n",
       "0                      438                4049              39   \n",
       "1                      438                4049              48   \n",
       "2                     1145                3257             198   \n",
       "3                      616                3995             321   \n",
       "4                      223                4595             280   \n",
       "\n",
       "   Student_Teacher_Ratio Title_I Virtual       Level  \n",
       "0                   4.18     yes      no         NaN  \n",
       "1                   4.05     yes      no         NaN  \n",
       "2                   9.66     yes     yes  Elementary  \n",
       "3                  12.07     yes     yes  Elementary  \n",
       "4                  15.56     yes     yes  Elementary  "
      ]
     },
     "execution_count": 27,
     "metadata": {},
     "output_type": "execute_result"
    }
   ],
   "source": [
    "X_train.head()"
   ]
  },
  {
   "cell_type": "code",
   "execution_count": 28,
   "metadata": {
    "scrolled": false
   },
   "outputs": [],
   "source": [
    "#Deal with nulls in training and testing data\n",
    "X_train = X_train.fillna(value = {\"Level\":\"Other\"})\n",
    "X_test = X_test.fillna(value = {'Level':'Other'})"
   ]
  },
  {
   "cell_type": "code",
   "execution_count": 29,
   "metadata": {},
   "outputs": [],
   "source": [
    "#Putting X back together\n",
    "X = pd.concat([X_train, X_test], axis=0)"
   ]
  },
  {
   "cell_type": "code",
   "execution_count": 30,
   "metadata": {},
   "outputs": [
    {
     "data": {
      "image/png": "[encoded data removed]",
      "text/plain": [
       "<Figure size 360x360 with 1 Axes>"
      ]
     },
     "metadata": {
      "needs_background": "light"
     },
     "output_type": "display_data"
    }
   ],
   "source": [
    "sn.displot(X, x='State_Avg_Reading', binwidth=3, color=\"lightblue\")\n",
    "pl.savefig(\"State Averages\")"
   ]
  },
  {
   "cell_type": "code",
   "execution_count": 31,
   "metadata": {},
   "outputs": [],
   "source": [
    "#Now need to one-hot encode  categorical columns\n",
    "#Isolate categorical columns\n",
    "cats = X[['Density','Title_I', 'Virtual','Level']]\n",
    "#Transform data\n",
    "cats = pd.get_dummies(cats)"
   ]
  },
  {
   "cell_type": "code",
   "execution_count": 32,
   "metadata": {
    "scrolled": true
   },
   "outputs": [
    {
     "data": {
      "text/html": [
       "<div>\n",
       "<style scoped>\n",
       "    .dataframe tbody tr th:only-of-type {\n",
       "        vertical-align: middle;\n",
       "    }\n",
       "\n",
       "    .dataframe tbody tr th {\n",
       "        vertical-align: top;\n",
       "    }\n",
       "\n",
       "    .dataframe thead th {\n",
       "        text-align: right;\n",
       "    }\n",
       "</style>\n",
       "<table border=\"1\" class=\"dataframe\">\n",
       "  <thead>\n",
       "    <tr style=\"text-align: right;\">\n",
       "      <th></th>\n",
       "      <th>Density_midsize</th>\n",
       "      <th>Density_urban</th>\n",
       "      <th>Title_I_no</th>\n",
       "      <th>Title_I_yes</th>\n",
       "      <th>Virtual_no</th>\n",
       "      <th>Virtual_yes</th>\n",
       "      <th>Level_Elementary</th>\n",
       "      <th>Level_High</th>\n",
       "      <th>Level_Middle</th>\n",
       "      <th>Level_Other</th>\n",
       "    </tr>\n",
       "  </thead>\n",
       "  <tbody>\n",
       "    <tr>\n",
       "      <th>0</th>\n",
       "      <td>1</td>\n",
       "      <td>0</td>\n",
       "      <td>0</td>\n",
       "      <td>1</td>\n",
       "      <td>1</td>\n",
       "      <td>0</td>\n",
       "      <td>0</td>\n",
       "      <td>0</td>\n",
       "      <td>0</td>\n",
       "      <td>1</td>\n",
       "    </tr>\n",
       "    <tr>\n",
       "      <th>1</th>\n",
       "      <td>1</td>\n",
       "      <td>0</td>\n",
       "      <td>0</td>\n",
       "      <td>1</td>\n",
       "      <td>1</td>\n",
       "      <td>0</td>\n",
       "      <td>0</td>\n",
       "      <td>0</td>\n",
       "      <td>0</td>\n",
       "      <td>1</td>\n",
       "    </tr>\n",
       "    <tr>\n",
       "      <th>2</th>\n",
       "      <td>1</td>\n",
       "      <td>0</td>\n",
       "      <td>0</td>\n",
       "      <td>1</td>\n",
       "      <td>0</td>\n",
       "      <td>1</td>\n",
       "      <td>1</td>\n",
       "      <td>0</td>\n",
       "      <td>0</td>\n",
       "      <td>0</td>\n",
       "    </tr>\n",
       "    <tr>\n",
       "      <th>3</th>\n",
       "      <td>0</td>\n",
       "      <td>1</td>\n",
       "      <td>0</td>\n",
       "      <td>1</td>\n",
       "      <td>0</td>\n",
       "      <td>1</td>\n",
       "      <td>1</td>\n",
       "      <td>0</td>\n",
       "      <td>0</td>\n",
       "      <td>0</td>\n",
       "    </tr>\n",
       "    <tr>\n",
       "      <th>4</th>\n",
       "      <td>1</td>\n",
       "      <td>0</td>\n",
       "      <td>0</td>\n",
       "      <td>1</td>\n",
       "      <td>0</td>\n",
       "      <td>1</td>\n",
       "      <td>1</td>\n",
       "      <td>0</td>\n",
       "      <td>0</td>\n",
       "      <td>0</td>\n",
       "    </tr>\n",
       "  </tbody>\n",
       "</table>\n",
       "</div>"
      ],
      "text/plain": [
       "   Density_midsize  Density_urban  Title_I_no  Title_I_yes  Virtual_no  \\\n",
       "0                1              0           0            1           1   \n",
       "1                1              0           0            1           1   \n",
       "2                1              0           0            1           0   \n",
       "3                0              1           0            1           0   \n",
       "4                1              0           0            1           0   \n",
       "\n",
       "   Virtual_yes  Level_Elementary  Level_High  Level_Middle  Level_Other  \n",
       "0            0                 0           0             0            1  \n",
       "1            0                 0           0             0            1  \n",
       "2            1                 1           0             0            0  \n",
       "3            1                 1           0             0            0  \n",
       "4            1                 1           0             0            0  "
      ]
     },
     "execution_count": 32,
     "metadata": {},
     "output_type": "execute_result"
    }
   ],
   "source": [
    "cats.head()"
   ]
  },
  {
   "cell_type": "code",
   "execution_count": 33,
   "metadata": {},
   "outputs": [],
   "source": [
    "#Merge with main dataframe on key values\n",
    "X_numeric = pd.concat([X, cats], axis=1)"
   ]
  },
  {
   "cell_type": "code",
   "execution_count": 34,
   "metadata": {},
   "outputs": [
    {
     "data": {
      "text/html": [
       "<div>\n",
       "<style scoped>\n",
       "    .dataframe tbody tr th:only-of-type {\n",
       "        vertical-align: middle;\n",
       "    }\n",
       "\n",
       "    .dataframe tbody tr th {\n",
       "        vertical-align: top;\n",
       "    }\n",
       "\n",
       "    .dataframe thead th {\n",
       "        text-align: right;\n",
       "    }\n",
       "</style>\n",
       "<table border=\"1\" class=\"dataframe\">\n",
       "  <thead>\n",
       "    <tr style=\"text-align: right;\">\n",
       "      <th></th>\n",
       "      <th>State_Avg_Reading</th>\n",
       "      <th>Zip_Population</th>\n",
       "      <th>Density</th>\n",
       "      <th>Median_Income</th>\n",
       "      <th>Property_Taxes</th>\n",
       "      <th>Percent_Taxes</th>\n",
       "      <th>Per_Pupil_Spending</th>\n",
       "      <th>Per_Pupil_Support</th>\n",
       "      <th>Per_Pupil_Support_Staff</th>\n",
       "      <th>Per_Pupil_Salaries</th>\n",
       "      <th>Total_Students</th>\n",
       "      <th>Student_Teacher_Ratio</th>\n",
       "      <th>Title_I</th>\n",
       "      <th>Virtual</th>\n",
       "      <th>Level</th>\n",
       "      <th>Density_midsize</th>\n",
       "      <th>Density_urban</th>\n",
       "      <th>Title_I_no</th>\n",
       "      <th>Title_I_yes</th>\n",
       "      <th>Virtual_no</th>\n",
       "      <th>Virtual_yes</th>\n",
       "      <th>Level_Elementary</th>\n",
       "      <th>Level_High</th>\n",
       "      <th>Level_Middle</th>\n",
       "      <th>Level_Other</th>\n",
       "    </tr>\n",
       "  </thead>\n",
       "  <tbody>\n",
       "    <tr>\n",
       "      <th>0</th>\n",
       "      <td>35.559524</td>\n",
       "      <td>1410</td>\n",
       "      <td>midsize</td>\n",
       "      <td>72188</td>\n",
       "      <td>7518</td>\n",
       "      <td>35.6</td>\n",
       "      <td>10545</td>\n",
       "      <td>389</td>\n",
       "      <td>438</td>\n",
       "      <td>4049</td>\n",
       "      <td>39</td>\n",
       "      <td>4.18</td>\n",
       "      <td>yes</td>\n",
       "      <td>no</td>\n",
       "      <td>Other</td>\n",
       "      <td>1</td>\n",
       "      <td>0</td>\n",
       "      <td>0</td>\n",
       "      <td>1</td>\n",
       "      <td>1</td>\n",
       "      <td>0</td>\n",
       "      <td>0</td>\n",
       "      <td>0</td>\n",
       "      <td>0</td>\n",
       "      <td>1</td>\n",
       "    </tr>\n",
       "    <tr>\n",
       "      <th>1</th>\n",
       "      <td>35.559524</td>\n",
       "      <td>1410</td>\n",
       "      <td>midsize</td>\n",
       "      <td>72188</td>\n",
       "      <td>7518</td>\n",
       "      <td>35.6</td>\n",
       "      <td>10545</td>\n",
       "      <td>389</td>\n",
       "      <td>438</td>\n",
       "      <td>4049</td>\n",
       "      <td>48</td>\n",
       "      <td>4.05</td>\n",
       "      <td>yes</td>\n",
       "      <td>no</td>\n",
       "      <td>Other</td>\n",
       "      <td>1</td>\n",
       "      <td>0</td>\n",
       "      <td>0</td>\n",
       "      <td>1</td>\n",
       "      <td>1</td>\n",
       "      <td>0</td>\n",
       "      <td>0</td>\n",
       "      <td>0</td>\n",
       "      <td>0</td>\n",
       "      <td>1</td>\n",
       "    </tr>\n",
       "    <tr>\n",
       "      <th>2</th>\n",
       "      <td>35.559524</td>\n",
       "      <td>45366</td>\n",
       "      <td>midsize</td>\n",
       "      <td>61089</td>\n",
       "      <td>989357</td>\n",
       "      <td>47.9</td>\n",
       "      <td>10173</td>\n",
       "      <td>392</td>\n",
       "      <td>1145</td>\n",
       "      <td>3257</td>\n",
       "      <td>198</td>\n",
       "      <td>9.66</td>\n",
       "      <td>yes</td>\n",
       "      <td>yes</td>\n",
       "      <td>Elementary</td>\n",
       "      <td>1</td>\n",
       "      <td>0</td>\n",
       "      <td>0</td>\n",
       "      <td>1</td>\n",
       "      <td>0</td>\n",
       "      <td>1</td>\n",
       "      <td>1</td>\n",
       "      <td>0</td>\n",
       "      <td>0</td>\n",
       "      <td>0</td>\n",
       "    </tr>\n",
       "    <tr>\n",
       "      <th>3</th>\n",
       "      <td>35.559524</td>\n",
       "      <td>107571</td>\n",
       "      <td>urban</td>\n",
       "      <td>62602</td>\n",
       "      <td>6090</td>\n",
       "      <td>41.4</td>\n",
       "      <td>9813</td>\n",
       "      <td>581</td>\n",
       "      <td>616</td>\n",
       "      <td>3995</td>\n",
       "      <td>321</td>\n",
       "      <td>12.07</td>\n",
       "      <td>yes</td>\n",
       "      <td>yes</td>\n",
       "      <td>Elementary</td>\n",
       "      <td>0</td>\n",
       "      <td>1</td>\n",
       "      <td>0</td>\n",
       "      <td>1</td>\n",
       "      <td>0</td>\n",
       "      <td>1</td>\n",
       "      <td>1</td>\n",
       "      <td>0</td>\n",
       "      <td>0</td>\n",
       "      <td>0</td>\n",
       "    </tr>\n",
       "    <tr>\n",
       "      <th>4</th>\n",
       "      <td>35.559524</td>\n",
       "      <td>12114</td>\n",
       "      <td>midsize</td>\n",
       "      <td>47060</td>\n",
       "      <td>7640</td>\n",
       "      <td>36.2</td>\n",
       "      <td>13364</td>\n",
       "      <td>661</td>\n",
       "      <td>223</td>\n",
       "      <td>4595</td>\n",
       "      <td>280</td>\n",
       "      <td>15.56</td>\n",
       "      <td>yes</td>\n",
       "      <td>yes</td>\n",
       "      <td>Elementary</td>\n",
       "      <td>1</td>\n",
       "      <td>0</td>\n",
       "      <td>0</td>\n",
       "      <td>1</td>\n",
       "      <td>0</td>\n",
       "      <td>1</td>\n",
       "      <td>1</td>\n",
       "      <td>0</td>\n",
       "      <td>0</td>\n",
       "      <td>0</td>\n",
       "    </tr>\n",
       "  </tbody>\n",
       "</table>\n",
       "</div>"
      ],
      "text/plain": [
       "   State_Avg_Reading  Zip_Population  Density  Median_Income  Property_Taxes  \\\n",
       "0          35.559524            1410  midsize          72188            7518   \n",
       "1          35.559524            1410  midsize          72188            7518   \n",
       "2          35.559524           45366  midsize          61089          989357   \n",
       "3          35.559524          107571    urban          62602            6090   \n",
       "4          35.559524           12114  midsize          47060            7640   \n",
       "\n",
       "   Percent_Taxes  Per_Pupil_Spending  Per_Pupil_Support  \\\n",
       "0           35.6               10545                389   \n",
       "1           35.6               10545                389   \n",
       "2           47.9               10173                392   \n",
       "3           41.4                9813                581   \n",
       "4           36.2               13364                661   \n",
       "\n",
       "   Per_Pupil_Support_Staff  Per_Pupil_Salaries  Total_Students  \\\n",
       "0                      438                4049              39   \n",
       "1                      438                4049              48   \n",
       "2                     1145                3257             198   \n",
       "3                      616                3995             321   \n",
       "4                      223                4595             280   \n",
       "\n",
       "   Student_Teacher_Ratio Title_I Virtual       Level  Density_midsize  \\\n",
       "0                   4.18     yes      no       Other                1   \n",
       "1                   4.05     yes      no       Other                1   \n",
       "2                   9.66     yes     yes  Elementary                1   \n",
       "3                  12.07     yes     yes  Elementary                0   \n",
       "4                  15.56     yes     yes  Elementary                1   \n",
       "\n",
       "   Density_urban  Title_I_no  Title_I_yes  Virtual_no  Virtual_yes  \\\n",
       "0              0           0            1           1            0   \n",
       "1              0           0            1           1            0   \n",
       "2              0           0            1           0            1   \n",
       "3              1           0            1           0            1   \n",
       "4              0           0            1           0            1   \n",
       "\n",
       "   Level_Elementary  Level_High  Level_Middle  Level_Other  \n",
       "0                 0           0             0            1  \n",
       "1                 0           0             0            1  \n",
       "2                 1           0             0            0  \n",
       "3                 1           0             0            0  \n",
       "4                 1           0             0            0  "
      ]
     },
     "execution_count": 34,
     "metadata": {},
     "output_type": "execute_result"
    }
   ],
   "source": [
    "X_numeric.head()"
   ]
  },
  {
   "cell_type": "code",
   "execution_count": 35,
   "metadata": {},
   "outputs": [],
   "source": [
    "#Drop non-numeric categorical columns \n",
    "X_numeric = X_numeric.drop(['Density','Title_I', 'Virtual','Level'], axis=1)"
   ]
  },
  {
   "cell_type": "code",
   "execution_count": 36,
   "metadata": {},
   "outputs": [
    {
     "data": {
      "text/html": [
       "<div>\n",
       "<style scoped>\n",
       "    .dataframe tbody tr th:only-of-type {\n",
       "        vertical-align: middle;\n",
       "    }\n",
       "\n",
       "    .dataframe tbody tr th {\n",
       "        vertical-align: top;\n",
       "    }\n",
       "\n",
       "    .dataframe thead th {\n",
       "        text-align: right;\n",
       "    }\n",
       "</style>\n",
       "<table border=\"1\" class=\"dataframe\">\n",
       "  <thead>\n",
       "    <tr style=\"text-align: right;\">\n",
       "      <th></th>\n",
       "      <th>State_Avg_Reading</th>\n",
       "      <th>Zip_Population</th>\n",
       "      <th>Median_Income</th>\n",
       "      <th>Property_Taxes</th>\n",
       "      <th>Percent_Taxes</th>\n",
       "      <th>Per_Pupil_Spending</th>\n",
       "      <th>Per_Pupil_Support</th>\n",
       "      <th>Per_Pupil_Support_Staff</th>\n",
       "      <th>Per_Pupil_Salaries</th>\n",
       "      <th>Total_Students</th>\n",
       "      <th>Student_Teacher_Ratio</th>\n",
       "      <th>Density_midsize</th>\n",
       "      <th>Density_urban</th>\n",
       "      <th>Title_I_no</th>\n",
       "      <th>Title_I_yes</th>\n",
       "      <th>Virtual_no</th>\n",
       "      <th>Virtual_yes</th>\n",
       "      <th>Level_Elementary</th>\n",
       "      <th>Level_High</th>\n",
       "      <th>Level_Middle</th>\n",
       "      <th>Level_Other</th>\n",
       "    </tr>\n",
       "  </thead>\n",
       "  <tbody>\n",
       "    <tr>\n",
       "      <th>0</th>\n",
       "      <td>35.559524</td>\n",
       "      <td>1410</td>\n",
       "      <td>72188</td>\n",
       "      <td>7518</td>\n",
       "      <td>35.6</td>\n",
       "      <td>10545</td>\n",
       "      <td>389</td>\n",
       "      <td>438</td>\n",
       "      <td>4049</td>\n",
       "      <td>39</td>\n",
       "      <td>4.18</td>\n",
       "      <td>1</td>\n",
       "      <td>0</td>\n",
       "      <td>0</td>\n",
       "      <td>1</td>\n",
       "      <td>1</td>\n",
       "      <td>0</td>\n",
       "      <td>0</td>\n",
       "      <td>0</td>\n",
       "      <td>0</td>\n",
       "      <td>1</td>\n",
       "    </tr>\n",
       "    <tr>\n",
       "      <th>1</th>\n",
       "      <td>35.559524</td>\n",
       "      <td>1410</td>\n",
       "      <td>72188</td>\n",
       "      <td>7518</td>\n",
       "      <td>35.6</td>\n",
       "      <td>10545</td>\n",
       "      <td>389</td>\n",
       "      <td>438</td>\n",
       "      <td>4049</td>\n",
       "      <td>48</td>\n",
       "      <td>4.05</td>\n",
       "      <td>1</td>\n",
       "      <td>0</td>\n",
       "      <td>0</td>\n",
       "      <td>1</td>\n",
       "      <td>1</td>\n",
       "      <td>0</td>\n",
       "      <td>0</td>\n",
       "      <td>0</td>\n",
       "      <td>0</td>\n",
       "      <td>1</td>\n",
       "    </tr>\n",
       "    <tr>\n",
       "      <th>2</th>\n",
       "      <td>35.559524</td>\n",
       "      <td>45366</td>\n",
       "      <td>61089</td>\n",
       "      <td>989357</td>\n",
       "      <td>47.9</td>\n",
       "      <td>10173</td>\n",
       "      <td>392</td>\n",
       "      <td>1145</td>\n",
       "      <td>3257</td>\n",
       "      <td>198</td>\n",
       "      <td>9.66</td>\n",
       "      <td>1</td>\n",
       "      <td>0</td>\n",
       "      <td>0</td>\n",
       "      <td>1</td>\n",
       "      <td>0</td>\n",
       "      <td>1</td>\n",
       "      <td>1</td>\n",
       "      <td>0</td>\n",
       "      <td>0</td>\n",
       "      <td>0</td>\n",
       "    </tr>\n",
       "    <tr>\n",
       "      <th>3</th>\n",
       "      <td>35.559524</td>\n",
       "      <td>107571</td>\n",
       "      <td>62602</td>\n",
       "      <td>6090</td>\n",
       "      <td>41.4</td>\n",
       "      <td>9813</td>\n",
       "      <td>581</td>\n",
       "      <td>616</td>\n",
       "      <td>3995</td>\n",
       "      <td>321</td>\n",
       "      <td>12.07</td>\n",
       "      <td>0</td>\n",
       "      <td>1</td>\n",
       "      <td>0</td>\n",
       "      <td>1</td>\n",
       "      <td>0</td>\n",
       "      <td>1</td>\n",
       "      <td>1</td>\n",
       "      <td>0</td>\n",
       "      <td>0</td>\n",
       "      <td>0</td>\n",
       "    </tr>\n",
       "    <tr>\n",
       "      <th>4</th>\n",
       "      <td>35.559524</td>\n",
       "      <td>12114</td>\n",
       "      <td>47060</td>\n",
       "      <td>7640</td>\n",
       "      <td>36.2</td>\n",
       "      <td>13364</td>\n",
       "      <td>661</td>\n",
       "      <td>223</td>\n",
       "      <td>4595</td>\n",
       "      <td>280</td>\n",
       "      <td>15.56</td>\n",
       "      <td>1</td>\n",
       "      <td>0</td>\n",
       "      <td>0</td>\n",
       "      <td>1</td>\n",
       "      <td>0</td>\n",
       "      <td>1</td>\n",
       "      <td>1</td>\n",
       "      <td>0</td>\n",
       "      <td>0</td>\n",
       "      <td>0</td>\n",
       "    </tr>\n",
       "  </tbody>\n",
       "</table>\n",
       "</div>"
      ],
      "text/plain": [
       "   State_Avg_Reading  Zip_Population  Median_Income  Property_Taxes  \\\n",
       "0          35.559524            1410          72188            7518   \n",
       "1          35.559524            1410          72188            7518   \n",
       "2          35.559524           45366          61089          989357   \n",
       "3          35.559524          107571          62602            6090   \n",
       "4          35.559524           12114          47060            7640   \n",
       "\n",
       "   Percent_Taxes  Per_Pupil_Spending  Per_Pupil_Support  \\\n",
       "0           35.6               10545                389   \n",
       "1           35.6               10545                389   \n",
       "2           47.9               10173                392   \n",
       "3           41.4                9813                581   \n",
       "4           36.2               13364                661   \n",
       "\n",
       "   Per_Pupil_Support_Staff  Per_Pupil_Salaries  Total_Students  \\\n",
       "0                      438                4049              39   \n",
       "1                      438                4049              48   \n",
       "2                     1145                3257             198   \n",
       "3                      616                3995             321   \n",
       "4                      223                4595             280   \n",
       "\n",
       "   Student_Teacher_Ratio  Density_midsize  Density_urban  Title_I_no  \\\n",
       "0                   4.18                1              0           0   \n",
       "1                   4.05                1              0           0   \n",
       "2                   9.66                1              0           0   \n",
       "3                  12.07                0              1           0   \n",
       "4                  15.56                1              0           0   \n",
       "\n",
       "   Title_I_yes  Virtual_no  Virtual_yes  Level_Elementary  Level_High  \\\n",
       "0            1           1            0                 0           0   \n",
       "1            1           1            0                 0           0   \n",
       "2            1           0            1                 1           0   \n",
       "3            1           0            1                 1           0   \n",
       "4            1           0            1                 1           0   \n",
       "\n",
       "   Level_Middle  Level_Other  \n",
       "0             0            1  \n",
       "1             0            1  \n",
       "2             0            0  \n",
       "3             0            0  \n",
       "4             0            0  "
      ]
     },
     "execution_count": 36,
     "metadata": {},
     "output_type": "execute_result"
    }
   ],
   "source": [
    "X_numeric.head()"
   ]
  },
  {
   "cell_type": "code",
   "execution_count": 37,
   "metadata": {},
   "outputs": [],
   "source": [
    "#Have to re-do the train test split\n",
    "X_train, X_test, y_train, y_test = train_test_split(X_numeric, target, test_size=0.20, random_state=42)"
   ]
  },
  {
   "cell_type": "markdown",
   "metadata": {},
   "source": [
    "### Scaling Data"
   ]
  },
  {
   "cell_type": "code",
   "execution_count": 39,
   "metadata": {},
   "outputs": [],
   "source": [
    "scaler = StandardScaler()\n",
    "# Train our scaler on training data, then fit to testing\n",
    "X_train_scaled = scaler.fit_transform(X_train, y=None)\n",
    "X_test_scaled = scaler.transform(X_test)"
   ]
  },
  {
   "cell_type": "markdown",
   "metadata": {},
   "source": [
    "### Baseline Modeling"
   ]
  },
  {
   "cell_type": "markdown",
   "metadata": {},
   "source": [
    "Schools with below 50% proficiency) comprise the majority class. Could a baseline model do better than that?  "
   ]
  },
  {
   "cell_type": "code",
   "execution_count": 40,
   "metadata": {},
   "outputs": [],
   "source": [
    "train = X_train.copy()\n",
    "train['target'] = y_train.values"
   ]
  },
  {
   "cell_type": "code",
   "execution_count": 41,
   "metadata": {},
   "outputs": [
    {
     "name": "stderr",
     "output_type": "stream",
     "text": [
      "<ipython-input-41-fd87e67f2ec4>:2: SettingWithCopyWarning: \n",
      "A value is trying to be set on a copy of a slice from a DataFrame.\n",
      "Try using .loc[row_indexer,col_indexer] = value instead\n",
      "\n",
      "See the caveats in the documentation: https://pandas.pydata.org/pandas-docs/stable/user_guide/indexing.html#returning-a-view-versus-a-copy\n",
      "  test['target'] = y_test\n"
     ]
    }
   ],
   "source": [
    "test = X_test\n",
    "test['target'] = y_test"
   ]
  },
  {
   "cell_type": "code",
   "execution_count": 42,
   "metadata": {},
   "outputs": [
    {
     "data": {
      "text/plain": [
       "72920"
      ]
     },
     "execution_count": 42,
     "metadata": {},
     "output_type": "execute_result"
    }
   ],
   "source": [
    "len(train) + len(test)"
   ]
  },
  {
   "cell_type": "code",
   "execution_count": 43,
   "metadata": {},
   "outputs": [],
   "source": [
    "# Make baseline dataframe \n",
    "bdf = pd.concat([train,test],axis=0)"
   ]
  },
  {
   "cell_type": "code",
   "execution_count": 44,
   "metadata": {},
   "outputs": [
    {
     "name": "stdout",
     "output_type": "stream",
     "text": [
      "Baseline accuracy based on average statewide reading proficiency: 0.42\n"
     ]
    }
   ],
   "source": [
    "# Number correct is number of proficient districts with state proficiency > 50%\n",
    "# and non-proficient districts with state proficiency < 50%.\n",
    "prof_correct = len(bdf[(bdf['State_Avg_Reading']>50) & (bdf['target']==1)])\n",
    "notprof_correct = len(bdf[(bdf['State_Avg_Reading']<50) & (bdf['target']==0)])\n",
    "\n",
    "# Add totals\n",
    "correct = prof_correct + notprof_correct\n",
    "print(f'Baseline accuracy based on average statewide reading proficiency: {correct/len(bdf):.2}')"
   ]
  },
  {
   "cell_type": "markdown",
   "metadata": {},
   "source": [
    "So a model that predicts a district's reading proficiency based on the overall average proficiency for the state in which the school is located only predicts correctly 42% of the time. We're better off just randomly guessing that a district is proficient!"
   ]
  },
  {
   "cell_type": "markdown",
   "metadata": {},
   "source": [
    "### Logistic Regression Model"
   ]
  },
  {
   "cell_type": "code",
   "execution_count": 45,
   "metadata": {},
   "outputs": [
    {
     "data": {
      "text/plain": [
       "LogisticRegression()"
      ]
     },
     "execution_count": 45,
     "metadata": {},
     "output_type": "execute_result"
    }
   ],
   "source": [
    "logreg = LogisticRegression()\n",
    "logreg.fit(X_train, y_train)"
   ]
  },
  {
   "cell_type": "code",
   "execution_count": 46,
   "metadata": {},
   "outputs": [
    {
     "data": {
      "text/plain": [
       "0.5067539769610532"
      ]
     },
     "execution_count": 46,
     "metadata": {},
     "output_type": "execute_result"
    }
   ],
   "source": [
    "logreg.score(X_train_scaled, y_train)"
   ]
  },
  {
   "cell_type": "code",
   "execution_count": 47,
   "metadata": {},
   "outputs": [
    {
     "data": {
      "text/plain": [
       "0.4943773998902907"
      ]
     },
     "execution_count": 47,
     "metadata": {},
     "output_type": "execute_result"
    }
   ],
   "source": [
    "logreg.score(X_test_scaled, y_test)"
   ]
  },
  {
   "cell_type": "markdown",
   "metadata": {},
   "source": [
    "First logistic regression model did slightly better than baseline model, but still worse than randomly guessing the majority class. Hopefully our other classifier models can perform better. "
   ]
  },
  {
   "cell_type": "markdown",
   "metadata": {},
   "source": [
    "### K-Nearest Neighbors Model"
   ]
  },
  {
   "cell_type": "code",
   "execution_count": 48,
   "metadata": {},
   "outputs": [],
   "source": [
    "knn = KNeighborsClassifier(n_neighbors=3)\n",
    "knn.fit(X_train_scaled, y_train)\n",
    "#Predictions for the testing set\n",
    "y_preds = knn.predict(X_test_scaled)"
   ]
  },
  {
   "cell_type": "code",
   "execution_count": 49,
   "metadata": {},
   "outputs": [
    {
     "name": "stdout",
     "output_type": "stream",
     "text": [
      "Train Scores\n",
      "------------\n",
      "Accuracy: 0.7492114646187603\n",
      "Precision: 0.7492021479441536\n",
      "F1 Score: 0.7447127800656105\n",
      "ROC-AUC: 0.8120114737811422\n",
      "--------------------\n",
      "Test Scores\n",
      "-----------\n",
      "Accuracy: 0.502194185408667\n",
      "Precision: 0.5021360035760132\n",
      "F1 Score: 0.4940061332589908\n",
      "ROC-AUC: 0.5016006679308551\n"
     ]
    },
    {
     "data": {
      "image/png": "[encoded data removed]",
      "text/plain": [
       "<Figure size 432x288 with 2 Axes>"
      ]
     },
     "metadata": {
      "needs_background": "light"
     },
     "output_type": "display_data"
    }
   ],
   "source": [
    "fn.evaluate(knn, X_train_scaled, X_test_scaled, y_train, y_test)"
   ]
  },
  {
   "cell_type": "markdown",
   "metadata": {},
   "source": [
    "Overfitting appears to be a significant problem; training data does OK but precision score drops a ton on testing. Before turning to feature engineering or a grid search, I'm going to try a couple of other models to see how well they perform comparatively. "
   ]
  },
  {
   "cell_type": "markdown",
   "metadata": {},
   "source": [
    "### Random Forest Model"
   ]
  },
  {
   "cell_type": "code",
   "execution_count": 50,
   "metadata": {},
   "outputs": [],
   "source": [
    "rf = RandomForestClassifier(max_depth=5, n_estimators=100, random_state=0)\n",
    "rf.fit(X_train_scaled, y_train)\n",
    "rf_preds = rf.predict(X_test_scaled) "
   ]
  },
  {
   "cell_type": "code",
   "execution_count": 51,
   "metadata": {},
   "outputs": [
    {
     "name": "stdout",
     "output_type": "stream",
     "text": [
      "Train Scores\n",
      "------------\n",
      "Accuracy: 0.5435922929237521\n",
      "Precision: 0.5801586293328131\n",
      "F1 Score: 0.27921708763095915\n",
      "ROC-AUC: 0.5814010905846668\n",
      "--------------------\n",
      "Test Scores\n",
      "-----------\n",
      "Accuracy: 0.5049369171695008\n",
      "Precision: 0.5022952197919238\n",
      "F1 Score: 0.21996542783059636\n",
      "ROC-AUC: 0.5080112862860133\n"
     ]
    },
    {
     "data": {
      "image/png": "[encoded data removed]",
      "text/plain": [
       "<Figure size 432x288 with 2 Axes>"
      ]
     },
     "metadata": {
      "needs_background": "light"
     },
     "output_type": "display_data"
    }
   ],
   "source": [
    "fn.evaluate(rf, X_train_scaled, X_test_scaled, y_train, y_test)"
   ]
  },
  {
   "cell_type": "markdown",
   "metadata": {},
   "source": [
    "This has reduced overfitting somewhat, but precision has stayed mostly the same and is still about as accurate as random guessing."
   ]
  },
  {
   "cell_type": "markdown",
   "metadata": {},
   "source": [
    "### Gradient Boosting Model / XGBoost"
   ]
  },
  {
   "cell_type": "code",
   "execution_count": 52,
   "metadata": {},
   "outputs": [],
   "source": [
    "#Trying sklearn gradient boosting instead\n",
    "gbmodel = GradientBoostingClassifier(n_estimators=100, learning_rate=1.0,\n",
    "max_depth=1, random_state=0).fit(X_train_scaled, y_train)"
   ]
  },
  {
   "cell_type": "code",
   "execution_count": 53,
   "metadata": {},
   "outputs": [],
   "source": [
    "gbmodel_preds = gbmodel.predict(X_test_scaled)"
   ]
  },
  {
   "cell_type": "code",
   "execution_count": 54,
   "metadata": {},
   "outputs": [
    {
     "name": "stdout",
     "output_type": "stream",
     "text": [
      "Train Scores\n",
      "------------\n",
      "Accuracy: 0.5311300054854635\n",
      "Precision: 0.5317051846741114\n",
      "F1 Score: 0.4520833333333333\n",
      "ROC-AUC: 0.54350613424485\n",
      "--------------------\n",
      "Test Scores\n",
      "-----------\n",
      "Accuracy: 0.505759736697751\n",
      "Precision: 0.5047068330570754\n",
      "F1 Score: 0.425931825422109\n",
      "ROC-AUC: 0.5034476532326898\n"
     ]
    },
    {
     "data": {
      "image/png": "[encoded data removed]",
      "text/plain": [
       "<Figure size 432x288 with 2 Axes>"
      ]
     },
     "metadata": {
      "needs_background": "light"
     },
     "output_type": "display_data"
    }
   ],
   "source": [
    "fn.evaluate(gbmodel, X_train_scaled, X_test_scaled, y_train, y_test)"
   ]
  },
  {
   "cell_type": "markdown",
   "metadata": {},
   "source": [
    "Using gradient boosting did not appear to have any discernible improvement for my model. However, the gap in precision scores between training and testing models was the smallest here out of any of the three algorithms."
   ]
  },
  {
   "cell_type": "markdown",
   "metadata": {},
   "source": [
    "### AdaBoost Classifier"
   ]
  },
  {
   "cell_type": "code",
   "execution_count": 122,
   "metadata": {},
   "outputs": [
    {
     "data": {
      "text/plain": [
       "AdaBoostClassifier()"
      ]
     },
     "execution_count": 122,
     "metadata": {},
     "output_type": "execute_result"
    }
   ],
   "source": [
    "ada = AdaBoostClassifier()\n",
    "ada.fit(X_train_scaled, y_train)"
   ]
  },
  {
   "cell_type": "code",
   "execution_count": 125,
   "metadata": {},
   "outputs": [
    {
     "name": "stdout",
     "output_type": "stream",
     "text": [
      "Train Scores\n",
      "------------\n",
      "Accuracy: 0.5242731760833791\n",
      "Precision: 0.5246260599232768\n",
      "F1 Score: 0.4314512824715234\n",
      "ROC-AUC: 0.5346677947766252\n",
      "--------------------\n",
      "Test Scores\n",
      "-----------\n",
      "Accuracy: 0.5072682391662096\n",
      "Precision: 0.5062378712993225\n",
      "F1 Score: 0.41204385534282445\n",
      "ROC-AUC: 0.505746157686001\n"
     ]
    },
    {
     "data": {
      "image/png": "[encoded data removed]",
      "text/plain": [
       "<Figure size 432x288 with 2 Axes>"
      ]
     },
     "metadata": {
      "needs_background": "light"
     },
     "output_type": "display_data"
    }
   ],
   "source": [
    "fn.evaluate(ada, X_train_scaled, X_test_scaled, y_train, y_test)"
   ]
  },
  {
   "cell_type": "markdown",
   "metadata": {},
   "source": [
    "### Feature Engineering and Model Improvement"
   ]
  },
  {
   "cell_type": "code",
   "execution_count": 55,
   "metadata": {},
   "outputs": [],
   "source": [
    "importances = rf.feature_importances_"
   ]
  },
  {
   "cell_type": "code",
   "execution_count": 57,
   "metadata": {},
   "outputs": [],
   "source": [
    "feature_names = X_test.drop(labels='target', axis=1)"
   ]
  },
  {
   "cell_type": "code",
   "execution_count": 58,
   "metadata": {},
   "outputs": [],
   "source": [
    "rf_importances = pd.DataFrame(index=feature_names.columns, data=importances).sort_values(by=0,ascending=False)"
   ]
  },
  {
   "cell_type": "code",
   "execution_count": 60,
   "metadata": {
    "scrolled": true
   },
   "outputs": [
    {
     "data": {
      "image/png": "[encoded data removed]",
      "text/plain": [
       "<Figure size 432x288 with 1 Axes>"
      ]
     },
     "metadata": {
      "needs_background": "light"
     },
     "output_type": "display_data"
    }
   ],
   "source": [
    "# plot feature importance\n",
    "rf_importances.plot(kind='bar', legend=False, color='lightblue');"
   ]
  },
  {
   "cell_type": "markdown",
   "metadata": {},
   "source": [
    "As a first try, I'm going to select only the top eight features with an importance of over .06 and rerun the models to see if these improve precision scores. As an added bonus, this feature selection might make my models more interpretable. Since my gradient boosting model seemed the most effective when it came to minimizing overfitting, I will re-run this algorithm on my new features."
   ]
  },
  {
   "cell_type": "code",
   "execution_count": 74,
   "metadata": {},
   "outputs": [],
   "source": [
    "top8_X_numeric = X_numeric[['Student_Teacher_Ratio','Median_Income','Zip_Population','Per_Pupil_Salaries','Per_Pupil_Support','Total_Students','Per_Pupil_Spending','Percent_Taxes']]\n",
    "\n"
   ]
  },
  {
   "cell_type": "code",
   "execution_count": 75,
   "metadata": {},
   "outputs": [],
   "source": [
    "#Have to re-do the train test split\n",
    "top8_X_train, top8_X_test, y_train, y_test = train_test_split(X_numeric, target, test_size=0.20, random_state=42)"
   ]
  },
  {
   "cell_type": "code",
   "execution_count": 77,
   "metadata": {},
   "outputs": [],
   "source": [
    "#Scale the data again\n",
    "top8_X_train_scaled = scaler.fit_transform(top8_X_train, y=None)\n",
    "top8_X_test_scaled = scaler.transform(top8_X_test)"
   ]
  },
  {
   "cell_type": "code",
   "execution_count": 81,
   "metadata": {},
   "outputs": [],
   "source": [
    "#Run Gradient Boosting \n",
    "top8_gbmodel = GradientBoostingClassifier(n_estimators=100,\n",
    "max_depth=1, random_state=0).fit(top8_X_train_scaled, y_train)"
   ]
  },
  {
   "cell_type": "code",
   "execution_count": 82,
   "metadata": {},
   "outputs": [],
   "source": [
    "top8_gbmodel_preds = top8_gbmodel.predict(top8_X_test_scaled)"
   ]
  },
  {
   "cell_type": "code",
   "execution_count": 83,
   "metadata": {},
   "outputs": [
    {
     "name": "stdout",
     "output_type": "stream",
     "text": [
      "Train Scores\n",
      "------------\n",
      "Accuracy: 0.5149993143170598\n",
      "Precision: 0.5172668979751646\n",
      "F1 Score: 0.3001459420684196\n",
      "ROC-AUC: 0.5249659339242155\n",
      "--------------------\n",
      "Test Scores\n",
      "-----------\n",
      "Accuracy: 0.5054168952276468\n",
      "Precision: 0.5034960439338292\n",
      "F1 Score: 0.29096628329892854\n",
      "ROC-AUC: 0.5108552776355639\n"
     ]
    },
    {
     "data": {
      "image/png": "[encoded data removed]",
      "text/plain": [
       "<Figure size 432x288 with 2 Axes>"
      ]
     },
     "metadata": {
      "needs_background": "light"
     },
     "output_type": "display_data"
    }
   ],
   "source": [
    "fn.evaluate(top8_gbmodel, top8_X_train_scaled, top8_X_test_scaled, y_train, y_test)"
   ]
  },
  {
   "cell_type": "markdown",
   "metadata": {},
   "source": [
    "Selecting features had no discernible effect on my model. Going to try tuning some of the more important hyperparameters next, such as learning rate."
   ]
  },
  {
   "cell_type": "code",
   "execution_count": 84,
   "metadata": {},
   "outputs": [
    {
     "data": {
      "text/plain": [
       "(72920, 21)"
      ]
     },
     "execution_count": 84,
     "metadata": {},
     "output_type": "execute_result"
    }
   ],
   "source": [
    "X_numeric.shape"
   ]
  },
  {
   "cell_type": "code",
   "execution_count": 85,
   "metadata": {},
   "outputs": [],
   "source": [
    "#Seeing how models performs with default parameters\n",
    "default = GradientBoostingClassifier().fit(top8_X_train_scaled, y_train)"
   ]
  },
  {
   "cell_type": "code",
   "execution_count": 86,
   "metadata": {},
   "outputs": [],
   "source": [
    "default_preds = default.predict(top8_X_test_scaled)"
   ]
  },
  {
   "cell_type": "code",
   "execution_count": 87,
   "metadata": {},
   "outputs": [
    {
     "name": "stdout",
     "output_type": "stream",
     "text": [
      "Train Scores\n",
      "------------\n",
      "Accuracy: 0.5555231760833791\n",
      "Precision: 0.5599924615875593\n",
      "F1 Score: 0.4609915809167446\n",
      "ROC-AUC: 0.5865065334800958\n",
      "--------------------\n",
      "Test Scores\n",
      "-----------\n",
      "Accuracy: 0.5063082830499177\n",
      "Precision: 0.5051731051550702\n",
      "F1 Score: 0.4103194103194103\n",
      "ROC-AUC: 0.5101893687045278\n"
     ]
    },
    {
     "data": {
      "image/png": "[encoded data removed]",
      "text/plain": [
       "<Figure size 432x288 with 2 Axes>"
      ]
     },
     "metadata": {
      "needs_background": "light"
     },
     "output_type": "display_data"
    }
   ],
   "source": [
    "fn.evaluate(default, top8_X_train_scaled, top8_X_test_scaled, y_train, y_test)\n"
   ]
  },
  {
   "cell_type": "markdown",
   "metadata": {},
   "source": [
    "With default parameters, precision score went up slightly (by .02%); however, overfitting also worsened slightly. Going to try a GridSearch CV next. "
   ]
  },
  {
   "cell_type": "markdown",
   "metadata": {},
   "source": [
    "loss='deviance', learning_rate=0.1, n_estimators=100, subsample=1.0, criterion='friedman_mse', min_samples_split=2, min_samples_leaf=1, min_weight_fraction_leaf=0.0, max_depth=3, min_impurity_decrease=0.0, init=None, random_state=None, max_features=None, verbose=0, max_leaf_nodes=None, warm_start=False, validation_fraction=0.1, n_iter_no_change=None, tol=0.0001, ccp_alpha=0.0"
   ]
  },
  {
   "cell_type": "code",
   "execution_count": 93,
   "metadata": {},
   "outputs": [
    {
     "data": {
      "text/plain": [
       "(72920, 21)"
      ]
     },
     "execution_count": 93,
     "metadata": {},
     "output_type": "execute_result"
    }
   ],
   "source": [
    "X_numeric.shape"
   ]
  },
  {
   "cell_type": "markdown",
   "metadata": {},
   "source": [
    "**min_samples_split = 700**: min_samples should be ~.05 - 1% of total values. Since this is a balanced class problem, will take towards the larger end of the range. 1% of 72920 is about 700."
   ]
  },
  {
   "cell_type": "markdown",
   "metadata": {},
   "source": [
    "**max_depth = 7**: Should be chosen (5-8) based on the number of observations and predictors. This has 72K rows and 21 columns so lets take 7 here.\n",
    "\n",
    "**max_features = sqrt**: Rule of thumb.\n",
    "\n",
    "**subsample == 0.8**: Commonly used start value."
   ]
  },
  {
   "cell_type": "code",
   "execution_count": 119,
   "metadata": {},
   "outputs": [
    {
     "data": {
      "text/html": [
       "<div>\n",
       "<style scoped>\n",
       "    .dataframe tbody tr th:only-of-type {\n",
       "        vertical-align: middle;\n",
       "    }\n",
       "\n",
       "    .dataframe tbody tr th {\n",
       "        vertical-align: top;\n",
       "    }\n",
       "\n",
       "    .dataframe thead th {\n",
       "        text-align: right;\n",
       "    }\n",
       "</style>\n",
       "<table border=\"1\" class=\"dataframe\">\n",
       "  <thead>\n",
       "    <tr style=\"text-align: right;\">\n",
       "      <th></th>\n",
       "      <th>split0_test_accuracy</th>\n",
       "      <th>split1_test_accuracy</th>\n",
       "      <th>split0_test_precision</th>\n",
       "      <th>split1_test_precision</th>\n",
       "      <th>split0_test_recall</th>\n",
       "      <th>split1_test_recall</th>\n",
       "    </tr>\n",
       "  </thead>\n",
       "  <tbody>\n",
       "    <tr>\n",
       "      <th>0</th>\n",
       "      <td>0.501680</td>\n",
       "      <td>0.506960</td>\n",
       "      <td>0.493174</td>\n",
       "      <td>0.500594</td>\n",
       "      <td>0.356423</td>\n",
       "      <td>0.351212</td>\n",
       "    </tr>\n",
       "    <tr>\n",
       "      <th>1</th>\n",
       "      <td>0.502297</td>\n",
       "      <td>0.500206</td>\n",
       "      <td>0.494509</td>\n",
       "      <td>0.491702</td>\n",
       "      <td>0.387966</td>\n",
       "      <td>0.380810</td>\n",
       "    </tr>\n",
       "    <tr>\n",
       "      <th>2</th>\n",
       "      <td>0.497840</td>\n",
       "      <td>0.502503</td>\n",
       "      <td>0.489173</td>\n",
       "      <td>0.494798</td>\n",
       "      <td>0.398666</td>\n",
       "      <td>0.389912</td>\n",
       "    </tr>\n",
       "    <tr>\n",
       "      <th>3</th>\n",
       "      <td>0.500583</td>\n",
       "      <td>0.499486</td>\n",
       "      <td>0.492813</td>\n",
       "      <td>0.491363</td>\n",
       "      <td>0.414507</td>\n",
       "      <td>0.407142</td>\n",
       "    </tr>\n",
       "    <tr>\n",
       "      <th>4</th>\n",
       "      <td>0.503154</td>\n",
       "      <td>0.502983</td>\n",
       "      <td>0.495904</td>\n",
       "      <td>0.495727</td>\n",
       "      <td>0.416383</td>\n",
       "      <td>0.419162</td>\n",
       "    </tr>\n",
       "    <tr>\n",
       "      <th>5</th>\n",
       "      <td>0.499383</td>\n",
       "      <td>0.498800</td>\n",
       "      <td>0.491459</td>\n",
       "      <td>0.490874</td>\n",
       "      <td>0.417773</td>\n",
       "      <td>0.422289</td>\n",
       "    </tr>\n",
       "    <tr>\n",
       "      <th>6</th>\n",
       "      <td>0.501920</td>\n",
       "      <td>0.498080</td>\n",
       "      <td>0.494663</td>\n",
       "      <td>0.490049</td>\n",
       "      <td>0.434656</td>\n",
       "      <td>0.422567</td>\n",
       "    </tr>\n",
       "  </tbody>\n",
       "</table>\n",
       "</div>"
      ],
      "text/plain": [
       "   split0_test_accuracy  split1_test_accuracy  split0_test_precision  \\\n",
       "0              0.501680              0.506960               0.493174   \n",
       "1              0.502297              0.500206               0.494509   \n",
       "2              0.497840              0.502503               0.489173   \n",
       "3              0.500583              0.499486               0.492813   \n",
       "4              0.503154              0.502983               0.495904   \n",
       "5              0.499383              0.498800               0.491459   \n",
       "6              0.501920              0.498080               0.494663   \n",
       "\n",
       "   split1_test_precision  split0_test_recall  split1_test_recall  \n",
       "0               0.500594            0.356423            0.351212  \n",
       "1               0.491702            0.387966            0.380810  \n",
       "2               0.494798            0.398666            0.389912  \n",
       "3               0.491363            0.414507            0.407142  \n",
       "4               0.495727            0.416383            0.419162  \n",
       "5               0.490874            0.417773            0.422289  \n",
       "6               0.490049            0.434656            0.422567  "
      ]
     },
     "execution_count": 119,
     "metadata": {},
     "output_type": "execute_result"
    }
   ],
   "source": [
    "#Creating scoring parameter: \n",
    "scoring = {'accuracy': make_scorer(accuracy_score),\n",
    "           'precision': make_scorer(precision_score),'recall':make_scorer(recall_score)}\n",
    "\n",
    "# A sample parameter\n",
    "parameters = {\n",
    "    \"min_samples_split\": [100],\n",
    "    \"max_depth\":[7],\n",
    "    \"max_features\":[\"sqrt\"],\n",
    "    \"subsample\":[0.8],\n",
    "    \"n_estimators\":range(20,81,10)\n",
    "    }\n",
    "#Passing the scoring function in the GridSearchCV\n",
    "clf = GridSearchCV(GradientBoostingClassifier(), parameters,scoring=scoring,refit=False,cv=2, n_jobs=-1)\n",
    "\n",
    "clf.fit(top8_X_train_scaled, y_train)\n",
    "#Converting the clf.cv_results to dataframe\n",
    "df=pd.DataFrame.from_dict(clf.cv_results_)\n",
    "#Here are inputs for cross validation is cv=2, there two split split0 and split1\n",
    "df[['split0_test_accuracy','split1_test_accuracy','split0_test_precision','split1_test_precision','split0_test_recall','split1_test_recall']]"
   ]
  },
  {
   "cell_type": "code",
   "execution_count": 120,
   "metadata": {},
   "outputs": [
    {
     "data": {
      "text/plain": [
       "{'max_depth': 7,\n",
       " 'max_features': 'sqrt',\n",
       " 'min_samples_split': 100,\n",
       " 'n_estimators': 20,\n",
       " 'subsample': 0.8}"
      ]
     },
     "execution_count": 120,
     "metadata": {},
     "output_type": "execute_result"
    }
   ],
   "source": [
    "#find the best parameter based on the accuracy_score\n",
    "#taking the average of the precision\n",
    "df['precision_score']=(df['split0_test_precision']+df['split1_test_precision'])/2\n",
    "\n",
    "df.loc[df['precision_score'].idxmax()]['params']"
   ]
  },
  {
   "cell_type": "code",
   "execution_count": null,
   "metadata": {},
   "outputs": [],
   "source": []
  }
 ],
 "metadata": {
  "kernelspec": {
   "display_name": "Python 3",
   "language": "python",
   "name": "python3"
  },
  "language_info": {
   "codemirror_mode": {
    "name": "ipython",
    "version": 3
   },
   "file_extension": ".py",
   "mimetype": "text/x-python",
   "name": "python",
   "nbconvert_exporter": "python",
   "pygments_lexer": "ipython3",
   "version": "3.8.5"
  }
 },
 "nbformat": 4,
 "nbformat_minor": 4
}
