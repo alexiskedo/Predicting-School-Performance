{
 "cells": [
  {
   "cell_type": "code",
   "execution_count": 1,
   "metadata": {},
   "outputs": [],
   "source": [
    "# Import all necessary libraries\n",
    "import numpy as np\n",
    "import pandas as pd\n",
    "import matplotlib.pyplot as pl\n",
    "import functions as fn\n",
    "import seaborn as sn\n",
    "from sklearn.pipeline import Pipeline\n",
    "from sklearn.model_selection import train_test_split, GridSearchCV\n",
    "from sklearn.linear_model import LogisticRegression\n",
    "from sklearn.neighbors import KNeighborsClassifier\n",
    "from sklearn.ensemble import GradientBoostingClassifier\n",
    "from sklearn.ensemble import RandomForestClassifier\n",
    "from sklearn.ensemble import AdaBoostClassifier\n",
    "from sklearn.preprocessing import StandardScaler, MinMaxScaler\n",
    "from sklearn.metrics import accuracy_score, classification_report\n",
    "from sklearn.metrics import f1_score, roc_auc_score, plot_confusion_matrix, precision_score, recall_score, make_scorer\n",
    "from sklearn.model_selection import GridSearchCV"
   ]
  },
  {
   "cell_type": "code",
   "execution_count": 2,
   "metadata": {},
   "outputs": [],
   "source": [
    "#View options\n",
    "#'display.float_format', lambda x: '%8.0f' % x\n",
    "pd.set_option('display.max_columns', None, 'display.max_rows', None)"
   ]
  },
  {
   "cell_type": "code",
   "execution_count": 3,
   "metadata": {},
   "outputs": [],
   "source": [
    "#Import final polished dataframe\n",
    "df = pd.read_csv('data/final.csv',encoding='cp1252')"
   ]
  },
  {
   "cell_type": "code",
   "execution_count": 4,
   "metadata": {},
   "outputs": [],
   "source": [
    "df = df.drop(columns=['Unnamed: 0'], axis=1)"
   ]
  },
  {
   "cell_type": "code",
   "execution_count": 5,
   "metadata": {
    "scrolled": false
   },
   "outputs": [
    {
     "data": {
      "text/plain": [
       "(73043, 23)"
      ]
     },
     "execution_count": 5,
     "metadata": {},
     "output_type": "execute_result"
    }
   ],
   "source": [
    "df.shape"
   ]
  },
  {
   "cell_type": "code",
   "execution_count": 6,
   "metadata": {},
   "outputs": [],
   "source": [
    "#Dealing with some missing school size data before transforming\n",
    "df = df[df.Total_Students.apply(lambda x: x.isnumeric())]"
   ]
  },
  {
   "cell_type": "code",
   "execution_count": 7,
   "metadata": {},
   "outputs": [],
   "source": [
    "#Transform all numerical data to appropriate datatypes\n",
    "df['Total_Students'] = df['Total_Students'].astype(int)"
   ]
  },
  {
   "cell_type": "code",
   "execution_count": 8,
   "metadata": {},
   "outputs": [],
   "source": [
    "#Found some nonsense values in Student/Teacher ratio column, need to replace with 16 (national average)\n",
    "gibberish = df.loc[df['Student_Teacher_Ratio'] == 'Ã¢â‚¬â€œ']"
   ]
  },
  {
   "cell_type": "code",
   "execution_count": 9,
   "metadata": {},
   "outputs": [],
   "source": [
    "df['level'] = np.nan"
   ]
  },
  {
   "cell_type": "code",
   "execution_count": 10,
   "metadata": {
    "scrolled": false
   },
   "outputs": [
    {
     "name": "stderr",
     "output_type": "stream",
     "text": [
      "<ipython-input-10-3d3f8f40a880>:12: SettingWithCopyWarning: \n",
      "A value is trying to be set on a copy of a slice from a DataFrame\n",
      "\n",
      "See the caveats in the documentation: https://pandas.pydata.org/pandas-docs/stable/user_guide/indexing.html#returning-a-view-versus-a-copy\n",
      "  df['level'][i] = element\n",
      "/opt/anaconda3/envs/learn-env/lib/python3.8/site-packages/pandas/core/indexing.py:670: SettingWithCopyWarning: \n",
      "A value is trying to be set on a copy of a slice from a DataFrame\n",
      "\n",
      "See the caveats in the documentation: https://pandas.pydata.org/pandas-docs/stable/user_guide/indexing.html#returning-a-view-versus-a-copy\n",
      "  iloc._setitem_with_indexer(indexer, value)\n",
      "<ipython-input-10-3d3f8f40a880>:4: SettingWithCopyWarning: \n",
      "A value is trying to be set on a copy of a slice from a DataFrame\n",
      "\n",
      "See the caveats in the documentation: https://pandas.pydata.org/pandas-docs/stable/user_guide/indexing.html#returning-a-view-versus-a-copy\n",
      "  df['level'][i] = 'High'\n",
      "<ipython-input-10-3d3f8f40a880>:10: SettingWithCopyWarning: \n",
      "A value is trying to be set on a copy of a slice from a DataFrame\n",
      "\n",
      "See the caveats in the documentation: https://pandas.pydata.org/pandas-docs/stable/user_guide/indexing.html#returning-a-view-versus-a-copy\n",
      "  df['level'][i] = 'Other'\n",
      "<ipython-input-10-3d3f8f40a880>:6: SettingWithCopyWarning: \n",
      "A value is trying to be set on a copy of a slice from a DataFrame\n",
      "\n",
      "See the caveats in the documentation: https://pandas.pydata.org/pandas-docs/stable/user_guide/indexing.html#returning-a-view-versus-a-copy\n",
      "  df['level'][i] = 'Other'\n",
      "<ipython-input-10-3d3f8f40a880>:8: SettingWithCopyWarning: \n",
      "A value is trying to be set on a copy of a slice from a DataFrame\n",
      "\n",
      "See the caveats in the documentation: https://pandas.pydata.org/pandas-docs/stable/user_guide/indexing.html#returning-a-view-versus-a-copy\n",
      "  df['level'][i] = 'Other'\n"
     ]
    }
   ],
   "source": [
    "# Enumerate to replace values in ['Level'] to simplify variables\n",
    "for i, element in enumerate(df['Level']): \n",
    "    if element == 'Secondary':\n",
    "        df['level'][i] = 'High'\n",
    "    elif element == 'Prekindergarten': \n",
    "        df['level'][i] = 'Other'\n",
    "    elif element == 'Ungraded': \n",
    "        df['level'][i] = 'Other'\n",
    "    elif element == 'Not applicable':\n",
    "        df['level'][i] = 'Other' \n",
    "    else: \n",
    "        df['level'][i] = element"
   ]
  },
  {
   "cell_type": "code",
   "execution_count": 11,
   "metadata": {
    "scrolled": true
   },
   "outputs": [
    {
     "data": {
      "text/plain": [
       "Elementary    40802\n",
       "High          16289\n",
       "Middle        13103\n",
       "Other          2609\n",
       "Name: level, dtype: int64"
      ]
     },
     "execution_count": 11,
     "metadata": {},
     "output_type": "execute_result"
    }
   ],
   "source": [
    "df['level'].value_counts()"
   ]
  },
  {
   "cell_type": "code",
   "execution_count": 12,
   "metadata": {},
   "outputs": [],
   "source": [
    "df = df.drop(['Level'], axis=1)"
   ]
  },
  {
   "cell_type": "code",
   "execution_count": 13,
   "metadata": {},
   "outputs": [],
   "source": [
    "df = df.rename(columns={'level':'Level'})"
   ]
  },
  {
   "cell_type": "code",
   "execution_count": 14,
   "metadata": {},
   "outputs": [],
   "source": [
    "#Need to fill Nans in Level column"
   ]
  },
  {
   "cell_type": "code",
   "execution_count": 15,
   "metadata": {},
   "outputs": [],
   "source": [
    "df['Student_Teacher_Ratio'].replace('Ã¢â‚¬â€œ','16',inplace=True)"
   ]
  },
  {
   "cell_type": "code",
   "execution_count": 16,
   "metadata": {},
   "outputs": [],
   "source": [
    "df = df[df['Student_Teacher_Ratio'] != 'Ã¢â‚¬Â']"
   ]
  },
  {
   "cell_type": "code",
   "execution_count": 17,
   "metadata": {},
   "outputs": [],
   "source": [
    "df['Student_Teacher_Ratio'].replace('Ã¢â‚¬Â\\xa0','16',inplace=True)"
   ]
  },
  {
   "cell_type": "code",
   "execution_count": 18,
   "metadata": {
    "scrolled": false
   },
   "outputs": [],
   "source": [
    "df['Student_Teacher_Ratio'] = df['Student_Teacher_Ratio'].astype(float)"
   ]
  },
  {
   "cell_type": "code",
   "execution_count": 19,
   "metadata": {
    "scrolled": true
   },
   "outputs": [
    {
     "data": {
      "text/plain": [
       "0    0.506329\n",
       "1    0.493671\n",
       "Name: Target, dtype: float64"
      ]
     },
     "execution_count": 19,
     "metadata": {},
     "output_type": "execute_result"
    }
   ],
   "source": [
    "# Exploring balance of target classes\n",
    "df['Target'].value_counts(normalize=True)"
   ]
  },
  {
   "cell_type": "code",
   "execution_count": 20,
   "metadata": {},
   "outputs": [],
   "source": [
    "#Splitting data into features and target\n",
    "#Dropping all identifier columns including zipcode - as median income is based on zipcode and is a good stand-in\n",
    "target = df['Target']\n",
    "features = df.drop(['School_ID','School_Name','District_Name','District_ID','Zip','City','Target'], axis=1)               "
   ]
  },
  {
   "cell_type": "code",
   "execution_count": 21,
   "metadata": {},
   "outputs": [
    {
     "data": {
      "image/png": "[encoded data removed]",
      "text/plain": [
       "<Figure size 1440x1296 with 2 Axes>"
      ]
     },
     "metadata": {
      "needs_background": "light"
     },
     "output_type": "display_data"
    }
   ],
   "source": [
    "#Exploring multicollinearity\n",
    "corr = features.corr()\n",
    "pl.figure(figsize = (20,18))\n",
    "sn.heatmap(corr, annot=True)\n",
    "pl.show()"
   ]
  },
  {
   "cell_type": "code",
   "execution_count": 22,
   "metadata": {},
   "outputs": [],
   "source": [
    "#Performing train-test split\n",
    "X_train, X_test, y_train, y_test = train_test_split(features, target, test_size=0.20, random_state=42)"
   ]
  },
  {
   "cell_type": "markdown",
   "metadata": {},
   "source": [
    "### Dealing with Categorical Data"
   ]
  },
  {
   "cell_type": "code",
   "execution_count": 23,
   "metadata": {},
   "outputs": [
    {
     "data": {
      "text/plain": [
       "State                       object\n",
       "Zip_Population               int64\n",
       "Density                     object\n",
       "Median_Income                int64\n",
       "Property_Taxes               int64\n",
       "Percent_Taxes              float64\n",
       "Per_Pupil_Spending           int64\n",
       "Per_Pupil_Support            int64\n",
       "Per_Pupil_Support_Staff      int64\n",
       "Per_Pupil_Salaries           int64\n",
       "Total_Students               int64\n",
       "Student_Teacher_Ratio      float64\n",
       "Title_I                     object\n",
       "Virtual                     object\n",
       "%_Proficient_Reading         int64\n",
       "Level                       object\n",
       "dtype: object"
      ]
     },
     "execution_count": 23,
     "metadata": {},
     "output_type": "execute_result"
    }
   ],
   "source": [
    "features.dtypes"
   ]
  },
  {
   "cell_type": "markdown",
   "metadata": {},
   "source": [
    "Since there are 50 state possibilities, one-hot encoding would lead to dozens of unnecessary columns. After some thought, I decided to use target encoding to deal with states, using the continuous version of the target to replace each state with the average percentage of students proficient in that state. Though this is an imperfect substitute for location, it is true that states differ markedly from each other in their levels of student achievement and tend to stay consistent from year to year (for example, Massachusetts is continually one of the top-performing states in the nation, while Louisiana is consistently one of the lowest). Thus, treating states this way should feed my model some valuable information about student performance."
   ]
  },
  {
   "cell_type": "code",
   "execution_count": 24,
   "metadata": {},
   "outputs": [],
   "source": [
    "#Target encoding state column \n",
    "#Create a groupby dataframe that gives us the mean in each numeric column for each state\n",
    "state_averages = X_train.groupby(['State']).mean().reset_index()"
   ]
  },
  {
   "cell_type": "code",
   "execution_count": 25,
   "metadata": {},
   "outputs": [],
   "source": [
    "state_averages = state_averages.filter(['%_Proficient_Reading','State'], axis=1).rename(columns={'%_Proficient_Reading':'State_Avg_Reading'})\n"
   ]
  },
  {
   "cell_type": "code",
   "execution_count": 26,
   "metadata": {
    "scrolled": true
   },
   "outputs": [],
   "source": [
    "#Join state helper dataframe with my training predictors and testing data\n",
    "X_train = pd.merge(state_averages, X_train, how = 'inner', on='State').drop(['State','%_Proficient_Reading'], axis=1)\n",
    "X_test = pd.merge(state_averages, X_test, how = 'inner', on='State').drop(['State','%_Proficient_Reading'], axis=1)"
   ]
  },
  {
   "cell_type": "code",
   "execution_count": 27,
   "metadata": {
    "scrolled": false
   },
   "outputs": [
    {
     "data": {
      "text/html": [
       "<div>\n",
       "<style scoped>\n",
       "    .dataframe tbody tr th:only-of-type {\n",
       "        vertical-align: middle;\n",
       "    }\n",
       "\n",
       "    .dataframe tbody tr th {\n",
       "        vertical-align: top;\n",
       "    }\n",
       "\n",
       "    .dataframe thead th {\n",
       "        text-align: right;\n",
       "    }\n",
       "</style>\n",
       "<table border=\"1\" class=\"dataframe\">\n",
       "  <thead>\n",
       "    <tr style=\"text-align: right;\">\n",
       "      <th></th>\n",
       "      <th>State_Avg_Reading</th>\n",
       "      <th>Zip_Population</th>\n",
       "      <th>Density</th>\n",
       "      <th>Median_Income</th>\n",
       "      <th>Property_Taxes</th>\n",
       "      <th>Percent_Taxes</th>\n",
       "      <th>Per_Pupil_Spending</th>\n",
       "      <th>Per_Pupil_Support</th>\n",
       "      <th>Per_Pupil_Support_Staff</th>\n",
       "      <th>Per_Pupil_Salaries</th>\n",
       "      <th>Total_Students</th>\n",
       "      <th>Student_Teacher_Ratio</th>\n",
       "      <th>Title_I</th>\n",
       "      <th>Virtual</th>\n",
       "      <th>Level</th>\n",
       "    </tr>\n",
       "  </thead>\n",
       "  <tbody>\n",
       "    <tr>\n",
       "      <th>0</th>\n",
       "      <td>35.551829</td>\n",
       "      <td>107571</td>\n",
       "      <td>urban</td>\n",
       "      <td>64244</td>\n",
       "      <td>6090</td>\n",
       "      <td>41.4</td>\n",
       "      <td>9813</td>\n",
       "      <td>581</td>\n",
       "      <td>616</td>\n",
       "      <td>3995</td>\n",
       "      <td>321</td>\n",
       "      <td>12.07</td>\n",
       "      <td>yes</td>\n",
       "      <td>yes</td>\n",
       "      <td>Elementary</td>\n",
       "    </tr>\n",
       "    <tr>\n",
       "      <th>1</th>\n",
       "      <td>35.551829</td>\n",
       "      <td>3345</td>\n",
       "      <td>midsize</td>\n",
       "      <td>48462</td>\n",
       "      <td>1655</td>\n",
       "      <td>9.1</td>\n",
       "      <td>13105</td>\n",
       "      <td>676</td>\n",
       "      <td>209</td>\n",
       "      <td>4715</td>\n",
       "      <td>51</td>\n",
       "      <td>8.50</td>\n",
       "      <td>yes</td>\n",
       "      <td>yes</td>\n",
       "      <td>Middle</td>\n",
       "    </tr>\n",
       "    <tr>\n",
       "      <th>2</th>\n",
       "      <td>35.551829</td>\n",
       "      <td>11109</td>\n",
       "      <td>midsize</td>\n",
       "      <td>53209</td>\n",
       "      <td>136974</td>\n",
       "      <td>26.7</td>\n",
       "      <td>13167</td>\n",
       "      <td>932</td>\n",
       "      <td>800</td>\n",
       "      <td>5006</td>\n",
       "      <td>16</td>\n",
       "      <td>8.00</td>\n",
       "      <td>yes</td>\n",
       "      <td>yes</td>\n",
       "      <td>High</td>\n",
       "    </tr>\n",
       "    <tr>\n",
       "      <th>3</th>\n",
       "      <td>35.551829</td>\n",
       "      <td>273</td>\n",
       "      <td>midsize</td>\n",
       "      <td>43750</td>\n",
       "      <td>65265</td>\n",
       "      <td>68.9</td>\n",
       "      <td>14455</td>\n",
       "      <td>744</td>\n",
       "      <td>972</td>\n",
       "      <td>5637</td>\n",
       "      <td>14</td>\n",
       "      <td>6.36</td>\n",
       "      <td>yes</td>\n",
       "      <td>yes</td>\n",
       "      <td>High</td>\n",
       "    </tr>\n",
       "    <tr>\n",
       "      <th>4</th>\n",
       "      <td>35.551829</td>\n",
       "      <td>156504</td>\n",
       "      <td>urban</td>\n",
       "      <td>79706</td>\n",
       "      <td>251305</td>\n",
       "      <td>57.5</td>\n",
       "      <td>11650</td>\n",
       "      <td>730</td>\n",
       "      <td>496</td>\n",
       "      <td>4521</td>\n",
       "      <td>197</td>\n",
       "      <td>18.11</td>\n",
       "      <td>yes</td>\n",
       "      <td>yes</td>\n",
       "      <td>Elementary</td>\n",
       "    </tr>\n",
       "  </tbody>\n",
       "</table>\n",
       "</div>"
      ],
      "text/plain": [
       "   State_Avg_Reading  Zip_Population  Density  Median_Income  Property_Taxes  \\\n",
       "0          35.551829          107571    urban          64244            6090   \n",
       "1          35.551829            3345  midsize          48462            1655   \n",
       "2          35.551829           11109  midsize          53209          136974   \n",
       "3          35.551829             273  midsize          43750           65265   \n",
       "4          35.551829          156504    urban          79706          251305   \n",
       "\n",
       "   Percent_Taxes  Per_Pupil_Spending  Per_Pupil_Support  \\\n",
       "0           41.4                9813                581   \n",
       "1            9.1               13105                676   \n",
       "2           26.7               13167                932   \n",
       "3           68.9               14455                744   \n",
       "4           57.5               11650                730   \n",
       "\n",
       "   Per_Pupil_Support_Staff  Per_Pupil_Salaries  Total_Students  \\\n",
       "0                      616                3995             321   \n",
       "1                      209                4715              51   \n",
       "2                      800                5006              16   \n",
       "3                      972                5637              14   \n",
       "4                      496                4521             197   \n",
       "\n",
       "   Student_Teacher_Ratio Title_I Virtual       Level  \n",
       "0                  12.07     yes     yes  Elementary  \n",
       "1                   8.50     yes     yes      Middle  \n",
       "2                   8.00     yes     yes        High  \n",
       "3                   6.36     yes     yes        High  \n",
       "4                  18.11     yes     yes  Elementary  "
      ]
     },
     "execution_count": 27,
     "metadata": {},
     "output_type": "execute_result"
    }
   ],
   "source": [
    "X_train.head()"
   ]
  },
  {
   "cell_type": "code",
   "execution_count": 28,
   "metadata": {
    "scrolled": false
   },
   "outputs": [],
   "source": [
    "#Deal with nulls in training and testing data\n",
    "X_train = X_train.fillna(value = {\"Level\":\"Other\"})\n",
    "X_test = X_test.fillna(value = {'Level':'Other'})"
   ]
  },
  {
   "cell_type": "code",
   "execution_count": 29,
   "metadata": {},
   "outputs": [],
   "source": [
    "#Putting X back together\n",
    "X = pd.concat([X_train, X_test], axis=0)"
   ]
  },
  {
   "cell_type": "code",
   "execution_count": 30,
   "metadata": {},
   "outputs": [
    {
     "data": {
      "image/png": "[encoded data removed]",
      "text/plain": [
       "<Figure size 360x360 with 1 Axes>"
      ]
     },
     "metadata": {
      "needs_background": "light"
     },
     "output_type": "display_data"
    }
   ],
   "source": [
    "plot = sn.displot(X, x='State_Avg_Reading', binwidth=3, color=\"darkorange\").set(title='Distribution of State Average Reading Scores')\n",
    "x_axis = 'Average Statewide Reading Scores'\n",
    "y_axis = 'School Count'\n",
    "plot.set(xlabel = x_axis, ylabel=y_axis)\n",
    "pl.savefig(\"State Averages Distribution\")"
   ]
  },
  {
   "cell_type": "code",
   "execution_count": 31,
   "metadata": {},
   "outputs": [],
   "source": [
    "#Now need to one-hot encode  categorical columns\n",
    "#Isolate categorical columns\n",
    "cats = X[['Density','Title_I', 'Virtual','Level']]\n",
    "#Transform data\n",
    "cats = pd.get_dummies(cats)"
   ]
  },
  {
   "cell_type": "code",
   "execution_count": 32,
   "metadata": {
    "scrolled": false
   },
   "outputs": [
    {
     "data": {
      "text/html": [
       "<div>\n",
       "<style scoped>\n",
       "    .dataframe tbody tr th:only-of-type {\n",
       "        vertical-align: middle;\n",
       "    }\n",
       "\n",
       "    .dataframe tbody tr th {\n",
       "        vertical-align: top;\n",
       "    }\n",
       "\n",
       "    .dataframe thead th {\n",
       "        text-align: right;\n",
       "    }\n",
       "</style>\n",
       "<table border=\"1\" class=\"dataframe\">\n",
       "  <thead>\n",
       "    <tr style=\"text-align: right;\">\n",
       "      <th></th>\n",
       "      <th>Density_midsize</th>\n",
       "      <th>Density_urban</th>\n",
       "      <th>Title_I_no</th>\n",
       "      <th>Title_I_yes</th>\n",
       "      <th>Virtual_no</th>\n",
       "      <th>Virtual_yes</th>\n",
       "      <th>Level_Elementary</th>\n",
       "      <th>Level_High</th>\n",
       "      <th>Level_Middle</th>\n",
       "      <th>Level_Other</th>\n",
       "    </tr>\n",
       "  </thead>\n",
       "  <tbody>\n",
       "    <tr>\n",
       "      <th>0</th>\n",
       "      <td>0</td>\n",
       "      <td>1</td>\n",
       "      <td>0</td>\n",
       "      <td>1</td>\n",
       "      <td>0</td>\n",
       "      <td>1</td>\n",
       "      <td>1</td>\n",
       "      <td>0</td>\n",
       "      <td>0</td>\n",
       "      <td>0</td>\n",
       "    </tr>\n",
       "    <tr>\n",
       "      <th>1</th>\n",
       "      <td>1</td>\n",
       "      <td>0</td>\n",
       "      <td>0</td>\n",
       "      <td>1</td>\n",
       "      <td>0</td>\n",
       "      <td>1</td>\n",
       "      <td>0</td>\n",
       "      <td>0</td>\n",
       "      <td>1</td>\n",
       "      <td>0</td>\n",
       "    </tr>\n",
       "    <tr>\n",
       "      <th>2</th>\n",
       "      <td>1</td>\n",
       "      <td>0</td>\n",
       "      <td>0</td>\n",
       "      <td>1</td>\n",
       "      <td>0</td>\n",
       "      <td>1</td>\n",
       "      <td>0</td>\n",
       "      <td>1</td>\n",
       "      <td>0</td>\n",
       "      <td>0</td>\n",
       "    </tr>\n",
       "    <tr>\n",
       "      <th>3</th>\n",
       "      <td>1</td>\n",
       "      <td>0</td>\n",
       "      <td>0</td>\n",
       "      <td>1</td>\n",
       "      <td>0</td>\n",
       "      <td>1</td>\n",
       "      <td>0</td>\n",
       "      <td>1</td>\n",
       "      <td>0</td>\n",
       "      <td>0</td>\n",
       "    </tr>\n",
       "    <tr>\n",
       "      <th>4</th>\n",
       "      <td>0</td>\n",
       "      <td>1</td>\n",
       "      <td>0</td>\n",
       "      <td>1</td>\n",
       "      <td>0</td>\n",
       "      <td>1</td>\n",
       "      <td>1</td>\n",
       "      <td>0</td>\n",
       "      <td>0</td>\n",
       "      <td>0</td>\n",
       "    </tr>\n",
       "  </tbody>\n",
       "</table>\n",
       "</div>"
      ],
      "text/plain": [
       "   Density_midsize  Density_urban  Title_I_no  Title_I_yes  Virtual_no  \\\n",
       "0                0              1           0            1           0   \n",
       "1                1              0           0            1           0   \n",
       "2                1              0           0            1           0   \n",
       "3                1              0           0            1           0   \n",
       "4                0              1           0            1           0   \n",
       "\n",
       "   Virtual_yes  Level_Elementary  Level_High  Level_Middle  Level_Other  \n",
       "0            1                 1           0             0            0  \n",
       "1            1                 0           0             1            0  \n",
       "2            1                 0           1             0            0  \n",
       "3            1                 0           1             0            0  \n",
       "4            1                 1           0             0            0  "
      ]
     },
     "execution_count": 32,
     "metadata": {},
     "output_type": "execute_result"
    }
   ],
   "source": [
    "cats.head()"
   ]
  },
  {
   "cell_type": "code",
   "execution_count": 33,
   "metadata": {},
   "outputs": [],
   "source": [
    "cats.to_csv('data/categorical_data')"
   ]
  },
  {
   "cell_type": "code",
   "execution_count": 34,
   "metadata": {},
   "outputs": [],
   "source": [
    "#Merge with main dataframe on key values\n",
    "X_numeric = pd.concat([X, cats], axis=1)"
   ]
  },
  {
   "cell_type": "code",
   "execution_count": 35,
   "metadata": {},
   "outputs": [
    {
     "data": {
      "text/html": [
       "<div>\n",
       "<style scoped>\n",
       "    .dataframe tbody tr th:only-of-type {\n",
       "        vertical-align: middle;\n",
       "    }\n",
       "\n",
       "    .dataframe tbody tr th {\n",
       "        vertical-align: top;\n",
       "    }\n",
       "\n",
       "    .dataframe thead th {\n",
       "        text-align: right;\n",
       "    }\n",
       "</style>\n",
       "<table border=\"1\" class=\"dataframe\">\n",
       "  <thead>\n",
       "    <tr style=\"text-align: right;\">\n",
       "      <th></th>\n",
       "      <th>State_Avg_Reading</th>\n",
       "      <th>Zip_Population</th>\n",
       "      <th>Density</th>\n",
       "      <th>Median_Income</th>\n",
       "      <th>Property_Taxes</th>\n",
       "      <th>Percent_Taxes</th>\n",
       "      <th>Per_Pupil_Spending</th>\n",
       "      <th>Per_Pupil_Support</th>\n",
       "      <th>Per_Pupil_Support_Staff</th>\n",
       "      <th>Per_Pupil_Salaries</th>\n",
       "      <th>Total_Students</th>\n",
       "      <th>Student_Teacher_Ratio</th>\n",
       "      <th>Title_I</th>\n",
       "      <th>Virtual</th>\n",
       "      <th>Level</th>\n",
       "      <th>Density_midsize</th>\n",
       "      <th>Density_urban</th>\n",
       "      <th>Title_I_no</th>\n",
       "      <th>Title_I_yes</th>\n",
       "      <th>Virtual_no</th>\n",
       "      <th>Virtual_yes</th>\n",
       "      <th>Level_Elementary</th>\n",
       "      <th>Level_High</th>\n",
       "      <th>Level_Middle</th>\n",
       "      <th>Level_Other</th>\n",
       "    </tr>\n",
       "  </thead>\n",
       "  <tbody>\n",
       "    <tr>\n",
       "      <th>0</th>\n",
       "      <td>35.551829</td>\n",
       "      <td>107571</td>\n",
       "      <td>urban</td>\n",
       "      <td>64244</td>\n",
       "      <td>6090</td>\n",
       "      <td>41.4</td>\n",
       "      <td>9813</td>\n",
       "      <td>581</td>\n",
       "      <td>616</td>\n",
       "      <td>3995</td>\n",
       "      <td>321</td>\n",
       "      <td>12.07</td>\n",
       "      <td>yes</td>\n",
       "      <td>yes</td>\n",
       "      <td>Elementary</td>\n",
       "      <td>0</td>\n",
       "      <td>1</td>\n",
       "      <td>0</td>\n",
       "      <td>1</td>\n",
       "      <td>0</td>\n",
       "      <td>1</td>\n",
       "      <td>1</td>\n",
       "      <td>0</td>\n",
       "      <td>0</td>\n",
       "      <td>0</td>\n",
       "    </tr>\n",
       "    <tr>\n",
       "      <th>1</th>\n",
       "      <td>35.551829</td>\n",
       "      <td>3345</td>\n",
       "      <td>midsize</td>\n",
       "      <td>48462</td>\n",
       "      <td>1655</td>\n",
       "      <td>9.1</td>\n",
       "      <td>13105</td>\n",
       "      <td>676</td>\n",
       "      <td>209</td>\n",
       "      <td>4715</td>\n",
       "      <td>51</td>\n",
       "      <td>8.50</td>\n",
       "      <td>yes</td>\n",
       "      <td>yes</td>\n",
       "      <td>Middle</td>\n",
       "      <td>1</td>\n",
       "      <td>0</td>\n",
       "      <td>0</td>\n",
       "      <td>1</td>\n",
       "      <td>0</td>\n",
       "      <td>1</td>\n",
       "      <td>0</td>\n",
       "      <td>0</td>\n",
       "      <td>1</td>\n",
       "      <td>0</td>\n",
       "    </tr>\n",
       "    <tr>\n",
       "      <th>2</th>\n",
       "      <td>35.551829</td>\n",
       "      <td>11109</td>\n",
       "      <td>midsize</td>\n",
       "      <td>53209</td>\n",
       "      <td>136974</td>\n",
       "      <td>26.7</td>\n",
       "      <td>13167</td>\n",
       "      <td>932</td>\n",
       "      <td>800</td>\n",
       "      <td>5006</td>\n",
       "      <td>16</td>\n",
       "      <td>8.00</td>\n",
       "      <td>yes</td>\n",
       "      <td>yes</td>\n",
       "      <td>High</td>\n",
       "      <td>1</td>\n",
       "      <td>0</td>\n",
       "      <td>0</td>\n",
       "      <td>1</td>\n",
       "      <td>0</td>\n",
       "      <td>1</td>\n",
       "      <td>0</td>\n",
       "      <td>1</td>\n",
       "      <td>0</td>\n",
       "      <td>0</td>\n",
       "    </tr>\n",
       "    <tr>\n",
       "      <th>3</th>\n",
       "      <td>35.551829</td>\n",
       "      <td>273</td>\n",
       "      <td>midsize</td>\n",
       "      <td>43750</td>\n",
       "      <td>65265</td>\n",
       "      <td>68.9</td>\n",
       "      <td>14455</td>\n",
       "      <td>744</td>\n",
       "      <td>972</td>\n",
       "      <td>5637</td>\n",
       "      <td>14</td>\n",
       "      <td>6.36</td>\n",
       "      <td>yes</td>\n",
       "      <td>yes</td>\n",
       "      <td>High</td>\n",
       "      <td>1</td>\n",
       "      <td>0</td>\n",
       "      <td>0</td>\n",
       "      <td>1</td>\n",
       "      <td>0</td>\n",
       "      <td>1</td>\n",
       "      <td>0</td>\n",
       "      <td>1</td>\n",
       "      <td>0</td>\n",
       "      <td>0</td>\n",
       "    </tr>\n",
       "    <tr>\n",
       "      <th>4</th>\n",
       "      <td>35.551829</td>\n",
       "      <td>156504</td>\n",
       "      <td>urban</td>\n",
       "      <td>79706</td>\n",
       "      <td>251305</td>\n",
       "      <td>57.5</td>\n",
       "      <td>11650</td>\n",
       "      <td>730</td>\n",
       "      <td>496</td>\n",
       "      <td>4521</td>\n",
       "      <td>197</td>\n",
       "      <td>18.11</td>\n",
       "      <td>yes</td>\n",
       "      <td>yes</td>\n",
       "      <td>Elementary</td>\n",
       "      <td>0</td>\n",
       "      <td>1</td>\n",
       "      <td>0</td>\n",
       "      <td>1</td>\n",
       "      <td>0</td>\n",
       "      <td>1</td>\n",
       "      <td>1</td>\n",
       "      <td>0</td>\n",
       "      <td>0</td>\n",
       "      <td>0</td>\n",
       "    </tr>\n",
       "  </tbody>\n",
       "</table>\n",
       "</div>"
      ],
      "text/plain": [
       "   State_Avg_Reading  Zip_Population  Density  Median_Income  Property_Taxes  \\\n",
       "0          35.551829          107571    urban          64244            6090   \n",
       "1          35.551829            3345  midsize          48462            1655   \n",
       "2          35.551829           11109  midsize          53209          136974   \n",
       "3          35.551829             273  midsize          43750           65265   \n",
       "4          35.551829          156504    urban          79706          251305   \n",
       "\n",
       "   Percent_Taxes  Per_Pupil_Spending  Per_Pupil_Support  \\\n",
       "0           41.4                9813                581   \n",
       "1            9.1               13105                676   \n",
       "2           26.7               13167                932   \n",
       "3           68.9               14455                744   \n",
       "4           57.5               11650                730   \n",
       "\n",
       "   Per_Pupil_Support_Staff  Per_Pupil_Salaries  Total_Students  \\\n",
       "0                      616                3995             321   \n",
       "1                      209                4715              51   \n",
       "2                      800                5006              16   \n",
       "3                      972                5637              14   \n",
       "4                      496                4521             197   \n",
       "\n",
       "   Student_Teacher_Ratio Title_I Virtual       Level  Density_midsize  \\\n",
       "0                  12.07     yes     yes  Elementary                0   \n",
       "1                   8.50     yes     yes      Middle                1   \n",
       "2                   8.00     yes     yes        High                1   \n",
       "3                   6.36     yes     yes        High                1   \n",
       "4                  18.11     yes     yes  Elementary                0   \n",
       "\n",
       "   Density_urban  Title_I_no  Title_I_yes  Virtual_no  Virtual_yes  \\\n",
       "0              1           0            1           0            1   \n",
       "1              0           0            1           0            1   \n",
       "2              0           0            1           0            1   \n",
       "3              0           0            1           0            1   \n",
       "4              1           0            1           0            1   \n",
       "\n",
       "   Level_Elementary  Level_High  Level_Middle  Level_Other  \n",
       "0                 1           0             0            0  \n",
       "1                 0           0             1            0  \n",
       "2                 0           1             0            0  \n",
       "3                 0           1             0            0  \n",
       "4                 1           0             0            0  "
      ]
     },
     "execution_count": 35,
     "metadata": {},
     "output_type": "execute_result"
    }
   ],
   "source": [
    "X_numeric.head()"
   ]
  },
  {
   "cell_type": "code",
   "execution_count": 36,
   "metadata": {},
   "outputs": [],
   "source": [
    "#Drop non-numeric categorical columns \n",
    "X_numeric = X_numeric.drop(['Density','Title_I', 'Virtual','Level'], axis=1)"
   ]
  },
  {
   "cell_type": "code",
   "execution_count": 37,
   "metadata": {
    "scrolled": true
   },
   "outputs": [
    {
     "data": {
      "text/html": [
       "<div>\n",
       "<style scoped>\n",
       "    .dataframe tbody tr th:only-of-type {\n",
       "        vertical-align: middle;\n",
       "    }\n",
       "\n",
       "    .dataframe tbody tr th {\n",
       "        vertical-align: top;\n",
       "    }\n",
       "\n",
       "    .dataframe thead th {\n",
       "        text-align: right;\n",
       "    }\n",
       "</style>\n",
       "<table border=\"1\" class=\"dataframe\">\n",
       "  <thead>\n",
       "    <tr style=\"text-align: right;\">\n",
       "      <th></th>\n",
       "      <th>State_Avg_Reading</th>\n",
       "      <th>Zip_Population</th>\n",
       "      <th>Median_Income</th>\n",
       "      <th>Property_Taxes</th>\n",
       "      <th>Percent_Taxes</th>\n",
       "      <th>Per_Pupil_Spending</th>\n",
       "      <th>Per_Pupil_Support</th>\n",
       "      <th>Per_Pupil_Support_Staff</th>\n",
       "      <th>Per_Pupil_Salaries</th>\n",
       "      <th>Total_Students</th>\n",
       "      <th>Student_Teacher_Ratio</th>\n",
       "      <th>Density_midsize</th>\n",
       "      <th>Density_urban</th>\n",
       "      <th>Title_I_no</th>\n",
       "      <th>Title_I_yes</th>\n",
       "      <th>Virtual_no</th>\n",
       "      <th>Virtual_yes</th>\n",
       "      <th>Level_Elementary</th>\n",
       "      <th>Level_High</th>\n",
       "      <th>Level_Middle</th>\n",
       "      <th>Level_Other</th>\n",
       "    </tr>\n",
       "  </thead>\n",
       "  <tbody>\n",
       "    <tr>\n",
       "      <th>0</th>\n",
       "      <td>35.551829</td>\n",
       "      <td>107571</td>\n",
       "      <td>64244</td>\n",
       "      <td>6090</td>\n",
       "      <td>41.4</td>\n",
       "      <td>9813</td>\n",
       "      <td>581</td>\n",
       "      <td>616</td>\n",
       "      <td>3995</td>\n",
       "      <td>321</td>\n",
       "      <td>12.07</td>\n",
       "      <td>0</td>\n",
       "      <td>1</td>\n",
       "      <td>0</td>\n",
       "      <td>1</td>\n",
       "      <td>0</td>\n",
       "      <td>1</td>\n",
       "      <td>1</td>\n",
       "      <td>0</td>\n",
       "      <td>0</td>\n",
       "      <td>0</td>\n",
       "    </tr>\n",
       "    <tr>\n",
       "      <th>1</th>\n",
       "      <td>35.551829</td>\n",
       "      <td>3345</td>\n",
       "      <td>48462</td>\n",
       "      <td>1655</td>\n",
       "      <td>9.1</td>\n",
       "      <td>13105</td>\n",
       "      <td>676</td>\n",
       "      <td>209</td>\n",
       "      <td>4715</td>\n",
       "      <td>51</td>\n",
       "      <td>8.50</td>\n",
       "      <td>1</td>\n",
       "      <td>0</td>\n",
       "      <td>0</td>\n",
       "      <td>1</td>\n",
       "      <td>0</td>\n",
       "      <td>1</td>\n",
       "      <td>0</td>\n",
       "      <td>0</td>\n",
       "      <td>1</td>\n",
       "      <td>0</td>\n",
       "    </tr>\n",
       "    <tr>\n",
       "      <th>2</th>\n",
       "      <td>35.551829</td>\n",
       "      <td>11109</td>\n",
       "      <td>53209</td>\n",
       "      <td>136974</td>\n",
       "      <td>26.7</td>\n",
       "      <td>13167</td>\n",
       "      <td>932</td>\n",
       "      <td>800</td>\n",
       "      <td>5006</td>\n",
       "      <td>16</td>\n",
       "      <td>8.00</td>\n",
       "      <td>1</td>\n",
       "      <td>0</td>\n",
       "      <td>0</td>\n",
       "      <td>1</td>\n",
       "      <td>0</td>\n",
       "      <td>1</td>\n",
       "      <td>0</td>\n",
       "      <td>1</td>\n",
       "      <td>0</td>\n",
       "      <td>0</td>\n",
       "    </tr>\n",
       "    <tr>\n",
       "      <th>3</th>\n",
       "      <td>35.551829</td>\n",
       "      <td>273</td>\n",
       "      <td>43750</td>\n",
       "      <td>65265</td>\n",
       "      <td>68.9</td>\n",
       "      <td>14455</td>\n",
       "      <td>744</td>\n",
       "      <td>972</td>\n",
       "      <td>5637</td>\n",
       "      <td>14</td>\n",
       "      <td>6.36</td>\n",
       "      <td>1</td>\n",
       "      <td>0</td>\n",
       "      <td>0</td>\n",
       "      <td>1</td>\n",
       "      <td>0</td>\n",
       "      <td>1</td>\n",
       "      <td>0</td>\n",
       "      <td>1</td>\n",
       "      <td>0</td>\n",
       "      <td>0</td>\n",
       "    </tr>\n",
       "    <tr>\n",
       "      <th>4</th>\n",
       "      <td>35.551829</td>\n",
       "      <td>156504</td>\n",
       "      <td>79706</td>\n",
       "      <td>251305</td>\n",
       "      <td>57.5</td>\n",
       "      <td>11650</td>\n",
       "      <td>730</td>\n",
       "      <td>496</td>\n",
       "      <td>4521</td>\n",
       "      <td>197</td>\n",
       "      <td>18.11</td>\n",
       "      <td>0</td>\n",
       "      <td>1</td>\n",
       "      <td>0</td>\n",
       "      <td>1</td>\n",
       "      <td>0</td>\n",
       "      <td>1</td>\n",
       "      <td>1</td>\n",
       "      <td>0</td>\n",
       "      <td>0</td>\n",
       "      <td>0</td>\n",
       "    </tr>\n",
       "  </tbody>\n",
       "</table>\n",
       "</div>"
      ],
      "text/plain": [
       "   State_Avg_Reading  Zip_Population  Median_Income  Property_Taxes  \\\n",
       "0          35.551829          107571          64244            6090   \n",
       "1          35.551829            3345          48462            1655   \n",
       "2          35.551829           11109          53209          136974   \n",
       "3          35.551829             273          43750           65265   \n",
       "4          35.551829          156504          79706          251305   \n",
       "\n",
       "   Percent_Taxes  Per_Pupil_Spending  Per_Pupil_Support  \\\n",
       "0           41.4                9813                581   \n",
       "1            9.1               13105                676   \n",
       "2           26.7               13167                932   \n",
       "3           68.9               14455                744   \n",
       "4           57.5               11650                730   \n",
       "\n",
       "   Per_Pupil_Support_Staff  Per_Pupil_Salaries  Total_Students  \\\n",
       "0                      616                3995             321   \n",
       "1                      209                4715              51   \n",
       "2                      800                5006              16   \n",
       "3                      972                5637              14   \n",
       "4                      496                4521             197   \n",
       "\n",
       "   Student_Teacher_Ratio  Density_midsize  Density_urban  Title_I_no  \\\n",
       "0                  12.07                0              1           0   \n",
       "1                   8.50                1              0           0   \n",
       "2                   8.00                1              0           0   \n",
       "3                   6.36                1              0           0   \n",
       "4                  18.11                0              1           0   \n",
       "\n",
       "   Title_I_yes  Virtual_no  Virtual_yes  Level_Elementary  Level_High  \\\n",
       "0            1           0            1                 1           0   \n",
       "1            1           0            1                 0           0   \n",
       "2            1           0            1                 0           1   \n",
       "3            1           0            1                 0           1   \n",
       "4            1           0            1                 1           0   \n",
       "\n",
       "   Level_Middle  Level_Other  \n",
       "0             0            0  \n",
       "1             1            0  \n",
       "2             0            0  \n",
       "3             0            0  \n",
       "4             0            0  "
      ]
     },
     "execution_count": 37,
     "metadata": {},
     "output_type": "execute_result"
    }
   ],
   "source": [
    "X_numeric.head()"
   ]
  },
  {
   "cell_type": "code",
   "execution_count": 38,
   "metadata": {},
   "outputs": [],
   "source": [
    "#Have to re-do the train test split\n",
    "X_train, X_test, y_train, y_test = train_test_split(X_numeric, target, test_size=0.20, random_state=42)"
   ]
  },
  {
   "cell_type": "markdown",
   "metadata": {},
   "source": [
    "### Scaling Data"
   ]
  },
  {
   "cell_type": "code",
   "execution_count": 39,
   "metadata": {},
   "outputs": [],
   "source": [
    "scaler = StandardScaler()\n",
    "# Train our scaler on training data, then fit to testing\n",
    "X_train_scaled = scaler.fit_transform(X_train, y=None)\n",
    "X_test_scaled = scaler.transform(X_test)"
   ]
  },
  {
   "cell_type": "markdown",
   "metadata": {},
   "source": [
    "### Baseline Modeling"
   ]
  },
  {
   "cell_type": "markdown",
   "metadata": {},
   "source": [
    "Schools with below 50% proficiency) comprise the majority class. Could a baseline model do better than that?  "
   ]
  },
  {
   "cell_type": "code",
   "execution_count": 40,
   "metadata": {},
   "outputs": [],
   "source": [
    "train = X_train.copy()\n",
    "train['target'] = y_train.values"
   ]
  },
  {
   "cell_type": "code",
   "execution_count": 41,
   "metadata": {},
   "outputs": [
    {
     "name": "stderr",
     "output_type": "stream",
     "text": [
      "<ipython-input-41-fd87e67f2ec4>:2: SettingWithCopyWarning: \n",
      "A value is trying to be set on a copy of a slice from a DataFrame.\n",
      "Try using .loc[row_indexer,col_indexer] = value instead\n",
      "\n",
      "See the caveats in the documentation: https://pandas.pydata.org/pandas-docs/stable/user_guide/indexing.html#returning-a-view-versus-a-copy\n",
      "  test['target'] = y_test\n"
     ]
    }
   ],
   "source": [
    "test = X_test\n",
    "test['target'] = y_test"
   ]
  },
  {
   "cell_type": "code",
   "execution_count": 42,
   "metadata": {},
   "outputs": [
    {
     "data": {
      "text/plain": [
       "72923"
      ]
     },
     "execution_count": 42,
     "metadata": {},
     "output_type": "execute_result"
    }
   ],
   "source": [
    "len(train) + len(test)"
   ]
  },
  {
   "cell_type": "code",
   "execution_count": 43,
   "metadata": {},
   "outputs": [],
   "source": [
    "# Make baseline dataframe \n",
    "bdf = pd.concat([train,test],axis=0)"
   ]
  },
  {
   "cell_type": "code",
   "execution_count": 44,
   "metadata": {},
   "outputs": [
    {
     "name": "stdout",
     "output_type": "stream",
     "text": [
      "Baseline accuracy based on average statewide reading proficiency: 0.42\n"
     ]
    }
   ],
   "source": [
    "# Number correct is number of proficient districts with state proficiency > 50%\n",
    "# and non-proficient districts with state proficiency < 50%.\n",
    "prof_correct = len(bdf[(bdf['State_Avg_Reading']>50) & (bdf['target']==1)])\n",
    "notprof_correct = len(bdf[(bdf['State_Avg_Reading']<50) & (bdf['target']==0)])\n",
    "\n",
    "# Add totals\n",
    "correct = prof_correct + notprof_correct\n",
    "print(f'Baseline accuracy based on average statewide reading proficiency: {correct/len(bdf):.2}')"
   ]
  },
  {
   "cell_type": "markdown",
   "metadata": {},
   "source": [
    "So a model that predicts a district's reading proficiency based on the overall average proficiency for the state in which the school is located only predicts correctly 42% of the time. We're better off just randomly guessing that a district is proficient!"
   ]
  },
  {
   "cell_type": "markdown",
   "metadata": {},
   "source": [
    "### Logistic Regression Model"
   ]
  },
  {
   "cell_type": "code",
   "execution_count": 45,
   "metadata": {},
   "outputs": [
    {
     "data": {
      "text/plain": [
       "LogisticRegression()"
      ]
     },
     "execution_count": 45,
     "metadata": {},
     "output_type": "execute_result"
    }
   ],
   "source": [
    "logreg = LogisticRegression()\n",
    "logreg.fit(X_train, y_train)"
   ]
  },
  {
   "cell_type": "code",
   "execution_count": 46,
   "metadata": {},
   "outputs": [
    {
     "data": {
      "text/plain": [
       "0.49958860434022423"
      ]
     },
     "execution_count": 46,
     "metadata": {},
     "output_type": "execute_result"
    }
   ],
   "source": [
    "logreg.score(X_train_scaled, y_train)"
   ]
  },
  {
   "cell_type": "code",
   "execution_count": 47,
   "metadata": {
    "scrolled": true
   },
   "outputs": [
    {
     "data": {
      "text/plain": [
       "0.49948577305450803"
      ]
     },
     "execution_count": 47,
     "metadata": {},
     "output_type": "execute_result"
    }
   ],
   "source": [
    "logreg.score(X_test_scaled, y_test)"
   ]
  },
  {
   "cell_type": "markdown",
   "metadata": {},
   "source": [
    "First logistic regression model did slightly better than baseline model, but still worse than randomly guessing the majority class. Hopefully our other classifier models can perform better. "
   ]
  },
  {
   "cell_type": "markdown",
   "metadata": {},
   "source": [
    "### K-Nearest Neighbors Model"
   ]
  },
  {
   "cell_type": "code",
   "execution_count": 48,
   "metadata": {},
   "outputs": [],
   "source": [
    "knn = KNeighborsClassifier(n_neighbors=3)\n",
    "knn.fit(X_train_scaled, y_train)\n",
    "#Predictions for the testing set\n",
    "y_preds = knn.predict(X_test_scaled)"
   ]
  },
  {
   "cell_type": "code",
   "execution_count": 49,
   "metadata": {
    "scrolled": true
   },
   "outputs": [],
   "source": [
    "#fn.evaluate(knn, X_train_scaled, X_test_scaled, y_train, y_test)"
   ]
  },
  {
   "cell_type": "markdown",
   "metadata": {},
   "source": [
    "Overfitting appears to be a significant problem; training data does OK but precision score drops a ton on testing. Before turning to feature engineering or a grid search, I'm going to try a couple of other models to see how well they perform comparatively. "
   ]
  },
  {
   "cell_type": "markdown",
   "metadata": {},
   "source": [
    "### Random Forest Model"
   ]
  },
  {
   "cell_type": "code",
   "execution_count": 50,
   "metadata": {},
   "outputs": [],
   "source": [
    "rf = RandomForestClassifier(max_depth=5, n_estimators=100, random_state=0)\n",
    "rf.fit(X_train_scaled, y_train)\n",
    "rf_preds = rf.predict(X_test_scaled) "
   ]
  },
  {
   "cell_type": "code",
   "execution_count": 51,
   "metadata": {
    "scrolled": false
   },
   "outputs": [
    {
     "name": "stdout",
     "output_type": "stream",
     "text": [
      "Train Scores\n",
      "------------\n",
      "Accuracy: 0.5462134457814803\n",
      "Precision: 0.5572052350996511\n",
      "F1 Score: 0.388487214432561\n",
      "ROC-AUC: 0.5729902315253592\n",
      "--------------------\n",
      "Test Scores\n",
      "-----------\n",
      "Accuracy: 0.5099760027425437\n",
      "Precision: 0.5094854421392278\n",
      "F1 Score: 0.3425627817128139\n",
      "ROC-AUC: 0.5171724930183379\n"
     ]
    },
    {
     "data": {
      "image/png": "[encoded data removed]",
      "text/plain": [
       "<Figure size 432x288 with 2 Axes>"
      ]
     },
     "metadata": {
      "needs_background": "light"
     },
     "output_type": "display_data"
    }
   ],
   "source": [
    "fn.evaluate(rf, X_train_scaled, X_test_scaled, y_train, y_test)"
   ]
  },
  {
   "cell_type": "markdown",
   "metadata": {},
   "source": [
    "This has reduced overfitting somewhat, but precision has stayed mostly the same and is still about as accurate as random guessing."
   ]
  },
  {
   "cell_type": "markdown",
   "metadata": {},
   "source": [
    "### Gradient Boosting Model"
   ]
  },
  {
   "cell_type": "code",
   "execution_count": 52,
   "metadata": {},
   "outputs": [],
   "source": [
    "#Trying sklearn gradient boosting instead\n",
    "gbmodel = GradientBoostingClassifier(n_estimators=100, learning_rate=1.0,\n",
    "max_depth=1, random_state=0).fit(X_train_scaled, y_train)"
   ]
  },
  {
   "cell_type": "code",
   "execution_count": 53,
   "metadata": {},
   "outputs": [],
   "source": [
    "gbmodel_preds = gbmodel.predict(X_test_scaled)"
   ]
  },
  {
   "cell_type": "code",
   "execution_count": 54,
   "metadata": {
    "scrolled": true
   },
   "outputs": [
    {
     "name": "stdout",
     "output_type": "stream",
     "text": [
      "Train Scores\n",
      "------------\n",
      "Accuracy: 0.5302547224793445\n",
      "Precision: 0.5302896143154076\n",
      "F1 Score: 0.4684820978315683\n",
      "ROC-AUC: 0.5416854063586019\n",
      "--------------------\n",
      "Test Scores\n",
      "-----------\n",
      "Accuracy: 0.5088789852588276\n",
      "Precision: 0.5081152843338089\n",
      "F1 Score: 0.4521606118546845\n",
      "ROC-AUC: 0.5146425243782702\n"
     ]
    },
    {
     "data": {
      "image/png": "[encoded data removed]",
      "text/plain": [
       "<Figure size 432x288 with 2 Axes>"
      ]
     },
     "metadata": {
      "needs_background": "light"
     },
     "output_type": "display_data"
    }
   ],
   "source": [
    "fn.evaluate(gbmodel, X_train_scaled, X_test_scaled, y_train, y_test)"
   ]
  },
  {
   "cell_type": "markdown",
   "metadata": {},
   "source": [
    "Using gradient boosting did not appear to have any discernible improvement for my model. However, the gap in precision scores between training and testing models was the smallest here out of any of the three algorithms."
   ]
  },
  {
   "cell_type": "markdown",
   "metadata": {},
   "source": [
    "### AdaBoost Classifier"
   ]
  },
  {
   "cell_type": "code",
   "execution_count": 55,
   "metadata": {},
   "outputs": [
    {
     "data": {
      "text/plain": [
       "AdaBoostClassifier()"
      ]
     },
     "execution_count": 55,
     "metadata": {},
     "output_type": "execute_result"
    }
   ],
   "source": [
    "ada = AdaBoostClassifier()\n",
    "ada.fit(X_train_scaled, y_train)"
   ]
  },
  {
   "cell_type": "code",
   "execution_count": 56,
   "metadata": {},
   "outputs": [
    {
     "name": "stdout",
     "output_type": "stream",
     "text": [
      "Train Scores\n",
      "------------\n",
      "Accuracy: 0.5256265213068669\n",
      "Precision: 0.5256298677591841\n",
      "F1 Score: 0.4527585525014831\n",
      "ROC-AUC: 0.5348502262364381\n",
      "--------------------\n",
      "Test Scores\n",
      "-----------\n",
      "Accuracy: 0.5141583818992115\n",
      "Precision: 0.5135882393848866\n",
      "F1 Score: 0.4478728377746611\n",
      "ROC-AUC: 0.5149032083299107\n"
     ]
    },
    {
     "data": {
      "image/png": "[encoded data removed]",
      "text/plain": [
       "<Figure size 432x288 with 2 Axes>"
      ]
     },
     "metadata": {
      "needs_background": "light"
     },
     "output_type": "display_data"
    }
   ],
   "source": [
    "fn.evaluate(ada, X_train_scaled, X_test_scaled, y_train, y_test)"
   ]
  },
  {
   "cell_type": "markdown",
   "metadata": {},
   "source": [
    "### Feature Engineering and Model Improvement"
   ]
  },
  {
   "cell_type": "code",
   "execution_count": 57,
   "metadata": {},
   "outputs": [],
   "source": [
    "importances = rf.feature_importances_"
   ]
  },
  {
   "cell_type": "code",
   "execution_count": 58,
   "metadata": {},
   "outputs": [],
   "source": [
    "feature_names = X_test.drop(labels='target', axis=1)"
   ]
  },
  {
   "cell_type": "code",
   "execution_count": 59,
   "metadata": {},
   "outputs": [],
   "source": [
    "rf_importances = pd.DataFrame(index=feature_names.columns, data=importances).sort_values(by=0,ascending=False)"
   ]
  },
  {
   "cell_type": "code",
   "execution_count": 60,
   "metadata": {},
   "outputs": [
    {
     "data": {
      "image/png": "[encoded data removed]",
      "text/plain": [
       "<Figure size 432x288 with 1 Axes>"
      ]
     },
     "metadata": {
      "needs_background": "light"
     },
     "output_type": "display_data"
    }
   ],
   "source": [
    "# plot feature importance\n",
    "rf_importances.plot(kind='bar', legend=False, color='darkorange');\n",
    "pl.savefig('Initial Feature Importances')"
   ]
  },
  {
   "cell_type": "markdown",
   "metadata": {},
   "source": [
    "As a first try, I'm going to select only the top eight features with an importance of over .06 and rerun the models to see if these improve precision scores. As an added bonus, this feature selection might make my models more interpretable. Since my gradient boosting model seemed the most effective when it came to minimizing overfitting, I will re-run this algorithm on my new features."
   ]
  },
  {
   "cell_type": "code",
   "execution_count": 61,
   "metadata": {},
   "outputs": [],
   "source": [
    "top8_X_numeric = X_numeric[['Student_Teacher_Ratio','Median_Income','Zip_Population','Per_Pupil_Salaries','Per_Pupil_Support','Total_Students','Per_Pupil_Spending','Percent_Taxes']]\n",
    "\n"
   ]
  },
  {
   "cell_type": "code",
   "execution_count": 62,
   "metadata": {},
   "outputs": [],
   "source": [
    "#Have to re-do the train test split\n",
    "top8_X_train, top8_X_test, y_train, y_test = train_test_split(X_numeric, target, test_size=0.20, random_state=42)"
   ]
  },
  {
   "cell_type": "code",
   "execution_count": 63,
   "metadata": {},
   "outputs": [],
   "source": [
    "#Scale the data again\n",
    "top8_X_train_scaled = scaler.fit_transform(top8_X_train, y=None)\n",
    "top8_X_test_scaled = scaler.transform(top8_X_test)"
   ]
  },
  {
   "cell_type": "code",
   "execution_count": 64,
   "metadata": {},
   "outputs": [],
   "source": [
    "#Run Gradient Boosting \n",
    "top8_gbmodel = GradientBoostingClassifier(n_estimators=100,\n",
    "max_depth=1, random_state=0).fit(top8_X_train_scaled, y_train)"
   ]
  },
  {
   "cell_type": "code",
   "execution_count": 65,
   "metadata": {},
   "outputs": [],
   "source": [
    "top8_gbmodel_preds = top8_gbmodel.predict(top8_X_test_scaled)"
   ]
  },
  {
   "cell_type": "code",
   "execution_count": 66,
   "metadata": {},
   "outputs": [
    {
     "name": "stdout",
     "output_type": "stream",
     "text": [
      "Train Scores\n",
      "------------\n",
      "Accuracy: 0.5154273372415921\n",
      "Precision: 0.5169005439796527\n",
      "F1 Score: 0.32755298651252407\n",
      "ROC-AUC: 0.5234222677002526\n",
      "--------------------\n",
      "Test Scores\n",
      "-----------\n",
      "Accuracy: 0.5090846760370243\n",
      "Precision: 0.5084717822395158\n",
      "F1 Score: 0.3223547226954382\n",
      "ROC-AUC: 0.5144109150137406\n"
     ]
    },
    {
     "data": {
      "image/png": "[encoded data removed]",
      "text/plain": [
       "<Figure size 432x288 with 2 Axes>"
      ]
     },
     "metadata": {
      "needs_background": "light"
     },
     "output_type": "display_data"
    }
   ],
   "source": [
    "fn.evaluate(top8_gbmodel, top8_X_train_scaled, top8_X_test_scaled, y_train, y_test)"
   ]
  },
  {
   "cell_type": "markdown",
   "metadata": {},
   "source": [
    "Selecting features had no discernible effect on my model. Going to try tuning some of the more important hyperparameters next, such as learning rate."
   ]
  },
  {
   "cell_type": "code",
   "execution_count": 67,
   "metadata": {},
   "outputs": [
    {
     "data": {
      "text/plain": [
       "(72923, 21)"
      ]
     },
     "execution_count": 67,
     "metadata": {},
     "output_type": "execute_result"
    }
   ],
   "source": [
    "X_numeric.shape"
   ]
  },
  {
   "cell_type": "code",
   "execution_count": 68,
   "metadata": {},
   "outputs": [],
   "source": [
    "#Seeing how models performs with default parameters\n",
    "default = GradientBoostingClassifier().fit(top8_X_train_scaled, y_train)"
   ]
  },
  {
   "cell_type": "code",
   "execution_count": 69,
   "metadata": {},
   "outputs": [],
   "source": [
    "default_preds = default.predict(top8_X_test_scaled)"
   ]
  },
  {
   "cell_type": "code",
   "execution_count": 70,
   "metadata": {},
   "outputs": [
    {
     "name": "stdout",
     "output_type": "stream",
     "text": [
      "Train Scores\n",
      "------------\n",
      "Accuracy: 0.552795776337893\n",
      "Precision: 0.5559542402964572\n",
      "F1 Score: 0.4676257524742373\n",
      "ROC-AUC: 0.5812463785107822\n",
      "--------------------\n",
      "Test Scores\n",
      "-----------\n",
      "Accuracy: 0.5113472745971889\n",
      "Precision: 0.5106057777128289\n",
      "F1 Score: 0.4260288314407667\n",
      "ROC-AUC: 0.5152472137292834\n"
     ]
    },
    {
     "data": {
      "image/png": "[encoded data removed]",
      "text/plain": [
       "<Figure size 432x288 with 2 Axes>"
      ]
     },
     "metadata": {
      "needs_background": "light"
     },
     "output_type": "display_data"
    }
   ],
   "source": [
    "fn.evaluate(default, top8_X_train_scaled, top8_X_test_scaled, y_train, y_test)\n"
   ]
  },
  {
   "cell_type": "markdown",
   "metadata": {},
   "source": [
    "With default parameters, precision score went up slightly (by .02%); however, overfitting also worsened slightly. Going to try a GridSearch CV next. "
   ]
  },
  {
   "cell_type": "markdown",
   "metadata": {},
   "source": [
    "loss='deviance', learning_rate=0.1, n_estimators=100, subsample=1.0, criterion='friedman_mse', min_samples_split=2, min_samples_leaf=1, min_weight_fraction_leaf=0.0, max_depth=3, min_impurity_decrease=0.0, init=None, random_state=None, max_features=None, verbose=0, max_leaf_nodes=None, warm_start=False, validation_fraction=0.1, n_iter_no_change=None, tol=0.0001, ccp_alpha=0.0"
   ]
  },
  {
   "cell_type": "code",
   "execution_count": 71,
   "metadata": {},
   "outputs": [
    {
     "data": {
      "text/plain": [
       "(72923, 21)"
      ]
     },
     "execution_count": 71,
     "metadata": {},
     "output_type": "execute_result"
    }
   ],
   "source": [
    "X_numeric.shape"
   ]
  },
  {
   "cell_type": "markdown",
   "metadata": {},
   "source": [
    "**min_samples_split = 700**: min_samples should be ~.05 - 1% of total values. Since this is a balanced class problem, will take towards the larger end of the range. 1% of 72920 is about 700."
   ]
  },
  {
   "cell_type": "markdown",
   "metadata": {},
   "source": [
    "**max_depth = 7**: Should be chosen (5-8) based on the number of observations and predictors. This has 72K rows and 21 columns so lets take 7 here.\n",
    "\n",
    "**max_features = sqrt**: Rule of thumb.\n",
    "\n",
    "**subsample == 0.8**: Commonly used start value."
   ]
  },
  {
   "cell_type": "code",
   "execution_count": 72,
   "metadata": {},
   "outputs": [
    {
     "data": {
      "text/html": [
       "<div>\n",
       "<style scoped>\n",
       "    .dataframe tbody tr th:only-of-type {\n",
       "        vertical-align: middle;\n",
       "    }\n",
       "\n",
       "    .dataframe tbody tr th {\n",
       "        vertical-align: top;\n",
       "    }\n",
       "\n",
       "    .dataframe thead th {\n",
       "        text-align: right;\n",
       "    }\n",
       "</style>\n",
       "<table border=\"1\" class=\"dataframe\">\n",
       "  <thead>\n",
       "    <tr style=\"text-align: right;\">\n",
       "      <th></th>\n",
       "      <th>split0_test_accuracy</th>\n",
       "      <th>split1_test_accuracy</th>\n",
       "      <th>split0_test_precision</th>\n",
       "      <th>split1_test_precision</th>\n",
       "      <th>split0_test_recall</th>\n",
       "      <th>split1_test_recall</th>\n",
       "    </tr>\n",
       "  </thead>\n",
       "  <tbody>\n",
       "    <tr>\n",
       "      <th>0</th>\n",
       "      <td>0.505160</td>\n",
       "      <td>0.505194</td>\n",
       "      <td>0.498302</td>\n",
       "      <td>0.498299</td>\n",
       "      <td>0.387260</td>\n",
       "      <td>0.386662</td>\n",
       "    </tr>\n",
       "    <tr>\n",
       "      <th>1</th>\n",
       "      <td>0.502828</td>\n",
       "      <td>0.505708</td>\n",
       "      <td>0.495670</td>\n",
       "      <td>0.499065</td>\n",
       "      <td>0.421437</td>\n",
       "      <td>0.426398</td>\n",
       "    </tr>\n",
       "    <tr>\n",
       "      <th>2</th>\n",
       "      <td>0.504782</td>\n",
       "      <td>0.505297</td>\n",
       "      <td>0.498020</td>\n",
       "      <td>0.498606</td>\n",
       "      <td>0.428036</td>\n",
       "      <td>0.434873</td>\n",
       "    </tr>\n",
       "    <tr>\n",
       "      <th>3</th>\n",
       "      <td>0.504474</td>\n",
       "      <td>0.505057</td>\n",
       "      <td>0.497662</td>\n",
       "      <td>0.498361</td>\n",
       "      <td>0.428869</td>\n",
       "      <td>0.443557</td>\n",
       "    </tr>\n",
       "    <tr>\n",
       "      <th>4</th>\n",
       "      <td>0.503720</td>\n",
       "      <td>0.501663</td>\n",
       "      <td>0.496872</td>\n",
       "      <td>0.494318</td>\n",
       "      <td>0.441303</td>\n",
       "      <td>0.426051</td>\n",
       "    </tr>\n",
       "    <tr>\n",
       "      <th>5</th>\n",
       "      <td>0.504200</td>\n",
       "      <td>0.503994</td>\n",
       "      <td>0.497433</td>\n",
       "      <td>0.497179</td>\n",
       "      <td>0.444221</td>\n",
       "      <td>0.446822</td>\n",
       "    </tr>\n",
       "    <tr>\n",
       "      <th>6</th>\n",
       "      <td>0.498337</td>\n",
       "      <td>0.503308</td>\n",
       "      <td>0.490944</td>\n",
       "      <td>0.496496</td>\n",
       "      <td>0.446235</td>\n",
       "      <td>0.457728</td>\n",
       "    </tr>\n",
       "  </tbody>\n",
       "</table>\n",
       "</div>"
      ],
      "text/plain": [
       "   split0_test_accuracy  split1_test_accuracy  split0_test_precision  \\\n",
       "0              0.505160              0.505194               0.498302   \n",
       "1              0.502828              0.505708               0.495670   \n",
       "2              0.504782              0.505297               0.498020   \n",
       "3              0.504474              0.505057               0.497662   \n",
       "4              0.503720              0.501663               0.496872   \n",
       "5              0.504200              0.503994               0.497433   \n",
       "6              0.498337              0.503308               0.490944   \n",
       "\n",
       "   split1_test_precision  split0_test_recall  split1_test_recall  \n",
       "0               0.498299            0.387260            0.386662  \n",
       "1               0.499065            0.421437            0.426398  \n",
       "2               0.498606            0.428036            0.434873  \n",
       "3               0.498361            0.428869            0.443557  \n",
       "4               0.494318            0.441303            0.426051  \n",
       "5               0.497179            0.444221            0.446822  \n",
       "6               0.496496            0.446235            0.457728  "
      ]
     },
     "execution_count": 72,
     "metadata": {},
     "output_type": "execute_result"
    }
   ],
   "source": [
    "#Creating scoring parameter: \n",
    "scoring = {'accuracy': make_scorer(accuracy_score),\n",
    "           'precision': make_scorer(precision_score),'recall':make_scorer(recall_score)}\n",
    "\n",
    "# A sample parameter\n",
    "parameters = {\n",
    "    \"min_samples_split\": [100],\n",
    "    \"max_depth\":[7],\n",
    "    \"max_features\":[\"sqrt\"],\n",
    "    \"subsample\":[0.8],\n",
    "    \"n_estimators\":range(20,81,10)\n",
    "    }\n",
    "#Passing the scoring function in the GridSearchCV\n",
    "clf = GridSearchCV(GradientBoostingClassifier(), parameters,scoring=scoring,refit=False,cv=2, n_jobs=-1)\n",
    "\n",
    "clf.fit(top8_X_train_scaled, y_train)\n",
    "#Converting the clf.cv_results to dataframe\n",
    "results=pd.DataFrame.from_dict(clf.cv_results_)\n",
    "#Here are inputs for cross validation is cv=2, there two split split0 and split1\n",
    "results[['split0_test_accuracy','split1_test_accuracy','split0_test_precision','split1_test_precision','split0_test_recall','split1_test_recall']]"
   ]
  },
  {
   "cell_type": "code",
   "execution_count": 73,
   "metadata": {},
   "outputs": [
    {
     "data": {
      "text/plain": [
       "{'max_depth': 7,\n",
       " 'max_features': 'sqrt',\n",
       " 'min_samples_split': 100,\n",
       " 'n_estimators': 40,\n",
       " 'subsample': 0.8}"
      ]
     },
     "execution_count": 73,
     "metadata": {},
     "output_type": "execute_result"
    }
   ],
   "source": [
    "#find the best parameter based on the accuracy_score\n",
    "#taking the average of the precision\n",
    "results['precision_score']=(results['split0_test_precision']+results['split1_test_precision'])/2\n",
    "\n",
    "results.loc[results['precision_score'].idxmax()]['params']"
   ]
  },
  {
   "cell_type": "markdown",
   "metadata": {},
   "source": [
    "### Adding More Data"
   ]
  },
  {
   "cell_type": "markdown",
   "metadata": {},
   "source": [
    "Since the gridsearches did not work to improve the model's performance significantly, I'm going to try adding in some additional features to the model to see if that improves the score."
   ]
  },
  {
   "cell_type": "code",
   "execution_count": 74,
   "metadata": {
    "scrolled": false
   },
   "outputs": [
    {
     "name": "stderr",
     "output_type": "stream",
     "text": [
      "/opt/anaconda3/envs/learn-env/lib/python3.8/site-packages/IPython/core/interactiveshell.py:3145: DtypeWarning: Columns (0,3) have mixed types.Specify dtype option on import or set low_memory=False.\n",
      "  has_raised = await self.run_ast_nodes(code_ast.body, cell_name,\n"
     ]
    }
   ],
   "source": [
    "money = pd.read_csv('data/sdf19_1a.txt',sep=\"\\t\")"
   ]
  },
  {
   "cell_type": "code",
   "execution_count": 75,
   "metadata": {},
   "outputs": [
    {
     "data": {
      "text/plain": [
       "(19700, 262)"
      ]
     },
     "execution_count": 75,
     "metadata": {},
     "output_type": "execute_result"
    }
   ],
   "source": [
    "money.shape"
   ]
  },
  {
   "cell_type": "code",
   "execution_count": 76,
   "metadata": {},
   "outputs": [],
   "source": [
    "df['District_ID'] = df['District_ID'].astype(str)"
   ]
  },
  {
   "cell_type": "code",
   "execution_count": 77,
   "metadata": {
    "scrolled": true
   },
   "outputs": [],
   "source": [
    "addtl_features = money[['LEAID','TOTALREV','TFEDREV','TSTREV','TLOCREV','T40','Z32','Z33']]"
   ]
  },
  {
   "cell_type": "code",
   "execution_count": 78,
   "metadata": {},
   "outputs": [],
   "source": [
    "addtl_features = addtl_features.rename({'LEAID':'District_ID', 'TOTALREV':'Total_Revenue','TFEDREV':'Federal_Revenue','TSTREV':'State_Revenue','TLOCREV':'Local_Revenue','T40':'Income_Taxes','Z32':'Total_Salaries','Z33':'Instructional_Salaries'\n",
    "                                       },axis=1)"
   ]
  },
  {
   "cell_type": "code",
   "execution_count": 79,
   "metadata": {},
   "outputs": [],
   "source": [
    "df2 = df.merge(addtl_features, on='District_ID', how='inner')"
   ]
  },
  {
   "cell_type": "code",
   "execution_count": 80,
   "metadata": {
    "scrolled": true
   },
   "outputs": [
    {
     "data": {
      "text/html": [
       "<div>\n",
       "<style scoped>\n",
       "    .dataframe tbody tr th:only-of-type {\n",
       "        vertical-align: middle;\n",
       "    }\n",
       "\n",
       "    .dataframe tbody tr th {\n",
       "        vertical-align: top;\n",
       "    }\n",
       "\n",
       "    .dataframe thead th {\n",
       "        text-align: right;\n",
       "    }\n",
       "</style>\n",
       "<table border=\"1\" class=\"dataframe\">\n",
       "  <thead>\n",
       "    <tr style=\"text-align: right;\">\n",
       "      <th></th>\n",
       "      <th>School_ID</th>\n",
       "      <th>School_Name</th>\n",
       "      <th>District_Name</th>\n",
       "      <th>District_ID</th>\n",
       "      <th>City</th>\n",
       "      <th>State</th>\n",
       "      <th>Zip</th>\n",
       "      <th>Zip_Population</th>\n",
       "      <th>Density</th>\n",
       "      <th>Median_Income</th>\n",
       "      <th>Property_Taxes</th>\n",
       "      <th>Percent_Taxes</th>\n",
       "      <th>Per_Pupil_Spending</th>\n",
       "      <th>Per_Pupil_Support</th>\n",
       "      <th>Per_Pupil_Support_Staff</th>\n",
       "      <th>Per_Pupil_Salaries</th>\n",
       "      <th>Total_Students</th>\n",
       "      <th>Student_Teacher_Ratio</th>\n",
       "      <th>Title_I</th>\n",
       "      <th>Virtual</th>\n",
       "      <th>%_Proficient_Reading</th>\n",
       "      <th>Target</th>\n",
       "      <th>Level</th>\n",
       "      <th>Total_Revenue</th>\n",
       "      <th>Federal_Revenue</th>\n",
       "      <th>State_Revenue</th>\n",
       "      <th>Local_Revenue</th>\n",
       "      <th>Income_Taxes</th>\n",
       "      <th>Total_Salaries</th>\n",
       "      <th>Instructional_Salaries</th>\n",
       "    </tr>\n",
       "  </thead>\n",
       "  <tbody>\n",
       "    <tr>\n",
       "      <th>0</th>\n",
       "      <td>NC-32M-000</td>\n",
       "      <td>Global Scholars Academy</td>\n",
       "      <td>AUTAUGA COUNTY SCHOOL DISTRICT</td>\n",
       "      <td>3700316</td>\n",
       "      <td>Durham</td>\n",
       "      <td>NC</td>\n",
       "      <td>27701</td>\n",
       "      <td>63864</td>\n",
       "      <td>midsize</td>\n",
       "      <td>41566</td>\n",
       "      <td>7637</td>\n",
       "      <td>8.7</td>\n",
       "      <td>8600</td>\n",
       "      <td>512</td>\n",
       "      <td>241</td>\n",
       "      <td>3357</td>\n",
       "      <td>206</td>\n",
       "      <td>11.31</td>\n",
       "      <td>yes</td>\n",
       "      <td>no</td>\n",
       "      <td>30</td>\n",
       "      <td>0</td>\n",
       "      <td>Elementary</td>\n",
       "      <td>2855000</td>\n",
       "      <td>320000</td>\n",
       "      <td>1506000</td>\n",
       "      <td>1029000</td>\n",
       "      <td>-2</td>\n",
       "      <td>1875000</td>\n",
       "      <td>1165000</td>\n",
       "    </tr>\n",
       "    <tr>\n",
       "      <th>1</th>\n",
       "      <td>NC-320-310</td>\n",
       "      <td>Eastway Elementary</td>\n",
       "      <td>LOS ANGELES UNIF SCH DIST</td>\n",
       "      <td>3701260</td>\n",
       "      <td>Durham</td>\n",
       "      <td>NC</td>\n",
       "      <td>27701</td>\n",
       "      <td>63864</td>\n",
       "      <td>midsize</td>\n",
       "      <td>41566</td>\n",
       "      <td>2411346</td>\n",
       "      <td>24.4</td>\n",
       "      <td>15793</td>\n",
       "      <td>969</td>\n",
       "      <td>1189</td>\n",
       "      <td>5023</td>\n",
       "      <td>439</td>\n",
       "      <td>11.31</td>\n",
       "      <td>yes</td>\n",
       "      <td>no</td>\n",
       "      <td>11</td>\n",
       "      <td>0</td>\n",
       "      <td>Elementary</td>\n",
       "      <td>413911000</td>\n",
       "      <td>45699000</td>\n",
       "      <td>213378000</td>\n",
       "      <td>154834000</td>\n",
       "      <td>-2</td>\n",
       "      <td>247872000</td>\n",
       "      <td>166724000</td>\n",
       "    </tr>\n",
       "    <tr>\n",
       "      <th>2</th>\n",
       "      <td>NC-320-347</td>\n",
       "      <td>George Watts Elementary</td>\n",
       "      <td>WHITTIER CY SCHOOL DISTRICT</td>\n",
       "      <td>3701260</td>\n",
       "      <td>Durham</td>\n",
       "      <td>NC</td>\n",
       "      <td>27701</td>\n",
       "      <td>63864</td>\n",
       "      <td>midsize</td>\n",
       "      <td>41566</td>\n",
       "      <td>15097</td>\n",
       "      <td>18.2</td>\n",
       "      <td>12453</td>\n",
       "      <td>588</td>\n",
       "      <td>825</td>\n",
       "      <td>4813</td>\n",
       "      <td>363</td>\n",
       "      <td>11.86</td>\n",
       "      <td>yes</td>\n",
       "      <td>no</td>\n",
       "      <td>55</td>\n",
       "      <td>1</td>\n",
       "      <td>Elementary</td>\n",
       "      <td>413911000</td>\n",
       "      <td>45699000</td>\n",
       "      <td>213378000</td>\n",
       "      <td>154834000</td>\n",
       "      <td>-2</td>\n",
       "      <td>247872000</td>\n",
       "      <td>166724000</td>\n",
       "    </tr>\n",
       "    <tr>\n",
       "      <th>3</th>\n",
       "      <td>NC-320-323</td>\n",
       "      <td>Durham School of the Arts</td>\n",
       "      <td>CHARLES CO SCHS</td>\n",
       "      <td>3701260</td>\n",
       "      <td>Durham</td>\n",
       "      <td>NC</td>\n",
       "      <td>27701</td>\n",
       "      <td>63864</td>\n",
       "      <td>midsize</td>\n",
       "      <td>41566</td>\n",
       "      <td>0</td>\n",
       "      <td>46.0</td>\n",
       "      <td>14732</td>\n",
       "      <td>786</td>\n",
       "      <td>738</td>\n",
       "      <td>5595</td>\n",
       "      <td>1869</td>\n",
       "      <td>16.78</td>\n",
       "      <td>yes</td>\n",
       "      <td>yes</td>\n",
       "      <td>68</td>\n",
       "      <td>1</td>\n",
       "      <td>High</td>\n",
       "      <td>413911000</td>\n",
       "      <td>45699000</td>\n",
       "      <td>213378000</td>\n",
       "      <td>154834000</td>\n",
       "      <td>-2</td>\n",
       "      <td>247872000</td>\n",
       "      <td>166724000</td>\n",
       "    </tr>\n",
       "    <tr>\n",
       "      <th>4</th>\n",
       "      <td>NC-320-308</td>\n",
       "      <td>Burton Elementary</td>\n",
       "      <td>DANIEL MORGAN AREA VOCATIONAL CENTER</td>\n",
       "      <td>3701260</td>\n",
       "      <td>Durham</td>\n",
       "      <td>NC</td>\n",
       "      <td>27701</td>\n",
       "      <td>63864</td>\n",
       "      <td>midsize</td>\n",
       "      <td>41566</td>\n",
       "      <td>0</td>\n",
       "      <td>0.0</td>\n",
       "      <td>0</td>\n",
       "      <td>0</td>\n",
       "      <td>0</td>\n",
       "      <td>0</td>\n",
       "      <td>339</td>\n",
       "      <td>10.59</td>\n",
       "      <td>yes</td>\n",
       "      <td>no</td>\n",
       "      <td>40</td>\n",
       "      <td>0</td>\n",
       "      <td>Elementary</td>\n",
       "      <td>413911000</td>\n",
       "      <td>45699000</td>\n",
       "      <td>213378000</td>\n",
       "      <td>154834000</td>\n",
       "      <td>-2</td>\n",
       "      <td>247872000</td>\n",
       "      <td>166724000</td>\n",
       "    </tr>\n",
       "  </tbody>\n",
       "</table>\n",
       "</div>"
      ],
      "text/plain": [
       "    School_ID                School_Name  \\\n",
       "0  NC-32M-000    Global Scholars Academy   \n",
       "1  NC-320-310         Eastway Elementary   \n",
       "2  NC-320-347    George Watts Elementary   \n",
       "3  NC-320-323  Durham School of the Arts   \n",
       "4  NC-320-308          Burton Elementary   \n",
       "\n",
       "                          District_Name District_ID    City State    Zip  \\\n",
       "0        AUTAUGA COUNTY SCHOOL DISTRICT     3700316  Durham    NC  27701   \n",
       "1             LOS ANGELES UNIF SCH DIST     3701260  Durham    NC  27701   \n",
       "2           WHITTIER CY SCHOOL DISTRICT     3701260  Durham    NC  27701   \n",
       "3                       CHARLES CO SCHS     3701260  Durham    NC  27701   \n",
       "4  DANIEL MORGAN AREA VOCATIONAL CENTER     3701260  Durham    NC  27701   \n",
       "\n",
       "   Zip_Population  Density  Median_Income  Property_Taxes  Percent_Taxes  \\\n",
       "0           63864  midsize          41566            7637            8.7   \n",
       "1           63864  midsize          41566         2411346           24.4   \n",
       "2           63864  midsize          41566           15097           18.2   \n",
       "3           63864  midsize          41566               0           46.0   \n",
       "4           63864  midsize          41566               0            0.0   \n",
       "\n",
       "   Per_Pupil_Spending  Per_Pupil_Support  Per_Pupil_Support_Staff  \\\n",
       "0                8600                512                      241   \n",
       "1               15793                969                     1189   \n",
       "2               12453                588                      825   \n",
       "3               14732                786                      738   \n",
       "4                   0                  0                        0   \n",
       "\n",
       "   Per_Pupil_Salaries  Total_Students  Student_Teacher_Ratio Title_I Virtual  \\\n",
       "0                3357             206                  11.31     yes      no   \n",
       "1                5023             439                  11.31     yes      no   \n",
       "2                4813             363                  11.86     yes      no   \n",
       "3                5595            1869                  16.78     yes     yes   \n",
       "4                   0             339                  10.59     yes      no   \n",
       "\n",
       "   %_Proficient_Reading  Target       Level  Total_Revenue  Federal_Revenue  \\\n",
       "0                    30       0  Elementary        2855000           320000   \n",
       "1                    11       0  Elementary      413911000         45699000   \n",
       "2                    55       1  Elementary      413911000         45699000   \n",
       "3                    68       1        High      413911000         45699000   \n",
       "4                    40       0  Elementary      413911000         45699000   \n",
       "\n",
       "   State_Revenue  Local_Revenue  Income_Taxes  Total_Salaries  \\\n",
       "0        1506000        1029000            -2         1875000   \n",
       "1      213378000      154834000            -2       247872000   \n",
       "2      213378000      154834000            -2       247872000   \n",
       "3      213378000      154834000            -2       247872000   \n",
       "4      213378000      154834000            -2       247872000   \n",
       "\n",
       "   Instructional_Salaries  \n",
       "0                 1165000  \n",
       "1               166724000  \n",
       "2               166724000  \n",
       "3               166724000  \n",
       "4               166724000  "
      ]
     },
     "execution_count": 80,
     "metadata": {},
     "output_type": "execute_result"
    }
   ],
   "source": [
    "df2.head()"
   ]
  },
  {
   "cell_type": "markdown",
   "metadata": {},
   "source": [
    "### Transforming Dataframe with Additional Features "
   ]
  },
  {
   "cell_type": "code",
   "execution_count": 81,
   "metadata": {},
   "outputs": [],
   "source": [
    "#Splitting data into features and target\n",
    "#Dropping all identifier columns including zipcode - as median income is based on zipcode and is a good stand-in\n",
    "target2 = df2['Target']\n",
    "features2 = df2.drop(['School_ID','School_Name','District_Name','District_ID','Zip','City','Target'], axis=1)               "
   ]
  },
  {
   "cell_type": "code",
   "execution_count": 82,
   "metadata": {},
   "outputs": [],
   "source": [
    "#Performing train-test split\n",
    "X_train2, X_test2, y_train2, y_test2 = train_test_split(features2, target2, test_size=0.20, random_state=42)"
   ]
  },
  {
   "cell_type": "code",
   "execution_count": 83,
   "metadata": {
    "scrolled": true
   },
   "outputs": [],
   "source": [
    "#Join state helper dataframe with my training predictors and testing data\n",
    "X_train2 = pd.merge(state_averages, X_train2, how = 'inner', on='State').drop(['State','%_Proficient_Reading'], axis=1)\n",
    "X_test2 = pd.merge(state_averages, X_test2, how = 'inner', on='State').drop(['State','%_Proficient_Reading'], axis=1)"
   ]
  },
  {
   "cell_type": "code",
   "execution_count": 84,
   "metadata": {
    "scrolled": true
   },
   "outputs": [
    {
     "data": {
      "text/html": [
       "<div>\n",
       "<style scoped>\n",
       "    .dataframe tbody tr th:only-of-type {\n",
       "        vertical-align: middle;\n",
       "    }\n",
       "\n",
       "    .dataframe tbody tr th {\n",
       "        vertical-align: top;\n",
       "    }\n",
       "\n",
       "    .dataframe thead th {\n",
       "        text-align: right;\n",
       "    }\n",
       "</style>\n",
       "<table border=\"1\" class=\"dataframe\">\n",
       "  <thead>\n",
       "    <tr style=\"text-align: right;\">\n",
       "      <th></th>\n",
       "      <th>State_Avg_Reading</th>\n",
       "      <th>Zip_Population</th>\n",
       "      <th>Density</th>\n",
       "      <th>Median_Income</th>\n",
       "      <th>Property_Taxes</th>\n",
       "      <th>Percent_Taxes</th>\n",
       "      <th>Per_Pupil_Spending</th>\n",
       "      <th>Per_Pupil_Support</th>\n",
       "      <th>Per_Pupil_Support_Staff</th>\n",
       "      <th>Per_Pupil_Salaries</th>\n",
       "      <th>Total_Students</th>\n",
       "      <th>Student_Teacher_Ratio</th>\n",
       "      <th>Title_I</th>\n",
       "      <th>Virtual</th>\n",
       "      <th>Level</th>\n",
       "      <th>Total_Revenue</th>\n",
       "      <th>Federal_Revenue</th>\n",
       "      <th>State_Revenue</th>\n",
       "      <th>Local_Revenue</th>\n",
       "      <th>Income_Taxes</th>\n",
       "      <th>Total_Salaries</th>\n",
       "      <th>Instructional_Salaries</th>\n",
       "    </tr>\n",
       "  </thead>\n",
       "  <tbody>\n",
       "    <tr>\n",
       "      <th>0</th>\n",
       "      <td>31.931034</td>\n",
       "      <td>45996</td>\n",
       "      <td>midsize</td>\n",
       "      <td>167375</td>\n",
       "      <td>989357</td>\n",
       "      <td>47.9</td>\n",
       "      <td>10173</td>\n",
       "      <td>392</td>\n",
       "      <td>1145</td>\n",
       "      <td>3257</td>\n",
       "      <td>902</td>\n",
       "      <td>13.56</td>\n",
       "      <td>no</td>\n",
       "      <td>no</td>\n",
       "      <td>Elementary</td>\n",
       "      <td>1526358000</td>\n",
       "      <td>132899000</td>\n",
       "      <td>0</td>\n",
       "      <td>1393459000</td>\n",
       "      <td>-2</td>\n",
       "      <td>753686000</td>\n",
       "      <td>431471000</td>\n",
       "    </tr>\n",
       "    <tr>\n",
       "      <th>1</th>\n",
       "      <td>31.931034</td>\n",
       "      <td>157110</td>\n",
       "      <td>urban</td>\n",
       "      <td>90424</td>\n",
       "      <td>231098</td>\n",
       "      <td>19.2</td>\n",
       "      <td>13175</td>\n",
       "      <td>687</td>\n",
       "      <td>696</td>\n",
       "      <td>4720</td>\n",
       "      <td>399</td>\n",
       "      <td>12.00</td>\n",
       "      <td>yes</td>\n",
       "      <td>no</td>\n",
       "      <td>Elementary</td>\n",
       "      <td>1526358000</td>\n",
       "      <td>132899000</td>\n",
       "      <td>0</td>\n",
       "      <td>1393459000</td>\n",
       "      <td>-2</td>\n",
       "      <td>753686000</td>\n",
       "      <td>431471000</td>\n",
       "    </tr>\n",
       "    <tr>\n",
       "      <th>2</th>\n",
       "      <td>31.931034</td>\n",
       "      <td>34530</td>\n",
       "      <td>midsize</td>\n",
       "      <td>84484</td>\n",
       "      <td>3595</td>\n",
       "      <td>27.2</td>\n",
       "      <td>10928</td>\n",
       "      <td>340</td>\n",
       "      <td>395</td>\n",
       "      <td>5608</td>\n",
       "      <td>229</td>\n",
       "      <td>13.47</td>\n",
       "      <td>yes</td>\n",
       "      <td>no</td>\n",
       "      <td>Elementary</td>\n",
       "      <td>5614000</td>\n",
       "      <td>399000</td>\n",
       "      <td>0</td>\n",
       "      <td>5215000</td>\n",
       "      <td>-2</td>\n",
       "      <td>2390000</td>\n",
       "      <td>1487000</td>\n",
       "    </tr>\n",
       "    <tr>\n",
       "      <th>3</th>\n",
       "      <td>31.931034</td>\n",
       "      <td>50682</td>\n",
       "      <td>midsize</td>\n",
       "      <td>67279</td>\n",
       "      <td>6380</td>\n",
       "      <td>16.6</td>\n",
       "      <td>9999</td>\n",
       "      <td>906</td>\n",
       "      <td>594</td>\n",
       "      <td>3395</td>\n",
       "      <td>234</td>\n",
       "      <td>10.58</td>\n",
       "      <td>yes</td>\n",
       "      <td>no</td>\n",
       "      <td>Elementary</td>\n",
       "      <td>103320000</td>\n",
       "      <td>9720000</td>\n",
       "      <td>0</td>\n",
       "      <td>93600000</td>\n",
       "      <td>-2</td>\n",
       "      <td>52235000</td>\n",
       "      <td>31065000</td>\n",
       "    </tr>\n",
       "    <tr>\n",
       "      <th>4</th>\n",
       "      <td>31.931034</td>\n",
       "      <td>175608</td>\n",
       "      <td>urban</td>\n",
       "      <td>77931</td>\n",
       "      <td>142245</td>\n",
       "      <td>50.4</td>\n",
       "      <td>9183</td>\n",
       "      <td>531</td>\n",
       "      <td>534</td>\n",
       "      <td>4448</td>\n",
       "      <td>517</td>\n",
       "      <td>10.77</td>\n",
       "      <td>yes</td>\n",
       "      <td>no</td>\n",
       "      <td>Elementary</td>\n",
       "      <td>1526358000</td>\n",
       "      <td>132899000</td>\n",
       "      <td>0</td>\n",
       "      <td>1393459000</td>\n",
       "      <td>-2</td>\n",
       "      <td>753686000</td>\n",
       "      <td>431471000</td>\n",
       "    </tr>\n",
       "  </tbody>\n",
       "</table>\n",
       "</div>"
      ],
      "text/plain": [
       "   State_Avg_Reading  Zip_Population  Density  Median_Income  Property_Taxes  \\\n",
       "0          31.931034           45996  midsize         167375          989357   \n",
       "1          31.931034          157110    urban          90424          231098   \n",
       "2          31.931034           34530  midsize          84484            3595   \n",
       "3          31.931034           50682  midsize          67279            6380   \n",
       "4          31.931034          175608    urban          77931          142245   \n",
       "\n",
       "   Percent_Taxes  Per_Pupil_Spending  Per_Pupil_Support  \\\n",
       "0           47.9               10173                392   \n",
       "1           19.2               13175                687   \n",
       "2           27.2               10928                340   \n",
       "3           16.6                9999                906   \n",
       "4           50.4                9183                531   \n",
       "\n",
       "   Per_Pupil_Support_Staff  Per_Pupil_Salaries  Total_Students  \\\n",
       "0                     1145                3257             902   \n",
       "1                      696                4720             399   \n",
       "2                      395                5608             229   \n",
       "3                      594                3395             234   \n",
       "4                      534                4448             517   \n",
       "\n",
       "   Student_Teacher_Ratio Title_I Virtual       Level  Total_Revenue  \\\n",
       "0                  13.56      no      no  Elementary     1526358000   \n",
       "1                  12.00     yes      no  Elementary     1526358000   \n",
       "2                  13.47     yes      no  Elementary        5614000   \n",
       "3                  10.58     yes      no  Elementary      103320000   \n",
       "4                  10.77     yes      no  Elementary     1526358000   \n",
       "\n",
       "   Federal_Revenue  State_Revenue  Local_Revenue  Income_Taxes  \\\n",
       "0        132899000              0     1393459000            -2   \n",
       "1        132899000              0     1393459000            -2   \n",
       "2           399000              0        5215000            -2   \n",
       "3          9720000              0       93600000            -2   \n",
       "4        132899000              0     1393459000            -2   \n",
       "\n",
       "   Total_Salaries  Instructional_Salaries  \n",
       "0       753686000               431471000  \n",
       "1       753686000               431471000  \n",
       "2         2390000                 1487000  \n",
       "3        52235000                31065000  \n",
       "4       753686000               431471000  "
      ]
     },
     "execution_count": 84,
     "metadata": {},
     "output_type": "execute_result"
    }
   ],
   "source": [
    "X_train2.head()"
   ]
  },
  {
   "cell_type": "code",
   "execution_count": 85,
   "metadata": {
    "scrolled": false
   },
   "outputs": [],
   "source": [
    "#Deal with nulls in training and testing data\n",
    "X_train2 = X_train2.fillna(value = {\"Level\":\"Other\"})\n",
    "X_test2 = X_test2.fillna(value = {'Level':'Other'})"
   ]
  },
  {
   "cell_type": "code",
   "execution_count": 86,
   "metadata": {},
   "outputs": [],
   "source": [
    "#Putting X back together\n",
    "X2 = pd.concat([X_train2, X_test2], axis=0)"
   ]
  },
  {
   "cell_type": "code",
   "execution_count": 87,
   "metadata": {},
   "outputs": [],
   "source": [
    "#Now need to one-hot encode  categorical columns\n",
    "#Isolate categorical columns\n",
    "cats2 = X2[['Density','Title_I', 'Virtual','Level']]\n",
    "#Transform data\n",
    "cats2 = pd.get_dummies(cats2)"
   ]
  },
  {
   "cell_type": "code",
   "execution_count": 88,
   "metadata": {},
   "outputs": [],
   "source": [
    "#Merge with main dataframe on key values\n",
    "X_numeric2 = pd.concat([X2, cats2], axis=1)"
   ]
  },
  {
   "cell_type": "code",
   "execution_count": 89,
   "metadata": {},
   "outputs": [],
   "source": [
    "#Drop non-numeric categorical columns \n",
    "X_numeric2 = X_numeric2.drop(['Density','Title_I', 'Virtual','Level'], axis=1)"
   ]
  },
  {
   "cell_type": "code",
   "execution_count": 90,
   "metadata": {},
   "outputs": [],
   "source": [
    "#Have to re-do the train test split\n",
    "X_train2, X_test2, y_train2, y_test2 = train_test_split(X_numeric2, target2, test_size=0.20, random_state=42)"
   ]
  },
  {
   "cell_type": "markdown",
   "metadata": {},
   "source": [
    "### Scaling Data Again"
   ]
  },
  {
   "cell_type": "code",
   "execution_count": 91,
   "metadata": {},
   "outputs": [],
   "source": [
    "scaler = StandardScaler()\n",
    "# Train our scaler on training data, then fit to testing\n",
    "X_train_scaled2 = scaler.fit_transform(X_train2, y=None)\n",
    "X_test_scaled2 = scaler.transform(X_test2)"
   ]
  },
  {
   "cell_type": "markdown",
   "metadata": {},
   "source": [
    "### Logistic Regression Model with Additional Features"
   ]
  },
  {
   "cell_type": "code",
   "execution_count": 92,
   "metadata": {},
   "outputs": [
    {
     "data": {
      "text/plain": [
       "LogisticRegression()"
      ]
     },
     "execution_count": 92,
     "metadata": {},
     "output_type": "execute_result"
    }
   ],
   "source": [
    "logreg = LogisticRegression()\n",
    "logreg.fit(X_train2, y_train2)"
   ]
  },
  {
   "cell_type": "code",
   "execution_count": 93,
   "metadata": {
    "scrolled": true
   },
   "outputs": [
    {
     "data": {
      "text/plain": [
       "0.5112719039180941"
      ]
     },
     "execution_count": 93,
     "metadata": {},
     "output_type": "execute_result"
    }
   ],
   "source": [
    "logreg.score(X_train_scaled2, y_train2)"
   ]
  },
  {
   "cell_type": "code",
   "execution_count": 94,
   "metadata": {
    "scrolled": false
   },
   "outputs": [
    {
     "data": {
      "text/plain": [
       "0.5143700787401575"
      ]
     },
     "execution_count": 94,
     "metadata": {},
     "output_type": "execute_result"
    }
   ],
   "source": [
    "logreg.score(X_test_scaled2, y_test2)"
   ]
  },
  {
   "cell_type": "markdown",
   "metadata": {},
   "source": [
    "### KNN Model with Additional Features"
   ]
  },
  {
   "cell_type": "code",
   "execution_count": 95,
   "metadata": {},
   "outputs": [],
   "source": [
    "knn2 = KNeighborsClassifier(n_neighbors=3)\n",
    "knn2.fit(X_train_scaled2, y_train2)\n",
    "#Predictions for the testing set\n",
    "y_preds = knn2.predict(X_test_scaled2)"
   ]
  },
  {
   "cell_type": "code",
   "execution_count": 96,
   "metadata": {
    "scrolled": true
   },
   "outputs": [],
   "source": [
    "#fn.evaluate(knn2, X_train_scaled2, X_test_scaled2, y_train2, y_test2)"
   ]
  },
  {
   "cell_type": "markdown",
   "metadata": {},
   "source": [
    "### Random Forest Model with Additional Features"
   ]
  },
  {
   "cell_type": "code",
   "execution_count": 97,
   "metadata": {},
   "outputs": [],
   "source": [
    "rf2 = RandomForestClassifier(max_depth=5, n_estimators=100, random_state=0)\n",
    "rf2.fit(X_train_scaled2, y_train2)\n",
    "rf_preds2 = rf2.predict(X_test_scaled2) "
   ]
  },
  {
   "cell_type": "code",
   "execution_count": 98,
   "metadata": {
    "scrolled": false
   },
   "outputs": [
    {
     "name": "stdout",
     "output_type": "stream",
     "text": [
      "Train Scores\n",
      "------------\n",
      "Accuracy: 0.5567532978932861\n",
      "Precision: 0.5922836369167271\n",
      "F1 Score: 0.2589087317916221\n",
      "ROC-AUC: 0.603876244554181\n",
      "--------------------\n",
      "Test Scores\n",
      "-----------\n",
      "Accuracy: 0.5311023622047244\n",
      "Precision: 0.5307999018180948\n",
      "F1 Score: 0.21799080761654632\n",
      "ROC-AUC: 0.5335014447275213\n"
     ]
    },
    {
     "data": {
      "image/png": "[encoded data removed]",
      "text/plain": [
       "<Figure size 432x288 with 2 Axes>"
      ]
     },
     "metadata": {
      "needs_background": "light"
     },
     "output_type": "display_data"
    }
   ],
   "source": [
    "fn.evaluate(rf2, X_train_scaled2, X_test_scaled2, y_train2, y_test2)"
   ]
  },
  {
   "cell_type": "markdown",
   "metadata": {},
   "source": [
    "### Gradient Boosting Model with Additional Features"
   ]
  },
  {
   "cell_type": "code",
   "execution_count": 99,
   "metadata": {},
   "outputs": [],
   "source": [
    "gbmodel2 = GradientBoostingClassifier(n_estimators=100, learning_rate=1.0,\n",
    "max_depth=1, random_state=0).fit(X_train_scaled2, y_train2)"
   ]
  },
  {
   "cell_type": "code",
   "execution_count": 100,
   "metadata": {},
   "outputs": [],
   "source": [
    "gbmodel_preds2 = gbmodel2.predict(X_test_scaled2)"
   ]
  },
  {
   "cell_type": "code",
   "execution_count": 101,
   "metadata": {
    "scrolled": true
   },
   "outputs": [
    {
     "name": "stdout",
     "output_type": "stream",
     "text": [
      "Train Scores\n",
      "------------\n",
      "Accuracy: 0.5568517424689899\n",
      "Precision: 0.5563906065602169\n",
      "F1 Score: 0.44215874589503684\n",
      "ROC-AUC: 0.5817307743193432\n",
      "--------------------\n",
      "Test Scores\n",
      "-----------\n",
      "Accuracy: 0.5246062992125984\n",
      "Precision: 0.5191909489014496\n",
      "F1 Score: 0.39970171513795677\n",
      "ROC-AUC: 0.5289487665444603\n"
     ]
    },
    {
     "data": {
      "image/png": "[encoded data removed]",
      "text/plain": [
       "<Figure size 432x288 with 2 Axes>"
      ]
     },
     "metadata": {
      "needs_background": "light"
     },
     "output_type": "display_data"
    }
   ],
   "source": [
    "fn.evaluate(gbmodel2, X_train_scaled2, X_test_scaled2, y_train2, y_test2)"
   ]
  },
  {
   "cell_type": "markdown",
   "metadata": {},
   "source": [
    "### AdaBoost Model with Additional Features"
   ]
  },
  {
   "cell_type": "code",
   "execution_count": 102,
   "metadata": {},
   "outputs": [
    {
     "data": {
      "text/plain": [
       "AdaBoostClassifier()"
      ]
     },
     "execution_count": 102,
     "metadata": {},
     "output_type": "execute_result"
    }
   ],
   "source": [
    "ada2 = AdaBoostClassifier()\n",
    "ada2.fit(X_train_scaled2, y_train2)"
   ]
  },
  {
   "cell_type": "code",
   "execution_count": 103,
   "metadata": {},
   "outputs": [
    {
     "name": "stdout",
     "output_type": "stream",
     "text": [
      "Train Scores\n",
      "------------\n",
      "Accuracy: 0.5481886198070486\n",
      "Precision: 0.5473534302417666\n",
      "F1 Score: 0.4113384210863849\n",
      "ROC-AUC: 0.5665012367094673\n",
      "--------------------\n",
      "Test Scores\n",
      "-----------\n",
      "Accuracy: 0.5330708661417323\n",
      "Precision: 0.5286676185995957\n",
      "F1 Score: 0.39117043121149897\n",
      "ROC-AUC: 0.5327304573417013\n"
     ]
    },
    {
     "data": {
      "image/png": "[encoded data removed]",
      "text/plain": [
       "<Figure size 432x288 with 2 Axes>"
      ]
     },
     "metadata": {
      "needs_background": "light"
     },
     "output_type": "display_data"
    }
   ],
   "source": [
    "fn.evaluate(ada2, X_train_scaled2, X_test_scaled2, y_train2, y_test2)"
   ]
  },
  {
   "cell_type": "markdown",
   "metadata": {},
   "source": [
    "### Feature Importances with Additional Features"
   ]
  },
  {
   "cell_type": "code",
   "execution_count": 104,
   "metadata": {},
   "outputs": [],
   "source": [
    "importances2 = rf2.feature_importances_"
   ]
  },
  {
   "cell_type": "code",
   "execution_count": 105,
   "metadata": {},
   "outputs": [],
   "source": [
    "rf_importances2 = pd.DataFrame(index=X_test2.columns, data=importances2).sort_values(by=0,ascending=False)"
   ]
  },
  {
   "cell_type": "code",
   "execution_count": 106,
   "metadata": {
    "scrolled": true
   },
   "outputs": [
    {
     "data": {
      "image/png": "[encoded data removed]",
      "text/plain": [
       "<Figure size 432x288 with 1 Axes>"
      ]
     },
     "metadata": {
      "needs_background": "light"
     },
     "output_type": "display_data"
    }
   ],
   "source": [
    "# plot feature importance\n",
    "rf_importances2.plot(kind='bar', legend=False, color='darkorange');"
   ]
  },
  {
   "cell_type": "markdown",
   "metadata": {},
   "source": [
    "### Logistic Regression Model Tuning"
   ]
  },
  {
   "cell_type": "code",
   "execution_count": 107,
   "metadata": {},
   "outputs": [
    {
     "data": {
      "text/plain": [
       "LogisticRegression(C=0.1, penalty='l1', solver='liblinear')"
      ]
     },
     "execution_count": 107,
     "metadata": {},
     "output_type": "execute_result"
    }
   ],
   "source": [
    "# Perform GridSearchCV to tune best-fit LR model\n",
    "param = {'C': [10**-2,10**-1,10**0,10**1,10**2]}\n",
    "\n",
    "lr_model3 = LogisticRegression(penalty='l1', solver='liblinear')\n",
    "gs_model = GridSearchCV(estimator=lr_model3, param_grid=param)\n",
    "gs_model.fit(X_train_scaled2, y_train2)\n",
    "\n",
    "# Train a LR model with best parameters\n",
    "model3 = LogisticRegression(**gs_model.best_params_, penalty='l1', solver='liblinear')\n",
    "model3.fit(X_train_scaled2, y_train2)"
   ]
  },
  {
   "cell_type": "code",
   "execution_count": 108,
   "metadata": {},
   "outputs": [
    {
     "data": {
      "text/plain": [
       "0.526776924591455"
      ]
     },
     "execution_count": 108,
     "metadata": {},
     "output_type": "execute_result"
    }
   ],
   "source": [
    "model3.score(X_train_scaled2, y_train2)"
   ]
  },
  {
   "cell_type": "code",
   "execution_count": 109,
   "metadata": {
    "scrolled": false
   },
   "outputs": [
    {
     "data": {
      "text/plain": [
       "0.5143700787401575"
      ]
     },
     "execution_count": 109,
     "metadata": {},
     "output_type": "execute_result"
    }
   ],
   "source": [
    "logreg.score(X_test_scaled2, y_test2)"
   ]
  },
  {
   "cell_type": "code",
   "execution_count": 110,
   "metadata": {},
   "outputs": [
    {
     "data": {
      "text/plain": [
       "array([ 2.67298852e-02, -1.62407796e-03,  9.58910771e-03, -1.52679611e-02,\n",
       "        1.02067712e-02, -6.79557743e-03,  1.09227791e-02,  0.00000000e+00,\n",
       "       -1.99618446e-03, -2.25262777e-02, -1.19730073e-02,  0.00000000e+00,\n",
       "       -7.61796881e-02,  7.45956195e-02, -1.79029744e-02,  0.00000000e+00,\n",
       "        0.00000000e+00,  0.00000000e+00,  3.03859221e-02, -4.58705693e-04,\n",
       "        1.81287795e-03, -1.94485770e-03, -3.63177088e-02,  3.41608791e-07,\n",
       "       -5.33457132e-04,  0.00000000e+00,  2.62187646e-03, -6.91108267e-03])"
      ]
     },
     "execution_count": 110,
     "metadata": {},
     "output_type": "execute_result"
    }
   ],
   "source": [
    "coef = model3.coef_[0]\n",
    "coef"
   ]
  },
  {
   "cell_type": "code",
   "execution_count": 111,
   "metadata": {},
   "outputs": [],
   "source": [
    "coef = model3.coef_[0]\n",
    "imp_features = pd.Series(X_test2.columns)[list(coef!=0)]\n",
    "X_train3 = X_train2[imp_features]\n",
    "X_test3 = X_test2[imp_features]"
   ]
  },
  {
   "cell_type": "code",
   "execution_count": 112,
   "metadata": {},
   "outputs": [
    {
     "name": "stdout",
     "output_type": "stream",
     "text": [
      "Redundant Feature Names: ['Per_Pupil_Support_Staff', 'Total_Revenue', 'Income_Taxes', 'Total_Salaries', 'Instructional_Salaries', 'Level_High']\n"
     ]
    }
   ],
   "source": [
    "print('Redundant Feature Names:', list(pd.Series(X_test2.columns[list(coef==0)])))"
   ]
  },
  {
   "cell_type": "code",
   "execution_count": 113,
   "metadata": {},
   "outputs": [],
   "source": [
    "# Trying logistic regression model without redundant features\n",
    "X_train_scaled3 = scaler.fit_transform(X_train2, y=None)\n",
    "X_test_scaled3 = scaler.transform(X_test2)"
   ]
  },
  {
   "cell_type": "code",
   "execution_count": 114,
   "metadata": {},
   "outputs": [
    {
     "data": {
      "text/plain": [
       "LogisticRegression()"
      ]
     },
     "execution_count": 114,
     "metadata": {},
     "output_type": "execute_result"
    }
   ],
   "source": [
    "logreg3 = LogisticRegression()\n",
    "logreg3.fit(X_train_scaled3, y_train2)"
   ]
  },
  {
   "cell_type": "code",
   "execution_count": 115,
   "metadata": {
    "scrolled": true
   },
   "outputs": [
    {
     "data": {
      "text/plain": [
       "0.5112719039180941"
      ]
     },
     "execution_count": 115,
     "metadata": {},
     "output_type": "execute_result"
    }
   ],
   "source": [
    "logreg.score(X_train_scaled3, y_train2)"
   ]
  },
  {
   "cell_type": "code",
   "execution_count": 116,
   "metadata": {
    "scrolled": false
   },
   "outputs": [
    {
     "data": {
      "text/plain": [
       "0.5143700787401575"
      ]
     },
     "execution_count": 116,
     "metadata": {},
     "output_type": "execute_result"
    }
   ],
   "source": [
    "logreg.score(X_test_scaled3, y_test2)"
   ]
  },
  {
   "cell_type": "markdown",
   "metadata": {},
   "source": [
    "### Adding Even More Data"
   ]
  },
  {
   "cell_type": "markdown",
   "metadata": {},
   "source": [
    "Since I'm not having a lot of luck with adding just a handful of features that I think are the most important, I'm going to add in all of the financial data I currently have to see if that improves my model. "
   ]
  },
  {
   "cell_type": "code",
   "execution_count": 117,
   "metadata": {},
   "outputs": [
    {
     "data": {
      "text/html": [
       "<div>\n",
       "<style scoped>\n",
       "    .dataframe tbody tr th:only-of-type {\n",
       "        vertical-align: middle;\n",
       "    }\n",
       "\n",
       "    .dataframe tbody tr th {\n",
       "        vertical-align: top;\n",
       "    }\n",
       "\n",
       "    .dataframe thead th {\n",
       "        text-align: right;\n",
       "    }\n",
       "</style>\n",
       "<table border=\"1\" class=\"dataframe\">\n",
       "  <thead>\n",
       "    <tr style=\"text-align: right;\">\n",
       "      <th></th>\n",
       "      <th>LEAID</th>\n",
       "      <th>CENSUSID</th>\n",
       "      <th>FIPST</th>\n",
       "      <th>CONUM</th>\n",
       "      <th>CSA</th>\n",
       "      <th>CBSA</th>\n",
       "      <th>NAME</th>\n",
       "      <th>STNAME</th>\n",
       "      <th>STABBR</th>\n",
       "      <th>SCHLEV</th>\n",
       "      <th>AGCHRT</th>\n",
       "      <th>YEAR</th>\n",
       "      <th>CCDNF</th>\n",
       "      <th>CENFILE</th>\n",
       "      <th>GSLO</th>\n",
       "      <th>GSHI</th>\n",
       "      <th>V33</th>\n",
       "      <th>MEMBERSCH</th>\n",
       "      <th>TOTALREV</th>\n",
       "      <th>TFEDREV</th>\n",
       "      <th>C14</th>\n",
       "      <th>C15</th>\n",
       "      <th>C16</th>\n",
       "      <th>C17</th>\n",
       "      <th>C19</th>\n",
       "      <th>B11</th>\n",
       "      <th>C20</th>\n",
       "      <th>C25</th>\n",
       "      <th>C36</th>\n",
       "      <th>B10</th>\n",
       "      <th>B12</th>\n",
       "      <th>B13</th>\n",
       "      <th>TSTREV</th>\n",
       "      <th>C01</th>\n",
       "      <th>C04</th>\n",
       "      <th>C05</th>\n",
       "      <th>C06</th>\n",
       "      <th>C07</th>\n",
       "      <th>C08</th>\n",
       "      <th>C09</th>\n",
       "      <th>C10</th>\n",
       "      <th>C11</th>\n",
       "      <th>C12</th>\n",
       "      <th>C13</th>\n",
       "      <th>C35</th>\n",
       "      <th>C38</th>\n",
       "      <th>C39</th>\n",
       "      <th>TLOCREV</th>\n",
       "      <th>T02</th>\n",
       "      <th>T06</th>\n",
       "      <th>T09</th>\n",
       "      <th>T15</th>\n",
       "      <th>T40</th>\n",
       "      <th>T99</th>\n",
       "      <th>D11</th>\n",
       "      <th>D23</th>\n",
       "      <th>A07</th>\n",
       "      <th>A08</th>\n",
       "      <th>A09</th>\n",
       "      <th>A11</th>\n",
       "      <th>A13</th>\n",
       "      <th>A15</th>\n",
       "      <th>A20</th>\n",
       "      <th>A40</th>\n",
       "      <th>U11</th>\n",
       "      <th>U22</th>\n",
       "      <th>U30</th>\n",
       "      <th>U50</th>\n",
       "      <th>U97</th>\n",
       "      <th>C24</th>\n",
       "      <th>TOTALEXP</th>\n",
       "      <th>TCURELSC</th>\n",
       "      <th>TCURINST</th>\n",
       "      <th>E13</th>\n",
       "      <th>V91</th>\n",
       "      <th>V92</th>\n",
       "      <th>TCURSSVC</th>\n",
       "      <th>E17</th>\n",
       "      <th>E07</th>\n",
       "      <th>E08</th>\n",
       "      <th>E09</th>\n",
       "      <th>V40</th>\n",
       "      <th>V45</th>\n",
       "      <th>V90</th>\n",
       "      <th>V85</th>\n",
       "      <th>TCUROTH</th>\n",
       "      <th>E11</th>\n",
       "      <th>V60</th>\n",
       "      <th>V65</th>\n",
       "      <th>TNONELSE</th>\n",
       "      <th>V70</th>\n",
       "      <th>V75</th>\n",
       "      <th>V80</th>\n",
       "      <th>TCAPOUT</th>\n",
       "      <th>F12</th>\n",
       "      <th>G15</th>\n",
       "      <th>K09</th>\n",
       "      <th>K10</th>\n",
       "      <th>K11</th>\n",
       "      <th>L12</th>\n",
       "      <th>M12</th>\n",
       "      <th>Q11</th>\n",
       "      <th>I86</th>\n",
       "      <th>Z32</th>\n",
       "      <th>Z33</th>\n",
       "      <th>Z35</th>\n",
       "      <th>Z36</th>\n",
       "      <th>Z37</th>\n",
       "      <th>Z38</th>\n",
       "      <th>V11</th>\n",
       "      <th>V13</th>\n",
       "      <th>V15</th>\n",
       "      <th>V17</th>\n",
       "      <th>V21</th>\n",
       "      <th>V23</th>\n",
       "      <th>V37</th>\n",
       "      <th>V29</th>\n",
       "      <th>Z34</th>\n",
       "      <th>V10</th>\n",
       "      <th>V12</th>\n",
       "      <th>V14</th>\n",
       "      <th>V16</th>\n",
       "      <th>V18</th>\n",
       "      <th>V22</th>\n",
       "      <th>V24</th>\n",
       "      <th>V38</th>\n",
       "      <th>V30</th>\n",
       "      <th>V32</th>\n",
       "      <th>V93</th>\n",
       "      <th>_19H</th>\n",
       "      <th>_21F</th>\n",
       "      <th>_31F</th>\n",
       "      <th>_41F</th>\n",
       "      <th>_61V</th>\n",
       "      <th>_66V</th>\n",
       "      <th>W01</th>\n",
       "      <th>W31</th>\n",
       "      <th>W61</th>\n",
       "      <th>V95</th>\n",
       "      <th>V02</th>\n",
       "      <th>K14</th>\n",
       "      <th>CE1</th>\n",
       "      <th>CE2</th>\n",
       "      <th>CE3</th>\n",
       "      <th>WEIGHT</th>\n",
       "      <th>FL_V33</th>\n",
       "      <th>FL_MEMBERSCH</th>\n",
       "      <th>FL_C14</th>\n",
       "      <th>FL_C15</th>\n",
       "      <th>FL_C16</th>\n",
       "      <th>FL_C17</th>\n",
       "      <th>FL_C19</th>\n",
       "      <th>FL_B11</th>\n",
       "      <th>FL_C20</th>\n",
       "      <th>FL_C25</th>\n",
       "      <th>FL_C36</th>\n",
       "      <th>FL_B10</th>\n",
       "      <th>FL_B12</th>\n",
       "      <th>FL_B13</th>\n",
       "      <th>FL_C01</th>\n",
       "      <th>FL_C04</th>\n",
       "      <th>FL_C05</th>\n",
       "      <th>FL_C06</th>\n",
       "      <th>FL_C07</th>\n",
       "      <th>FL_C08</th>\n",
       "      <th>FL_C09</th>\n",
       "      <th>FL_C10</th>\n",
       "      <th>FL_C11</th>\n",
       "      <th>FL_C12</th>\n",
       "      <th>FL_C13</th>\n",
       "      <th>FL_C35</th>\n",
       "      <th>FL_C38</th>\n",
       "      <th>FL_C39</th>\n",
       "      <th>FL_T02</th>\n",
       "      <th>FL_T06</th>\n",
       "      <th>FL_T09</th>\n",
       "      <th>FL_T15</th>\n",
       "      <th>FL_T40</th>\n",
       "      <th>FL_T99</th>\n",
       "      <th>FL_D11</th>\n",
       "      <th>FL_D23</th>\n",
       "      <th>FL_A07</th>\n",
       "      <th>FL_A08</th>\n",
       "      <th>FL_A09</th>\n",
       "      <th>FL_A11</th>\n",
       "      <th>FL_A13</th>\n",
       "      <th>FL_A15</th>\n",
       "      <th>FL_A20</th>\n",
       "      <th>FL_A40</th>\n",
       "      <th>FL_U11</th>\n",
       "      <th>FL_U22</th>\n",
       "      <th>FL_U30</th>\n",
       "      <th>FL_U50</th>\n",
       "      <th>FL_U97</th>\n",
       "      <th>FL_C24</th>\n",
       "      <th>FL_E13</th>\n",
       "      <th>FL_V91</th>\n",
       "      <th>FL_V92</th>\n",
       "      <th>FL_E17</th>\n",
       "      <th>FL_E07</th>\n",
       "      <th>FL_E08</th>\n",
       "      <th>FL_E09</th>\n",
       "      <th>FL_V40</th>\n",
       "      <th>FL_V45</th>\n",
       "      <th>FL_V90</th>\n",
       "      <th>FL_V85</th>\n",
       "      <th>FL_E11</th>\n",
       "      <th>FL_V60</th>\n",
       "      <th>FL_V65</th>\n",
       "      <th>FL_V70</th>\n",
       "      <th>FL_V75</th>\n",
       "      <th>FL_V80</th>\n",
       "      <th>FL_F12</th>\n",
       "      <th>FL_G15</th>\n",
       "      <th>FL_K09</th>\n",
       "      <th>FL_K10</th>\n",
       "      <th>FL_K11</th>\n",
       "      <th>FL_L12</th>\n",
       "      <th>FL_M12</th>\n",
       "      <th>FL_Q11</th>\n",
       "      <th>FL_I86</th>\n",
       "      <th>FL_Z32</th>\n",
       "      <th>FL_Z33</th>\n",
       "      <th>FL_Z35</th>\n",
       "      <th>FL_Z36</th>\n",
       "      <th>FL_Z37</th>\n",
       "      <th>FL_Z38</th>\n",
       "      <th>FL_V11</th>\n",
       "      <th>FL_V13</th>\n",
       "      <th>FL_V15</th>\n",
       "      <th>FL_V17</th>\n",
       "      <th>FL_V21</th>\n",
       "      <th>FL_V23</th>\n",
       "      <th>FL_V37</th>\n",
       "      <th>FL_V29</th>\n",
       "      <th>FL_Z34</th>\n",
       "      <th>FL_V10</th>\n",
       "      <th>FL_V12</th>\n",
       "      <th>FL_V14</th>\n",
       "      <th>FL_V16</th>\n",
       "      <th>FL_V18</th>\n",
       "      <th>FL_V22</th>\n",
       "      <th>FL_V24</th>\n",
       "      <th>FL_V38</th>\n",
       "      <th>FL_V30</th>\n",
       "      <th>FL_V32</th>\n",
       "      <th>FL_V93</th>\n",
       "      <th>FL_19H</th>\n",
       "      <th>FL_21F</th>\n",
       "      <th>FL_31F</th>\n",
       "      <th>FL_41F</th>\n",
       "      <th>FL_61V</th>\n",
       "      <th>FL_66V</th>\n",
       "      <th>FL_W01</th>\n",
       "      <th>FL_W31</th>\n",
       "      <th>FL_W61</th>\n",
       "      <th>FL_V95</th>\n",
       "      <th>FL_V02</th>\n",
       "      <th>FL_K14</th>\n",
       "      <th>FL_CE1</th>\n",
       "      <th>FL_CE2</th>\n",
       "      <th>FL_CE3</th>\n",
       "    </tr>\n",
       "  </thead>\n",
       "  <tbody>\n",
       "    <tr>\n",
       "      <th>0</th>\n",
       "      <td>100002</td>\n",
       "      <td>N</td>\n",
       "      <td>1</td>\n",
       "      <td>1073</td>\n",
       "      <td>142</td>\n",
       "      <td>13820</td>\n",
       "      <td>Alabama Youth Services</td>\n",
       "      <td>Alabama</td>\n",
       "      <td>AL</td>\n",
       "      <td>N</td>\n",
       "      <td>N</td>\n",
       "      <td>19</td>\n",
       "      <td>1</td>\n",
       "      <td>0</td>\n",
       "      <td>03</td>\n",
       "      <td>12</td>\n",
       "      <td>-2</td>\n",
       "      <td>-2</td>\n",
       "      <td>-1</td>\n",
       "      <td>-1</td>\n",
       "      <td>-1</td>\n",
       "      <td>-1</td>\n",
       "      <td>-1</td>\n",
       "      <td>-1</td>\n",
       "      <td>-1</td>\n",
       "      <td>-1</td>\n",
       "      <td>-1</td>\n",
       "      <td>-1</td>\n",
       "      <td>-1</td>\n",
       "      <td>-1</td>\n",
       "      <td>-1</td>\n",
       "      <td>-1</td>\n",
       "      <td>-1</td>\n",
       "      <td>-1</td>\n",
       "      <td>-1</td>\n",
       "      <td>-1</td>\n",
       "      <td>-1</td>\n",
       "      <td>-1</td>\n",
       "      <td>-1</td>\n",
       "      <td>-1</td>\n",
       "      <td>-1</td>\n",
       "      <td>-1</td>\n",
       "      <td>-1</td>\n",
       "      <td>-1</td>\n",
       "      <td>-1</td>\n",
       "      <td>-1</td>\n",
       "      <td>-1</td>\n",
       "      <td>-1</td>\n",
       "      <td>-2</td>\n",
       "      <td>-2</td>\n",
       "      <td>-2</td>\n",
       "      <td>-2</td>\n",
       "      <td>-2</td>\n",
       "      <td>-2</td>\n",
       "      <td>-1</td>\n",
       "      <td>-1</td>\n",
       "      <td>-1</td>\n",
       "      <td>-1</td>\n",
       "      <td>-1</td>\n",
       "      <td>-1</td>\n",
       "      <td>-1</td>\n",
       "      <td>-1</td>\n",
       "      <td>-1</td>\n",
       "      <td>-1</td>\n",
       "      <td>-1</td>\n",
       "      <td>-1</td>\n",
       "      <td>-1</td>\n",
       "      <td>-1</td>\n",
       "      <td>-1</td>\n",
       "      <td>-1</td>\n",
       "      <td>-1</td>\n",
       "      <td>-1</td>\n",
       "      <td>-1</td>\n",
       "      <td>-1</td>\n",
       "      <td>-1</td>\n",
       "      <td>-1</td>\n",
       "      <td>-1</td>\n",
       "      <td>-1</td>\n",
       "      <td>-1</td>\n",
       "      <td>-1</td>\n",
       "      <td>-1</td>\n",
       "      <td>-1</td>\n",
       "      <td>-1</td>\n",
       "      <td>-1</td>\n",
       "      <td>-1</td>\n",
       "      <td>-1</td>\n",
       "      <td>-1</td>\n",
       "      <td>-1</td>\n",
       "      <td>-1</td>\n",
       "      <td>-1</td>\n",
       "      <td>-1</td>\n",
       "      <td>-1</td>\n",
       "      <td>-1</td>\n",
       "      <td>-1</td>\n",
       "      <td>-1</td>\n",
       "      <td>-1</td>\n",
       "      <td>-1</td>\n",
       "      <td>-1</td>\n",
       "      <td>-1</td>\n",
       "      <td>-1</td>\n",
       "      <td>-1</td>\n",
       "      <td>-1</td>\n",
       "      <td>-1</td>\n",
       "      <td>-1</td>\n",
       "      <td>-1</td>\n",
       "      <td>-1</td>\n",
       "      <td>-1</td>\n",
       "      <td>-1</td>\n",
       "      <td>-1</td>\n",
       "      <td>-1</td>\n",
       "      <td>-1</td>\n",
       "      <td>-1</td>\n",
       "      <td>-1</td>\n",
       "      <td>-1</td>\n",
       "      <td>-1</td>\n",
       "      <td>-1</td>\n",
       "      <td>-1</td>\n",
       "      <td>-1</td>\n",
       "      <td>-1</td>\n",
       "      <td>-1</td>\n",
       "      <td>-1</td>\n",
       "      <td>-1</td>\n",
       "      <td>-1</td>\n",
       "      <td>-1</td>\n",
       "      <td>-1</td>\n",
       "      <td>-1</td>\n",
       "      <td>-1</td>\n",
       "      <td>-1</td>\n",
       "      <td>-1</td>\n",
       "      <td>-1</td>\n",
       "      <td>-1</td>\n",
       "      <td>-1</td>\n",
       "      <td>-1</td>\n",
       "      <td>-1</td>\n",
       "      <td>-1</td>\n",
       "      <td>-1</td>\n",
       "      <td>-1</td>\n",
       "      <td>-1</td>\n",
       "      <td>-1</td>\n",
       "      <td>-1</td>\n",
       "      <td>-1</td>\n",
       "      <td>-1</td>\n",
       "      <td>-1</td>\n",
       "      <td>-1</td>\n",
       "      <td>1</td>\n",
       "      <td>N</td>\n",
       "      <td>N</td>\n",
       "      <td>M</td>\n",
       "      <td>M</td>\n",
       "      <td>M</td>\n",
       "      <td>M</td>\n",
       "      <td>M</td>\n",
       "      <td>M</td>\n",
       "      <td>M</td>\n",
       "      <td>M</td>\n",
       "      <td>M</td>\n",
       "      <td>M</td>\n",
       "      <td>M</td>\n",
       "      <td>M</td>\n",
       "      <td>M</td>\n",
       "      <td>M</td>\n",
       "      <td>M</td>\n",
       "      <td>M</td>\n",
       "      <td>M</td>\n",
       "      <td>M</td>\n",
       "      <td>M</td>\n",
       "      <td>M</td>\n",
       "      <td>M</td>\n",
       "      <td>M</td>\n",
       "      <td>M</td>\n",
       "      <td>M</td>\n",
       "      <td>M</td>\n",
       "      <td>M</td>\n",
       "      <td>N</td>\n",
       "      <td>N</td>\n",
       "      <td>N</td>\n",
       "      <td>N</td>\n",
       "      <td>N</td>\n",
       "      <td>N</td>\n",
       "      <td>M</td>\n",
       "      <td>M</td>\n",
       "      <td>M</td>\n",
       "      <td>M</td>\n",
       "      <td>M</td>\n",
       "      <td>M</td>\n",
       "      <td>M</td>\n",
       "      <td>M</td>\n",
       "      <td>M</td>\n",
       "      <td>M</td>\n",
       "      <td>M</td>\n",
       "      <td>M</td>\n",
       "      <td>M</td>\n",
       "      <td>M</td>\n",
       "      <td>M</td>\n",
       "      <td>M</td>\n",
       "      <td>M</td>\n",
       "      <td>M</td>\n",
       "      <td>M</td>\n",
       "      <td>M</td>\n",
       "      <td>M</td>\n",
       "      <td>M</td>\n",
       "      <td>M</td>\n",
       "      <td>M</td>\n",
       "      <td>M</td>\n",
       "      <td>M</td>\n",
       "      <td>M</td>\n",
       "      <td>M</td>\n",
       "      <td>M</td>\n",
       "      <td>M</td>\n",
       "      <td>M</td>\n",
       "      <td>M</td>\n",
       "      <td>M</td>\n",
       "      <td>M</td>\n",
       "      <td>M</td>\n",
       "      <td>M</td>\n",
       "      <td>M</td>\n",
       "      <td>M</td>\n",
       "      <td>M</td>\n",
       "      <td>M</td>\n",
       "      <td>M</td>\n",
       "      <td>M</td>\n",
       "      <td>M</td>\n",
       "      <td>M</td>\n",
       "      <td>M</td>\n",
       "      <td>M</td>\n",
       "      <td>M</td>\n",
       "      <td>M</td>\n",
       "      <td>M</td>\n",
       "      <td>M</td>\n",
       "      <td>M</td>\n",
       "      <td>M</td>\n",
       "      <td>M</td>\n",
       "      <td>M</td>\n",
       "      <td>M</td>\n",
       "      <td>M</td>\n",
       "      <td>M</td>\n",
       "      <td>M</td>\n",
       "      <td>M</td>\n",
       "      <td>M</td>\n",
       "      <td>M</td>\n",
       "      <td>M</td>\n",
       "      <td>M</td>\n",
       "      <td>M</td>\n",
       "      <td>M</td>\n",
       "      <td>M</td>\n",
       "      <td>M</td>\n",
       "      <td>M</td>\n",
       "      <td>M</td>\n",
       "      <td>M</td>\n",
       "      <td>M</td>\n",
       "      <td>M</td>\n",
       "      <td>M</td>\n",
       "      <td>M</td>\n",
       "      <td>M</td>\n",
       "      <td>M</td>\n",
       "      <td>M</td>\n",
       "      <td>M</td>\n",
       "      <td>M</td>\n",
       "      <td>M</td>\n",
       "      <td>M</td>\n",
       "      <td>M</td>\n",
       "      <td>M</td>\n",
       "    </tr>\n",
       "    <tr>\n",
       "      <th>1</th>\n",
       "      <td>100005</td>\n",
       "      <td>01504840100000</td>\n",
       "      <td>1</td>\n",
       "      <td>1095</td>\n",
       "      <td>290</td>\n",
       "      <td>10700</td>\n",
       "      <td>Albertville City</td>\n",
       "      <td>Alabama</td>\n",
       "      <td>AL</td>\n",
       "      <td>03</td>\n",
       "      <td>3</td>\n",
       "      <td>19</td>\n",
       "      <td>1</td>\n",
       "      <td>1</td>\n",
       "      <td>PK</td>\n",
       "      <td>12</td>\n",
       "      <td>5636</td>\n",
       "      <td>5636</td>\n",
       "      <td>60116000</td>\n",
       "      <td>7939000</td>\n",
       "      <td>2439000</td>\n",
       "      <td>1134000</td>\n",
       "      <td>240000</td>\n",
       "      <td>0</td>\n",
       "      <td>101000</td>\n",
       "      <td>103000</td>\n",
       "      <td>412000</td>\n",
       "      <td>3467000</td>\n",
       "      <td>0</td>\n",
       "      <td>0</td>\n",
       "      <td>0</td>\n",
       "      <td>43000</td>\n",
       "      <td>36177000</td>\n",
       "      <td>29411000</td>\n",
       "      <td>78000</td>\n",
       "      <td>0</td>\n",
       "      <td>293000</td>\n",
       "      <td>97000</td>\n",
       "      <td>0</td>\n",
       "      <td>0</td>\n",
       "      <td>0</td>\n",
       "      <td>1555000</td>\n",
       "      <td>2275000</td>\n",
       "      <td>2468000</td>\n",
       "      <td>0</td>\n",
       "      <td>0</td>\n",
       "      <td>0</td>\n",
       "      <td>16000000</td>\n",
       "      <td>-2</td>\n",
       "      <td>5787000</td>\n",
       "      <td>0</td>\n",
       "      <td>0</td>\n",
       "      <td>0</td>\n",
       "      <td>430000</td>\n",
       "      <td>17000</td>\n",
       "      <td>5400000</td>\n",
       "      <td>93000</td>\n",
       "      <td>0</td>\n",
       "      <td>232000</td>\n",
       "      <td>0</td>\n",
       "      <td>1631000</td>\n",
       "      <td>0</td>\n",
       "      <td>366000</td>\n",
       "      <td>122000</td>\n",
       "      <td>78000</td>\n",
       "      <td>345000</td>\n",
       "      <td>2000</td>\n",
       "      <td>131000</td>\n",
       "      <td>1366000</td>\n",
       "      <td>0</td>\n",
       "      <td>55237000</td>\n",
       "      <td>49715000</td>\n",
       "      <td>28612000</td>\n",
       "      <td>28612000</td>\n",
       "      <td>0</td>\n",
       "      <td>0</td>\n",
       "      <td>17262000</td>\n",
       "      <td>3619000</td>\n",
       "      <td>1453000</td>\n",
       "      <td>1470000</td>\n",
       "      <td>2652000</td>\n",
       "      <td>4401000</td>\n",
       "      <td>2796000</td>\n",
       "      <td>871000</td>\n",
       "      <td>0</td>\n",
       "      <td>3841000</td>\n",
       "      <td>3841000</td>\n",
       "      <td>0</td>\n",
       "      <td>0</td>\n",
       "      <td>949000</td>\n",
       "      <td>150000</td>\n",
       "      <td>198000</td>\n",
       "      <td>601000</td>\n",
       "      <td>2750000</td>\n",
       "      <td>2351000</td>\n",
       "      <td>0</td>\n",
       "      <td>120000</td>\n",
       "      <td>279000</td>\n",
       "      <td>0</td>\n",
       "      <td>0</td>\n",
       "      <td>0</td>\n",
       "      <td>86000</td>\n",
       "      <td>1737000</td>\n",
       "      <td>26349000</td>\n",
       "      <td>16897000</td>\n",
       "      <td>13210000</td>\n",
       "      <td>838000</td>\n",
       "      <td>1089000</td>\n",
       "      <td>505000</td>\n",
       "      <td>2091000</td>\n",
       "      <td>794000</td>\n",
       "      <td>752000</td>\n",
       "      <td>1842000</td>\n",
       "      <td>1014000</td>\n",
       "      <td>1308000</td>\n",
       "      <td>530000</td>\n",
       "      <td>929000</td>\n",
       "      <td>10588000</td>\n",
       "      <td>6508000</td>\n",
       "      <td>780000</td>\n",
       "      <td>293000</td>\n",
       "      <td>219000</td>\n",
       "      <td>686000</td>\n",
       "      <td>458000</td>\n",
       "      <td>878000</td>\n",
       "      <td>163000</td>\n",
       "      <td>555000</td>\n",
       "      <td>0</td>\n",
       "      <td>395000</td>\n",
       "      <td>28876000</td>\n",
       "      <td>2017000</td>\n",
       "      <td>2634000</td>\n",
       "      <td>28259000</td>\n",
       "      <td>0</td>\n",
       "      <td>0</td>\n",
       "      <td>9516000</td>\n",
       "      <td>738000</td>\n",
       "      <td>8987000</td>\n",
       "      <td>1085000</td>\n",
       "      <td>0</td>\n",
       "      <td>0</td>\n",
       "      <td>-1</td>\n",
       "      <td>-1</td>\n",
       "      <td>0</td>\n",
       "      <td>1</td>\n",
       "      <td>R</td>\n",
       "      <td>R</td>\n",
       "      <td>R</td>\n",
       "      <td>R</td>\n",
       "      <td>R</td>\n",
       "      <td>R</td>\n",
       "      <td>R</td>\n",
       "      <td>R</td>\n",
       "      <td>R</td>\n",
       "      <td>R</td>\n",
       "      <td>R</td>\n",
       "      <td>R</td>\n",
       "      <td>R</td>\n",
       "      <td>R</td>\n",
       "      <td>R</td>\n",
       "      <td>R</td>\n",
       "      <td>R</td>\n",
       "      <td>R</td>\n",
       "      <td>R</td>\n",
       "      <td>M</td>\n",
       "      <td>M</td>\n",
       "      <td>M</td>\n",
       "      <td>R</td>\n",
       "      <td>R</td>\n",
       "      <td>R</td>\n",
       "      <td>R</td>\n",
       "      <td>M</td>\n",
       "      <td>M</td>\n",
       "      <td>N</td>\n",
       "      <td>R</td>\n",
       "      <td>M</td>\n",
       "      <td>M</td>\n",
       "      <td>M</td>\n",
       "      <td>R</td>\n",
       "      <td>R</td>\n",
       "      <td>R</td>\n",
       "      <td>R</td>\n",
       "      <td>M</td>\n",
       "      <td>R</td>\n",
       "      <td>R</td>\n",
       "      <td>R</td>\n",
       "      <td>R</td>\n",
       "      <td>R</td>\n",
       "      <td>R</td>\n",
       "      <td>R</td>\n",
       "      <td>R</td>\n",
       "      <td>R</td>\n",
       "      <td>R</td>\n",
       "      <td>R</td>\n",
       "      <td>R</td>\n",
       "      <td>R</td>\n",
       "      <td>R</td>\n",
       "      <td>M</td>\n",
       "      <td>R</td>\n",
       "      <td>R</td>\n",
       "      <td>R</td>\n",
       "      <td>R</td>\n",
       "      <td>R</td>\n",
       "      <td>R</td>\n",
       "      <td>R</td>\n",
       "      <td>R</td>\n",
       "      <td>R</td>\n",
       "      <td>M</td>\n",
       "      <td>M</td>\n",
       "      <td>R</td>\n",
       "      <td>R</td>\n",
       "      <td>R</td>\n",
       "      <td>R</td>\n",
       "      <td>R</td>\n",
       "      <td>R</td>\n",
       "      <td>R</td>\n",
       "      <td>R</td>\n",
       "      <td>M</td>\n",
       "      <td>M</td>\n",
       "      <td>R</td>\n",
       "      <td>R</td>\n",
       "      <td>R</td>\n",
       "      <td>R</td>\n",
       "      <td>R</td>\n",
       "      <td>R</td>\n",
       "      <td>R</td>\n",
       "      <td>R</td>\n",
       "      <td>R</td>\n",
       "      <td>R</td>\n",
       "      <td>R</td>\n",
       "      <td>R</td>\n",
       "      <td>R</td>\n",
       "      <td>R</td>\n",
       "      <td>R</td>\n",
       "      <td>R</td>\n",
       "      <td>R</td>\n",
       "      <td>R</td>\n",
       "      <td>R</td>\n",
       "      <td>R</td>\n",
       "      <td>R</td>\n",
       "      <td>R</td>\n",
       "      <td>R</td>\n",
       "      <td>R</td>\n",
       "      <td>R</td>\n",
       "      <td>R</td>\n",
       "      <td>M</td>\n",
       "      <td>R</td>\n",
       "      <td>A</td>\n",
       "      <td>R</td>\n",
       "      <td>R</td>\n",
       "      <td>I</td>\n",
       "      <td>M</td>\n",
       "      <td>M</td>\n",
       "      <td>R</td>\n",
       "      <td>R</td>\n",
       "      <td>R</td>\n",
       "      <td>R</td>\n",
       "      <td>M</td>\n",
       "      <td>M</td>\n",
       "      <td>M</td>\n",
       "      <td>M</td>\n",
       "      <td>M</td>\n",
       "    </tr>\n",
       "    <tr>\n",
       "      <th>2</th>\n",
       "      <td>100006</td>\n",
       "      <td>01504800100000</td>\n",
       "      <td>1</td>\n",
       "      <td>1095</td>\n",
       "      <td>290</td>\n",
       "      <td>10700</td>\n",
       "      <td>Marshall County</td>\n",
       "      <td>Alabama</td>\n",
       "      <td>AL</td>\n",
       "      <td>03</td>\n",
       "      <td>3</td>\n",
       "      <td>19</td>\n",
       "      <td>1</td>\n",
       "      <td>1</td>\n",
       "      <td>PK</td>\n",
       "      <td>12</td>\n",
       "      <td>5652</td>\n",
       "      <td>5652</td>\n",
       "      <td>61936000</td>\n",
       "      <td>7953000</td>\n",
       "      <td>2758000</td>\n",
       "      <td>1465000</td>\n",
       "      <td>386000</td>\n",
       "      <td>0</td>\n",
       "      <td>145000</td>\n",
       "      <td>51000</td>\n",
       "      <td>331000</td>\n",
       "      <td>2817000</td>\n",
       "      <td>0</td>\n",
       "      <td>0</td>\n",
       "      <td>0</td>\n",
       "      <td>0</td>\n",
       "      <td>40042000</td>\n",
       "      <td>30760000</td>\n",
       "      <td>65000</td>\n",
       "      <td>0</td>\n",
       "      <td>552000</td>\n",
       "      <td>42000</td>\n",
       "      <td>0</td>\n",
       "      <td>0</td>\n",
       "      <td>0</td>\n",
       "      <td>1642000</td>\n",
       "      <td>3434000</td>\n",
       "      <td>3547000</td>\n",
       "      <td>0</td>\n",
       "      <td>0</td>\n",
       "      <td>0</td>\n",
       "      <td>13941000</td>\n",
       "      <td>-2</td>\n",
       "      <td>7162000</td>\n",
       "      <td>0</td>\n",
       "      <td>0</td>\n",
       "      <td>0</td>\n",
       "      <td>10000</td>\n",
       "      <td>0</td>\n",
       "      <td>2054000</td>\n",
       "      <td>14000</td>\n",
       "      <td>0</td>\n",
       "      <td>575000</td>\n",
       "      <td>0</td>\n",
       "      <td>1495000</td>\n",
       "      <td>0</td>\n",
       "      <td>324000</td>\n",
       "      <td>1000</td>\n",
       "      <td>489000</td>\n",
       "      <td>209000</td>\n",
       "      <td>5000</td>\n",
       "      <td>535000</td>\n",
       "      <td>1068000</td>\n",
       "      <td>0</td>\n",
       "      <td>60022000</td>\n",
       "      <td>58351000</td>\n",
       "      <td>30884000</td>\n",
       "      <td>30884000</td>\n",
       "      <td>7000</td>\n",
       "      <td>0</td>\n",
       "      <td>23015000</td>\n",
       "      <td>4095000</td>\n",
       "      <td>1849000</td>\n",
       "      <td>2074000</td>\n",
       "      <td>3902000</td>\n",
       "      <td>5986000</td>\n",
       "      <td>3929000</td>\n",
       "      <td>1180000</td>\n",
       "      <td>0</td>\n",
       "      <td>4452000</td>\n",
       "      <td>4452000</td>\n",
       "      <td>0</td>\n",
       "      <td>0</td>\n",
       "      <td>724000</td>\n",
       "      <td>64000</td>\n",
       "      <td>167000</td>\n",
       "      <td>493000</td>\n",
       "      <td>266000</td>\n",
       "      <td>0</td>\n",
       "      <td>48000</td>\n",
       "      <td>65000</td>\n",
       "      <td>153000</td>\n",
       "      <td>0</td>\n",
       "      <td>0</td>\n",
       "      <td>0</td>\n",
       "      <td>48000</td>\n",
       "      <td>626000</td>\n",
       "      <td>32647000</td>\n",
       "      <td>19574000</td>\n",
       "      <td>13204000</td>\n",
       "      <td>1913000</td>\n",
       "      <td>1277000</td>\n",
       "      <td>772000</td>\n",
       "      <td>2618000</td>\n",
       "      <td>909000</td>\n",
       "      <td>1105000</td>\n",
       "      <td>2727000</td>\n",
       "      <td>1636000</td>\n",
       "      <td>2057000</td>\n",
       "      <td>508000</td>\n",
       "      <td>1370000</td>\n",
       "      <td>13208000</td>\n",
       "      <td>7529000</td>\n",
       "      <td>942000</td>\n",
       "      <td>291000</td>\n",
       "      <td>356000</td>\n",
       "      <td>1019000</td>\n",
       "      <td>748000</td>\n",
       "      <td>1282000</td>\n",
       "      <td>171000</td>\n",
       "      <td>834000</td>\n",
       "      <td>0</td>\n",
       "      <td>160000</td>\n",
       "      <td>26283000</td>\n",
       "      <td>0</td>\n",
       "      <td>2050000</td>\n",
       "      <td>24233000</td>\n",
       "      <td>0</td>\n",
       "      <td>0</td>\n",
       "      <td>1182000</td>\n",
       "      <td>322000</td>\n",
       "      <td>4357000</td>\n",
       "      <td>1508000</td>\n",
       "      <td>0</td>\n",
       "      <td>0</td>\n",
       "      <td>-1</td>\n",
       "      <td>-1</td>\n",
       "      <td>0</td>\n",
       "      <td>1</td>\n",
       "      <td>R</td>\n",
       "      <td>R</td>\n",
       "      <td>R</td>\n",
       "      <td>R</td>\n",
       "      <td>R</td>\n",
       "      <td>R</td>\n",
       "      <td>R</td>\n",
       "      <td>R</td>\n",
       "      <td>R</td>\n",
       "      <td>R</td>\n",
       "      <td>R</td>\n",
       "      <td>R</td>\n",
       "      <td>R</td>\n",
       "      <td>R</td>\n",
       "      <td>R</td>\n",
       "      <td>R</td>\n",
       "      <td>R</td>\n",
       "      <td>R</td>\n",
       "      <td>R</td>\n",
       "      <td>M</td>\n",
       "      <td>M</td>\n",
       "      <td>M</td>\n",
       "      <td>R</td>\n",
       "      <td>R</td>\n",
       "      <td>R</td>\n",
       "      <td>R</td>\n",
       "      <td>M</td>\n",
       "      <td>M</td>\n",
       "      <td>N</td>\n",
       "      <td>R</td>\n",
       "      <td>M</td>\n",
       "      <td>M</td>\n",
       "      <td>M</td>\n",
       "      <td>R</td>\n",
       "      <td>R</td>\n",
       "      <td>R</td>\n",
       "      <td>R</td>\n",
       "      <td>M</td>\n",
       "      <td>R</td>\n",
       "      <td>R</td>\n",
       "      <td>R</td>\n",
       "      <td>R</td>\n",
       "      <td>R</td>\n",
       "      <td>R</td>\n",
       "      <td>R</td>\n",
       "      <td>R</td>\n",
       "      <td>R</td>\n",
       "      <td>R</td>\n",
       "      <td>R</td>\n",
       "      <td>R</td>\n",
       "      <td>R</td>\n",
       "      <td>R</td>\n",
       "      <td>M</td>\n",
       "      <td>R</td>\n",
       "      <td>R</td>\n",
       "      <td>R</td>\n",
       "      <td>R</td>\n",
       "      <td>R</td>\n",
       "      <td>R</td>\n",
       "      <td>R</td>\n",
       "      <td>R</td>\n",
       "      <td>R</td>\n",
       "      <td>M</td>\n",
       "      <td>M</td>\n",
       "      <td>R</td>\n",
       "      <td>R</td>\n",
       "      <td>R</td>\n",
       "      <td>R</td>\n",
       "      <td>R</td>\n",
       "      <td>R</td>\n",
       "      <td>R</td>\n",
       "      <td>R</td>\n",
       "      <td>M</td>\n",
       "      <td>M</td>\n",
       "      <td>R</td>\n",
       "      <td>R</td>\n",
       "      <td>R</td>\n",
       "      <td>R</td>\n",
       "      <td>R</td>\n",
       "      <td>R</td>\n",
       "      <td>R</td>\n",
       "      <td>R</td>\n",
       "      <td>R</td>\n",
       "      <td>R</td>\n",
       "      <td>R</td>\n",
       "      <td>R</td>\n",
       "      <td>R</td>\n",
       "      <td>R</td>\n",
       "      <td>R</td>\n",
       "      <td>R</td>\n",
       "      <td>R</td>\n",
       "      <td>R</td>\n",
       "      <td>R</td>\n",
       "      <td>R</td>\n",
       "      <td>R</td>\n",
       "      <td>R</td>\n",
       "      <td>R</td>\n",
       "      <td>R</td>\n",
       "      <td>R</td>\n",
       "      <td>R</td>\n",
       "      <td>M</td>\n",
       "      <td>R</td>\n",
       "      <td>A</td>\n",
       "      <td>R</td>\n",
       "      <td>R</td>\n",
       "      <td>I</td>\n",
       "      <td>M</td>\n",
       "      <td>M</td>\n",
       "      <td>R</td>\n",
       "      <td>R</td>\n",
       "      <td>R</td>\n",
       "      <td>R</td>\n",
       "      <td>M</td>\n",
       "      <td>M</td>\n",
       "      <td>M</td>\n",
       "      <td>M</td>\n",
       "      <td>M</td>\n",
       "    </tr>\n",
       "    <tr>\n",
       "      <th>3</th>\n",
       "      <td>100007</td>\n",
       "      <td>01503740100000</td>\n",
       "      <td>1</td>\n",
       "      <td>1073</td>\n",
       "      <td>142</td>\n",
       "      <td>13820</td>\n",
       "      <td>Hoover City</td>\n",
       "      <td>Alabama</td>\n",
       "      <td>AL</td>\n",
       "      <td>03</td>\n",
       "      <td>3</td>\n",
       "      <td>19</td>\n",
       "      <td>1</td>\n",
       "      <td>1</td>\n",
       "      <td>PK</td>\n",
       "      <td>12</td>\n",
       "      <td>13952</td>\n",
       "      <td>13952</td>\n",
       "      <td>189124000</td>\n",
       "      <td>6935000</td>\n",
       "      <td>1205000</td>\n",
       "      <td>2631000</td>\n",
       "      <td>250000</td>\n",
       "      <td>0</td>\n",
       "      <td>127000</td>\n",
       "      <td>70000</td>\n",
       "      <td>77000</td>\n",
       "      <td>2505000</td>\n",
       "      <td>0</td>\n",
       "      <td>0</td>\n",
       "      <td>0</td>\n",
       "      <td>70000</td>\n",
       "      <td>78790000</td>\n",
       "      <td>63888000</td>\n",
       "      <td>79000</td>\n",
       "      <td>0</td>\n",
       "      <td>808000</td>\n",
       "      <td>78000</td>\n",
       "      <td>0</td>\n",
       "      <td>0</td>\n",
       "      <td>0</td>\n",
       "      <td>3076000</td>\n",
       "      <td>5508000</td>\n",
       "      <td>5353000</td>\n",
       "      <td>0</td>\n",
       "      <td>0</td>\n",
       "      <td>0</td>\n",
       "      <td>103399000</td>\n",
       "      <td>-2</td>\n",
       "      <td>76529000</td>\n",
       "      <td>0</td>\n",
       "      <td>0</td>\n",
       "      <td>0</td>\n",
       "      <td>5000</td>\n",
       "      <td>0</td>\n",
       "      <td>8839000</td>\n",
       "      <td>18000</td>\n",
       "      <td>0</td>\n",
       "      <td>4082000</td>\n",
       "      <td>0</td>\n",
       "      <td>4810000</td>\n",
       "      <td>0</td>\n",
       "      <td>916000</td>\n",
       "      <td>860000</td>\n",
       "      <td>3254000</td>\n",
       "      <td>1921000</td>\n",
       "      <td>27000</td>\n",
       "      <td>349000</td>\n",
       "      <td>1789000</td>\n",
       "      <td>0</td>\n",
       "      <td>195605000</td>\n",
       "      <td>168699000</td>\n",
       "      <td>102547000</td>\n",
       "      <td>102547000</td>\n",
       "      <td>3000</td>\n",
       "      <td>0</td>\n",
       "      <td>57484000</td>\n",
       "      <td>10266000</td>\n",
       "      <td>6610000</td>\n",
       "      <td>1722000</td>\n",
       "      <td>10604000</td>\n",
       "      <td>16670000</td>\n",
       "      <td>7686000</td>\n",
       "      <td>3926000</td>\n",
       "      <td>0</td>\n",
       "      <td>8668000</td>\n",
       "      <td>8668000</td>\n",
       "      <td>0</td>\n",
       "      <td>0</td>\n",
       "      <td>2362000</td>\n",
       "      <td>233000</td>\n",
       "      <td>0</td>\n",
       "      <td>2129000</td>\n",
       "      <td>17371000</td>\n",
       "      <td>15989000</td>\n",
       "      <td>78000</td>\n",
       "      <td>347000</td>\n",
       "      <td>957000</td>\n",
       "      <td>0</td>\n",
       "      <td>0</td>\n",
       "      <td>0</td>\n",
       "      <td>112000</td>\n",
       "      <td>7058000</td>\n",
       "      <td>97127000</td>\n",
       "      <td>65305000</td>\n",
       "      <td>51790000</td>\n",
       "      <td>4589000</td>\n",
       "      <td>1409000</td>\n",
       "      <td>1087000</td>\n",
       "      <td>6193000</td>\n",
       "      <td>3644000</td>\n",
       "      <td>632000</td>\n",
       "      <td>7543000</td>\n",
       "      <td>5104000</td>\n",
       "      <td>4109000</td>\n",
       "      <td>1433000</td>\n",
       "      <td>2981000</td>\n",
       "      <td>37483000</td>\n",
       "      <td>23051000</td>\n",
       "      <td>2133000</td>\n",
       "      <td>1235000</td>\n",
       "      <td>166000</td>\n",
       "      <td>2573000</td>\n",
       "      <td>2350000</td>\n",
       "      <td>2459000</td>\n",
       "      <td>1827000</td>\n",
       "      <td>1648000</td>\n",
       "      <td>0</td>\n",
       "      <td>753000</td>\n",
       "      <td>281008000</td>\n",
       "      <td>0</td>\n",
       "      <td>4745000</td>\n",
       "      <td>276263000</td>\n",
       "      <td>0</td>\n",
       "      <td>0</td>\n",
       "      <td>93000</td>\n",
       "      <td>149000</td>\n",
       "      <td>120932000</td>\n",
       "      <td>5648000</td>\n",
       "      <td>0</td>\n",
       "      <td>0</td>\n",
       "      <td>-1</td>\n",
       "      <td>-1</td>\n",
       "      <td>0</td>\n",
       "      <td>1</td>\n",
       "      <td>R</td>\n",
       "      <td>R</td>\n",
       "      <td>R</td>\n",
       "      <td>R</td>\n",
       "      <td>R</td>\n",
       "      <td>R</td>\n",
       "      <td>R</td>\n",
       "      <td>R</td>\n",
       "      <td>R</td>\n",
       "      <td>R</td>\n",
       "      <td>R</td>\n",
       "      <td>R</td>\n",
       "      <td>R</td>\n",
       "      <td>R</td>\n",
       "      <td>R</td>\n",
       "      <td>R</td>\n",
       "      <td>R</td>\n",
       "      <td>R</td>\n",
       "      <td>R</td>\n",
       "      <td>M</td>\n",
       "      <td>M</td>\n",
       "      <td>M</td>\n",
       "      <td>R</td>\n",
       "      <td>R</td>\n",
       "      <td>R</td>\n",
       "      <td>R</td>\n",
       "      <td>M</td>\n",
       "      <td>M</td>\n",
       "      <td>N</td>\n",
       "      <td>R</td>\n",
       "      <td>M</td>\n",
       "      <td>M</td>\n",
       "      <td>M</td>\n",
       "      <td>R</td>\n",
       "      <td>R</td>\n",
       "      <td>R</td>\n",
       "      <td>R</td>\n",
       "      <td>M</td>\n",
       "      <td>R</td>\n",
       "      <td>R</td>\n",
       "      <td>R</td>\n",
       "      <td>R</td>\n",
       "      <td>R</td>\n",
       "      <td>R</td>\n",
       "      <td>R</td>\n",
       "      <td>R</td>\n",
       "      <td>R</td>\n",
       "      <td>R</td>\n",
       "      <td>R</td>\n",
       "      <td>R</td>\n",
       "      <td>R</td>\n",
       "      <td>R</td>\n",
       "      <td>M</td>\n",
       "      <td>R</td>\n",
       "      <td>R</td>\n",
       "      <td>R</td>\n",
       "      <td>R</td>\n",
       "      <td>R</td>\n",
       "      <td>R</td>\n",
       "      <td>R</td>\n",
       "      <td>R</td>\n",
       "      <td>R</td>\n",
       "      <td>M</td>\n",
       "      <td>M</td>\n",
       "      <td>R</td>\n",
       "      <td>R</td>\n",
       "      <td>R</td>\n",
       "      <td>R</td>\n",
       "      <td>R</td>\n",
       "      <td>R</td>\n",
       "      <td>R</td>\n",
       "      <td>R</td>\n",
       "      <td>M</td>\n",
       "      <td>M</td>\n",
       "      <td>R</td>\n",
       "      <td>R</td>\n",
       "      <td>R</td>\n",
       "      <td>R</td>\n",
       "      <td>R</td>\n",
       "      <td>R</td>\n",
       "      <td>R</td>\n",
       "      <td>R</td>\n",
       "      <td>R</td>\n",
       "      <td>R</td>\n",
       "      <td>R</td>\n",
       "      <td>R</td>\n",
       "      <td>R</td>\n",
       "      <td>R</td>\n",
       "      <td>R</td>\n",
       "      <td>R</td>\n",
       "      <td>R</td>\n",
       "      <td>R</td>\n",
       "      <td>R</td>\n",
       "      <td>R</td>\n",
       "      <td>R</td>\n",
       "      <td>R</td>\n",
       "      <td>R</td>\n",
       "      <td>R</td>\n",
       "      <td>R</td>\n",
       "      <td>R</td>\n",
       "      <td>M</td>\n",
       "      <td>R</td>\n",
       "      <td>A</td>\n",
       "      <td>R</td>\n",
       "      <td>R</td>\n",
       "      <td>I</td>\n",
       "      <td>M</td>\n",
       "      <td>M</td>\n",
       "      <td>R</td>\n",
       "      <td>R</td>\n",
       "      <td>R</td>\n",
       "      <td>R</td>\n",
       "      <td>M</td>\n",
       "      <td>M</td>\n",
       "      <td>M</td>\n",
       "      <td>M</td>\n",
       "      <td>M</td>\n",
       "    </tr>\n",
       "    <tr>\n",
       "      <th>4</th>\n",
       "      <td>100008</td>\n",
       "      <td>01504530100000</td>\n",
       "      <td>1</td>\n",
       "      <td>1089</td>\n",
       "      <td>290</td>\n",
       "      <td>26620</td>\n",
       "      <td>Madison City</td>\n",
       "      <td>Alabama</td>\n",
       "      <td>AL</td>\n",
       "      <td>03</td>\n",
       "      <td>3</td>\n",
       "      <td>19</td>\n",
       "      <td>1</td>\n",
       "      <td>1</td>\n",
       "      <td>PK</td>\n",
       "      <td>12</td>\n",
       "      <td>11290</td>\n",
       "      <td>11290</td>\n",
       "      <td>129403000</td>\n",
       "      <td>6043000</td>\n",
       "      <td>795000</td>\n",
       "      <td>1975000</td>\n",
       "      <td>169000</td>\n",
       "      <td>0</td>\n",
       "      <td>93000</td>\n",
       "      <td>72000</td>\n",
       "      <td>924000</td>\n",
       "      <td>1406000</td>\n",
       "      <td>0</td>\n",
       "      <td>484000</td>\n",
       "      <td>0</td>\n",
       "      <td>125000</td>\n",
       "      <td>69870000</td>\n",
       "      <td>54121000</td>\n",
       "      <td>90000</td>\n",
       "      <td>0</td>\n",
       "      <td>501000</td>\n",
       "      <td>40000</td>\n",
       "      <td>0</td>\n",
       "      <td>0</td>\n",
       "      <td>0</td>\n",
       "      <td>2826000</td>\n",
       "      <td>3256000</td>\n",
       "      <td>9036000</td>\n",
       "      <td>0</td>\n",
       "      <td>0</td>\n",
       "      <td>0</td>\n",
       "      <td>53490000</td>\n",
       "      <td>-2</td>\n",
       "      <td>21211000</td>\n",
       "      <td>0</td>\n",
       "      <td>0</td>\n",
       "      <td>0</td>\n",
       "      <td>7000</td>\n",
       "      <td>0</td>\n",
       "      <td>17383000</td>\n",
       "      <td>17000</td>\n",
       "      <td>0</td>\n",
       "      <td>2882000</td>\n",
       "      <td>0</td>\n",
       "      <td>3300000</td>\n",
       "      <td>0</td>\n",
       "      <td>660000</td>\n",
       "      <td>2092000</td>\n",
       "      <td>1687000</td>\n",
       "      <td>758000</td>\n",
       "      <td>9000</td>\n",
       "      <td>488000</td>\n",
       "      <td>2996000</td>\n",
       "      <td>0</td>\n",
       "      <td>118941000</td>\n",
       "      <td>109357000</td>\n",
       "      <td>65771000</td>\n",
       "      <td>65771000</td>\n",
       "      <td>15000</td>\n",
       "      <td>0</td>\n",
       "      <td>38601000</td>\n",
       "      <td>8902000</td>\n",
       "      <td>6989000</td>\n",
       "      <td>1825000</td>\n",
       "      <td>5809000</td>\n",
       "      <td>9001000</td>\n",
       "      <td>4361000</td>\n",
       "      <td>1714000</td>\n",
       "      <td>0</td>\n",
       "      <td>4985000</td>\n",
       "      <td>4985000</td>\n",
       "      <td>0</td>\n",
       "      <td>0</td>\n",
       "      <td>1352000</td>\n",
       "      <td>1072000</td>\n",
       "      <td>1000</td>\n",
       "      <td>279000</td>\n",
       "      <td>4186000</td>\n",
       "      <td>3108000</td>\n",
       "      <td>0</td>\n",
       "      <td>22000</td>\n",
       "      <td>1056000</td>\n",
       "      <td>0</td>\n",
       "      <td>0</td>\n",
       "      <td>0</td>\n",
       "      <td>163000</td>\n",
       "      <td>3868000</td>\n",
       "      <td>61987000</td>\n",
       "      <td>41235000</td>\n",
       "      <td>29213000</td>\n",
       "      <td>3092000</td>\n",
       "      <td>2709000</td>\n",
       "      <td>1442000</td>\n",
       "      <td>4410000</td>\n",
       "      <td>3632000</td>\n",
       "      <td>782000</td>\n",
       "      <td>4099000</td>\n",
       "      <td>2245000</td>\n",
       "      <td>2238000</td>\n",
       "      <td>1037000</td>\n",
       "      <td>1469000</td>\n",
       "      <td>23501000</td>\n",
       "      <td>15117000</td>\n",
       "      <td>1455000</td>\n",
       "      <td>1315000</td>\n",
       "      <td>232000</td>\n",
       "      <td>1473000</td>\n",
       "      <td>1080000</td>\n",
       "      <td>1366000</td>\n",
       "      <td>377000</td>\n",
       "      <td>965000</td>\n",
       "      <td>0</td>\n",
       "      <td>664000</td>\n",
       "      <td>114240000</td>\n",
       "      <td>1303000</td>\n",
       "      <td>3410000</td>\n",
       "      <td>112133000</td>\n",
       "      <td>0</td>\n",
       "      <td>0</td>\n",
       "      <td>22914000</td>\n",
       "      <td>8928000</td>\n",
       "      <td>21327000</td>\n",
       "      <td>2969000</td>\n",
       "      <td>0</td>\n",
       "      <td>0</td>\n",
       "      <td>-1</td>\n",
       "      <td>-1</td>\n",
       "      <td>0</td>\n",
       "      <td>1</td>\n",
       "      <td>R</td>\n",
       "      <td>R</td>\n",
       "      <td>R</td>\n",
       "      <td>R</td>\n",
       "      <td>R</td>\n",
       "      <td>R</td>\n",
       "      <td>R</td>\n",
       "      <td>R</td>\n",
       "      <td>R</td>\n",
       "      <td>R</td>\n",
       "      <td>R</td>\n",
       "      <td>R</td>\n",
       "      <td>R</td>\n",
       "      <td>R</td>\n",
       "      <td>R</td>\n",
       "      <td>R</td>\n",
       "      <td>R</td>\n",
       "      <td>R</td>\n",
       "      <td>R</td>\n",
       "      <td>M</td>\n",
       "      <td>M</td>\n",
       "      <td>M</td>\n",
       "      <td>R</td>\n",
       "      <td>R</td>\n",
       "      <td>R</td>\n",
       "      <td>R</td>\n",
       "      <td>M</td>\n",
       "      <td>M</td>\n",
       "      <td>N</td>\n",
       "      <td>R</td>\n",
       "      <td>M</td>\n",
       "      <td>M</td>\n",
       "      <td>M</td>\n",
       "      <td>R</td>\n",
       "      <td>R</td>\n",
       "      <td>R</td>\n",
       "      <td>R</td>\n",
       "      <td>M</td>\n",
       "      <td>R</td>\n",
       "      <td>R</td>\n",
       "      <td>R</td>\n",
       "      <td>R</td>\n",
       "      <td>R</td>\n",
       "      <td>R</td>\n",
       "      <td>R</td>\n",
       "      <td>R</td>\n",
       "      <td>R</td>\n",
       "      <td>R</td>\n",
       "      <td>R</td>\n",
       "      <td>R</td>\n",
       "      <td>R</td>\n",
       "      <td>R</td>\n",
       "      <td>M</td>\n",
       "      <td>R</td>\n",
       "      <td>R</td>\n",
       "      <td>R</td>\n",
       "      <td>R</td>\n",
       "      <td>R</td>\n",
       "      <td>R</td>\n",
       "      <td>R</td>\n",
       "      <td>R</td>\n",
       "      <td>R</td>\n",
       "      <td>M</td>\n",
       "      <td>M</td>\n",
       "      <td>R</td>\n",
       "      <td>R</td>\n",
       "      <td>R</td>\n",
       "      <td>R</td>\n",
       "      <td>R</td>\n",
       "      <td>R</td>\n",
       "      <td>R</td>\n",
       "      <td>R</td>\n",
       "      <td>M</td>\n",
       "      <td>M</td>\n",
       "      <td>R</td>\n",
       "      <td>R</td>\n",
       "      <td>R</td>\n",
       "      <td>R</td>\n",
       "      <td>R</td>\n",
       "      <td>R</td>\n",
       "      <td>R</td>\n",
       "      <td>R</td>\n",
       "      <td>R</td>\n",
       "      <td>R</td>\n",
       "      <td>R</td>\n",
       "      <td>R</td>\n",
       "      <td>R</td>\n",
       "      <td>R</td>\n",
       "      <td>R</td>\n",
       "      <td>R</td>\n",
       "      <td>R</td>\n",
       "      <td>R</td>\n",
       "      <td>R</td>\n",
       "      <td>R</td>\n",
       "      <td>R</td>\n",
       "      <td>R</td>\n",
       "      <td>R</td>\n",
       "      <td>R</td>\n",
       "      <td>R</td>\n",
       "      <td>R</td>\n",
       "      <td>M</td>\n",
       "      <td>R</td>\n",
       "      <td>A</td>\n",
       "      <td>R</td>\n",
       "      <td>R</td>\n",
       "      <td>I</td>\n",
       "      <td>M</td>\n",
       "      <td>M</td>\n",
       "      <td>R</td>\n",
       "      <td>R</td>\n",
       "      <td>R</td>\n",
       "      <td>R</td>\n",
       "      <td>M</td>\n",
       "      <td>M</td>\n",
       "      <td>M</td>\n",
       "      <td>M</td>\n",
       "      <td>M</td>\n",
       "    </tr>\n",
       "  </tbody>\n",
       "</table>\n",
       "</div>"
      ],
      "text/plain": [
       "    LEAID        CENSUSID  FIPST CONUM  CSA   CBSA                    NAME  \\\n",
       "0  100002               N      1  1073  142  13820  Alabama Youth Services   \n",
       "1  100005  01504840100000      1  1095  290  10700        Albertville City   \n",
       "2  100006  01504800100000      1  1095  290  10700         Marshall County   \n",
       "3  100007  01503740100000      1  1073  142  13820             Hoover City   \n",
       "4  100008  01504530100000      1  1089  290  26620            Madison City   \n",
       "\n",
       "    STNAME STABBR SCHLEV AGCHRT  YEAR  CCDNF  CENFILE GSLO GSHI    V33  \\\n",
       "0  Alabama     AL      N      N    19      1        0   03   12     -2   \n",
       "1  Alabama     AL     03      3    19      1        1   PK   12   5636   \n",
       "2  Alabama     AL     03      3    19      1        1   PK   12   5652   \n",
       "3  Alabama     AL     03      3    19      1        1   PK   12  13952   \n",
       "4  Alabama     AL     03      3    19      1        1   PK   12  11290   \n",
       "\n",
       "   MEMBERSCH   TOTALREV  TFEDREV      C14      C15     C16  C17     C19  \\\n",
       "0         -2         -1       -1       -1       -1      -1   -1      -1   \n",
       "1       5636   60116000  7939000  2439000  1134000  240000    0  101000   \n",
       "2       5652   61936000  7953000  2758000  1465000  386000    0  145000   \n",
       "3      13952  189124000  6935000  1205000  2631000  250000    0  127000   \n",
       "4      11290  129403000  6043000   795000  1975000  169000    0   93000   \n",
       "\n",
       "      B11     C20      C25  C36     B10  B12     B13    TSTREV       C01  \\\n",
       "0      -1      -1       -1   -1      -1   -1      -1        -1        -1   \n",
       "1  103000  412000  3467000    0       0    0   43000  36177000  29411000   \n",
       "2   51000  331000  2817000    0       0    0       0  40042000  30760000   \n",
       "3   70000   77000  2505000    0       0    0   70000  78790000  63888000   \n",
       "4   72000  924000  1406000    0  484000    0  125000  69870000  54121000   \n",
       "\n",
       "     C04  C05     C06    C07  C08  C09  C10      C11      C12      C13  C35  \\\n",
       "0     -1   -1      -1     -1   -1   -1   -1       -1       -1       -1   -1   \n",
       "1  78000    0  293000  97000    0    0    0  1555000  2275000  2468000    0   \n",
       "2  65000    0  552000  42000    0    0    0  1642000  3434000  3547000    0   \n",
       "3  79000    0  808000  78000    0    0    0  3076000  5508000  5353000    0   \n",
       "4  90000    0  501000  40000    0    0    0  2826000  3256000  9036000    0   \n",
       "\n",
       "   C38  C39    TLOCREV  T02       T06  T09  T15  T40     T99    D11       D23  \\\n",
       "0   -1   -1         -1   -2        -2   -2   -2   -2      -2     -1        -1   \n",
       "1    0    0   16000000   -2   5787000    0    0    0  430000  17000   5400000   \n",
       "2    0    0   13941000   -2   7162000    0    0    0   10000      0   2054000   \n",
       "3    0    0  103399000   -2  76529000    0    0    0    5000      0   8839000   \n",
       "4    0    0   53490000   -2  21211000    0    0    0    7000      0  17383000   \n",
       "\n",
       "     A07  A08      A09  A11      A13  A15     A20      A40      U11      U22  \\\n",
       "0     -1   -1       -1   -1       -1   -1      -1       -1       -1       -1   \n",
       "1  93000    0   232000    0  1631000    0  366000   122000    78000   345000   \n",
       "2  14000    0   575000    0  1495000    0  324000     1000   489000   209000   \n",
       "3  18000    0  4082000    0  4810000    0  916000   860000  3254000  1921000   \n",
       "4  17000    0  2882000    0  3300000    0  660000  2092000  1687000   758000   \n",
       "\n",
       "     U30     U50      U97  C24   TOTALEXP   TCURELSC   TCURINST        E13  \\\n",
       "0     -1      -1       -1   -1         -1         -1         -1         -1   \n",
       "1   2000  131000  1366000    0   55237000   49715000   28612000   28612000   \n",
       "2   5000  535000  1068000    0   60022000   58351000   30884000   30884000   \n",
       "3  27000  349000  1789000    0  195605000  168699000  102547000  102547000   \n",
       "4   9000  488000  2996000    0  118941000  109357000   65771000   65771000   \n",
       "\n",
       "     V91  V92  TCURSSVC       E17      E07      E08       E09       V40  \\\n",
       "0     -1   -1        -1        -1       -1       -1        -1        -1   \n",
       "1      0    0  17262000   3619000  1453000  1470000   2652000   4401000   \n",
       "2   7000    0  23015000   4095000  1849000  2074000   3902000   5986000   \n",
       "3   3000    0  57484000  10266000  6610000  1722000  10604000  16670000   \n",
       "4  15000    0  38601000   8902000  6989000  1825000   5809000   9001000   \n",
       "\n",
       "       V45      V90  V85  TCUROTH      E11  V60  V65  TNONELSE      V70  \\\n",
       "0       -1       -1   -1       -1       -1   -1   -1        -1       -1   \n",
       "1  2796000   871000    0  3841000  3841000    0    0    949000   150000   \n",
       "2  3929000  1180000    0  4452000  4452000    0    0    724000    64000   \n",
       "3  7686000  3926000    0  8668000  8668000    0    0   2362000   233000   \n",
       "4  4361000  1714000    0  4985000  4985000    0    0   1352000  1072000   \n",
       "\n",
       "      V75      V80   TCAPOUT       F12    G15     K09      K10  K11  L12  M12  \\\n",
       "0      -1       -1        -1        -1     -1      -1       -1   -1   -1   -1   \n",
       "1  198000   601000   2750000   2351000      0  120000   279000    0    0    0   \n",
       "2  167000   493000    266000         0  48000   65000   153000    0    0    0   \n",
       "3       0  2129000  17371000  15989000  78000  347000   957000    0    0    0   \n",
       "4    1000   279000   4186000   3108000      0   22000  1056000    0    0    0   \n",
       "\n",
       "      Q11      I86       Z32       Z33       Z35      Z36      Z37      Z38  \\\n",
       "0      -1       -1        -1        -1        -1       -1       -1       -1   \n",
       "1   86000  1737000  26349000  16897000  13210000   838000  1089000   505000   \n",
       "2   48000   626000  32647000  19574000  13204000  1913000  1277000   772000   \n",
       "3  112000  7058000  97127000  65305000  51790000  4589000  1409000  1087000   \n",
       "4  163000  3868000  61987000  41235000  29213000  3092000  2709000  1442000   \n",
       "\n",
       "       V11      V13      V15      V17      V21      V23      V37      V29  \\\n",
       "0       -1       -1       -1       -1       -1       -1       -1       -1   \n",
       "1  2091000   794000   752000  1842000  1014000  1308000   530000   929000   \n",
       "2  2618000   909000  1105000  2727000  1636000  2057000   508000  1370000   \n",
       "3  6193000  3644000   632000  7543000  5104000  4109000  1433000  2981000   \n",
       "4  4410000  3632000   782000  4099000  2245000  2238000  1037000  1469000   \n",
       "\n",
       "        Z34       V10      V12      V14     V16      V18      V22      V24  \\\n",
       "0        -1        -1       -1       -1      -1       -1       -1       -1   \n",
       "1  10588000   6508000   780000   293000  219000   686000   458000   878000   \n",
       "2  13208000   7529000   942000   291000  356000  1019000   748000  1282000   \n",
       "3  37483000  23051000  2133000  1235000  166000  2573000  2350000  2459000   \n",
       "4  23501000  15117000  1455000  1315000  232000  1473000  1080000  1366000   \n",
       "\n",
       "       V38      V30  V32     V93       _19H     _21F     _31F       _41F  \\\n",
       "0       -1       -1   -1      -1         -1       -1       -1         -1   \n",
       "1   163000   555000    0  395000   28876000  2017000  2634000   28259000   \n",
       "2   171000   834000    0  160000   26283000        0  2050000   24233000   \n",
       "3  1827000  1648000    0  753000  281008000        0  4745000  276263000   \n",
       "4   377000   965000    0  664000  114240000  1303000  3410000  112133000   \n",
       "\n",
       "   _61V  _66V       W01      W31        W61      V95  V02  K14  CE1  CE2  CE3  \\\n",
       "0    -1    -1        -1       -1         -1       -1   -1   -1   -1   -1   -1   \n",
       "1     0     0   9516000   738000    8987000  1085000    0    0   -1   -1    0   \n",
       "2     0     0   1182000   322000    4357000  1508000    0    0   -1   -1    0   \n",
       "3     0     0     93000   149000  120932000  5648000    0    0   -1   -1    0   \n",
       "4     0     0  22914000  8928000   21327000  2969000    0    0   -1   -1    0   \n",
       "\n",
       "   WEIGHT FL_V33 FL_MEMBERSCH FL_C14 FL_C15 FL_C16 FL_C17 FL_C19 FL_B11  \\\n",
       "0       1      N            N      M      M      M      M      M      M   \n",
       "1       1      R            R      R      R      R      R      R      R   \n",
       "2       1      R            R      R      R      R      R      R      R   \n",
       "3       1      R            R      R      R      R      R      R      R   \n",
       "4       1      R            R      R      R      R      R      R      R   \n",
       "\n",
       "  FL_C20 FL_C25 FL_C36 FL_B10 FL_B12 FL_B13 FL_C01 FL_C04 FL_C05 FL_C06  \\\n",
       "0      M      M      M      M      M      M      M      M      M      M   \n",
       "1      R      R      R      R      R      R      R      R      R      R   \n",
       "2      R      R      R      R      R      R      R      R      R      R   \n",
       "3      R      R      R      R      R      R      R      R      R      R   \n",
       "4      R      R      R      R      R      R      R      R      R      R   \n",
       "\n",
       "  FL_C07 FL_C08 FL_C09 FL_C10 FL_C11 FL_C12 FL_C13 FL_C35 FL_C38 FL_C39  \\\n",
       "0      M      M      M      M      M      M      M      M      M      M   \n",
       "1      R      M      M      M      R      R      R      R      M      M   \n",
       "2      R      M      M      M      R      R      R      R      M      M   \n",
       "3      R      M      M      M      R      R      R      R      M      M   \n",
       "4      R      M      M      M      R      R      R      R      M      M   \n",
       "\n",
       "  FL_T02 FL_T06 FL_T09 FL_T15 FL_T40 FL_T99 FL_D11 FL_D23 FL_A07 FL_A08  \\\n",
       "0      N      N      N      N      N      N      M      M      M      M   \n",
       "1      N      R      M      M      M      R      R      R      R      M   \n",
       "2      N      R      M      M      M      R      R      R      R      M   \n",
       "3      N      R      M      M      M      R      R      R      R      M   \n",
       "4      N      R      M      M      M      R      R      R      R      M   \n",
       "\n",
       "  FL_A09 FL_A11 FL_A13 FL_A15 FL_A20 FL_A40 FL_U11 FL_U22 FL_U30 FL_U50  \\\n",
       "0      M      M      M      M      M      M      M      M      M      M   \n",
       "1      R      R      R      R      R      R      R      R      R      R   \n",
       "2      R      R      R      R      R      R      R      R      R      R   \n",
       "3      R      R      R      R      R      R      R      R      R      R   \n",
       "4      R      R      R      R      R      R      R      R      R      R   \n",
       "\n",
       "  FL_U97 FL_C24 FL_E13 FL_V91 FL_V92 FL_E17 FL_E07 FL_E08 FL_E09 FL_V40  \\\n",
       "0      M      M      M      M      M      M      M      M      M      M   \n",
       "1      R      R      R      R      M      R      R      R      R      R   \n",
       "2      R      R      R      R      M      R      R      R      R      R   \n",
       "3      R      R      R      R      M      R      R      R      R      R   \n",
       "4      R      R      R      R      M      R      R      R      R      R   \n",
       "\n",
       "  FL_V45 FL_V90 FL_V85 FL_E11 FL_V60 FL_V65 FL_V70 FL_V75 FL_V80 FL_F12  \\\n",
       "0      M      M      M      M      M      M      M      M      M      M   \n",
       "1      R      R      R      R      M      M      R      R      R      R   \n",
       "2      R      R      R      R      M      M      R      R      R      R   \n",
       "3      R      R      R      R      M      M      R      R      R      R   \n",
       "4      R      R      R      R      M      M      R      R      R      R   \n",
       "\n",
       "  FL_G15 FL_K09 FL_K10 FL_K11 FL_L12 FL_M12 FL_Q11 FL_I86 FL_Z32 FL_Z33  \\\n",
       "0      M      M      M      M      M      M      M      M      M      M   \n",
       "1      R      R      R      R      M      M      R      R      R      R   \n",
       "2      R      R      R      R      M      M      R      R      R      R   \n",
       "3      R      R      R      R      M      M      R      R      R      R   \n",
       "4      R      R      R      R      M      M      R      R      R      R   \n",
       "\n",
       "  FL_Z35 FL_Z36 FL_Z37 FL_Z38 FL_V11 FL_V13 FL_V15 FL_V17 FL_V21 FL_V23  \\\n",
       "0      M      M      M      M      M      M      M      M      M      M   \n",
       "1      R      R      R      R      R      R      R      R      R      R   \n",
       "2      R      R      R      R      R      R      R      R      R      R   \n",
       "3      R      R      R      R      R      R      R      R      R      R   \n",
       "4      R      R      R      R      R      R      R      R      R      R   \n",
       "\n",
       "  FL_V37 FL_V29 FL_Z34 FL_V10 FL_V12 FL_V14 FL_V16 FL_V18 FL_V22 FL_V24  \\\n",
       "0      M      M      M      M      M      M      M      M      M      M   \n",
       "1      R      R      R      R      R      R      R      R      R      R   \n",
       "2      R      R      R      R      R      R      R      R      R      R   \n",
       "3      R      R      R      R      R      R      R      R      R      R   \n",
       "4      R      R      R      R      R      R      R      R      R      R   \n",
       "\n",
       "  FL_V38 FL_V30 FL_V32 FL_V93 FL_19H FL_21F FL_31F FL_41F FL_61V FL_66V  \\\n",
       "0      M      M      M      M      M      M      M      M      M      M   \n",
       "1      R      R      M      R      A      R      R      I      M      M   \n",
       "2      R      R      M      R      A      R      R      I      M      M   \n",
       "3      R      R      M      R      A      R      R      I      M      M   \n",
       "4      R      R      M      R      A      R      R      I      M      M   \n",
       "\n",
       "  FL_W01 FL_W31 FL_W61 FL_V95 FL_V02 FL_K14 FL_CE1 FL_CE2 FL_CE3  \n",
       "0      M      M      M      M      M      M      M      M      M  \n",
       "1      R      R      R      R      M      M      M      M      M  \n",
       "2      R      R      R      R      M      M      M      M      M  \n",
       "3      R      R      R      R      M      M      M      M      M  \n",
       "4      R      R      R      R      M      M      M      M      M  "
      ]
     },
     "execution_count": 117,
     "metadata": {},
     "output_type": "execute_result"
    }
   ],
   "source": [
    "money.head()"
   ]
  },
  {
   "cell_type": "code",
   "execution_count": 118,
   "metadata": {},
   "outputs": [],
   "source": [
    "cols = [c for c in money.columns if c.lower()[:2] != 'fl']"
   ]
  },
  {
   "cell_type": "code",
   "execution_count": 119,
   "metadata": {},
   "outputs": [],
   "source": [
    "money = money[cols]"
   ]
  },
  {
   "cell_type": "code",
   "execution_count": 120,
   "metadata": {},
   "outputs": [],
   "source": [
    "money_nums = money.drop(labels=['CENSUSID','CONUM','CSA','CBSA','NAME','STNAME','STABBR','SCHLEV','AGCHRT','GSLO','GSHI'], axis=1)"
   ]
  },
  {
   "cell_type": "code",
   "execution_count": 121,
   "metadata": {},
   "outputs": [],
   "source": [
    "df3 = df.merge(money_nums, left_on='District_ID', right_on='LEAID', how='inner')"
   ]
  },
  {
   "cell_type": "code",
   "execution_count": 122,
   "metadata": {},
   "outputs": [],
   "source": [
    "#Transforming third version of data with all features\n",
    "#Splitting data into features and target\n",
    "#Dropping all identifier columns including zipcode - as median income is based on zipcode and is a good stand-in\n",
    "target3 = df3['Target']\n",
    "features3 = df3.drop(['School_ID','School_Name','District_Name','District_ID','Zip','City','Target','LEAID'], axis=1)               "
   ]
  },
  {
   "cell_type": "code",
   "execution_count": 123,
   "metadata": {},
   "outputs": [],
   "source": [
    "#Performing train-test split\n",
    "X_train3, X_test3, y_train3, y_test3 = train_test_split(features3, target3, test_size=0.20, random_state=42)"
   ]
  },
  {
   "cell_type": "code",
   "execution_count": 124,
   "metadata": {
    "scrolled": true
   },
   "outputs": [],
   "source": [
    "#Join state helper dataframe with my training predictors and testing data\n",
    "X_train3 = pd.merge(state_averages, X_train3, how = 'inner', on='State').drop(['State','%_Proficient_Reading'], axis=1)\n",
    "X_test3 = pd.merge(state_averages, X_test3, how = 'inner', on='State').drop(['State','%_Proficient_Reading'], axis=1)"
   ]
  },
  {
   "cell_type": "code",
   "execution_count": 125,
   "metadata": {
    "scrolled": false
   },
   "outputs": [],
   "source": [
    "#Deal with nulls in training and testing data\n",
    "X_train3 = X_train3.fillna(value = {\"Level\":\"Other\"})\n",
    "X_test3 = X_test3.fillna(value = {'Level':'Other'})"
   ]
  },
  {
   "cell_type": "code",
   "execution_count": 126,
   "metadata": {},
   "outputs": [],
   "source": [
    "#Putting X back together\n",
    "X3 = pd.concat([X_train3, X_test3], axis=0)"
   ]
  },
  {
   "cell_type": "code",
   "execution_count": 127,
   "metadata": {},
   "outputs": [],
   "source": [
    "#Now need to one-hot encode  categorical columns\n",
    "#Isolate categorical columns\n",
    "cats3 = X3[['Density','Title_I', 'Virtual','Level']]\n",
    "#Transform data\n",
    "cats3 = pd.get_dummies(cats3)"
   ]
  },
  {
   "cell_type": "code",
   "execution_count": 128,
   "metadata": {},
   "outputs": [],
   "source": [
    "#Merge with main dataframe on key values\n",
    "X_numeric3 = pd.concat([X3, cats3], axis=1)"
   ]
  },
  {
   "cell_type": "code",
   "execution_count": 129,
   "metadata": {},
   "outputs": [],
   "source": [
    "#Drop non-numeric categorical columns \n",
    "X_numeric3 = X_numeric3.drop(['Density','Title_I', 'Virtual','Level'], axis=1)"
   ]
  },
  {
   "cell_type": "code",
   "execution_count": 130,
   "metadata": {},
   "outputs": [],
   "source": [
    "#Have to re-do the train test split\n",
    "X_train3, X_test3, y_train3, y_test3 = train_test_split(X_numeric3, target3, test_size=0.20, random_state=42)"
   ]
  },
  {
   "cell_type": "markdown",
   "metadata": {},
   "source": [
    "### Scaling Data Again"
   ]
  },
  {
   "cell_type": "code",
   "execution_count": 131,
   "metadata": {},
   "outputs": [],
   "source": [
    "scaler = StandardScaler()\n",
    "# Train our scaler on training data, then fit to testing\n",
    "X_train_scaled3 = scaler.fit_transform(X_train3, y=None)\n",
    "X_test_scaled3 = scaler.transform(X_test3)"
   ]
  },
  {
   "cell_type": "markdown",
   "metadata": {},
   "source": [
    "### Logistic Regression Model with All Features"
   ]
  },
  {
   "cell_type": "code",
   "execution_count": 132,
   "metadata": {},
   "outputs": [
    {
     "name": "stderr",
     "output_type": "stream",
     "text": [
      "/opt/anaconda3/envs/learn-env/lib/python3.8/site-packages/sklearn/linear_model/_logistic.py:762: ConvergenceWarning: lbfgs failed to converge (status=1):\n",
      "STOP: TOTAL NO. of ITERATIONS REACHED LIMIT.\n",
      "\n",
      "Increase the number of iterations (max_iter) or scale the data as shown in:\n",
      "    https://scikit-learn.org/stable/modules/preprocessing.html\n",
      "Please also refer to the documentation for alternative solver options:\n",
      "    https://scikit-learn.org/stable/modules/linear_model.html#logistic-regression\n",
      "  n_iter_i = _check_optimize_result(\n"
     ]
    },
    {
     "data": {
      "text/plain": [
       "LogisticRegression()"
      ]
     },
     "execution_count": 132,
     "metadata": {},
     "output_type": "execute_result"
    }
   ],
   "source": [
    "logreg = LogisticRegression()\n",
    "logreg.fit(X_train3, y_train3)"
   ]
  },
  {
   "cell_type": "code",
   "execution_count": 133,
   "metadata": {
    "scrolled": true
   },
   "outputs": [
    {
     "data": {
      "text/plain": [
       "0.5060543414057885"
      ]
     },
     "execution_count": 133,
     "metadata": {},
     "output_type": "execute_result"
    }
   ],
   "source": [
    "logreg.score(X_train_scaled3, y_train3)"
   ]
  },
  {
   "cell_type": "code",
   "execution_count": 134,
   "metadata": {
    "scrolled": false
   },
   "outputs": [
    {
     "data": {
      "text/plain": [
       "0.49940944881889765"
      ]
     },
     "execution_count": 134,
     "metadata": {},
     "output_type": "execute_result"
    }
   ],
   "source": [
    "logreg.score(X_test_scaled3, y_test3)"
   ]
  },
  {
   "cell_type": "markdown",
   "metadata": {},
   "source": [
    "### Adaboost Model with All Features"
   ]
  },
  {
   "cell_type": "code",
   "execution_count": 135,
   "metadata": {
    "scrolled": true
   },
   "outputs": [
    {
     "data": {
      "text/plain": [
       "AdaBoostClassifier()"
      ]
     },
     "execution_count": 135,
     "metadata": {},
     "output_type": "execute_result"
    }
   ],
   "source": [
    "ada3 = AdaBoostClassifier()\n",
    "ada3.fit(X_train_scaled3, y_train3)"
   ]
  },
  {
   "cell_type": "code",
   "execution_count": 136,
   "metadata": {},
   "outputs": [
    {
     "name": "stdout",
     "output_type": "stream",
     "text": [
      "Train Scores\n",
      "------------\n",
      "Accuracy: 0.5566548533175822\n",
      "Precision: 0.5554752805835406\n",
      "F1 Score: 0.4568534040885244\n",
      "ROC-AUC: 0.5783243940091565\n",
      "--------------------\n",
      "Test Scores\n",
      "-----------\n",
      "Accuracy: 0.5283464566929134\n",
      "Precision: 0.5237874872847037\n",
      "F1 Score: 0.4175984443364122\n",
      "ROC-AUC: 0.5230195581930032\n"
     ]
    },
    {
     "data": {
      "image/png": "[encoded data removed]",
      "text/plain": [
       "<Figure size 432x288 with 2 Axes>"
      ]
     },
     "metadata": {
      "needs_background": "light"
     },
     "output_type": "display_data"
    }
   ],
   "source": [
    "fn.evaluate(ada3, X_train_scaled3, X_test_scaled3, y_train3, y_test3)"
   ]
  },
  {
   "cell_type": "markdown",
   "metadata": {},
   "source": [
    "### Random Forest Model with All Features"
   ]
  },
  {
   "cell_type": "code",
   "execution_count": 137,
   "metadata": {},
   "outputs": [],
   "source": [
    "rf3 = RandomForestClassifier(max_depth=5, n_estimators=100, random_state=0)\n",
    "rf3.fit(X_train_scaled3, y_train3)\n",
    "rf_preds3 = rf3.predict(X_test_scaled3) "
   ]
  },
  {
   "cell_type": "code",
   "execution_count": 138,
   "metadata": {
    "scrolled": true
   },
   "outputs": [
    {
     "name": "stdout",
     "output_type": "stream",
     "text": [
      "Train Scores\n",
      "------------\n",
      "Accuracy: 0.5708308722189407\n",
      "Precision: 0.5842436700422624\n",
      "F1 Score: 0.38412092957547495\n",
      "ROC-AUC: 0.6018147562339754\n",
      "--------------------\n",
      "Test Scores\n",
      "-----------\n",
      "Accuracy: 0.5257874015748032\n",
      "Precision: 0.5189793587582282\n",
      "F1 Score: 0.3235046335299073\n",
      "ROC-AUC: 0.536581199900578\n"
     ]
    },
    {
     "data": {
      "image/png": "[encoded data removed]",
      "text/plain": [
       "<Figure size 432x288 with 2 Axes>"
      ]
     },
     "metadata": {
      "needs_background": "light"
     },
     "output_type": "display_data"
    }
   ],
   "source": [
    "fn.evaluate(rf3, X_train_scaled3, X_test_scaled3, y_train3, y_test3)"
   ]
  },
  {
   "cell_type": "markdown",
   "metadata": {},
   "source": [
    "### Feature Importances with All Features"
   ]
  },
  {
   "cell_type": "markdown",
   "metadata": {},
   "source": [
    "The models are performing about the same with all features included. Since the random forest model seems to be performing the best (although only by about a percentage point), I'm going to use this model to try and select some of the most promising features from the set."
   ]
  },
  {
   "cell_type": "code",
   "execution_count": 139,
   "metadata": {},
   "outputs": [],
   "source": [
    "importances3 = rf3.feature_importances_"
   ]
  },
  {
   "cell_type": "code",
   "execution_count": 140,
   "metadata": {},
   "outputs": [],
   "source": [
    "rf_importances3 = pd.DataFrame(index=X_test3.columns, data=importances3).sort_values(by=0,ascending=False)"
   ]
  },
  {
   "cell_type": "code",
   "execution_count": 141,
   "metadata": {},
   "outputs": [
    {
     "data": {
      "text/html": [
       "<div>\n",
       "<style scoped>\n",
       "    .dataframe tbody tr th:only-of-type {\n",
       "        vertical-align: middle;\n",
       "    }\n",
       "\n",
       "    .dataframe tbody tr th {\n",
       "        vertical-align: top;\n",
       "    }\n",
       "\n",
       "    .dataframe thead th {\n",
       "        text-align: right;\n",
       "    }\n",
       "</style>\n",
       "<table border=\"1\" class=\"dataframe\">\n",
       "  <thead>\n",
       "    <tr style=\"text-align: right;\">\n",
       "      <th></th>\n",
       "      <th>0</th>\n",
       "    </tr>\n",
       "  </thead>\n",
       "  <tbody>\n",
       "    <tr>\n",
       "      <th>FIPST</th>\n",
       "      <td>0.056268</td>\n",
       "    </tr>\n",
       "    <tr>\n",
       "      <th>Student_Teacher_Ratio</th>\n",
       "      <td>0.028777</td>\n",
       "    </tr>\n",
       "    <tr>\n",
       "      <th>State_Avg_Reading</th>\n",
       "      <td>0.026445</td>\n",
       "    </tr>\n",
       "    <tr>\n",
       "      <th>Per_Pupil_Support</th>\n",
       "      <td>0.026434</td>\n",
       "    </tr>\n",
       "    <tr>\n",
       "      <th>Total_Students</th>\n",
       "      <td>0.025310</td>\n",
       "    </tr>\n",
       "    <tr>\n",
       "      <th>Per_Pupil_Support_Staff</th>\n",
       "      <td>0.023652</td>\n",
       "    </tr>\n",
       "    <tr>\n",
       "      <th>Percent_Taxes</th>\n",
       "      <td>0.022189</td>\n",
       "    </tr>\n",
       "    <tr>\n",
       "      <th>Zip_Population</th>\n",
       "      <td>0.020628</td>\n",
       "    </tr>\n",
       "    <tr>\n",
       "      <th>Per_Pupil_Spending</th>\n",
       "      <td>0.020578</td>\n",
       "    </tr>\n",
       "    <tr>\n",
       "      <th>Per_Pupil_Salaries</th>\n",
       "      <td>0.020380</td>\n",
       "    </tr>\n",
       "    <tr>\n",
       "      <th>Median_Income</th>\n",
       "      <td>0.019841</td>\n",
       "    </tr>\n",
       "    <tr>\n",
       "      <th>TSTREV</th>\n",
       "      <td>0.016411</td>\n",
       "    </tr>\n",
       "    <tr>\n",
       "      <th>C17</th>\n",
       "      <td>0.014789</td>\n",
       "    </tr>\n",
       "    <tr>\n",
       "      <th>C16</th>\n",
       "      <td>0.014715</td>\n",
       "    </tr>\n",
       "    <tr>\n",
       "      <th>Property_Taxes</th>\n",
       "      <td>0.013358</td>\n",
       "    </tr>\n",
       "    <tr>\n",
       "      <th>C04</th>\n",
       "      <td>0.012269</td>\n",
       "    </tr>\n",
       "    <tr>\n",
       "      <th>E08</th>\n",
       "      <td>0.011377</td>\n",
       "    </tr>\n",
       "    <tr>\n",
       "      <th>TCAPOUT</th>\n",
       "      <td>0.010718</td>\n",
       "    </tr>\n",
       "    <tr>\n",
       "      <th>V15</th>\n",
       "      <td>0.010450</td>\n",
       "    </tr>\n",
       "    <tr>\n",
       "      <th>V45</th>\n",
       "      <td>0.010400</td>\n",
       "    </tr>\n",
       "    <tr>\n",
       "      <th>V93</th>\n",
       "      <td>0.010155</td>\n",
       "    </tr>\n",
       "    <tr>\n",
       "      <th>V91</th>\n",
       "      <td>0.009970</td>\n",
       "    </tr>\n",
       "    <tr>\n",
       "      <th>C19</th>\n",
       "      <td>0.009759</td>\n",
       "    </tr>\n",
       "    <tr>\n",
       "      <th>C05</th>\n",
       "      <td>0.009738</td>\n",
       "    </tr>\n",
       "    <tr>\n",
       "      <th>C09</th>\n",
       "      <td>0.009504</td>\n",
       "    </tr>\n",
       "    <tr>\n",
       "      <th>C01</th>\n",
       "      <td>0.008871</td>\n",
       "    </tr>\n",
       "    <tr>\n",
       "      <th>W01</th>\n",
       "      <td>0.008581</td>\n",
       "    </tr>\n",
       "    <tr>\n",
       "      <th>T09</th>\n",
       "      <td>0.008566</td>\n",
       "    </tr>\n",
       "    <tr>\n",
       "      <th>K09</th>\n",
       "      <td>0.008529</td>\n",
       "    </tr>\n",
       "    <tr>\n",
       "      <th>_31F</th>\n",
       "      <td>0.008524</td>\n",
       "    </tr>\n",
       "    <tr>\n",
       "      <th>C14</th>\n",
       "      <td>0.008513</td>\n",
       "    </tr>\n",
       "    <tr>\n",
       "      <th>A13</th>\n",
       "      <td>0.008329</td>\n",
       "    </tr>\n",
       "    <tr>\n",
       "      <th>V13</th>\n",
       "      <td>0.008309</td>\n",
       "    </tr>\n",
       "    <tr>\n",
       "      <th>V22</th>\n",
       "      <td>0.008284</td>\n",
       "    </tr>\n",
       "    <tr>\n",
       "      <th>C10</th>\n",
       "      <td>0.008240</td>\n",
       "    </tr>\n",
       "    <tr>\n",
       "      <th>C12</th>\n",
       "      <td>0.008098</td>\n",
       "    </tr>\n",
       "    <tr>\n",
       "      <th>TCURSSVC</th>\n",
       "      <td>0.007866</td>\n",
       "    </tr>\n",
       "    <tr>\n",
       "      <th>D11</th>\n",
       "      <td>0.007863</td>\n",
       "    </tr>\n",
       "    <tr>\n",
       "      <th>E17</th>\n",
       "      <td>0.007495</td>\n",
       "    </tr>\n",
       "    <tr>\n",
       "      <th>TFEDREV</th>\n",
       "      <td>0.007492</td>\n",
       "    </tr>\n",
       "    <tr>\n",
       "      <th>C13</th>\n",
       "      <td>0.007315</td>\n",
       "    </tr>\n",
       "    <tr>\n",
       "      <th>TLOCREV</th>\n",
       "      <td>0.007220</td>\n",
       "    </tr>\n",
       "    <tr>\n",
       "      <th>C25</th>\n",
       "      <td>0.007155</td>\n",
       "    </tr>\n",
       "    <tr>\n",
       "      <th>V11</th>\n",
       "      <td>0.007151</td>\n",
       "    </tr>\n",
       "    <tr>\n",
       "      <th>T06</th>\n",
       "      <td>0.007130</td>\n",
       "    </tr>\n",
       "    <tr>\n",
       "      <th>V12</th>\n",
       "      <td>0.007078</td>\n",
       "    </tr>\n",
       "    <tr>\n",
       "      <th>I86</th>\n",
       "      <td>0.007065</td>\n",
       "    </tr>\n",
       "    <tr>\n",
       "      <th>F12</th>\n",
       "      <td>0.007043</td>\n",
       "    </tr>\n",
       "    <tr>\n",
       "      <th>U22</th>\n",
       "      <td>0.007036</td>\n",
       "    </tr>\n",
       "    <tr>\n",
       "      <th>U50</th>\n",
       "      <td>0.006994</td>\n",
       "    </tr>\n",
       "    <tr>\n",
       "      <th>C08</th>\n",
       "      <td>0.006868</td>\n",
       "    </tr>\n",
       "    <tr>\n",
       "      <th>Q11</th>\n",
       "      <td>0.006819</td>\n",
       "    </tr>\n",
       "    <tr>\n",
       "      <th>W31</th>\n",
       "      <td>0.006628</td>\n",
       "    </tr>\n",
       "    <tr>\n",
       "      <th>W61</th>\n",
       "      <td>0.006513</td>\n",
       "    </tr>\n",
       "    <tr>\n",
       "      <th>K10</th>\n",
       "      <td>0.006402</td>\n",
       "    </tr>\n",
       "    <tr>\n",
       "      <th>CE2</th>\n",
       "      <td>0.006363</td>\n",
       "    </tr>\n",
       "    <tr>\n",
       "      <th>TOTALREV</th>\n",
       "      <td>0.006184</td>\n",
       "    </tr>\n",
       "    <tr>\n",
       "      <th>T02</th>\n",
       "      <td>0.006024</td>\n",
       "    </tr>\n",
       "    <tr>\n",
       "      <th>TCURINST</th>\n",
       "      <td>0.005924</td>\n",
       "    </tr>\n",
       "    <tr>\n",
       "      <th>V33</th>\n",
       "      <td>0.005850</td>\n",
       "    </tr>\n",
       "    <tr>\n",
       "      <th>Z34</th>\n",
       "      <td>0.005747</td>\n",
       "    </tr>\n",
       "    <tr>\n",
       "      <th>D23</th>\n",
       "      <td>0.005686</td>\n",
       "    </tr>\n",
       "    <tr>\n",
       "      <th>V17</th>\n",
       "      <td>0.005673</td>\n",
       "    </tr>\n",
       "    <tr>\n",
       "      <th>E13</th>\n",
       "      <td>0.005665</td>\n",
       "    </tr>\n",
       "    <tr>\n",
       "      <th>A09</th>\n",
       "      <td>0.005548</td>\n",
       "    </tr>\n",
       "    <tr>\n",
       "      <th>MEMBERSCH</th>\n",
       "      <td>0.005544</td>\n",
       "    </tr>\n",
       "    <tr>\n",
       "      <th>T15</th>\n",
       "      <td>0.005499</td>\n",
       "    </tr>\n",
       "    <tr>\n",
       "      <th>_41F</th>\n",
       "      <td>0.005394</td>\n",
       "    </tr>\n",
       "    <tr>\n",
       "      <th>Z36</th>\n",
       "      <td>0.005309</td>\n",
       "    </tr>\n",
       "    <tr>\n",
       "      <th>C20</th>\n",
       "      <td>0.005294</td>\n",
       "    </tr>\n",
       "    <tr>\n",
       "      <th>V90</th>\n",
       "      <td>0.005268</td>\n",
       "    </tr>\n",
       "    <tr>\n",
       "      <th>V38</th>\n",
       "      <td>0.005221</td>\n",
       "    </tr>\n",
       "    <tr>\n",
       "      <th>E07</th>\n",
       "      <td>0.005198</td>\n",
       "    </tr>\n",
       "    <tr>\n",
       "      <th>TOTALEXP</th>\n",
       "      <td>0.005196</td>\n",
       "    </tr>\n",
       "    <tr>\n",
       "      <th>V24</th>\n",
       "      <td>0.004977</td>\n",
       "    </tr>\n",
       "    <tr>\n",
       "      <th>V40</th>\n",
       "      <td>0.004958</td>\n",
       "    </tr>\n",
       "    <tr>\n",
       "      <th>V18</th>\n",
       "      <td>0.004876</td>\n",
       "    </tr>\n",
       "    <tr>\n",
       "      <th>V21</th>\n",
       "      <td>0.004687</td>\n",
       "    </tr>\n",
       "    <tr>\n",
       "      <th>A11</th>\n",
       "      <td>0.004661</td>\n",
       "    </tr>\n",
       "    <tr>\n",
       "      <th>V70</th>\n",
       "      <td>0.004612</td>\n",
       "    </tr>\n",
       "    <tr>\n",
       "      <th>V02</th>\n",
       "      <td>0.004605</td>\n",
       "    </tr>\n",
       "    <tr>\n",
       "      <th>V10</th>\n",
       "      <td>0.004554</td>\n",
       "    </tr>\n",
       "    <tr>\n",
       "      <th>V75</th>\n",
       "      <td>0.004551</td>\n",
       "    </tr>\n",
       "    <tr>\n",
       "      <th>V37</th>\n",
       "      <td>0.004360</td>\n",
       "    </tr>\n",
       "    <tr>\n",
       "      <th>Z32</th>\n",
       "      <td>0.004284</td>\n",
       "    </tr>\n",
       "    <tr>\n",
       "      <th>E09</th>\n",
       "      <td>0.004276</td>\n",
       "    </tr>\n",
       "    <tr>\n",
       "      <th>B13</th>\n",
       "      <td>0.004229</td>\n",
       "    </tr>\n",
       "    <tr>\n",
       "      <th>V23</th>\n",
       "      <td>0.004212</td>\n",
       "    </tr>\n",
       "    <tr>\n",
       "      <th>C11</th>\n",
       "      <td>0.004168</td>\n",
       "    </tr>\n",
       "    <tr>\n",
       "      <th>V29</th>\n",
       "      <td>0.004069</td>\n",
       "    </tr>\n",
       "    <tr>\n",
       "      <th>A08</th>\n",
       "      <td>0.004005</td>\n",
       "    </tr>\n",
       "    <tr>\n",
       "      <th>U30</th>\n",
       "      <td>0.003964</td>\n",
       "    </tr>\n",
       "    <tr>\n",
       "      <th>_21F</th>\n",
       "      <td>0.003947</td>\n",
       "    </tr>\n",
       "    <tr>\n",
       "      <th>TCURELSC</th>\n",
       "      <td>0.003868</td>\n",
       "    </tr>\n",
       "    <tr>\n",
       "      <th>Z38</th>\n",
       "      <td>0.003801</td>\n",
       "    </tr>\n",
       "    <tr>\n",
       "      <th>K14</th>\n",
       "      <td>0.003785</td>\n",
       "    </tr>\n",
       "    <tr>\n",
       "      <th>C15</th>\n",
       "      <td>0.003744</td>\n",
       "    </tr>\n",
       "    <tr>\n",
       "      <th>V30</th>\n",
       "      <td>0.003743</td>\n",
       "    </tr>\n",
       "    <tr>\n",
       "      <th>U97</th>\n",
       "      <td>0.003708</td>\n",
       "    </tr>\n",
       "    <tr>\n",
       "      <th>E11</th>\n",
       "      <td>0.003602</td>\n",
       "    </tr>\n",
       "    <tr>\n",
       "      <th>CE1</th>\n",
       "      <td>0.003573</td>\n",
       "    </tr>\n",
       "    <tr>\n",
       "      <th>Z33</th>\n",
       "      <td>0.003554</td>\n",
       "    </tr>\n",
       "    <tr>\n",
       "      <th>C35</th>\n",
       "      <td>0.003538</td>\n",
       "    </tr>\n",
       "    <tr>\n",
       "      <th>V92</th>\n",
       "      <td>0.003510</td>\n",
       "    </tr>\n",
       "    <tr>\n",
       "      <th>Z35</th>\n",
       "      <td>0.003444</td>\n",
       "    </tr>\n",
       "    <tr>\n",
       "      <th>V14</th>\n",
       "      <td>0.003358</td>\n",
       "    </tr>\n",
       "    <tr>\n",
       "      <th>TCUROTH</th>\n",
       "      <td>0.003318</td>\n",
       "    </tr>\n",
       "    <tr>\n",
       "      <th>C06</th>\n",
       "      <td>0.003300</td>\n",
       "    </tr>\n",
       "    <tr>\n",
       "      <th>B10</th>\n",
       "      <td>0.003083</td>\n",
       "    </tr>\n",
       "    <tr>\n",
       "      <th>A07</th>\n",
       "      <td>0.003078</td>\n",
       "    </tr>\n",
       "    <tr>\n",
       "      <th>T99</th>\n",
       "      <td>0.003020</td>\n",
       "    </tr>\n",
       "    <tr>\n",
       "      <th>V80</th>\n",
       "      <td>0.002966</td>\n",
       "    </tr>\n",
       "    <tr>\n",
       "      <th>A40</th>\n",
       "      <td>0.002910</td>\n",
       "    </tr>\n",
       "    <tr>\n",
       "      <th>V16</th>\n",
       "      <td>0.002785</td>\n",
       "    </tr>\n",
       "    <tr>\n",
       "      <th>TNONELSE</th>\n",
       "      <td>0.002773</td>\n",
       "    </tr>\n",
       "    <tr>\n",
       "      <th>A20</th>\n",
       "      <td>0.002772</td>\n",
       "    </tr>\n",
       "    <tr>\n",
       "      <th>C36</th>\n",
       "      <td>0.002757</td>\n",
       "    </tr>\n",
       "    <tr>\n",
       "      <th>B11</th>\n",
       "      <td>0.002641</td>\n",
       "    </tr>\n",
       "    <tr>\n",
       "      <th>C38</th>\n",
       "      <td>0.002614</td>\n",
       "    </tr>\n",
       "    <tr>\n",
       "      <th>_19H</th>\n",
       "      <td>0.002479</td>\n",
       "    </tr>\n",
       "    <tr>\n",
       "      <th>Level_High</th>\n",
       "      <td>0.002381</td>\n",
       "    </tr>\n",
       "    <tr>\n",
       "      <th>G15</th>\n",
       "      <td>0.002187</td>\n",
       "    </tr>\n",
       "    <tr>\n",
       "      <th>V32</th>\n",
       "      <td>0.002184</td>\n",
       "    </tr>\n",
       "    <tr>\n",
       "      <th>_66V</th>\n",
       "      <td>0.002121</td>\n",
       "    </tr>\n",
       "    <tr>\n",
       "      <th>Title_I_yes</th>\n",
       "      <td>0.002109</td>\n",
       "    </tr>\n",
       "    <tr>\n",
       "      <th>Z37</th>\n",
       "      <td>0.001956</td>\n",
       "    </tr>\n",
       "    <tr>\n",
       "      <th>V95</th>\n",
       "      <td>0.001889</td>\n",
       "    </tr>\n",
       "    <tr>\n",
       "      <th>K11</th>\n",
       "      <td>0.001831</td>\n",
       "    </tr>\n",
       "    <tr>\n",
       "      <th>U11</th>\n",
       "      <td>0.001708</td>\n",
       "    </tr>\n",
       "    <tr>\n",
       "      <th>Level_Other</th>\n",
       "      <td>0.001599</td>\n",
       "    </tr>\n",
       "    <tr>\n",
       "      <th>V60</th>\n",
       "      <td>0.001562</td>\n",
       "    </tr>\n",
       "    <tr>\n",
       "      <th>Density_urban</th>\n",
       "      <td>0.001488</td>\n",
       "    </tr>\n",
       "    <tr>\n",
       "      <th>Level_Middle</th>\n",
       "      <td>0.001454</td>\n",
       "    </tr>\n",
       "    <tr>\n",
       "      <th>L12</th>\n",
       "      <td>0.001351</td>\n",
       "    </tr>\n",
       "    <tr>\n",
       "      <th>C39</th>\n",
       "      <td>0.001293</td>\n",
       "    </tr>\n",
       "    <tr>\n",
       "      <th>Virtual_yes</th>\n",
       "      <td>0.001284</td>\n",
       "    </tr>\n",
       "    <tr>\n",
       "      <th>A15</th>\n",
       "      <td>0.001265</td>\n",
       "    </tr>\n",
       "    <tr>\n",
       "      <th>C07</th>\n",
       "      <td>0.001262</td>\n",
       "    </tr>\n",
       "    <tr>\n",
       "      <th>Density_midsize</th>\n",
       "      <td>0.001183</td>\n",
       "    </tr>\n",
       "    <tr>\n",
       "      <th>T40</th>\n",
       "      <td>0.001140</td>\n",
       "    </tr>\n",
       "    <tr>\n",
       "      <th>Virtual_no</th>\n",
       "      <td>0.001105</td>\n",
       "    </tr>\n",
       "    <tr>\n",
       "      <th>B12</th>\n",
       "      <td>0.001078</td>\n",
       "    </tr>\n",
       "    <tr>\n",
       "      <th>Title_I_no</th>\n",
       "      <td>0.001057</td>\n",
       "    </tr>\n",
       "    <tr>\n",
       "      <th>Level_Elementary</th>\n",
       "      <td>0.001000</td>\n",
       "    </tr>\n",
       "    <tr>\n",
       "      <th>C24</th>\n",
       "      <td>0.000726</td>\n",
       "    </tr>\n",
       "    <tr>\n",
       "      <th>_61V</th>\n",
       "      <td>0.000721</td>\n",
       "    </tr>\n",
       "    <tr>\n",
       "      <th>V65</th>\n",
       "      <td>0.000413</td>\n",
       "    </tr>\n",
       "    <tr>\n",
       "      <th>CENFILE</th>\n",
       "      <td>0.000248</td>\n",
       "    </tr>\n",
       "    <tr>\n",
       "      <th>V85</th>\n",
       "      <td>0.000000</td>\n",
       "    </tr>\n",
       "    <tr>\n",
       "      <th>WEIGHT</th>\n",
       "      <td>0.000000</td>\n",
       "    </tr>\n",
       "    <tr>\n",
       "      <th>YEAR</th>\n",
       "      <td>0.000000</td>\n",
       "    </tr>\n",
       "    <tr>\n",
       "      <th>M12</th>\n",
       "      <td>0.000000</td>\n",
       "    </tr>\n",
       "    <tr>\n",
       "      <th>CCDNF</th>\n",
       "      <td>0.000000</td>\n",
       "    </tr>\n",
       "    <tr>\n",
       "      <th>CE3</th>\n",
       "      <td>0.000000</td>\n",
       "    </tr>\n",
       "  </tbody>\n",
       "</table>\n",
       "</div>"
      ],
      "text/plain": [
       "                                0\n",
       "FIPST                    0.056268\n",
       "Student_Teacher_Ratio    0.028777\n",
       "State_Avg_Reading        0.026445\n",
       "Per_Pupil_Support        0.026434\n",
       "Total_Students           0.025310\n",
       "Per_Pupil_Support_Staff  0.023652\n",
       "Percent_Taxes            0.022189\n",
       "Zip_Population           0.020628\n",
       "Per_Pupil_Spending       0.020578\n",
       "Per_Pupil_Salaries       0.020380\n",
       "Median_Income            0.019841\n",
       "TSTREV                   0.016411\n",
       "C17                      0.014789\n",
       "C16                      0.014715\n",
       "Property_Taxes           0.013358\n",
       "C04                      0.012269\n",
       "E08                      0.011377\n",
       "TCAPOUT                  0.010718\n",
       "V15                      0.010450\n",
       "V45                      0.010400\n",
       "V93                      0.010155\n",
       "V91                      0.009970\n",
       "C19                      0.009759\n",
       "C05                      0.009738\n",
       "C09                      0.009504\n",
       "C01                      0.008871\n",
       "W01                      0.008581\n",
       "T09                      0.008566\n",
       "K09                      0.008529\n",
       "_31F                     0.008524\n",
       "C14                      0.008513\n",
       "A13                      0.008329\n",
       "V13                      0.008309\n",
       "V22                      0.008284\n",
       "C10                      0.008240\n",
       "C12                      0.008098\n",
       "TCURSSVC                 0.007866\n",
       "D11                      0.007863\n",
       "E17                      0.007495\n",
       "TFEDREV                  0.007492\n",
       "C13                      0.007315\n",
       "TLOCREV                  0.007220\n",
       "C25                      0.007155\n",
       "V11                      0.007151\n",
       "T06                      0.007130\n",
       "V12                      0.007078\n",
       "I86                      0.007065\n",
       "F12                      0.007043\n",
       "U22                      0.007036\n",
       "U50                      0.006994\n",
       "C08                      0.006868\n",
       "Q11                      0.006819\n",
       "W31                      0.006628\n",
       "W61                      0.006513\n",
       "K10                      0.006402\n",
       "CE2                      0.006363\n",
       "TOTALREV                 0.006184\n",
       "T02                      0.006024\n",
       "TCURINST                 0.005924\n",
       "V33                      0.005850\n",
       "Z34                      0.005747\n",
       "D23                      0.005686\n",
       "V17                      0.005673\n",
       "E13                      0.005665\n",
       "A09                      0.005548\n",
       "MEMBERSCH                0.005544\n",
       "T15                      0.005499\n",
       "_41F                     0.005394\n",
       "Z36                      0.005309\n",
       "C20                      0.005294\n",
       "V90                      0.005268\n",
       "V38                      0.005221\n",
       "E07                      0.005198\n",
       "TOTALEXP                 0.005196\n",
       "V24                      0.004977\n",
       "V40                      0.004958\n",
       "V18                      0.004876\n",
       "V21                      0.004687\n",
       "A11                      0.004661\n",
       "V70                      0.004612\n",
       "V02                      0.004605\n",
       "V10                      0.004554\n",
       "V75                      0.004551\n",
       "V37                      0.004360\n",
       "Z32                      0.004284\n",
       "E09                      0.004276\n",
       "B13                      0.004229\n",
       "V23                      0.004212\n",
       "C11                      0.004168\n",
       "V29                      0.004069\n",
       "A08                      0.004005\n",
       "U30                      0.003964\n",
       "_21F                     0.003947\n",
       "TCURELSC                 0.003868\n",
       "Z38                      0.003801\n",
       "K14                      0.003785\n",
       "C15                      0.003744\n",
       "V30                      0.003743\n",
       "U97                      0.003708\n",
       "E11                      0.003602\n",
       "CE1                      0.003573\n",
       "Z33                      0.003554\n",
       "C35                      0.003538\n",
       "V92                      0.003510\n",
       "Z35                      0.003444\n",
       "V14                      0.003358\n",
       "TCUROTH                  0.003318\n",
       "C06                      0.003300\n",
       "B10                      0.003083\n",
       "A07                      0.003078\n",
       "T99                      0.003020\n",
       "V80                      0.002966\n",
       "A40                      0.002910\n",
       "V16                      0.002785\n",
       "TNONELSE                 0.002773\n",
       "A20                      0.002772\n",
       "C36                      0.002757\n",
       "B11                      0.002641\n",
       "C38                      0.002614\n",
       "_19H                     0.002479\n",
       "Level_High               0.002381\n",
       "G15                      0.002187\n",
       "V32                      0.002184\n",
       "_66V                     0.002121\n",
       "Title_I_yes              0.002109\n",
       "Z37                      0.001956\n",
       "V95                      0.001889\n",
       "K11                      0.001831\n",
       "U11                      0.001708\n",
       "Level_Other              0.001599\n",
       "V60                      0.001562\n",
       "Density_urban            0.001488\n",
       "Level_Middle             0.001454\n",
       "L12                      0.001351\n",
       "C39                      0.001293\n",
       "Virtual_yes              0.001284\n",
       "A15                      0.001265\n",
       "C07                      0.001262\n",
       "Density_midsize          0.001183\n",
       "T40                      0.001140\n",
       "Virtual_no               0.001105\n",
       "B12                      0.001078\n",
       "Title_I_no               0.001057\n",
       "Level_Elementary         0.001000\n",
       "C24                      0.000726\n",
       "_61V                     0.000721\n",
       "V65                      0.000413\n",
       "CENFILE                  0.000248\n",
       "V85                      0.000000\n",
       "WEIGHT                   0.000000\n",
       "YEAR                     0.000000\n",
       "M12                      0.000000\n",
       "CCDNF                    0.000000\n",
       "CE3                      0.000000"
      ]
     },
     "execution_count": 141,
     "metadata": {},
     "output_type": "execute_result"
    }
   ],
   "source": [
    "rf_importances3"
   ]
  },
  {
   "cell_type": "code",
   "execution_count": 142,
   "metadata": {
    "scrolled": true
   },
   "outputs": [
    {
     "data": {
      "image/png": "[encoded data removed]",
      "text/plain": [
       "<Figure size 3600x3456 with 1 Axes>"
      ]
     },
     "metadata": {
      "needs_background": "light"
     },
     "output_type": "display_data"
    }
   ],
   "source": [
    "# plot feature importance\n",
    "rf_importances3.plot(kind='bar', legend=False, color='darkorange', figsize=(50,48));"
   ]
  },
  {
   "cell_type": "code",
   "execution_count": 143,
   "metadata": {},
   "outputs": [],
   "source": [
    "imp_features2 = rf_importances3.loc[rf_importances3[0] > 0.01]"
   ]
  },
  {
   "cell_type": "code",
   "execution_count": 144,
   "metadata": {
    "scrolled": true
   },
   "outputs": [],
   "source": [
    "imp_features2 = imp_features2.transpose()"
   ]
  },
  {
   "cell_type": "code",
   "execution_count": 145,
   "metadata": {
    "scrolled": true
   },
   "outputs": [
    {
     "data": {
      "text/html": [
       "<div>\n",
       "<style scoped>\n",
       "    .dataframe tbody tr th:only-of-type {\n",
       "        vertical-align: middle;\n",
       "    }\n",
       "\n",
       "    .dataframe tbody tr th {\n",
       "        vertical-align: top;\n",
       "    }\n",
       "\n",
       "    .dataframe thead th {\n",
       "        text-align: right;\n",
       "    }\n",
       "</style>\n",
       "<table border=\"1\" class=\"dataframe\">\n",
       "  <thead>\n",
       "    <tr style=\"text-align: right;\">\n",
       "      <th></th>\n",
       "      <th>FIPST</th>\n",
       "      <th>Student_Teacher_Ratio</th>\n",
       "      <th>State_Avg_Reading</th>\n",
       "      <th>Per_Pupil_Support</th>\n",
       "      <th>Total_Students</th>\n",
       "      <th>Per_Pupil_Support_Staff</th>\n",
       "      <th>Percent_Taxes</th>\n",
       "      <th>Zip_Population</th>\n",
       "      <th>Per_Pupil_Spending</th>\n",
       "      <th>Per_Pupil_Salaries</th>\n",
       "      <th>Median_Income</th>\n",
       "      <th>TSTREV</th>\n",
       "      <th>C17</th>\n",
       "      <th>C16</th>\n",
       "      <th>Property_Taxes</th>\n",
       "      <th>C04</th>\n",
       "      <th>E08</th>\n",
       "      <th>TCAPOUT</th>\n",
       "      <th>V15</th>\n",
       "      <th>V45</th>\n",
       "      <th>V93</th>\n",
       "    </tr>\n",
       "  </thead>\n",
       "  <tbody>\n",
       "    <tr>\n",
       "      <th>0</th>\n",
       "      <td>0.056268</td>\n",
       "      <td>0.028777</td>\n",
       "      <td>0.026445</td>\n",
       "      <td>0.026434</td>\n",
       "      <td>0.02531</td>\n",
       "      <td>0.023652</td>\n",
       "      <td>0.022189</td>\n",
       "      <td>0.020628</td>\n",
       "      <td>0.020578</td>\n",
       "      <td>0.02038</td>\n",
       "      <td>0.019841</td>\n",
       "      <td>0.016411</td>\n",
       "      <td>0.014789</td>\n",
       "      <td>0.014715</td>\n",
       "      <td>0.013358</td>\n",
       "      <td>0.012269</td>\n",
       "      <td>0.011377</td>\n",
       "      <td>0.010718</td>\n",
       "      <td>0.01045</td>\n",
       "      <td>0.0104</td>\n",
       "      <td>0.010155</td>\n",
       "    </tr>\n",
       "  </tbody>\n",
       "</table>\n",
       "</div>"
      ],
      "text/plain": [
       "      FIPST  Student_Teacher_Ratio  State_Avg_Reading  Per_Pupil_Support  \\\n",
       "0  0.056268               0.028777           0.026445           0.026434   \n",
       "\n",
       "   Total_Students  Per_Pupil_Support_Staff  Percent_Taxes  Zip_Population  \\\n",
       "0         0.02531                 0.023652       0.022189        0.020628   \n",
       "\n",
       "   Per_Pupil_Spending  Per_Pupil_Salaries  Median_Income    TSTREV       C17  \\\n",
       "0            0.020578             0.02038       0.019841  0.016411  0.014789   \n",
       "\n",
       "        C16  Property_Taxes       C04       E08   TCAPOUT      V15     V45  \\\n",
       "0  0.014715        0.013358  0.012269  0.011377  0.010718  0.01045  0.0104   \n",
       "\n",
       "        V93  \n",
       "0  0.010155  "
      ]
     },
     "execution_count": 145,
     "metadata": {},
     "output_type": "execute_result"
    }
   ],
   "source": [
    "imp_features2"
   ]
  },
  {
   "cell_type": "code",
   "execution_count": 146,
   "metadata": {},
   "outputs": [],
   "source": [
    "importants_list = imp_features2.columns.values.tolist()"
   ]
  },
  {
   "cell_type": "code",
   "execution_count": 147,
   "metadata": {},
   "outputs": [
    {
     "data": {
      "text/plain": [
       "['FIPST',\n",
       " 'Student_Teacher_Ratio',\n",
       " 'State_Avg_Reading',\n",
       " 'Per_Pupil_Support',\n",
       " 'Total_Students',\n",
       " 'Per_Pupil_Support_Staff',\n",
       " 'Percent_Taxes',\n",
       " 'Zip_Population',\n",
       " 'Per_Pupil_Spending',\n",
       " 'Per_Pupil_Salaries',\n",
       " 'Median_Income',\n",
       " 'TSTREV',\n",
       " 'C17',\n",
       " 'C16',\n",
       " 'Property_Taxes',\n",
       " 'C04',\n",
       " 'E08',\n",
       " 'TCAPOUT',\n",
       " 'V15',\n",
       " 'V45',\n",
       " 'V93']"
      ]
     },
     "execution_count": 147,
     "metadata": {},
     "output_type": "execute_result"
    }
   ],
   "source": [
    "importants_list"
   ]
  },
  {
   "cell_type": "code",
   "execution_count": 148,
   "metadata": {},
   "outputs": [],
   "source": [
    "df4 = df3[[c for c in df3.columns if c in importants_list]]"
   ]
  },
  {
   "cell_type": "code",
   "execution_count": 149,
   "metadata": {
    "scrolled": false
   },
   "outputs": [
    {
     "data": {
      "text/html": [
       "<div>\n",
       "<style scoped>\n",
       "    .dataframe tbody tr th:only-of-type {\n",
       "        vertical-align: middle;\n",
       "    }\n",
       "\n",
       "    .dataframe tbody tr th {\n",
       "        vertical-align: top;\n",
       "    }\n",
       "\n",
       "    .dataframe thead th {\n",
       "        text-align: right;\n",
       "    }\n",
       "</style>\n",
       "<table border=\"1\" class=\"dataframe\">\n",
       "  <thead>\n",
       "    <tr style=\"text-align: right;\">\n",
       "      <th></th>\n",
       "      <th>Zip_Population</th>\n",
       "      <th>Median_Income</th>\n",
       "      <th>Property_Taxes</th>\n",
       "      <th>Percent_Taxes</th>\n",
       "      <th>Per_Pupil_Spending</th>\n",
       "      <th>Per_Pupil_Support</th>\n",
       "      <th>Per_Pupil_Support_Staff</th>\n",
       "      <th>Per_Pupil_Salaries</th>\n",
       "      <th>Total_Students</th>\n",
       "      <th>Student_Teacher_Ratio</th>\n",
       "      <th>FIPST</th>\n",
       "      <th>C16</th>\n",
       "      <th>C17</th>\n",
       "      <th>TSTREV</th>\n",
       "      <th>C04</th>\n",
       "      <th>E08</th>\n",
       "      <th>V45</th>\n",
       "      <th>TCAPOUT</th>\n",
       "      <th>V15</th>\n",
       "      <th>V93</th>\n",
       "    </tr>\n",
       "  </thead>\n",
       "  <tbody>\n",
       "    <tr>\n",
       "      <th>0</th>\n",
       "      <td>63864</td>\n",
       "      <td>41566</td>\n",
       "      <td>7637</td>\n",
       "      <td>8.7</td>\n",
       "      <td>8600</td>\n",
       "      <td>512</td>\n",
       "      <td>241</td>\n",
       "      <td>3357</td>\n",
       "      <td>206</td>\n",
       "      <td>11.31</td>\n",
       "      <td>37</td>\n",
       "      <td>4000</td>\n",
       "      <td>0</td>\n",
       "      <td>1506000</td>\n",
       "      <td>0</td>\n",
       "      <td>9000</td>\n",
       "      <td>21000</td>\n",
       "      <td>18000</td>\n",
       "      <td>0</td>\n",
       "      <td>0</td>\n",
       "    </tr>\n",
       "    <tr>\n",
       "      <th>1</th>\n",
       "      <td>63864</td>\n",
       "      <td>41566</td>\n",
       "      <td>2411346</td>\n",
       "      <td>24.4</td>\n",
       "      <td>15793</td>\n",
       "      <td>969</td>\n",
       "      <td>1189</td>\n",
       "      <td>5023</td>\n",
       "      <td>439</td>\n",
       "      <td>11.31</td>\n",
       "      <td>37</td>\n",
       "      <td>1305000</td>\n",
       "      <td>0</td>\n",
       "      <td>213378000</td>\n",
       "      <td>0</td>\n",
       "      <td>4900000</td>\n",
       "      <td>18478000</td>\n",
       "      <td>24800000</td>\n",
       "      <td>3019000</td>\n",
       "      <td>422000</td>\n",
       "    </tr>\n",
       "    <tr>\n",
       "      <th>2</th>\n",
       "      <td>63864</td>\n",
       "      <td>41566</td>\n",
       "      <td>15097</td>\n",
       "      <td>18.2</td>\n",
       "      <td>12453</td>\n",
       "      <td>588</td>\n",
       "      <td>825</td>\n",
       "      <td>4813</td>\n",
       "      <td>363</td>\n",
       "      <td>11.86</td>\n",
       "      <td>37</td>\n",
       "      <td>1305000</td>\n",
       "      <td>0</td>\n",
       "      <td>213378000</td>\n",
       "      <td>0</td>\n",
       "      <td>4900000</td>\n",
       "      <td>18478000</td>\n",
       "      <td>24800000</td>\n",
       "      <td>3019000</td>\n",
       "      <td>422000</td>\n",
       "    </tr>\n",
       "    <tr>\n",
       "      <th>3</th>\n",
       "      <td>63864</td>\n",
       "      <td>41566</td>\n",
       "      <td>0</td>\n",
       "      <td>46.0</td>\n",
       "      <td>14732</td>\n",
       "      <td>786</td>\n",
       "      <td>738</td>\n",
       "      <td>5595</td>\n",
       "      <td>1869</td>\n",
       "      <td>16.78</td>\n",
       "      <td>37</td>\n",
       "      <td>1305000</td>\n",
       "      <td>0</td>\n",
       "      <td>213378000</td>\n",
       "      <td>0</td>\n",
       "      <td>4900000</td>\n",
       "      <td>18478000</td>\n",
       "      <td>24800000</td>\n",
       "      <td>3019000</td>\n",
       "      <td>422000</td>\n",
       "    </tr>\n",
       "    <tr>\n",
       "      <th>4</th>\n",
       "      <td>63864</td>\n",
       "      <td>41566</td>\n",
       "      <td>0</td>\n",
       "      <td>0.0</td>\n",
       "      <td>0</td>\n",
       "      <td>0</td>\n",
       "      <td>0</td>\n",
       "      <td>0</td>\n",
       "      <td>339</td>\n",
       "      <td>10.59</td>\n",
       "      <td>37</td>\n",
       "      <td>1305000</td>\n",
       "      <td>0</td>\n",
       "      <td>213378000</td>\n",
       "      <td>0</td>\n",
       "      <td>4900000</td>\n",
       "      <td>18478000</td>\n",
       "      <td>24800000</td>\n",
       "      <td>3019000</td>\n",
       "      <td>422000</td>\n",
       "    </tr>\n",
       "  </tbody>\n",
       "</table>\n",
       "</div>"
      ],
      "text/plain": [
       "   Zip_Population  Median_Income  Property_Taxes  Percent_Taxes  \\\n",
       "0           63864          41566            7637            8.7   \n",
       "1           63864          41566         2411346           24.4   \n",
       "2           63864          41566           15097           18.2   \n",
       "3           63864          41566               0           46.0   \n",
       "4           63864          41566               0            0.0   \n",
       "\n",
       "   Per_Pupil_Spending  Per_Pupil_Support  Per_Pupil_Support_Staff  \\\n",
       "0                8600                512                      241   \n",
       "1               15793                969                     1189   \n",
       "2               12453                588                      825   \n",
       "3               14732                786                      738   \n",
       "4                   0                  0                        0   \n",
       "\n",
       "   Per_Pupil_Salaries  Total_Students  Student_Teacher_Ratio  FIPST      C16  \\\n",
       "0                3357             206                  11.31     37     4000   \n",
       "1                5023             439                  11.31     37  1305000   \n",
       "2                4813             363                  11.86     37  1305000   \n",
       "3                5595            1869                  16.78     37  1305000   \n",
       "4                   0             339                  10.59     37  1305000   \n",
       "\n",
       "   C17     TSTREV  C04      E08       V45   TCAPOUT      V15     V93  \n",
       "0    0    1506000    0     9000     21000     18000        0       0  \n",
       "1    0  213378000    0  4900000  18478000  24800000  3019000  422000  \n",
       "2    0  213378000    0  4900000  18478000  24800000  3019000  422000  \n",
       "3    0  213378000    0  4900000  18478000  24800000  3019000  422000  \n",
       "4    0  213378000    0  4900000  18478000  24800000  3019000  422000  "
      ]
     },
     "execution_count": 149,
     "metadata": {},
     "output_type": "execute_result"
    }
   ],
   "source": [
    "df4.head()"
   ]
  },
  {
   "cell_type": "code",
   "execution_count": 150,
   "metadata": {},
   "outputs": [
    {
     "data": {
      "text/plain": [
       "(25396, 20)"
      ]
     },
     "execution_count": 150,
     "metadata": {},
     "output_type": "execute_result"
    }
   ],
   "source": [
    "df4.shape"
   ]
  },
  {
   "cell_type": "code",
   "execution_count": 151,
   "metadata": {},
   "outputs": [],
   "source": [
    "#Train-test split for final model\n",
    "X_train4, X_test4, y_train4, y_test4 = train_test_split(df4, target3, test_size=0.20, random_state=42)"
   ]
  },
  {
   "cell_type": "code",
   "execution_count": 152,
   "metadata": {},
   "outputs": [],
   "source": [
    "scaler = StandardScaler()\n",
    "# Train our scaler on training data, then fit to testing\n",
    "X_train_scaled4 = scaler.fit_transform(X_train4, y=None)\n",
    "X_test_scaled4 = scaler.transform(X_test4)"
   ]
  },
  {
   "cell_type": "markdown",
   "metadata": {},
   "source": [
    "### Random Forest with Selected Features"
   ]
  },
  {
   "cell_type": "code",
   "execution_count": 153,
   "metadata": {},
   "outputs": [],
   "source": [
    "rf4 = RandomForestClassifier(max_depth=5, n_estimators=100, random_state=0)\n",
    "rf4.fit(X_train_scaled4, y_train4)\n",
    "rf_preds4 = rf4.predict(X_test_scaled4) "
   ]
  },
  {
   "cell_type": "code",
   "execution_count": 154,
   "metadata": {
    "scrolled": false
   },
   "outputs": [
    {
     "name": "stdout",
     "output_type": "stream",
     "text": [
      "Train Scores\n",
      "------------\n",
      "Accuracy: 0.7363162039771609\n",
      "Precision: 0.7365026968295598\n",
      "F1 Score: 0.7148863696843898\n",
      "ROC-AUC: 0.8107289572588534\n",
      "--------------------\n",
      "Test Scores\n",
      "-----------\n",
      "Accuracy: 0.7395669291338582\n",
      "Precision: 0.7396582667507198\n",
      "F1 Score: 0.7180907734924356\n",
      "ROC-AUC: 0.8113039054247189\n"
     ]
    },
    {
     "data": {
      "image/png": "[encoded data removed]",
      "text/plain": [
       "<Figure size 432x288 with 2 Axes>"
      ]
     },
     "metadata": {
      "needs_background": "light"
     },
     "output_type": "display_data"
    }
   ],
   "source": [
    "fn.evaluate(rf4, X_train_scaled4, X_test_scaled4, y_train4, y_test4)"
   ]
  },
  {
   "cell_type": "markdown",
   "metadata": {},
   "source": [
    "### AdaBoost with Selected Features"
   ]
  },
  {
   "cell_type": "code",
   "execution_count": 155,
   "metadata": {
    "scrolled": true
   },
   "outputs": [
    {
     "data": {
      "text/plain": [
       "AdaBoostClassifier()"
      ]
     },
     "execution_count": 155,
     "metadata": {},
     "output_type": "execute_result"
    }
   ],
   "source": [
    "ada4 = AdaBoostClassifier()\n",
    "ada4.fit(X_train_scaled4, y_train4)"
   ]
  },
  {
   "cell_type": "code",
   "execution_count": 156,
   "metadata": {
    "scrolled": true
   },
   "outputs": [
    {
     "name": "stdout",
     "output_type": "stream",
     "text": [
      "Train Scores\n",
      "------------\n",
      "Accuracy: 0.7350856467808624\n",
      "Precision: 0.734957104924134\n",
      "F1 Score: 0.7178653805829315\n",
      "ROC-AUC: 0.8122313067208728\n",
      "--------------------\n",
      "Test Scores\n",
      "-----------\n",
      "Accuracy: 0.7362204724409449\n",
      "Precision: 0.7361168244897843\n",
      "F1 Score: 0.716821639898563\n",
      "ROC-AUC: 0.8139214254644876\n"
     ]
    },
    {
     "data": {
      "image/png": "[encoded data removed]",
      "text/plain": [
       "<Figure size 432x288 with 2 Axes>"
      ]
     },
     "metadata": {
      "needs_background": "light"
     },
     "output_type": "display_data"
    }
   ],
   "source": [
    "fn.evaluate(ada4, X_train_scaled4, X_test_scaled4, y_train4, y_test4)"
   ]
  },
  {
   "cell_type": "code",
   "execution_count": 157,
   "metadata": {},
   "outputs": [],
   "source": [
    "final_model = df4.rename({'FIPST':'County','C16':'Fed$_SchoolSafety','C19':'Fed$_CTE','TSTREV':'Total_State_Revenue','C04':'State$_StaffImprove','E08':'Superint_Expenditures','TCAPOUT':'Capital_Outlay','K09':'$_Equipment','V15':'Superint_Salaries','C17':'$_SchoolSafety'}, axis=1\n",
    "                         )"
   ]
  },
  {
   "cell_type": "code",
   "execution_count": 158,
   "metadata": {
    "scrolled": false
   },
   "outputs": [
    {
     "data": {
      "text/html": [
       "<div>\n",
       "<style scoped>\n",
       "    .dataframe tbody tr th:only-of-type {\n",
       "        vertical-align: middle;\n",
       "    }\n",
       "\n",
       "    .dataframe tbody tr th {\n",
       "        vertical-align: top;\n",
       "    }\n",
       "\n",
       "    .dataframe thead th {\n",
       "        text-align: right;\n",
       "    }\n",
       "</style>\n",
       "<table border=\"1\" class=\"dataframe\">\n",
       "  <thead>\n",
       "    <tr style=\"text-align: right;\">\n",
       "      <th></th>\n",
       "      <th>Zip_Population</th>\n",
       "      <th>Median_Income</th>\n",
       "      <th>Property_Taxes</th>\n",
       "      <th>Percent_Taxes</th>\n",
       "      <th>Per_Pupil_Spending</th>\n",
       "      <th>Per_Pupil_Support</th>\n",
       "      <th>Per_Pupil_Support_Staff</th>\n",
       "      <th>Per_Pupil_Salaries</th>\n",
       "      <th>Total_Students</th>\n",
       "      <th>Student_Teacher_Ratio</th>\n",
       "      <th>County</th>\n",
       "      <th>Fed$_SchoolSafety</th>\n",
       "      <th>$_SchoolSafety</th>\n",
       "      <th>Total_State_Revenue</th>\n",
       "      <th>State$_StaffImprove</th>\n",
       "      <th>Superint_Expenditures</th>\n",
       "      <th>V45</th>\n",
       "      <th>Capital_Outlay</th>\n",
       "      <th>Superint_Salaries</th>\n",
       "      <th>V93</th>\n",
       "    </tr>\n",
       "  </thead>\n",
       "  <tbody>\n",
       "    <tr>\n",
       "      <th>0</th>\n",
       "      <td>63864</td>\n",
       "      <td>41566</td>\n",
       "      <td>7637</td>\n",
       "      <td>8.7</td>\n",
       "      <td>8600</td>\n",
       "      <td>512</td>\n",
       "      <td>241</td>\n",
       "      <td>3357</td>\n",
       "      <td>206</td>\n",
       "      <td>11.31</td>\n",
       "      <td>37</td>\n",
       "      <td>4000</td>\n",
       "      <td>0</td>\n",
       "      <td>1506000</td>\n",
       "      <td>0</td>\n",
       "      <td>9000</td>\n",
       "      <td>21000</td>\n",
       "      <td>18000</td>\n",
       "      <td>0</td>\n",
       "      <td>0</td>\n",
       "    </tr>\n",
       "    <tr>\n",
       "      <th>1</th>\n",
       "      <td>63864</td>\n",
       "      <td>41566</td>\n",
       "      <td>2411346</td>\n",
       "      <td>24.4</td>\n",
       "      <td>15793</td>\n",
       "      <td>969</td>\n",
       "      <td>1189</td>\n",
       "      <td>5023</td>\n",
       "      <td>439</td>\n",
       "      <td>11.31</td>\n",
       "      <td>37</td>\n",
       "      <td>1305000</td>\n",
       "      <td>0</td>\n",
       "      <td>213378000</td>\n",
       "      <td>0</td>\n",
       "      <td>4900000</td>\n",
       "      <td>18478000</td>\n",
       "      <td>24800000</td>\n",
       "      <td>3019000</td>\n",
       "      <td>422000</td>\n",
       "    </tr>\n",
       "    <tr>\n",
       "      <th>2</th>\n",
       "      <td>63864</td>\n",
       "      <td>41566</td>\n",
       "      <td>15097</td>\n",
       "      <td>18.2</td>\n",
       "      <td>12453</td>\n",
       "      <td>588</td>\n",
       "      <td>825</td>\n",
       "      <td>4813</td>\n",
       "      <td>363</td>\n",
       "      <td>11.86</td>\n",
       "      <td>37</td>\n",
       "      <td>1305000</td>\n",
       "      <td>0</td>\n",
       "      <td>213378000</td>\n",
       "      <td>0</td>\n",
       "      <td>4900000</td>\n",
       "      <td>18478000</td>\n",
       "      <td>24800000</td>\n",
       "      <td>3019000</td>\n",
       "      <td>422000</td>\n",
       "    </tr>\n",
       "    <tr>\n",
       "      <th>3</th>\n",
       "      <td>63864</td>\n",
       "      <td>41566</td>\n",
       "      <td>0</td>\n",
       "      <td>46.0</td>\n",
       "      <td>14732</td>\n",
       "      <td>786</td>\n",
       "      <td>738</td>\n",
       "      <td>5595</td>\n",
       "      <td>1869</td>\n",
       "      <td>16.78</td>\n",
       "      <td>37</td>\n",
       "      <td>1305000</td>\n",
       "      <td>0</td>\n",
       "      <td>213378000</td>\n",
       "      <td>0</td>\n",
       "      <td>4900000</td>\n",
       "      <td>18478000</td>\n",
       "      <td>24800000</td>\n",
       "      <td>3019000</td>\n",
       "      <td>422000</td>\n",
       "    </tr>\n",
       "    <tr>\n",
       "      <th>4</th>\n",
       "      <td>63864</td>\n",
       "      <td>41566</td>\n",
       "      <td>0</td>\n",
       "      <td>0.0</td>\n",
       "      <td>0</td>\n",
       "      <td>0</td>\n",
       "      <td>0</td>\n",
       "      <td>0</td>\n",
       "      <td>339</td>\n",
       "      <td>10.59</td>\n",
       "      <td>37</td>\n",
       "      <td>1305000</td>\n",
       "      <td>0</td>\n",
       "      <td>213378000</td>\n",
       "      <td>0</td>\n",
       "      <td>4900000</td>\n",
       "      <td>18478000</td>\n",
       "      <td>24800000</td>\n",
       "      <td>3019000</td>\n",
       "      <td>422000</td>\n",
       "    </tr>\n",
       "  </tbody>\n",
       "</table>\n",
       "</div>"
      ],
      "text/plain": [
       "   Zip_Population  Median_Income  Property_Taxes  Percent_Taxes  \\\n",
       "0           63864          41566            7637            8.7   \n",
       "1           63864          41566         2411346           24.4   \n",
       "2           63864          41566           15097           18.2   \n",
       "3           63864          41566               0           46.0   \n",
       "4           63864          41566               0            0.0   \n",
       "\n",
       "   Per_Pupil_Spending  Per_Pupil_Support  Per_Pupil_Support_Staff  \\\n",
       "0                8600                512                      241   \n",
       "1               15793                969                     1189   \n",
       "2               12453                588                      825   \n",
       "3               14732                786                      738   \n",
       "4                   0                  0                        0   \n",
       "\n",
       "   Per_Pupil_Salaries  Total_Students  Student_Teacher_Ratio  County  \\\n",
       "0                3357             206                  11.31      37   \n",
       "1                5023             439                  11.31      37   \n",
       "2                4813             363                  11.86      37   \n",
       "3                5595            1869                  16.78      37   \n",
       "4                   0             339                  10.59      37   \n",
       "\n",
       "   Fed$_SchoolSafety  $_SchoolSafety  Total_State_Revenue  \\\n",
       "0               4000               0              1506000   \n",
       "1            1305000               0            213378000   \n",
       "2            1305000               0            213378000   \n",
       "3            1305000               0            213378000   \n",
       "4            1305000               0            213378000   \n",
       "\n",
       "   State$_StaffImprove  Superint_Expenditures       V45  Capital_Outlay  \\\n",
       "0                    0                   9000     21000           18000   \n",
       "1                    0                4900000  18478000        24800000   \n",
       "2                    0                4900000  18478000        24800000   \n",
       "3                    0                4900000  18478000        24800000   \n",
       "4                    0                4900000  18478000        24800000   \n",
       "\n",
       "   Superint_Salaries     V93  \n",
       "0                  0       0  \n",
       "1            3019000  422000  \n",
       "2            3019000  422000  \n",
       "3            3019000  422000  \n",
       "4            3019000  422000  "
      ]
     },
     "execution_count": 158,
     "metadata": {},
     "output_type": "execute_result"
    }
   ],
   "source": [
    "final_model.head()"
   ]
  },
  {
   "cell_type": "markdown",
   "metadata": {},
   "source": [
    "### Importances from Final Model"
   ]
  },
  {
   "cell_type": "code",
   "execution_count": 159,
   "metadata": {},
   "outputs": [],
   "source": [
    "final_importances = rf4.feature_importances_"
   ]
  },
  {
   "cell_type": "code",
   "execution_count": 160,
   "metadata": {},
   "outputs": [],
   "source": [
    "rf_importances4 = pd.DataFrame(index=final_model.columns, data=final_importances).sort_values(by=0,ascending=False)"
   ]
  },
  {
   "cell_type": "code",
   "execution_count": 161,
   "metadata": {},
   "outputs": [
    {
     "data": {
      "text/html": [
       "<div>\n",
       "<style scoped>\n",
       "    .dataframe tbody tr th:only-of-type {\n",
       "        vertical-align: middle;\n",
       "    }\n",
       "\n",
       "    .dataframe tbody tr th {\n",
       "        vertical-align: top;\n",
       "    }\n",
       "\n",
       "    .dataframe thead th {\n",
       "        text-align: right;\n",
       "    }\n",
       "</style>\n",
       "<table border=\"1\" class=\"dataframe\">\n",
       "  <thead>\n",
       "    <tr style=\"text-align: right;\">\n",
       "      <th></th>\n",
       "      <th>0</th>\n",
       "    </tr>\n",
       "  </thead>\n",
       "  <tbody>\n",
       "    <tr>\n",
       "      <th>Median_Income</th>\n",
       "      <td>0.327882</td>\n",
       "    </tr>\n",
       "    <tr>\n",
       "      <th>County</th>\n",
       "      <td>0.117668</td>\n",
       "    </tr>\n",
       "    <tr>\n",
       "      <th>Student_Teacher_Ratio</th>\n",
       "      <td>0.114430</td>\n",
       "    </tr>\n",
       "    <tr>\n",
       "      <th>V93</th>\n",
       "      <td>0.083880</td>\n",
       "    </tr>\n",
       "    <tr>\n",
       "      <th>Superint_Salaries</th>\n",
       "      <td>0.069805</td>\n",
       "    </tr>\n",
       "    <tr>\n",
       "      <th>Total_State_Revenue</th>\n",
       "      <td>0.054030</td>\n",
       "    </tr>\n",
       "    <tr>\n",
       "      <th>Superint_Expenditures</th>\n",
       "      <td>0.036486</td>\n",
       "    </tr>\n",
       "    <tr>\n",
       "      <th>V45</th>\n",
       "      <td>0.034505</td>\n",
       "    </tr>\n",
       "    <tr>\n",
       "      <th>$_SchoolSafety</th>\n",
       "      <td>0.033478</td>\n",
       "    </tr>\n",
       "    <tr>\n",
       "      <th>Capital_Outlay</th>\n",
       "      <td>0.032779</td>\n",
       "    </tr>\n",
       "    <tr>\n",
       "      <th>State$_StaffImprove</th>\n",
       "      <td>0.028589</td>\n",
       "    </tr>\n",
       "    <tr>\n",
       "      <th>Total_Students</th>\n",
       "      <td>0.024489</td>\n",
       "    </tr>\n",
       "    <tr>\n",
       "      <th>Fed$_SchoolSafety</th>\n",
       "      <td>0.023036</td>\n",
       "    </tr>\n",
       "    <tr>\n",
       "      <th>Zip_Population</th>\n",
       "      <td>0.010194</td>\n",
       "    </tr>\n",
       "    <tr>\n",
       "      <th>Per_Pupil_Support_Staff</th>\n",
       "      <td>0.001598</td>\n",
       "    </tr>\n",
       "    <tr>\n",
       "      <th>Per_Pupil_Spending</th>\n",
       "      <td>0.001543</td>\n",
       "    </tr>\n",
       "    <tr>\n",
       "      <th>Per_Pupil_Support</th>\n",
       "      <td>0.001510</td>\n",
       "    </tr>\n",
       "    <tr>\n",
       "      <th>Per_Pupil_Salaries</th>\n",
       "      <td>0.001442</td>\n",
       "    </tr>\n",
       "    <tr>\n",
       "      <th>Percent_Taxes</th>\n",
       "      <td>0.001440</td>\n",
       "    </tr>\n",
       "    <tr>\n",
       "      <th>Property_Taxes</th>\n",
       "      <td>0.001215</td>\n",
       "    </tr>\n",
       "  </tbody>\n",
       "</table>\n",
       "</div>"
      ],
      "text/plain": [
       "                                0\n",
       "Median_Income            0.327882\n",
       "County                   0.117668\n",
       "Student_Teacher_Ratio    0.114430\n",
       "V93                      0.083880\n",
       "Superint_Salaries        0.069805\n",
       "Total_State_Revenue      0.054030\n",
       "Superint_Expenditures    0.036486\n",
       "V45                      0.034505\n",
       "$_SchoolSafety           0.033478\n",
       "Capital_Outlay           0.032779\n",
       "State$_StaffImprove      0.028589\n",
       "Total_Students           0.024489\n",
       "Fed$_SchoolSafety        0.023036\n",
       "Zip_Population           0.010194\n",
       "Per_Pupil_Support_Staff  0.001598\n",
       "Per_Pupil_Spending       0.001543\n",
       "Per_Pupil_Support        0.001510\n",
       "Per_Pupil_Salaries       0.001442\n",
       "Percent_Taxes            0.001440\n",
       "Property_Taxes           0.001215"
      ]
     },
     "execution_count": 161,
     "metadata": {},
     "output_type": "execute_result"
    }
   ],
   "source": [
    "rf_importances4"
   ]
  },
  {
   "cell_type": "code",
   "execution_count": 162,
   "metadata": {
    "scrolled": true
   },
   "outputs": [
    {
     "data": {
      "image/png": "[encoded data removed]",
      "text/plain": [
       "<Figure size 3600x3456 with 1 Axes>"
      ]
     },
     "metadata": {
      "needs_background": "light"
     },
     "output_type": "display_data"
    }
   ],
   "source": [
    "# plot feature importance\n",
    "rf_importances4.plot(kind='bar', legend=False, color='darkorange', figsize=(50,48));\n",
    "pl.savefig('Final Feature Importances')"
   ]
  },
  {
   "cell_type": "code",
   "execution_count": 163,
   "metadata": {},
   "outputs": [],
   "source": [
    "#Plot just 10 top importances\n",
    "top10_features = rf_importances4.loc[rf_importances4[0] >.04]"
   ]
  },
  {
   "cell_type": "code",
   "execution_count": 164,
   "metadata": {},
   "outputs": [
    {
     "data": {
      "image/png": "[encoded data removed]",
      "text/plain": [
       "<Figure size 3600x3456 with 1 Axes>"
      ]
     },
     "metadata": {
      "needs_background": "light"
     },
     "output_type": "display_data"
    }
   ],
   "source": [
    "top10_features.plot(kind='bar', legend=False, color='darkorange', figsize=(50,48));\n",
    "pl.savefig('Top 10 Feature Importances')"
   ]
  }
 ],
 "metadata": {
  "kernelspec": {
   "display_name": "Python 3",
   "language": "python",
   "name": "python3"
  },
  "language_info": {
   "codemirror_mode": {
    "name": "ipython",
    "version": 3
   },
   "file_extension": ".py",
   "mimetype": "text/x-python",
   "name": "python",
   "nbconvert_exporter": "python",
   "pygments_lexer": "ipython3",
   "version": "3.8.5"
  }
 },
 "nbformat": 4,
 "nbformat_minor": 4
}
