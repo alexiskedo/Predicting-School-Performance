{
 "cells": [
  {
   "cell_type": "code",
   "execution_count": 147,
   "metadata": {},
   "outputs": [],
   "source": [
    "# Import all necessary libraries\n",
    "import numpy as np\n",
    "import pandas as pd\n",
    "import matplotlib.pyplot as pl\n",
    "import seaborn as sn\n",
    "import functions as fn\n",
    "import functions as fn\n",
    "from sklearn.pipeline import Pipeline\n",
    "from sklearn.model_selection import train_test_split, GridSearchCV\n",
    "from sklearn.linear_model import LogisticRegression\n",
    "from sklearn.neighbors import KNeighborsClassifier\n",
    "from sklearn.ensemble import GradientBoostingClassifier\n",
    "from sklearn.ensemble import RandomForestClassifier\n",
    "from sklearn.ensemble import AdaBoostClassifier\n",
    "from sklearn.preprocessing import StandardScaler, MinMaxScaler\n",
    "from sklearn.metrics import accuracy_score, classification_report\n",
    "from sklearn.metrics import f1_score, roc_auc_score, plot_confusion_matrix, precision_score, recall_score, make_scorer\n",
    "from sklearn.model_selection import GridSearchCV"
   ]
  },
  {
   "cell_type": "code",
   "execution_count": 148,
   "metadata": {},
   "outputs": [],
   "source": [
    "#View options\n",
    "#'display.float_format', lambda x: '%8.0f' % x\n",
    "pd.set_option('display.max_columns', None, 'display.max_rows', None)"
   ]
  },
  {
   "cell_type": "code",
   "execution_count": 149,
   "metadata": {},
   "outputs": [],
   "source": [
    "#Import final polished dataframe\n",
    "df = pd.read_csv('data/final.csv',encoding='cp1252')"
   ]
  },
  {
   "cell_type": "code",
   "execution_count": 150,
   "metadata": {},
   "outputs": [],
   "source": [
    "df = df.drop(columns=['Unnamed: 0'], axis=1)"
   ]
  },
  {
   "cell_type": "code",
   "execution_count": 151,
   "metadata": {
    "scrolled": false
   },
   "outputs": [
    {
     "data": {
      "text/plain": [
       "(73040, 23)"
      ]
     },
     "execution_count": 151,
     "metadata": {},
     "output_type": "execute_result"
    }
   ],
   "source": [
    "df.shape"
   ]
  },
  {
   "cell_type": "code",
   "execution_count": 152,
   "metadata": {},
   "outputs": [],
   "source": [
    "#Dealing with some missing school size data before transforming\n",
    "df = df[df.Total_Students.apply(lambda x: x.isnumeric())]"
   ]
  },
  {
   "cell_type": "code",
   "execution_count": 153,
   "metadata": {},
   "outputs": [],
   "source": [
    "#Transform all numerical data to appropriate datatypes\n",
    "df['Total_Students'] = df['Total_Students'].astype(int)"
   ]
  },
  {
   "cell_type": "code",
   "execution_count": 154,
   "metadata": {},
   "outputs": [],
   "source": [
    "#Found some nonsense values in Student/Teacher ratio column, need to replace with 16 (national average)\n",
    "gibberish = df.loc[df['Student_Teacher_Ratio'] == 'Ã¢â‚¬â€œ']"
   ]
  },
  {
   "cell_type": "code",
   "execution_count": 155,
   "metadata": {},
   "outputs": [],
   "source": [
    "df['level'] = np.nan"
   ]
  },
  {
   "cell_type": "code",
   "execution_count": 156,
   "metadata": {
    "scrolled": false
   },
   "outputs": [
    {
     "name": "stderr",
     "output_type": "stream",
     "text": [
      "<ipython-input-156-3d3f8f40a880>:12: SettingWithCopyWarning: \n",
      "A value is trying to be set on a copy of a slice from a DataFrame\n",
      "\n",
      "See the caveats in the documentation: https://pandas.pydata.org/pandas-docs/stable/user_guide/indexing.html#returning-a-view-versus-a-copy\n",
      "  df['level'][i] = element\n",
      "/opt/anaconda3/envs/learn-env/lib/python3.8/site-packages/pandas/core/indexing.py:670: SettingWithCopyWarning: \n",
      "A value is trying to be set on a copy of a slice from a DataFrame\n",
      "\n",
      "See the caveats in the documentation: https://pandas.pydata.org/pandas-docs/stable/user_guide/indexing.html#returning-a-view-versus-a-copy\n",
      "  iloc._setitem_with_indexer(indexer, value)\n",
      "<ipython-input-156-3d3f8f40a880>:4: SettingWithCopyWarning: \n",
      "A value is trying to be set on a copy of a slice from a DataFrame\n",
      "\n",
      "See the caveats in the documentation: https://pandas.pydata.org/pandas-docs/stable/user_guide/indexing.html#returning-a-view-versus-a-copy\n",
      "  df['level'][i] = 'High'\n",
      "<ipython-input-156-3d3f8f40a880>:10: SettingWithCopyWarning: \n",
      "A value is trying to be set on a copy of a slice from a DataFrame\n",
      "\n",
      "See the caveats in the documentation: https://pandas.pydata.org/pandas-docs/stable/user_guide/indexing.html#returning-a-view-versus-a-copy\n",
      "  df['level'][i] = 'Other'\n",
      "<ipython-input-156-3d3f8f40a880>:6: SettingWithCopyWarning: \n",
      "A value is trying to be set on a copy of a slice from a DataFrame\n",
      "\n",
      "See the caveats in the documentation: https://pandas.pydata.org/pandas-docs/stable/user_guide/indexing.html#returning-a-view-versus-a-copy\n",
      "  df['level'][i] = 'Other'\n",
      "<ipython-input-156-3d3f8f40a880>:8: SettingWithCopyWarning: \n",
      "A value is trying to be set on a copy of a slice from a DataFrame\n",
      "\n",
      "See the caveats in the documentation: https://pandas.pydata.org/pandas-docs/stable/user_guide/indexing.html#returning-a-view-versus-a-copy\n",
      "  df['level'][i] = 'Other'\n"
     ]
    }
   ],
   "source": [
    "# Enumerate to replace values in ['Level'] to simplify variables\n",
    "for i, element in enumerate(df['Level']): \n",
    "    if element == 'Secondary':\n",
    "        df['level'][i] = 'High'\n",
    "    elif element == 'Prekindergarten': \n",
    "        df['level'][i] = 'Other'\n",
    "    elif element == 'Ungraded': \n",
    "        df['level'][i] = 'Other'\n",
    "    elif element == 'Not applicable':\n",
    "        df['level'][i] = 'Other' \n",
    "    else: \n",
    "        df['level'][i] = element"
   ]
  },
  {
   "cell_type": "code",
   "execution_count": 157,
   "metadata": {
    "scrolled": true
   },
   "outputs": [
    {
     "data": {
      "text/plain": [
       "Elementary    40801\n",
       "High          16288\n",
       "Middle        13103\n",
       "Other          2608\n",
       "Name: level, dtype: int64"
      ]
     },
     "execution_count": 157,
     "metadata": {},
     "output_type": "execute_result"
    }
   ],
   "source": [
    "df['level'].value_counts()"
   ]
  },
  {
   "cell_type": "code",
   "execution_count": 158,
   "metadata": {},
   "outputs": [],
   "source": [
    "df = df.drop(['Level'], axis=1)"
   ]
  },
  {
   "cell_type": "code",
   "execution_count": 159,
   "metadata": {},
   "outputs": [],
   "source": [
    "df = df.rename(columns={'level':'Level'})"
   ]
  },
  {
   "cell_type": "code",
   "execution_count": 160,
   "metadata": {},
   "outputs": [],
   "source": [
    "#Need to fill Nans in Level column"
   ]
  },
  {
   "cell_type": "code",
   "execution_count": 161,
   "metadata": {},
   "outputs": [],
   "source": [
    "df['Student_Teacher_Ratio'].replace('Ã¢â‚¬â€œ','16',inplace=True)"
   ]
  },
  {
   "cell_type": "code",
   "execution_count": 162,
   "metadata": {},
   "outputs": [],
   "source": [
    "df = df[df['Student_Teacher_Ratio'] != 'Ã¢â‚¬Â']"
   ]
  },
  {
   "cell_type": "code",
   "execution_count": 163,
   "metadata": {},
   "outputs": [],
   "source": [
    "df['Student_Teacher_Ratio'].replace('Ã¢â‚¬Â\\xa0','16',inplace=True)"
   ]
  },
  {
   "cell_type": "code",
   "execution_count": 164,
   "metadata": {
    "scrolled": false
   },
   "outputs": [],
   "source": [
    "df['Student_Teacher_Ratio'] = df['Student_Teacher_Ratio'].astype(float)"
   ]
  },
  {
   "cell_type": "code",
   "execution_count": 165,
   "metadata": {
    "scrolled": true
   },
   "outputs": [
    {
     "data": {
      "text/plain": [
       "0    0.506308\n",
       "1    0.493692\n",
       "Name: Target, dtype: float64"
      ]
     },
     "execution_count": 165,
     "metadata": {},
     "output_type": "execute_result"
    }
   ],
   "source": [
    "# Exploring balance of target classes\n",
    "df['Target'].value_counts(normalize=True)"
   ]
  },
  {
   "cell_type": "code",
   "execution_count": 166,
   "metadata": {},
   "outputs": [],
   "source": [
    "#Splitting data into features and target\n",
    "#Dropping all identifier columns including zipcode - as median income is based on zipcode and is a good stand-in\n",
    "target = df['Target']\n",
    "features = df.drop(['School_ID','School_Name','District_Name','District_ID','Zip','City','Target'], axis=1)               "
   ]
  },
  {
   "cell_type": "code",
   "execution_count": 167,
   "metadata": {},
   "outputs": [
    {
     "data": {
      "image/png": "[encoded data removed]",
      "text/plain": [
       "<Figure size 1440x1296 with 2 Axes>"
      ]
     },
     "metadata": {
      "needs_background": "light"
     },
     "output_type": "display_data"
    }
   ],
   "source": [
    "#Exploring multicollinearity\n",
    "corr = features.corr()\n",
    "pl.figure(figsize = (20,18))\n",
    "sn.heatmap(corr, annot=True)\n",
    "pl.show()"
   ]
  },
  {
   "cell_type": "code",
   "execution_count": 168,
   "metadata": {},
   "outputs": [],
   "source": [
    "#Performing train-test split\n",
    "X_train, X_test, y_train, y_test = train_test_split(features, target, test_size=0.20, random_state=42)"
   ]
  },
  {
   "cell_type": "markdown",
   "metadata": {},
   "source": [
    "### Dealing with Categorical Data"
   ]
  },
  {
   "cell_type": "code",
   "execution_count": 169,
   "metadata": {},
   "outputs": [
    {
     "data": {
      "text/plain": [
       "State                       object\n",
       "Zip_Population               int64\n",
       "Density                     object\n",
       "Median_Income                int64\n",
       "Property_Taxes               int64\n",
       "Percent_Taxes              float64\n",
       "Per_Pupil_Spending           int64\n",
       "Per_Pupil_Support            int64\n",
       "Per_Pupil_Support_Staff      int64\n",
       "Per_Pupil_Salaries           int64\n",
       "Total_Students               int64\n",
       "Student_Teacher_Ratio      float64\n",
       "Title_I                     object\n",
       "Virtual                     object\n",
       "%_Proficient_Reading         int64\n",
       "Level                       object\n",
       "dtype: object"
      ]
     },
     "execution_count": 169,
     "metadata": {},
     "output_type": "execute_result"
    }
   ],
   "source": [
    "features.dtypes"
   ]
  },
  {
   "cell_type": "markdown",
   "metadata": {},
   "source": [
    "Since there are 50 state possibilities, one-hot encoding would lead to dozens of unnecessary columns. After some thought, I decided to use target encoding to deal with states, using the continuous version of the target to replace each state with the average percentage of students proficient in that state. Though this is an imperfect substitute for location, it is true that states differ markedly from each other in their levels of student achievement and tend to stay consistent from year to year (for example, Massachusetts is continually one of the top-performing states in the nation, while Louisiana is consistently one of the lowest). Thus, treating states this way should feed my model some valuable information about student performance."
   ]
  },
  {
   "cell_type": "code",
   "execution_count": 170,
   "metadata": {},
   "outputs": [],
   "source": [
    "#Target encoding state column \n",
    "#Create a groupby dataframe that gives us the mean in each numeric column for each state\n",
    "state_averages = X_train.groupby(['State']).mean().reset_index()"
   ]
  },
  {
   "cell_type": "code",
   "execution_count": 171,
   "metadata": {},
   "outputs": [],
   "source": [
    "state_averages = state_averages.filter(['%_Proficient_Reading','State'], axis=1).rename(columns={'%_Proficient_Reading':'State_Avg_Reading'})\n"
   ]
  },
  {
   "cell_type": "code",
   "execution_count": 172,
   "metadata": {
    "scrolled": true
   },
   "outputs": [],
   "source": [
    "#Join state helper dataframe with my training predictors and testing data\n",
    "X_train = pd.merge(state_averages, X_train, how = 'inner', on='State').drop(['State','%_Proficient_Reading'], axis=1)\n",
    "X_test = pd.merge(state_averages, X_test, how = 'inner', on='State').drop(['State','%_Proficient_Reading'], axis=1)"
   ]
  },
  {
   "cell_type": "code",
   "execution_count": 173,
   "metadata": {
    "scrolled": false
   },
   "outputs": [
    {
     "data": {
      "text/html": [
       "<div>\n",
       "<style scoped>\n",
       "    .dataframe tbody tr th:only-of-type {\n",
       "        vertical-align: middle;\n",
       "    }\n",
       "\n",
       "    .dataframe tbody tr th {\n",
       "        vertical-align: top;\n",
       "    }\n",
       "\n",
       "    .dataframe thead th {\n",
       "        text-align: right;\n",
       "    }\n",
       "</style>\n",
       "<table border=\"1\" class=\"dataframe\">\n",
       "  <thead>\n",
       "    <tr style=\"text-align: right;\">\n",
       "      <th></th>\n",
       "      <th>State_Avg_Reading</th>\n",
       "      <th>Zip_Population</th>\n",
       "      <th>Density</th>\n",
       "      <th>Median_Income</th>\n",
       "      <th>Property_Taxes</th>\n",
       "      <th>Percent_Taxes</th>\n",
       "      <th>Per_Pupil_Spending</th>\n",
       "      <th>Per_Pupil_Support</th>\n",
       "      <th>Per_Pupil_Support_Staff</th>\n",
       "      <th>Per_Pupil_Salaries</th>\n",
       "      <th>Total_Students</th>\n",
       "      <th>Student_Teacher_Ratio</th>\n",
       "      <th>Title_I</th>\n",
       "      <th>Virtual</th>\n",
       "      <th>Level</th>\n",
       "    </tr>\n",
       "  </thead>\n",
       "  <tbody>\n",
       "    <tr>\n",
       "      <th>0</th>\n",
       "      <td>35.559524</td>\n",
       "      <td>1410</td>\n",
       "      <td>midsize</td>\n",
       "      <td>72188</td>\n",
       "      <td>7518</td>\n",
       "      <td>35.6</td>\n",
       "      <td>10545</td>\n",
       "      <td>389</td>\n",
       "      <td>438</td>\n",
       "      <td>4049</td>\n",
       "      <td>39</td>\n",
       "      <td>4.18</td>\n",
       "      <td>yes</td>\n",
       "      <td>no</td>\n",
       "      <td>NaN</td>\n",
       "    </tr>\n",
       "    <tr>\n",
       "      <th>1</th>\n",
       "      <td>35.559524</td>\n",
       "      <td>1410</td>\n",
       "      <td>midsize</td>\n",
       "      <td>72188</td>\n",
       "      <td>7518</td>\n",
       "      <td>35.6</td>\n",
       "      <td>10545</td>\n",
       "      <td>389</td>\n",
       "      <td>438</td>\n",
       "      <td>4049</td>\n",
       "      <td>48</td>\n",
       "      <td>4.05</td>\n",
       "      <td>yes</td>\n",
       "      <td>no</td>\n",
       "      <td>NaN</td>\n",
       "    </tr>\n",
       "    <tr>\n",
       "      <th>2</th>\n",
       "      <td>35.559524</td>\n",
       "      <td>45366</td>\n",
       "      <td>midsize</td>\n",
       "      <td>61089</td>\n",
       "      <td>989357</td>\n",
       "      <td>47.9</td>\n",
       "      <td>10173</td>\n",
       "      <td>392</td>\n",
       "      <td>1145</td>\n",
       "      <td>3257</td>\n",
       "      <td>198</td>\n",
       "      <td>9.66</td>\n",
       "      <td>yes</td>\n",
       "      <td>yes</td>\n",
       "      <td>Elementary</td>\n",
       "    </tr>\n",
       "    <tr>\n",
       "      <th>3</th>\n",
       "      <td>35.559524</td>\n",
       "      <td>107571</td>\n",
       "      <td>urban</td>\n",
       "      <td>62602</td>\n",
       "      <td>6090</td>\n",
       "      <td>41.4</td>\n",
       "      <td>9813</td>\n",
       "      <td>581</td>\n",
       "      <td>616</td>\n",
       "      <td>3995</td>\n",
       "      <td>321</td>\n",
       "      <td>12.07</td>\n",
       "      <td>yes</td>\n",
       "      <td>yes</td>\n",
       "      <td>Elementary</td>\n",
       "    </tr>\n",
       "    <tr>\n",
       "      <th>4</th>\n",
       "      <td>35.559524</td>\n",
       "      <td>12114</td>\n",
       "      <td>midsize</td>\n",
       "      <td>47060</td>\n",
       "      <td>7640</td>\n",
       "      <td>36.2</td>\n",
       "      <td>13364</td>\n",
       "      <td>661</td>\n",
       "      <td>223</td>\n",
       "      <td>4595</td>\n",
       "      <td>280</td>\n",
       "      <td>15.56</td>\n",
       "      <td>yes</td>\n",
       "      <td>yes</td>\n",
       "      <td>Elementary</td>\n",
       "    </tr>\n",
       "  </tbody>\n",
       "</table>\n",
       "</div>"
      ],
      "text/plain": [
       "   State_Avg_Reading  Zip_Population  Density  Median_Income  Property_Taxes  \\\n",
       "0          35.559524            1410  midsize          72188            7518   \n",
       "1          35.559524            1410  midsize          72188            7518   \n",
       "2          35.559524           45366  midsize          61089          989357   \n",
       "3          35.559524          107571    urban          62602            6090   \n",
       "4          35.559524           12114  midsize          47060            7640   \n",
       "\n",
       "   Percent_Taxes  Per_Pupil_Spending  Per_Pupil_Support  \\\n",
       "0           35.6               10545                389   \n",
       "1           35.6               10545                389   \n",
       "2           47.9               10173                392   \n",
       "3           41.4                9813                581   \n",
       "4           36.2               13364                661   \n",
       "\n",
       "   Per_Pupil_Support_Staff  Per_Pupil_Salaries  Total_Students  \\\n",
       "0                      438                4049              39   \n",
       "1                      438                4049              48   \n",
       "2                     1145                3257             198   \n",
       "3                      616                3995             321   \n",
       "4                      223                4595             280   \n",
       "\n",
       "   Student_Teacher_Ratio Title_I Virtual       Level  \n",
       "0                   4.18     yes      no         NaN  \n",
       "1                   4.05     yes      no         NaN  \n",
       "2                   9.66     yes     yes  Elementary  \n",
       "3                  12.07     yes     yes  Elementary  \n",
       "4                  15.56     yes     yes  Elementary  "
      ]
     },
     "execution_count": 173,
     "metadata": {},
     "output_type": "execute_result"
    }
   ],
   "source": [
    "X_train.head()"
   ]
  },
  {
   "cell_type": "code",
   "execution_count": 174,
   "metadata": {
    "scrolled": false
   },
   "outputs": [],
   "source": [
    "#Deal with nulls in training and testing data\n",
    "X_train = X_train.fillna(value = {\"Level\":\"Other\"})\n",
    "X_test = X_test.fillna(value = {'Level':'Other'})"
   ]
  },
  {
   "cell_type": "code",
   "execution_count": 175,
   "metadata": {},
   "outputs": [],
   "source": [
    "#Putting X back together\n",
    "X = pd.concat([X_train, X_test], axis=0)"
   ]
  },
  {
   "cell_type": "code",
   "execution_count": 176,
   "metadata": {},
   "outputs": [
    {
     "data": {
      "image/png": "[encoded data removed]",
      "text/plain": [
       "<Figure size 360x360 with 1 Axes>"
      ]
     },
     "metadata": {
      "needs_background": "light"
     },
     "output_type": "display_data"
    }
   ],
   "source": [
    "sn.displot(X, x='State_Avg_Reading', binwidth=3, color=\"lightblue\")\n",
    "pl.savefig(\"State Averages\")"
   ]
  },
  {
   "cell_type": "code",
   "execution_count": 177,
   "metadata": {},
   "outputs": [],
   "source": [
    "#Now need to one-hot encode  categorical columns\n",
    "#Isolate categorical columns\n",
    "cats = X[['Density','Title_I', 'Virtual','Level']]\n",
    "#Transform data\n",
    "cats = pd.get_dummies(cats)"
   ]
  },
  {
   "cell_type": "code",
   "execution_count": 178,
   "metadata": {
    "scrolled": false
   },
   "outputs": [
    {
     "data": {
      "text/html": [
       "<div>\n",
       "<style scoped>\n",
       "    .dataframe tbody tr th:only-of-type {\n",
       "        vertical-align: middle;\n",
       "    }\n",
       "\n",
       "    .dataframe tbody tr th {\n",
       "        vertical-align: top;\n",
       "    }\n",
       "\n",
       "    .dataframe thead th {\n",
       "        text-align: right;\n",
       "    }\n",
       "</style>\n",
       "<table border=\"1\" class=\"dataframe\">\n",
       "  <thead>\n",
       "    <tr style=\"text-align: right;\">\n",
       "      <th></th>\n",
       "      <th>Density_midsize</th>\n",
       "      <th>Density_urban</th>\n",
       "      <th>Title_I_no</th>\n",
       "      <th>Title_I_yes</th>\n",
       "      <th>Virtual_no</th>\n",
       "      <th>Virtual_yes</th>\n",
       "      <th>Level_Elementary</th>\n",
       "      <th>Level_High</th>\n",
       "      <th>Level_Middle</th>\n",
       "      <th>Level_Other</th>\n",
       "    </tr>\n",
       "  </thead>\n",
       "  <tbody>\n",
       "    <tr>\n",
       "      <th>0</th>\n",
       "      <td>1</td>\n",
       "      <td>0</td>\n",
       "      <td>0</td>\n",
       "      <td>1</td>\n",
       "      <td>1</td>\n",
       "      <td>0</td>\n",
       "      <td>0</td>\n",
       "      <td>0</td>\n",
       "      <td>0</td>\n",
       "      <td>1</td>\n",
       "    </tr>\n",
       "    <tr>\n",
       "      <th>1</th>\n",
       "      <td>1</td>\n",
       "      <td>0</td>\n",
       "      <td>0</td>\n",
       "      <td>1</td>\n",
       "      <td>1</td>\n",
       "      <td>0</td>\n",
       "      <td>0</td>\n",
       "      <td>0</td>\n",
       "      <td>0</td>\n",
       "      <td>1</td>\n",
       "    </tr>\n",
       "    <tr>\n",
       "      <th>2</th>\n",
       "      <td>1</td>\n",
       "      <td>0</td>\n",
       "      <td>0</td>\n",
       "      <td>1</td>\n",
       "      <td>0</td>\n",
       "      <td>1</td>\n",
       "      <td>1</td>\n",
       "      <td>0</td>\n",
       "      <td>0</td>\n",
       "      <td>0</td>\n",
       "    </tr>\n",
       "    <tr>\n",
       "      <th>3</th>\n",
       "      <td>0</td>\n",
       "      <td>1</td>\n",
       "      <td>0</td>\n",
       "      <td>1</td>\n",
       "      <td>0</td>\n",
       "      <td>1</td>\n",
       "      <td>1</td>\n",
       "      <td>0</td>\n",
       "      <td>0</td>\n",
       "      <td>0</td>\n",
       "    </tr>\n",
       "    <tr>\n",
       "      <th>4</th>\n",
       "      <td>1</td>\n",
       "      <td>0</td>\n",
       "      <td>0</td>\n",
       "      <td>1</td>\n",
       "      <td>0</td>\n",
       "      <td>1</td>\n",
       "      <td>1</td>\n",
       "      <td>0</td>\n",
       "      <td>0</td>\n",
       "      <td>0</td>\n",
       "    </tr>\n",
       "  </tbody>\n",
       "</table>\n",
       "</div>"
      ],
      "text/plain": [
       "   Density_midsize  Density_urban  Title_I_no  Title_I_yes  Virtual_no  \\\n",
       "0                1              0           0            1           1   \n",
       "1                1              0           0            1           1   \n",
       "2                1              0           0            1           0   \n",
       "3                0              1           0            1           0   \n",
       "4                1              0           0            1           0   \n",
       "\n",
       "   Virtual_yes  Level_Elementary  Level_High  Level_Middle  Level_Other  \n",
       "0            0                 0           0             0            1  \n",
       "1            0                 0           0             0            1  \n",
       "2            1                 1           0             0            0  \n",
       "3            1                 1           0             0            0  \n",
       "4            1                 1           0             0            0  "
      ]
     },
     "execution_count": 178,
     "metadata": {},
     "output_type": "execute_result"
    }
   ],
   "source": [
    "cats.head()"
   ]
  },
  {
   "cell_type": "code",
   "execution_count": 179,
   "metadata": {},
   "outputs": [],
   "source": [
    "#Merge with main dataframe on key values\n",
    "X_numeric = pd.concat([X, cats], axis=1)"
   ]
  },
  {
   "cell_type": "code",
   "execution_count": 180,
   "metadata": {},
   "outputs": [
    {
     "data": {
      "text/html": [
       "<div>\n",
       "<style scoped>\n",
       "    .dataframe tbody tr th:only-of-type {\n",
       "        vertical-align: middle;\n",
       "    }\n",
       "\n",
       "    .dataframe tbody tr th {\n",
       "        vertical-align: top;\n",
       "    }\n",
       "\n",
       "    .dataframe thead th {\n",
       "        text-align: right;\n",
       "    }\n",
       "</style>\n",
       "<table border=\"1\" class=\"dataframe\">\n",
       "  <thead>\n",
       "    <tr style=\"text-align: right;\">\n",
       "      <th></th>\n",
       "      <th>State_Avg_Reading</th>\n",
       "      <th>Zip_Population</th>\n",
       "      <th>Density</th>\n",
       "      <th>Median_Income</th>\n",
       "      <th>Property_Taxes</th>\n",
       "      <th>Percent_Taxes</th>\n",
       "      <th>Per_Pupil_Spending</th>\n",
       "      <th>Per_Pupil_Support</th>\n",
       "      <th>Per_Pupil_Support_Staff</th>\n",
       "      <th>Per_Pupil_Salaries</th>\n",
       "      <th>Total_Students</th>\n",
       "      <th>Student_Teacher_Ratio</th>\n",
       "      <th>Title_I</th>\n",
       "      <th>Virtual</th>\n",
       "      <th>Level</th>\n",
       "      <th>Density_midsize</th>\n",
       "      <th>Density_urban</th>\n",
       "      <th>Title_I_no</th>\n",
       "      <th>Title_I_yes</th>\n",
       "      <th>Virtual_no</th>\n",
       "      <th>Virtual_yes</th>\n",
       "      <th>Level_Elementary</th>\n",
       "      <th>Level_High</th>\n",
       "      <th>Level_Middle</th>\n",
       "      <th>Level_Other</th>\n",
       "    </tr>\n",
       "  </thead>\n",
       "  <tbody>\n",
       "    <tr>\n",
       "      <th>0</th>\n",
       "      <td>35.559524</td>\n",
       "      <td>1410</td>\n",
       "      <td>midsize</td>\n",
       "      <td>72188</td>\n",
       "      <td>7518</td>\n",
       "      <td>35.6</td>\n",
       "      <td>10545</td>\n",
       "      <td>389</td>\n",
       "      <td>438</td>\n",
       "      <td>4049</td>\n",
       "      <td>39</td>\n",
       "      <td>4.18</td>\n",
       "      <td>yes</td>\n",
       "      <td>no</td>\n",
       "      <td>Other</td>\n",
       "      <td>1</td>\n",
       "      <td>0</td>\n",
       "      <td>0</td>\n",
       "      <td>1</td>\n",
       "      <td>1</td>\n",
       "      <td>0</td>\n",
       "      <td>0</td>\n",
       "      <td>0</td>\n",
       "      <td>0</td>\n",
       "      <td>1</td>\n",
       "    </tr>\n",
       "    <tr>\n",
       "      <th>1</th>\n",
       "      <td>35.559524</td>\n",
       "      <td>1410</td>\n",
       "      <td>midsize</td>\n",
       "      <td>72188</td>\n",
       "      <td>7518</td>\n",
       "      <td>35.6</td>\n",
       "      <td>10545</td>\n",
       "      <td>389</td>\n",
       "      <td>438</td>\n",
       "      <td>4049</td>\n",
       "      <td>48</td>\n",
       "      <td>4.05</td>\n",
       "      <td>yes</td>\n",
       "      <td>no</td>\n",
       "      <td>Other</td>\n",
       "      <td>1</td>\n",
       "      <td>0</td>\n",
       "      <td>0</td>\n",
       "      <td>1</td>\n",
       "      <td>1</td>\n",
       "      <td>0</td>\n",
       "      <td>0</td>\n",
       "      <td>0</td>\n",
       "      <td>0</td>\n",
       "      <td>1</td>\n",
       "    </tr>\n",
       "    <tr>\n",
       "      <th>2</th>\n",
       "      <td>35.559524</td>\n",
       "      <td>45366</td>\n",
       "      <td>midsize</td>\n",
       "      <td>61089</td>\n",
       "      <td>989357</td>\n",
       "      <td>47.9</td>\n",
       "      <td>10173</td>\n",
       "      <td>392</td>\n",
       "      <td>1145</td>\n",
       "      <td>3257</td>\n",
       "      <td>198</td>\n",
       "      <td>9.66</td>\n",
       "      <td>yes</td>\n",
       "      <td>yes</td>\n",
       "      <td>Elementary</td>\n",
       "      <td>1</td>\n",
       "      <td>0</td>\n",
       "      <td>0</td>\n",
       "      <td>1</td>\n",
       "      <td>0</td>\n",
       "      <td>1</td>\n",
       "      <td>1</td>\n",
       "      <td>0</td>\n",
       "      <td>0</td>\n",
       "      <td>0</td>\n",
       "    </tr>\n",
       "    <tr>\n",
       "      <th>3</th>\n",
       "      <td>35.559524</td>\n",
       "      <td>107571</td>\n",
       "      <td>urban</td>\n",
       "      <td>62602</td>\n",
       "      <td>6090</td>\n",
       "      <td>41.4</td>\n",
       "      <td>9813</td>\n",
       "      <td>581</td>\n",
       "      <td>616</td>\n",
       "      <td>3995</td>\n",
       "      <td>321</td>\n",
       "      <td>12.07</td>\n",
       "      <td>yes</td>\n",
       "      <td>yes</td>\n",
       "      <td>Elementary</td>\n",
       "      <td>0</td>\n",
       "      <td>1</td>\n",
       "      <td>0</td>\n",
       "      <td>1</td>\n",
       "      <td>0</td>\n",
       "      <td>1</td>\n",
       "      <td>1</td>\n",
       "      <td>0</td>\n",
       "      <td>0</td>\n",
       "      <td>0</td>\n",
       "    </tr>\n",
       "    <tr>\n",
       "      <th>4</th>\n",
       "      <td>35.559524</td>\n",
       "      <td>12114</td>\n",
       "      <td>midsize</td>\n",
       "      <td>47060</td>\n",
       "      <td>7640</td>\n",
       "      <td>36.2</td>\n",
       "      <td>13364</td>\n",
       "      <td>661</td>\n",
       "      <td>223</td>\n",
       "      <td>4595</td>\n",
       "      <td>280</td>\n",
       "      <td>15.56</td>\n",
       "      <td>yes</td>\n",
       "      <td>yes</td>\n",
       "      <td>Elementary</td>\n",
       "      <td>1</td>\n",
       "      <td>0</td>\n",
       "      <td>0</td>\n",
       "      <td>1</td>\n",
       "      <td>0</td>\n",
       "      <td>1</td>\n",
       "      <td>1</td>\n",
       "      <td>0</td>\n",
       "      <td>0</td>\n",
       "      <td>0</td>\n",
       "    </tr>\n",
       "  </tbody>\n",
       "</table>\n",
       "</div>"
      ],
      "text/plain": [
       "   State_Avg_Reading  Zip_Population  Density  Median_Income  Property_Taxes  \\\n",
       "0          35.559524            1410  midsize          72188            7518   \n",
       "1          35.559524            1410  midsize          72188            7518   \n",
       "2          35.559524           45366  midsize          61089          989357   \n",
       "3          35.559524          107571    urban          62602            6090   \n",
       "4          35.559524           12114  midsize          47060            7640   \n",
       "\n",
       "   Percent_Taxes  Per_Pupil_Spending  Per_Pupil_Support  \\\n",
       "0           35.6               10545                389   \n",
       "1           35.6               10545                389   \n",
       "2           47.9               10173                392   \n",
       "3           41.4                9813                581   \n",
       "4           36.2               13364                661   \n",
       "\n",
       "   Per_Pupil_Support_Staff  Per_Pupil_Salaries  Total_Students  \\\n",
       "0                      438                4049              39   \n",
       "1                      438                4049              48   \n",
       "2                     1145                3257             198   \n",
       "3                      616                3995             321   \n",
       "4                      223                4595             280   \n",
       "\n",
       "   Student_Teacher_Ratio Title_I Virtual       Level  Density_midsize  \\\n",
       "0                   4.18     yes      no       Other                1   \n",
       "1                   4.05     yes      no       Other                1   \n",
       "2                   9.66     yes     yes  Elementary                1   \n",
       "3                  12.07     yes     yes  Elementary                0   \n",
       "4                  15.56     yes     yes  Elementary                1   \n",
       "\n",
       "   Density_urban  Title_I_no  Title_I_yes  Virtual_no  Virtual_yes  \\\n",
       "0              0           0            1           1            0   \n",
       "1              0           0            1           1            0   \n",
       "2              0           0            1           0            1   \n",
       "3              1           0            1           0            1   \n",
       "4              0           0            1           0            1   \n",
       "\n",
       "   Level_Elementary  Level_High  Level_Middle  Level_Other  \n",
       "0                 0           0             0            1  \n",
       "1                 0           0             0            1  \n",
       "2                 1           0             0            0  \n",
       "3                 1           0             0            0  \n",
       "4                 1           0             0            0  "
      ]
     },
     "execution_count": 180,
     "metadata": {},
     "output_type": "execute_result"
    }
   ],
   "source": [
    "X_numeric.head()"
   ]
  },
  {
   "cell_type": "code",
   "execution_count": 181,
   "metadata": {},
   "outputs": [],
   "source": [
    "#Drop non-numeric categorical columns \n",
    "X_numeric = X_numeric.drop(['Density','Title_I', 'Virtual','Level'], axis=1)"
   ]
  },
  {
   "cell_type": "code",
   "execution_count": 182,
   "metadata": {
    "scrolled": true
   },
   "outputs": [
    {
     "data": {
      "text/html": [
       "<div>\n",
       "<style scoped>\n",
       "    .dataframe tbody tr th:only-of-type {\n",
       "        vertical-align: middle;\n",
       "    }\n",
       "\n",
       "    .dataframe tbody tr th {\n",
       "        vertical-align: top;\n",
       "    }\n",
       "\n",
       "    .dataframe thead th {\n",
       "        text-align: right;\n",
       "    }\n",
       "</style>\n",
       "<table border=\"1\" class=\"dataframe\">\n",
       "  <thead>\n",
       "    <tr style=\"text-align: right;\">\n",
       "      <th></th>\n",
       "      <th>State_Avg_Reading</th>\n",
       "      <th>Zip_Population</th>\n",
       "      <th>Median_Income</th>\n",
       "      <th>Property_Taxes</th>\n",
       "      <th>Percent_Taxes</th>\n",
       "      <th>Per_Pupil_Spending</th>\n",
       "      <th>Per_Pupil_Support</th>\n",
       "      <th>Per_Pupil_Support_Staff</th>\n",
       "      <th>Per_Pupil_Salaries</th>\n",
       "      <th>Total_Students</th>\n",
       "      <th>Student_Teacher_Ratio</th>\n",
       "      <th>Density_midsize</th>\n",
       "      <th>Density_urban</th>\n",
       "      <th>Title_I_no</th>\n",
       "      <th>Title_I_yes</th>\n",
       "      <th>Virtual_no</th>\n",
       "      <th>Virtual_yes</th>\n",
       "      <th>Level_Elementary</th>\n",
       "      <th>Level_High</th>\n",
       "      <th>Level_Middle</th>\n",
       "      <th>Level_Other</th>\n",
       "    </tr>\n",
       "  </thead>\n",
       "  <tbody>\n",
       "    <tr>\n",
       "      <th>0</th>\n",
       "      <td>35.559524</td>\n",
       "      <td>1410</td>\n",
       "      <td>72188</td>\n",
       "      <td>7518</td>\n",
       "      <td>35.6</td>\n",
       "      <td>10545</td>\n",
       "      <td>389</td>\n",
       "      <td>438</td>\n",
       "      <td>4049</td>\n",
       "      <td>39</td>\n",
       "      <td>4.18</td>\n",
       "      <td>1</td>\n",
       "      <td>0</td>\n",
       "      <td>0</td>\n",
       "      <td>1</td>\n",
       "      <td>1</td>\n",
       "      <td>0</td>\n",
       "      <td>0</td>\n",
       "      <td>0</td>\n",
       "      <td>0</td>\n",
       "      <td>1</td>\n",
       "    </tr>\n",
       "    <tr>\n",
       "      <th>1</th>\n",
       "      <td>35.559524</td>\n",
       "      <td>1410</td>\n",
       "      <td>72188</td>\n",
       "      <td>7518</td>\n",
       "      <td>35.6</td>\n",
       "      <td>10545</td>\n",
       "      <td>389</td>\n",
       "      <td>438</td>\n",
       "      <td>4049</td>\n",
       "      <td>48</td>\n",
       "      <td>4.05</td>\n",
       "      <td>1</td>\n",
       "      <td>0</td>\n",
       "      <td>0</td>\n",
       "      <td>1</td>\n",
       "      <td>1</td>\n",
       "      <td>0</td>\n",
       "      <td>0</td>\n",
       "      <td>0</td>\n",
       "      <td>0</td>\n",
       "      <td>1</td>\n",
       "    </tr>\n",
       "    <tr>\n",
       "      <th>2</th>\n",
       "      <td>35.559524</td>\n",
       "      <td>45366</td>\n",
       "      <td>61089</td>\n",
       "      <td>989357</td>\n",
       "      <td>47.9</td>\n",
       "      <td>10173</td>\n",
       "      <td>392</td>\n",
       "      <td>1145</td>\n",
       "      <td>3257</td>\n",
       "      <td>198</td>\n",
       "      <td>9.66</td>\n",
       "      <td>1</td>\n",
       "      <td>0</td>\n",
       "      <td>0</td>\n",
       "      <td>1</td>\n",
       "      <td>0</td>\n",
       "      <td>1</td>\n",
       "      <td>1</td>\n",
       "      <td>0</td>\n",
       "      <td>0</td>\n",
       "      <td>0</td>\n",
       "    </tr>\n",
       "    <tr>\n",
       "      <th>3</th>\n",
       "      <td>35.559524</td>\n",
       "      <td>107571</td>\n",
       "      <td>62602</td>\n",
       "      <td>6090</td>\n",
       "      <td>41.4</td>\n",
       "      <td>9813</td>\n",
       "      <td>581</td>\n",
       "      <td>616</td>\n",
       "      <td>3995</td>\n",
       "      <td>321</td>\n",
       "      <td>12.07</td>\n",
       "      <td>0</td>\n",
       "      <td>1</td>\n",
       "      <td>0</td>\n",
       "      <td>1</td>\n",
       "      <td>0</td>\n",
       "      <td>1</td>\n",
       "      <td>1</td>\n",
       "      <td>0</td>\n",
       "      <td>0</td>\n",
       "      <td>0</td>\n",
       "    </tr>\n",
       "    <tr>\n",
       "      <th>4</th>\n",
       "      <td>35.559524</td>\n",
       "      <td>12114</td>\n",
       "      <td>47060</td>\n",
       "      <td>7640</td>\n",
       "      <td>36.2</td>\n",
       "      <td>13364</td>\n",
       "      <td>661</td>\n",
       "      <td>223</td>\n",
       "      <td>4595</td>\n",
       "      <td>280</td>\n",
       "      <td>15.56</td>\n",
       "      <td>1</td>\n",
       "      <td>0</td>\n",
       "      <td>0</td>\n",
       "      <td>1</td>\n",
       "      <td>0</td>\n",
       "      <td>1</td>\n",
       "      <td>1</td>\n",
       "      <td>0</td>\n",
       "      <td>0</td>\n",
       "      <td>0</td>\n",
       "    </tr>\n",
       "  </tbody>\n",
       "</table>\n",
       "</div>"
      ],
      "text/plain": [
       "   State_Avg_Reading  Zip_Population  Median_Income  Property_Taxes  \\\n",
       "0          35.559524            1410          72188            7518   \n",
       "1          35.559524            1410          72188            7518   \n",
       "2          35.559524           45366          61089          989357   \n",
       "3          35.559524          107571          62602            6090   \n",
       "4          35.559524           12114          47060            7640   \n",
       "\n",
       "   Percent_Taxes  Per_Pupil_Spending  Per_Pupil_Support  \\\n",
       "0           35.6               10545                389   \n",
       "1           35.6               10545                389   \n",
       "2           47.9               10173                392   \n",
       "3           41.4                9813                581   \n",
       "4           36.2               13364                661   \n",
       "\n",
       "   Per_Pupil_Support_Staff  Per_Pupil_Salaries  Total_Students  \\\n",
       "0                      438                4049              39   \n",
       "1                      438                4049              48   \n",
       "2                     1145                3257             198   \n",
       "3                      616                3995             321   \n",
       "4                      223                4595             280   \n",
       "\n",
       "   Student_Teacher_Ratio  Density_midsize  Density_urban  Title_I_no  \\\n",
       "0                   4.18                1              0           0   \n",
       "1                   4.05                1              0           0   \n",
       "2                   9.66                1              0           0   \n",
       "3                  12.07                0              1           0   \n",
       "4                  15.56                1              0           0   \n",
       "\n",
       "   Title_I_yes  Virtual_no  Virtual_yes  Level_Elementary  Level_High  \\\n",
       "0            1           1            0                 0           0   \n",
       "1            1           1            0                 0           0   \n",
       "2            1           0            1                 1           0   \n",
       "3            1           0            1                 1           0   \n",
       "4            1           0            1                 1           0   \n",
       "\n",
       "   Level_Middle  Level_Other  \n",
       "0             0            1  \n",
       "1             0            1  \n",
       "2             0            0  \n",
       "3             0            0  \n",
       "4             0            0  "
      ]
     },
     "execution_count": 182,
     "metadata": {},
     "output_type": "execute_result"
    }
   ],
   "source": [
    "X_numeric.head()"
   ]
  },
  {
   "cell_type": "code",
   "execution_count": 183,
   "metadata": {},
   "outputs": [],
   "source": [
    "#Have to re-do the train test split\n",
    "X_train, X_test, y_train, y_test = train_test_split(X_numeric, target, test_size=0.20, random_state=42)"
   ]
  },
  {
   "cell_type": "markdown",
   "metadata": {},
   "source": [
    "### Scaling Data"
   ]
  },
  {
   "cell_type": "code",
   "execution_count": 184,
   "metadata": {},
   "outputs": [],
   "source": [
    "scaler = StandardScaler()\n",
    "# Train our scaler on training data, then fit to testing\n",
    "X_train_scaled = scaler.fit_transform(X_train, y=None)\n",
    "X_test_scaled = scaler.transform(X_test)"
   ]
  },
  {
   "cell_type": "markdown",
   "metadata": {},
   "source": [
    "### Baseline Modeling"
   ]
  },
  {
   "cell_type": "markdown",
   "metadata": {},
   "source": [
    "Schools with below 50% proficiency) comprise the majority class. Could a baseline model do better than that?  "
   ]
  },
  {
   "cell_type": "code",
   "execution_count": 185,
   "metadata": {},
   "outputs": [],
   "source": [
    "train = X_train.copy()\n",
    "train['target'] = y_train.values"
   ]
  },
  {
   "cell_type": "code",
   "execution_count": 186,
   "metadata": {},
   "outputs": [
    {
     "name": "stderr",
     "output_type": "stream",
     "text": [
      "<ipython-input-186-fd87e67f2ec4>:2: SettingWithCopyWarning: \n",
      "A value is trying to be set on a copy of a slice from a DataFrame.\n",
      "Try using .loc[row_indexer,col_indexer] = value instead\n",
      "\n",
      "See the caveats in the documentation: https://pandas.pydata.org/pandas-docs/stable/user_guide/indexing.html#returning-a-view-versus-a-copy\n",
      "  test['target'] = y_test\n"
     ]
    }
   ],
   "source": [
    "test = X_test\n",
    "test['target'] = y_test"
   ]
  },
  {
   "cell_type": "code",
   "execution_count": 187,
   "metadata": {},
   "outputs": [
    {
     "data": {
      "text/plain": [
       "72920"
      ]
     },
     "execution_count": 187,
     "metadata": {},
     "output_type": "execute_result"
    }
   ],
   "source": [
    "len(train) + len(test)"
   ]
  },
  {
   "cell_type": "code",
   "execution_count": 188,
   "metadata": {},
   "outputs": [],
   "source": [
    "# Make baseline dataframe \n",
    "bdf = pd.concat([train,test],axis=0)"
   ]
  },
  {
   "cell_type": "code",
   "execution_count": 189,
   "metadata": {},
   "outputs": [
    {
     "name": "stdout",
     "output_type": "stream",
     "text": [
      "Baseline accuracy based on average statewide reading proficiency: 0.42\n"
     ]
    }
   ],
   "source": [
    "# Number correct is number of proficient districts with state proficiency > 50%\n",
    "# and non-proficient districts with state proficiency < 50%.\n",
    "prof_correct = len(bdf[(bdf['State_Avg_Reading']>50) & (bdf['target']==1)])\n",
    "notprof_correct = len(bdf[(bdf['State_Avg_Reading']<50) & (bdf['target']==0)])\n",
    "\n",
    "# Add totals\n",
    "correct = prof_correct + notprof_correct\n",
    "print(f'Baseline accuracy based on average statewide reading proficiency: {correct/len(bdf):.2}')"
   ]
  },
  {
   "cell_type": "markdown",
   "metadata": {},
   "source": [
    "So a model that predicts a district's reading proficiency based on the overall average proficiency for the state in which the school is located only predicts correctly 42% of the time. We're better off just randomly guessing that a district is proficient!"
   ]
  },
  {
   "cell_type": "markdown",
   "metadata": {},
   "source": [
    "### Logistic Regression Model"
   ]
  },
  {
   "cell_type": "code",
   "execution_count": 190,
   "metadata": {},
   "outputs": [
    {
     "data": {
      "text/plain": [
       "LogisticRegression()"
      ]
     },
     "execution_count": 190,
     "metadata": {},
     "output_type": "execute_result"
    }
   ],
   "source": [
    "logreg = LogisticRegression()\n",
    "logreg.fit(X_train, y_train)"
   ]
  },
  {
   "cell_type": "code",
   "execution_count": 191,
   "metadata": {},
   "outputs": [
    {
     "data": {
      "text/plain": [
       "0.5067539769610532"
      ]
     },
     "execution_count": 191,
     "metadata": {},
     "output_type": "execute_result"
    }
   ],
   "source": [
    "logreg.score(X_train_scaled, y_train)"
   ]
  },
  {
   "cell_type": "code",
   "execution_count": 192,
   "metadata": {
    "scrolled": true
   },
   "outputs": [
    {
     "data": {
      "text/plain": [
       "0.4943773998902907"
      ]
     },
     "execution_count": 192,
     "metadata": {},
     "output_type": "execute_result"
    }
   ],
   "source": [
    "logreg.score(X_test_scaled, y_test)"
   ]
  },
  {
   "cell_type": "markdown",
   "metadata": {},
   "source": [
    "First logistic regression model did slightly better than baseline model, but still worse than randomly guessing the majority class. Hopefully our other classifier models can perform better. "
   ]
  },
  {
   "cell_type": "markdown",
   "metadata": {},
   "source": [
    "### K-Nearest Neighbors Model"
   ]
  },
  {
   "cell_type": "code",
   "execution_count": 193,
   "metadata": {},
   "outputs": [],
   "source": [
    "knn = KNeighborsClassifier(n_neighbors=3)\n",
    "knn.fit(X_train_scaled, y_train)\n",
    "#Predictions for the testing set\n",
    "y_preds = knn.predict(X_test_scaled)"
   ]
  },
  {
   "cell_type": "code",
   "execution_count": 194,
   "metadata": {
    "scrolled": true
   },
   "outputs": [],
   "source": [
    "#fn.evaluate(knn, X_train_scaled, X_test_scaled, y_train, y_test)"
   ]
  },
  {
   "cell_type": "markdown",
   "metadata": {},
   "source": [
    "Overfitting appears to be a significant problem; training data does OK but precision score drops a ton on testing. Before turning to feature engineering or a grid search, I'm going to try a couple of other models to see how well they perform comparatively. "
   ]
  },
  {
   "cell_type": "markdown",
   "metadata": {},
   "source": [
    "### Random Forest Model"
   ]
  },
  {
   "cell_type": "code",
   "execution_count": 195,
   "metadata": {},
   "outputs": [],
   "source": [
    "rf = RandomForestClassifier(max_depth=5, n_estimators=100, random_state=0)\n",
    "rf.fit(X_train_scaled, y_train)\n",
    "rf_preds = rf.predict(X_test_scaled) "
   ]
  },
  {
   "cell_type": "code",
   "execution_count": 196,
   "metadata": {
    "scrolled": false
   },
   "outputs": [
    {
     "name": "stdout",
     "output_type": "stream",
     "text": [
      "Train Scores\n",
      "------------\n",
      "Accuracy: 0.5435922929237521\n",
      "Precision: 0.5801586293328131\n",
      "F1 Score: 0.27921708763095915\n",
      "ROC-AUC: 0.5814010905846668\n",
      "--------------------\n",
      "Test Scores\n",
      "-----------\n",
      "Accuracy: 0.5049369171695008\n",
      "Precision: 0.5022952197919238\n",
      "F1 Score: 0.21996542783059636\n",
      "ROC-AUC: 0.5080112862860133\n"
     ]
    },
    {
     "data": {
      "image/png": "[encoded data removed]",
      "text/plain": [
       "<Figure size 432x288 with 2 Axes>"
      ]
     },
     "metadata": {
      "needs_background": "light"
     },
     "output_type": "display_data"
    }
   ],
   "source": [
    "fn.evaluate(rf, X_train_scaled, X_test_scaled, y_train, y_test)"
   ]
  },
  {
   "cell_type": "markdown",
   "metadata": {},
   "source": [
    "This has reduced overfitting somewhat, but precision has stayed mostly the same and is still about as accurate as random guessing."
   ]
  },
  {
   "cell_type": "markdown",
   "metadata": {},
   "source": [
    "### Gradient Boosting Model"
   ]
  },
  {
   "cell_type": "code",
   "execution_count": 197,
   "metadata": {},
   "outputs": [],
   "source": [
    "#Trying sklearn gradient boosting instead\n",
    "gbmodel = GradientBoostingClassifier(n_estimators=100, learning_rate=1.0,\n",
    "max_depth=1, random_state=0).fit(X_train_scaled, y_train)"
   ]
  },
  {
   "cell_type": "code",
   "execution_count": 198,
   "metadata": {},
   "outputs": [],
   "source": [
    "gbmodel_preds = gbmodel.predict(X_test_scaled)"
   ]
  },
  {
   "cell_type": "code",
   "execution_count": 199,
   "metadata": {
    "scrolled": true
   },
   "outputs": [
    {
     "name": "stdout",
     "output_type": "stream",
     "text": [
      "Train Scores\n",
      "------------\n",
      "Accuracy: 0.5311300054854635\n",
      "Precision: 0.5317051846741114\n",
      "F1 Score: 0.4520833333333333\n",
      "ROC-AUC: 0.54350613424485\n",
      "--------------------\n",
      "Test Scores\n",
      "-----------\n",
      "Accuracy: 0.505759736697751\n",
      "Precision: 0.5047068330570754\n",
      "F1 Score: 0.425931825422109\n",
      "ROC-AUC: 0.5034476532326898\n"
     ]
    },
    {
     "data": {
      "image/png": "[encoded data removed]",
      "text/plain": [
       "<Figure size 432x288 with 2 Axes>"
      ]
     },
     "metadata": {
      "needs_background": "light"
     },
     "output_type": "display_data"
    }
   ],
   "source": [
    "fn.evaluate(gbmodel, X_train_scaled, X_test_scaled, y_train, y_test)"
   ]
  },
  {
   "cell_type": "markdown",
   "metadata": {},
   "source": [
    "Using gradient boosting did not appear to have any discernible improvement for my model. However, the gap in precision scores between training and testing models was the smallest here out of any of the three algorithms."
   ]
  },
  {
   "cell_type": "markdown",
   "metadata": {},
   "source": [
    "### AdaBoost Classifier"
   ]
  },
  {
   "cell_type": "code",
   "execution_count": 200,
   "metadata": {},
   "outputs": [
    {
     "data": {
      "text/plain": [
       "AdaBoostClassifier()"
      ]
     },
     "execution_count": 200,
     "metadata": {},
     "output_type": "execute_result"
    }
   ],
   "source": [
    "ada = AdaBoostClassifier()\n",
    "ada.fit(X_train_scaled, y_train)"
   ]
  },
  {
   "cell_type": "code",
   "execution_count": 201,
   "metadata": {},
   "outputs": [
    {
     "name": "stdout",
     "output_type": "stream",
     "text": [
      "Train Scores\n",
      "------------\n",
      "Accuracy: 0.5242731760833791\n",
      "Precision: 0.5246260599232768\n",
      "F1 Score: 0.4314512824715234\n",
      "ROC-AUC: 0.5346677947766252\n",
      "--------------------\n",
      "Test Scores\n",
      "-----------\n",
      "Accuracy: 0.5072682391662096\n",
      "Precision: 0.5062378712993225\n",
      "F1 Score: 0.41204385534282445\n",
      "ROC-AUC: 0.505746157686001\n"
     ]
    },
    {
     "data": {
      "image/png": "[encoded data removed]",
      "text/plain": [
       "<Figure size 432x288 with 2 Axes>"
      ]
     },
     "metadata": {
      "needs_background": "light"
     },
     "output_type": "display_data"
    }
   ],
   "source": [
    "fn.evaluate(ada, X_train_scaled, X_test_scaled, y_train, y_test)"
   ]
  },
  {
   "cell_type": "markdown",
   "metadata": {},
   "source": [
    "### Feature Engineering and Model Improvement"
   ]
  },
  {
   "cell_type": "code",
   "execution_count": 202,
   "metadata": {},
   "outputs": [],
   "source": [
    "importances = rf.feature_importances_"
   ]
  },
  {
   "cell_type": "code",
   "execution_count": 203,
   "metadata": {},
   "outputs": [],
   "source": [
    "feature_names = X_test.drop(labels='target', axis=1)"
   ]
  },
  {
   "cell_type": "code",
   "execution_count": 204,
   "metadata": {},
   "outputs": [],
   "source": [
    "rf_importances = pd.DataFrame(index=feature_names.columns, data=importances).sort_values(by=0,ascending=False)"
   ]
  },
  {
   "cell_type": "code",
   "execution_count": 205,
   "metadata": {
    "scrolled": true
   },
   "outputs": [
    {
     "data": {
      "image/png": "[encoded data removed]",
      "text/plain": [
       "<Figure size 432x288 with 1 Axes>"
      ]
     },
     "metadata": {
      "needs_background": "light"
     },
     "output_type": "display_data"
    }
   ],
   "source": [
    "# plot feature importance\n",
    "rf_importances.plot(kind='bar', legend=False, color='lightblue');"
   ]
  },
  {
   "cell_type": "markdown",
   "metadata": {},
   "source": [
    "As a first try, I'm going to select only the top eight features with an importance of over .06 and rerun the models to see if these improve precision scores. As an added bonus, this feature selection might make my models more interpretable. Since my gradient boosting model seemed the most effective when it came to minimizing overfitting, I will re-run this algorithm on my new features."
   ]
  },
  {
   "cell_type": "code",
   "execution_count": 206,
   "metadata": {},
   "outputs": [],
   "source": [
    "top8_X_numeric = X_numeric[['Student_Teacher_Ratio','Median_Income','Zip_Population','Per_Pupil_Salaries','Per_Pupil_Support','Total_Students','Per_Pupil_Spending','Percent_Taxes']]\n",
    "\n"
   ]
  },
  {
   "cell_type": "code",
   "execution_count": 207,
   "metadata": {},
   "outputs": [],
   "source": [
    "#Have to re-do the train test split\n",
    "top8_X_train, top8_X_test, y_train, y_test = train_test_split(X_numeric, target, test_size=0.20, random_state=42)"
   ]
  },
  {
   "cell_type": "code",
   "execution_count": 208,
   "metadata": {},
   "outputs": [],
   "source": [
    "#Scale the data again\n",
    "top8_X_train_scaled = scaler.fit_transform(top8_X_train, y=None)\n",
    "top8_X_test_scaled = scaler.transform(top8_X_test)"
   ]
  },
  {
   "cell_type": "code",
   "execution_count": 209,
   "metadata": {},
   "outputs": [],
   "source": [
    "#Run Gradient Boosting \n",
    "top8_gbmodel = GradientBoostingClassifier(n_estimators=100,\n",
    "max_depth=1, random_state=0).fit(top8_X_train_scaled, y_train)"
   ]
  },
  {
   "cell_type": "code",
   "execution_count": 210,
   "metadata": {},
   "outputs": [],
   "source": [
    "top8_gbmodel_preds = top8_gbmodel.predict(top8_X_test_scaled)"
   ]
  },
  {
   "cell_type": "code",
   "execution_count": 211,
   "metadata": {},
   "outputs": [
    {
     "name": "stdout",
     "output_type": "stream",
     "text": [
      "Train Scores\n",
      "------------\n",
      "Accuracy: 0.5149993143170598\n",
      "Precision: 0.5172668979751646\n",
      "F1 Score: 0.3001459420684196\n",
      "ROC-AUC: 0.5249659339242155\n",
      "--------------------\n",
      "Test Scores\n",
      "-----------\n",
      "Accuracy: 0.5054168952276468\n",
      "Precision: 0.5034960439338292\n",
      "F1 Score: 0.29096628329892854\n",
      "ROC-AUC: 0.5108552776355639\n"
     ]
    },
    {
     "data": {
      "image/png": "[encoded data removed]",
      "text/plain": [
       "<Figure size 432x288 with 2 Axes>"
      ]
     },
     "metadata": {
      "needs_background": "light"
     },
     "output_type": "display_data"
    }
   ],
   "source": [
    "fn.evaluate(top8_gbmodel, top8_X_train_scaled, top8_X_test_scaled, y_train, y_test)"
   ]
  },
  {
   "cell_type": "markdown",
   "metadata": {},
   "source": [
    "Selecting features had no discernible effect on my model. Going to try tuning some of the more important hyperparameters next, such as learning rate."
   ]
  },
  {
   "cell_type": "code",
   "execution_count": 212,
   "metadata": {},
   "outputs": [
    {
     "data": {
      "text/plain": [
       "(72920, 21)"
      ]
     },
     "execution_count": 212,
     "metadata": {},
     "output_type": "execute_result"
    }
   ],
   "source": [
    "X_numeric.shape"
   ]
  },
  {
   "cell_type": "code",
   "execution_count": 213,
   "metadata": {},
   "outputs": [],
   "source": [
    "#Seeing how models performs with default parameters\n",
    "default = GradientBoostingClassifier().fit(top8_X_train_scaled, y_train)"
   ]
  },
  {
   "cell_type": "code",
   "execution_count": 214,
   "metadata": {},
   "outputs": [],
   "source": [
    "default_preds = default.predict(top8_X_test_scaled)"
   ]
  },
  {
   "cell_type": "code",
   "execution_count": 215,
   "metadata": {},
   "outputs": [
    {
     "name": "stdout",
     "output_type": "stream",
     "text": [
      "Train Scores\n",
      "------------\n",
      "Accuracy: 0.5555231760833791\n",
      "Precision: 0.5599924615875593\n",
      "F1 Score: 0.4609915809167446\n",
      "ROC-AUC: 0.5865065334800958\n",
      "--------------------\n",
      "Test Scores\n",
      "-----------\n",
      "Accuracy: 0.5063082830499177\n",
      "Precision: 0.5051731051550702\n",
      "F1 Score: 0.4103194103194103\n",
      "ROC-AUC: 0.5101893310873362\n"
     ]
    },
    {
     "data": {
      "image/png": "[encoded data removed]",
      "text/plain": [
       "<Figure size 432x288 with 2 Axes>"
      ]
     },
     "metadata": {
      "needs_background": "light"
     },
     "output_type": "display_data"
    }
   ],
   "source": [
    "fn.evaluate(default, top8_X_train_scaled, top8_X_test_scaled, y_train, y_test)\n"
   ]
  },
  {
   "cell_type": "markdown",
   "metadata": {},
   "source": [
    "With default parameters, precision score went up slightly (by .02%); however, overfitting also worsened slightly. Going to try a GridSearch CV next. "
   ]
  },
  {
   "cell_type": "markdown",
   "metadata": {},
   "source": [
    "loss='deviance', learning_rate=0.1, n_estimators=100, subsample=1.0, criterion='friedman_mse', min_samples_split=2, min_samples_leaf=1, min_weight_fraction_leaf=0.0, max_depth=3, min_impurity_decrease=0.0, init=None, random_state=None, max_features=None, verbose=0, max_leaf_nodes=None, warm_start=False, validation_fraction=0.1, n_iter_no_change=None, tol=0.0001, ccp_alpha=0.0"
   ]
  },
  {
   "cell_type": "code",
   "execution_count": 216,
   "metadata": {},
   "outputs": [
    {
     "data": {
      "text/plain": [
       "(72920, 21)"
      ]
     },
     "execution_count": 216,
     "metadata": {},
     "output_type": "execute_result"
    }
   ],
   "source": [
    "X_numeric.shape"
   ]
  },
  {
   "cell_type": "markdown",
   "metadata": {},
   "source": [
    "**min_samples_split = 700**: min_samples should be ~.05 - 1% of total values. Since this is a balanced class problem, will take towards the larger end of the range. 1% of 72920 is about 700."
   ]
  },
  {
   "cell_type": "markdown",
   "metadata": {},
   "source": [
    "**max_depth = 7**: Should be chosen (5-8) based on the number of observations and predictors. This has 72K rows and 21 columns so lets take 7 here.\n",
    "\n",
    "**max_features = sqrt**: Rule of thumb.\n",
    "\n",
    "**subsample == 0.8**: Commonly used start value."
   ]
  },
  {
   "cell_type": "code",
   "execution_count": 217,
   "metadata": {},
   "outputs": [
    {
     "data": {
      "text/html": [
       "<div>\n",
       "<style scoped>\n",
       "    .dataframe tbody tr th:only-of-type {\n",
       "        vertical-align: middle;\n",
       "    }\n",
       "\n",
       "    .dataframe tbody tr th {\n",
       "        vertical-align: top;\n",
       "    }\n",
       "\n",
       "    .dataframe thead th {\n",
       "        text-align: right;\n",
       "    }\n",
       "</style>\n",
       "<table border=\"1\" class=\"dataframe\">\n",
       "  <thead>\n",
       "    <tr style=\"text-align: right;\">\n",
       "      <th></th>\n",
       "      <th>split0_test_accuracy</th>\n",
       "      <th>split1_test_accuracy</th>\n",
       "      <th>split0_test_precision</th>\n",
       "      <th>split1_test_precision</th>\n",
       "      <th>split0_test_recall</th>\n",
       "      <th>split1_test_recall</th>\n",
       "    </tr>\n",
       "  </thead>\n",
       "  <tbody>\n",
       "    <tr>\n",
       "      <th>0</th>\n",
       "      <td>0.504731</td>\n",
       "      <td>0.504320</td>\n",
       "      <td>0.497456</td>\n",
       "      <td>0.496947</td>\n",
       "      <td>0.359967</td>\n",
       "      <td>0.367609</td>\n",
       "    </tr>\n",
       "    <tr>\n",
       "      <th>1</th>\n",
       "      <td>0.502263</td>\n",
       "      <td>0.499246</td>\n",
       "      <td>0.494511</td>\n",
       "      <td>0.490111</td>\n",
       "      <td>0.391232</td>\n",
       "      <td>0.366706</td>\n",
       "    </tr>\n",
       "    <tr>\n",
       "      <th>2</th>\n",
       "      <td>0.496949</td>\n",
       "      <td>0.499931</td>\n",
       "      <td>0.488168</td>\n",
       "      <td>0.491700</td>\n",
       "      <td>0.401306</td>\n",
       "      <td>0.397207</td>\n",
       "    </tr>\n",
       "    <tr>\n",
       "      <th>3</th>\n",
       "      <td>0.501234</td>\n",
       "      <td>0.502331</td>\n",
       "      <td>0.493316</td>\n",
       "      <td>0.494826</td>\n",
       "      <td>0.397415</td>\n",
       "      <td>0.408671</td>\n",
       "    </tr>\n",
       "    <tr>\n",
       "      <th>4</th>\n",
       "      <td>0.500171</td>\n",
       "      <td>0.501269</td>\n",
       "      <td>0.492390</td>\n",
       "      <td>0.493615</td>\n",
       "      <td>0.418050</td>\n",
       "      <td>0.413604</td>\n",
       "    </tr>\n",
       "    <tr>\n",
       "      <th>5</th>\n",
       "      <td>0.499177</td>\n",
       "      <td>0.503394</td>\n",
       "      <td>0.491447</td>\n",
       "      <td>0.496262</td>\n",
       "      <td>0.429167</td>\n",
       "      <td>0.424303</td>\n",
       "    </tr>\n",
       "    <tr>\n",
       "      <th>6</th>\n",
       "      <td>0.501646</td>\n",
       "      <td>0.502091</td>\n",
       "      <td>0.494235</td>\n",
       "      <td>0.494783</td>\n",
       "      <td>0.425901</td>\n",
       "      <td>0.428333</td>\n",
       "    </tr>\n",
       "  </tbody>\n",
       "</table>\n",
       "</div>"
      ],
      "text/plain": [
       "   split0_test_accuracy  split1_test_accuracy  split0_test_precision  \\\n",
       "0              0.504731              0.504320               0.497456   \n",
       "1              0.502263              0.499246               0.494511   \n",
       "2              0.496949              0.499931               0.488168   \n",
       "3              0.501234              0.502331               0.493316   \n",
       "4              0.500171              0.501269               0.492390   \n",
       "5              0.499177              0.503394               0.491447   \n",
       "6              0.501646              0.502091               0.494235   \n",
       "\n",
       "   split1_test_precision  split0_test_recall  split1_test_recall  \n",
       "0               0.496947            0.359967            0.367609  \n",
       "1               0.490111            0.391232            0.366706  \n",
       "2               0.491700            0.401306            0.397207  \n",
       "3               0.494826            0.397415            0.408671  \n",
       "4               0.493615            0.418050            0.413604  \n",
       "5               0.496262            0.429167            0.424303  \n",
       "6               0.494783            0.425901            0.428333  "
      ]
     },
     "execution_count": 217,
     "metadata": {},
     "output_type": "execute_result"
    }
   ],
   "source": [
    "#Creating scoring parameter: \n",
    "scoring = {'accuracy': make_scorer(accuracy_score),\n",
    "           'precision': make_scorer(precision_score),'recall':make_scorer(recall_score)}\n",
    "\n",
    "# A sample parameter\n",
    "parameters = {\n",
    "    \"min_samples_split\": [100],\n",
    "    \"max_depth\":[7],\n",
    "    \"max_features\":[\"sqrt\"],\n",
    "    \"subsample\":[0.8],\n",
    "    \"n_estimators\":range(20,81,10)\n",
    "    }\n",
    "#Passing the scoring function in the GridSearchCV\n",
    "clf = GridSearchCV(GradientBoostingClassifier(), parameters,scoring=scoring,refit=False,cv=2, n_jobs=-1)\n",
    "\n",
    "clf.fit(top8_X_train_scaled, y_train)\n",
    "#Converting the clf.cv_results to dataframe\n",
    "results=pd.DataFrame.from_dict(clf.cv_results_)\n",
    "#Here are inputs for cross validation is cv=2, there two split split0 and split1\n",
    "results[['split0_test_accuracy','split1_test_accuracy','split0_test_precision','split1_test_precision','split0_test_recall','split1_test_recall']]"
   ]
  },
  {
   "cell_type": "code",
   "execution_count": 218,
   "metadata": {},
   "outputs": [
    {
     "data": {
      "text/plain": [
       "{'max_depth': 7,\n",
       " 'max_features': 'sqrt',\n",
       " 'min_samples_split': 100,\n",
       " 'n_estimators': 20,\n",
       " 'subsample': 0.8}"
      ]
     },
     "execution_count": 218,
     "metadata": {},
     "output_type": "execute_result"
    }
   ],
   "source": [
    "#find the best parameter based on the accuracy_score\n",
    "#taking the average of the precision\n",
    "results['precision_score']=(results['split0_test_precision']+results['split1_test_precision'])/2\n",
    "\n",
    "results.loc[results['precision_score'].idxmax()]['params']"
   ]
  },
  {
   "cell_type": "markdown",
   "metadata": {},
   "source": [
    "### Adding More Data"
   ]
  },
  {
   "cell_type": "markdown",
   "metadata": {},
   "source": [
    "Since the gridsearches did not work to improve the model's performance significantly, I'm going to try adding in some additional features to the model to see if that improves the score."
   ]
  },
  {
   "cell_type": "code",
   "execution_count": 219,
   "metadata": {
    "scrolled": false
   },
   "outputs": [
    {
     "name": "stderr",
     "output_type": "stream",
     "text": [
      "/opt/anaconda3/envs/learn-env/lib/python3.8/site-packages/IPython/core/interactiveshell.py:3145: DtypeWarning: Columns (0,3) have mixed types.Specify dtype option on import or set low_memory=False.\n",
      "  has_raised = await self.run_ast_nodes(code_ast.body, cell_name,\n"
     ]
    }
   ],
   "source": [
    "money = pd.read_csv('data/sdf19_1a.txt',sep=\"\\t\")"
   ]
  },
  {
   "cell_type": "code",
   "execution_count": 220,
   "metadata": {},
   "outputs": [
    {
     "data": {
      "text/plain": [
       "(19700, 262)"
      ]
     },
     "execution_count": 220,
     "metadata": {},
     "output_type": "execute_result"
    }
   ],
   "source": [
    "money.shape"
   ]
  },
  {
   "cell_type": "code",
   "execution_count": 221,
   "metadata": {},
   "outputs": [],
   "source": [
    "df['District_ID'] = df['District_ID'].astype(str)"
   ]
  },
  {
   "cell_type": "code",
   "execution_count": 222,
   "metadata": {
    "scrolled": true
   },
   "outputs": [],
   "source": [
    "addtl_features = money[['LEAID','TOTALREV','TFEDREV','TSTREV','TLOCREV','T40','Z32','Z33']]"
   ]
  },
  {
   "cell_type": "code",
   "execution_count": 223,
   "metadata": {},
   "outputs": [],
   "source": [
    "addtl_features = addtl_features.rename({'LEAID':'District_ID', 'TOTALREV':'Total_Revenue','TFEDREV':'Federal_Revenue','TSTREV':'State_Revenue','TLOCREV':'Local_Revenue','T40':'Income_Taxes','Z32':'Total_Salaries','Z33':'Instructional_Salaries'\n",
    "                                       },axis=1)"
   ]
  },
  {
   "cell_type": "code",
   "execution_count": 224,
   "metadata": {},
   "outputs": [],
   "source": [
    "df2 = df.merge(addtl_features, on='District_ID', how='inner')"
   ]
  },
  {
   "cell_type": "code",
   "execution_count": 225,
   "metadata": {
    "scrolled": true
   },
   "outputs": [
    {
     "data": {
      "text/html": [
       "<div>\n",
       "<style scoped>\n",
       "    .dataframe tbody tr th:only-of-type {\n",
       "        vertical-align: middle;\n",
       "    }\n",
       "\n",
       "    .dataframe tbody tr th {\n",
       "        vertical-align: top;\n",
       "    }\n",
       "\n",
       "    .dataframe thead th {\n",
       "        text-align: right;\n",
       "    }\n",
       "</style>\n",
       "<table border=\"1\" class=\"dataframe\">\n",
       "  <thead>\n",
       "    <tr style=\"text-align: right;\">\n",
       "      <th></th>\n",
       "      <th>School_ID</th>\n",
       "      <th>School_Name</th>\n",
       "      <th>District_Name</th>\n",
       "      <th>District_ID</th>\n",
       "      <th>City</th>\n",
       "      <th>State</th>\n",
       "      <th>Zip</th>\n",
       "      <th>Zip_Population</th>\n",
       "      <th>Density</th>\n",
       "      <th>Median_Income</th>\n",
       "      <th>Property_Taxes</th>\n",
       "      <th>Percent_Taxes</th>\n",
       "      <th>Per_Pupil_Spending</th>\n",
       "      <th>Per_Pupil_Support</th>\n",
       "      <th>Per_Pupil_Support_Staff</th>\n",
       "      <th>Per_Pupil_Salaries</th>\n",
       "      <th>Total_Students</th>\n",
       "      <th>Student_Teacher_Ratio</th>\n",
       "      <th>Title_I</th>\n",
       "      <th>Virtual</th>\n",
       "      <th>%_Proficient_Reading</th>\n",
       "      <th>Target</th>\n",
       "      <th>Level</th>\n",
       "      <th>Total_Revenue</th>\n",
       "      <th>Federal_Revenue</th>\n",
       "      <th>State_Revenue</th>\n",
       "      <th>Local_Revenue</th>\n",
       "      <th>Income_Taxes</th>\n",
       "      <th>Total_Salaries</th>\n",
       "      <th>Instructional_Salaries</th>\n",
       "    </tr>\n",
       "  </thead>\n",
       "  <tbody>\n",
       "    <tr>\n",
       "      <th>0</th>\n",
       "      <td>NC-32M-000</td>\n",
       "      <td>Global Scholars Academy</td>\n",
       "      <td>AUTAUGA COUNTY SCHOOL DISTRICT</td>\n",
       "      <td>3700316</td>\n",
       "      <td>Durham</td>\n",
       "      <td>NC</td>\n",
       "      <td>27701</td>\n",
       "      <td>63864</td>\n",
       "      <td>midsize</td>\n",
       "      <td>41566</td>\n",
       "      <td>7637</td>\n",
       "      <td>8.7</td>\n",
       "      <td>8600</td>\n",
       "      <td>512</td>\n",
       "      <td>241</td>\n",
       "      <td>3357</td>\n",
       "      <td>206</td>\n",
       "      <td>11.31</td>\n",
       "      <td>yes</td>\n",
       "      <td>no</td>\n",
       "      <td>30</td>\n",
       "      <td>0</td>\n",
       "      <td>Elementary</td>\n",
       "      <td>2855000</td>\n",
       "      <td>320000</td>\n",
       "      <td>1506000</td>\n",
       "      <td>1029000</td>\n",
       "      <td>-2</td>\n",
       "      <td>1875000</td>\n",
       "      <td>1165000</td>\n",
       "    </tr>\n",
       "    <tr>\n",
       "      <th>1</th>\n",
       "      <td>NC-320-310</td>\n",
       "      <td>Eastway Elementary</td>\n",
       "      <td>LOS ANGELES UNIF SCH DIST</td>\n",
       "      <td>3701260</td>\n",
       "      <td>Durham</td>\n",
       "      <td>NC</td>\n",
       "      <td>27701</td>\n",
       "      <td>63864</td>\n",
       "      <td>midsize</td>\n",
       "      <td>41566</td>\n",
       "      <td>2411346</td>\n",
       "      <td>24.4</td>\n",
       "      <td>15793</td>\n",
       "      <td>969</td>\n",
       "      <td>1189</td>\n",
       "      <td>5023</td>\n",
       "      <td>439</td>\n",
       "      <td>11.31</td>\n",
       "      <td>yes</td>\n",
       "      <td>no</td>\n",
       "      <td>11</td>\n",
       "      <td>0</td>\n",
       "      <td>Elementary</td>\n",
       "      <td>413911000</td>\n",
       "      <td>45699000</td>\n",
       "      <td>213378000</td>\n",
       "      <td>154834000</td>\n",
       "      <td>-2</td>\n",
       "      <td>247872000</td>\n",
       "      <td>166724000</td>\n",
       "    </tr>\n",
       "    <tr>\n",
       "      <th>2</th>\n",
       "      <td>NC-320-347</td>\n",
       "      <td>George Watts Elementary</td>\n",
       "      <td>WHITTIER CY SCHOOL DISTRICT</td>\n",
       "      <td>3701260</td>\n",
       "      <td>Durham</td>\n",
       "      <td>NC</td>\n",
       "      <td>27701</td>\n",
       "      <td>63864</td>\n",
       "      <td>midsize</td>\n",
       "      <td>41566</td>\n",
       "      <td>15097</td>\n",
       "      <td>18.2</td>\n",
       "      <td>12453</td>\n",
       "      <td>588</td>\n",
       "      <td>825</td>\n",
       "      <td>4813</td>\n",
       "      <td>363</td>\n",
       "      <td>11.86</td>\n",
       "      <td>yes</td>\n",
       "      <td>no</td>\n",
       "      <td>55</td>\n",
       "      <td>1</td>\n",
       "      <td>Elementary</td>\n",
       "      <td>413911000</td>\n",
       "      <td>45699000</td>\n",
       "      <td>213378000</td>\n",
       "      <td>154834000</td>\n",
       "      <td>-2</td>\n",
       "      <td>247872000</td>\n",
       "      <td>166724000</td>\n",
       "    </tr>\n",
       "    <tr>\n",
       "      <th>3</th>\n",
       "      <td>NC-320-323</td>\n",
       "      <td>Durham School of the Arts</td>\n",
       "      <td>CHARLES CO SCHS</td>\n",
       "      <td>3701260</td>\n",
       "      <td>Durham</td>\n",
       "      <td>NC</td>\n",
       "      <td>27701</td>\n",
       "      <td>63864</td>\n",
       "      <td>midsize</td>\n",
       "      <td>41566</td>\n",
       "      <td>0</td>\n",
       "      <td>46.0</td>\n",
       "      <td>14732</td>\n",
       "      <td>786</td>\n",
       "      <td>738</td>\n",
       "      <td>5595</td>\n",
       "      <td>1869</td>\n",
       "      <td>16.78</td>\n",
       "      <td>yes</td>\n",
       "      <td>yes</td>\n",
       "      <td>68</td>\n",
       "      <td>1</td>\n",
       "      <td>High</td>\n",
       "      <td>413911000</td>\n",
       "      <td>45699000</td>\n",
       "      <td>213378000</td>\n",
       "      <td>154834000</td>\n",
       "      <td>-2</td>\n",
       "      <td>247872000</td>\n",
       "      <td>166724000</td>\n",
       "    </tr>\n",
       "    <tr>\n",
       "      <th>4</th>\n",
       "      <td>NC-320-308</td>\n",
       "      <td>Burton Elementary</td>\n",
       "      <td>DANIEL MORGAN AREA VOCATIONAL CENTER</td>\n",
       "      <td>3701260</td>\n",
       "      <td>Durham</td>\n",
       "      <td>NC</td>\n",
       "      <td>27701</td>\n",
       "      <td>63864</td>\n",
       "      <td>midsize</td>\n",
       "      <td>41566</td>\n",
       "      <td>0</td>\n",
       "      <td>0.0</td>\n",
       "      <td>0</td>\n",
       "      <td>0</td>\n",
       "      <td>0</td>\n",
       "      <td>0</td>\n",
       "      <td>339</td>\n",
       "      <td>10.59</td>\n",
       "      <td>yes</td>\n",
       "      <td>no</td>\n",
       "      <td>40</td>\n",
       "      <td>0</td>\n",
       "      <td>Elementary</td>\n",
       "      <td>413911000</td>\n",
       "      <td>45699000</td>\n",
       "      <td>213378000</td>\n",
       "      <td>154834000</td>\n",
       "      <td>-2</td>\n",
       "      <td>247872000</td>\n",
       "      <td>166724000</td>\n",
       "    </tr>\n",
       "  </tbody>\n",
       "</table>\n",
       "</div>"
      ],
      "text/plain": [
       "    School_ID                School_Name  \\\n",
       "0  NC-32M-000    Global Scholars Academy   \n",
       "1  NC-320-310         Eastway Elementary   \n",
       "2  NC-320-347    George Watts Elementary   \n",
       "3  NC-320-323  Durham School of the Arts   \n",
       "4  NC-320-308          Burton Elementary   \n",
       "\n",
       "                          District_Name District_ID    City State    Zip  \\\n",
       "0        AUTAUGA COUNTY SCHOOL DISTRICT     3700316  Durham    NC  27701   \n",
       "1             LOS ANGELES UNIF SCH DIST     3701260  Durham    NC  27701   \n",
       "2           WHITTIER CY SCHOOL DISTRICT     3701260  Durham    NC  27701   \n",
       "3                       CHARLES CO SCHS     3701260  Durham    NC  27701   \n",
       "4  DANIEL MORGAN AREA VOCATIONAL CENTER     3701260  Durham    NC  27701   \n",
       "\n",
       "   Zip_Population  Density  Median_Income  Property_Taxes  Percent_Taxes  \\\n",
       "0           63864  midsize          41566            7637            8.7   \n",
       "1           63864  midsize          41566         2411346           24.4   \n",
       "2           63864  midsize          41566           15097           18.2   \n",
       "3           63864  midsize          41566               0           46.0   \n",
       "4           63864  midsize          41566               0            0.0   \n",
       "\n",
       "   Per_Pupil_Spending  Per_Pupil_Support  Per_Pupil_Support_Staff  \\\n",
       "0                8600                512                      241   \n",
       "1               15793                969                     1189   \n",
       "2               12453                588                      825   \n",
       "3               14732                786                      738   \n",
       "4                   0                  0                        0   \n",
       "\n",
       "   Per_Pupil_Salaries  Total_Students  Student_Teacher_Ratio Title_I Virtual  \\\n",
       "0                3357             206                  11.31     yes      no   \n",
       "1                5023             439                  11.31     yes      no   \n",
       "2                4813             363                  11.86     yes      no   \n",
       "3                5595            1869                  16.78     yes     yes   \n",
       "4                   0             339                  10.59     yes      no   \n",
       "\n",
       "   %_Proficient_Reading  Target       Level  Total_Revenue  Federal_Revenue  \\\n",
       "0                    30       0  Elementary        2855000           320000   \n",
       "1                    11       0  Elementary      413911000         45699000   \n",
       "2                    55       1  Elementary      413911000         45699000   \n",
       "3                    68       1        High      413911000         45699000   \n",
       "4                    40       0  Elementary      413911000         45699000   \n",
       "\n",
       "   State_Revenue  Local_Revenue  Income_Taxes  Total_Salaries  \\\n",
       "0        1506000        1029000            -2         1875000   \n",
       "1      213378000      154834000            -2       247872000   \n",
       "2      213378000      154834000            -2       247872000   \n",
       "3      213378000      154834000            -2       247872000   \n",
       "4      213378000      154834000            -2       247872000   \n",
       "\n",
       "   Instructional_Salaries  \n",
       "0                 1165000  \n",
       "1               166724000  \n",
       "2               166724000  \n",
       "3               166724000  \n",
       "4               166724000  "
      ]
     },
     "execution_count": 225,
     "metadata": {},
     "output_type": "execute_result"
    }
   ],
   "source": [
    "df2.head()"
   ]
  },
  {
   "cell_type": "markdown",
   "metadata": {},
   "source": [
    "### Transforming Dataframe with Additional Features "
   ]
  },
  {
   "cell_type": "code",
   "execution_count": 226,
   "metadata": {},
   "outputs": [],
   "source": [
    "#Splitting data into features and target\n",
    "#Dropping all identifier columns including zipcode - as median income is based on zipcode and is a good stand-in\n",
    "target2 = df2['Target']\n",
    "features2 = df2.drop(['School_ID','School_Name','District_Name','District_ID','Zip','City','Target'], axis=1)               "
   ]
  },
  {
   "cell_type": "code",
   "execution_count": 227,
   "metadata": {},
   "outputs": [],
   "source": [
    "#Performing train-test split\n",
    "X_train2, X_test2, y_train2, y_test2 = train_test_split(features2, target2, test_size=0.20, random_state=42)"
   ]
  },
  {
   "cell_type": "code",
   "execution_count": 228,
   "metadata": {
    "scrolled": true
   },
   "outputs": [],
   "source": [
    "#Join state helper dataframe with my training predictors and testing data\n",
    "X_train2 = pd.merge(state_averages, X_train2, how = 'inner', on='State').drop(['State','%_Proficient_Reading'], axis=1)\n",
    "X_test2 = pd.merge(state_averages, X_test2, how = 'inner', on='State').drop(['State','%_Proficient_Reading'], axis=1)"
   ]
  },
  {
   "cell_type": "code",
   "execution_count": 229,
   "metadata": {
    "scrolled": true
   },
   "outputs": [
    {
     "data": {
      "text/html": [
       "<div>\n",
       "<style scoped>\n",
       "    .dataframe tbody tr th:only-of-type {\n",
       "        vertical-align: middle;\n",
       "    }\n",
       "\n",
       "    .dataframe tbody tr th {\n",
       "        vertical-align: top;\n",
       "    }\n",
       "\n",
       "    .dataframe thead th {\n",
       "        text-align: right;\n",
       "    }\n",
       "</style>\n",
       "<table border=\"1\" class=\"dataframe\">\n",
       "  <thead>\n",
       "    <tr style=\"text-align: right;\">\n",
       "      <th></th>\n",
       "      <th>State_Avg_Reading</th>\n",
       "      <th>Zip_Population</th>\n",
       "      <th>Density</th>\n",
       "      <th>Median_Income</th>\n",
       "      <th>Property_Taxes</th>\n",
       "      <th>Percent_Taxes</th>\n",
       "      <th>Per_Pupil_Spending</th>\n",
       "      <th>Per_Pupil_Support</th>\n",
       "      <th>Per_Pupil_Support_Staff</th>\n",
       "      <th>Per_Pupil_Salaries</th>\n",
       "      <th>Total_Students</th>\n",
       "      <th>Student_Teacher_Ratio</th>\n",
       "      <th>Title_I</th>\n",
       "      <th>Virtual</th>\n",
       "      <th>Level</th>\n",
       "      <th>Total_Revenue</th>\n",
       "      <th>Federal_Revenue</th>\n",
       "      <th>State_Revenue</th>\n",
       "      <th>Local_Revenue</th>\n",
       "      <th>Income_Taxes</th>\n",
       "      <th>Total_Salaries</th>\n",
       "      <th>Instructional_Salaries</th>\n",
       "    </tr>\n",
       "  </thead>\n",
       "  <tbody>\n",
       "    <tr>\n",
       "      <th>0</th>\n",
       "      <td>33.409396</td>\n",
       "      <td>45996</td>\n",
       "      <td>midsize</td>\n",
       "      <td>49871</td>\n",
       "      <td>989357</td>\n",
       "      <td>47.9</td>\n",
       "      <td>10173</td>\n",
       "      <td>392</td>\n",
       "      <td>1145</td>\n",
       "      <td>3257</td>\n",
       "      <td>902</td>\n",
       "      <td>13.56</td>\n",
       "      <td>no</td>\n",
       "      <td>no</td>\n",
       "      <td>Elementary</td>\n",
       "      <td>1526358000</td>\n",
       "      <td>132899000</td>\n",
       "      <td>0</td>\n",
       "      <td>1393459000</td>\n",
       "      <td>-2</td>\n",
       "      <td>753686000</td>\n",
       "      <td>431471000</td>\n",
       "    </tr>\n",
       "    <tr>\n",
       "      <th>1</th>\n",
       "      <td>33.409396</td>\n",
       "      <td>157110</td>\n",
       "      <td>urban</td>\n",
       "      <td>98071</td>\n",
       "      <td>231098</td>\n",
       "      <td>19.2</td>\n",
       "      <td>13175</td>\n",
       "      <td>687</td>\n",
       "      <td>696</td>\n",
       "      <td>4720</td>\n",
       "      <td>399</td>\n",
       "      <td>12.00</td>\n",
       "      <td>yes</td>\n",
       "      <td>no</td>\n",
       "      <td>Elementary</td>\n",
       "      <td>1526358000</td>\n",
       "      <td>132899000</td>\n",
       "      <td>0</td>\n",
       "      <td>1393459000</td>\n",
       "      <td>-2</td>\n",
       "      <td>753686000</td>\n",
       "      <td>431471000</td>\n",
       "    </tr>\n",
       "    <tr>\n",
       "      <th>2</th>\n",
       "      <td>33.409396</td>\n",
       "      <td>34530</td>\n",
       "      <td>midsize</td>\n",
       "      <td>104802</td>\n",
       "      <td>3595</td>\n",
       "      <td>27.2</td>\n",
       "      <td>10928</td>\n",
       "      <td>340</td>\n",
       "      <td>395</td>\n",
       "      <td>5608</td>\n",
       "      <td>229</td>\n",
       "      <td>13.47</td>\n",
       "      <td>yes</td>\n",
       "      <td>no</td>\n",
       "      <td>Elementary</td>\n",
       "      <td>5614000</td>\n",
       "      <td>399000</td>\n",
       "      <td>0</td>\n",
       "      <td>5215000</td>\n",
       "      <td>-2</td>\n",
       "      <td>2390000</td>\n",
       "      <td>1487000</td>\n",
       "    </tr>\n",
       "    <tr>\n",
       "      <th>3</th>\n",
       "      <td>33.409396</td>\n",
       "      <td>50682</td>\n",
       "      <td>midsize</td>\n",
       "      <td>63060</td>\n",
       "      <td>6380</td>\n",
       "      <td>16.6</td>\n",
       "      <td>9999</td>\n",
       "      <td>906</td>\n",
       "      <td>594</td>\n",
       "      <td>3395</td>\n",
       "      <td>234</td>\n",
       "      <td>10.58</td>\n",
       "      <td>yes</td>\n",
       "      <td>no</td>\n",
       "      <td>Elementary</td>\n",
       "      <td>103320000</td>\n",
       "      <td>9720000</td>\n",
       "      <td>0</td>\n",
       "      <td>93600000</td>\n",
       "      <td>-2</td>\n",
       "      <td>52235000</td>\n",
       "      <td>31065000</td>\n",
       "    </tr>\n",
       "    <tr>\n",
       "      <th>4</th>\n",
       "      <td>33.409396</td>\n",
       "      <td>175608</td>\n",
       "      <td>urban</td>\n",
       "      <td>66151</td>\n",
       "      <td>142245</td>\n",
       "      <td>50.4</td>\n",
       "      <td>9183</td>\n",
       "      <td>531</td>\n",
       "      <td>534</td>\n",
       "      <td>4448</td>\n",
       "      <td>517</td>\n",
       "      <td>10.77</td>\n",
       "      <td>yes</td>\n",
       "      <td>no</td>\n",
       "      <td>Elementary</td>\n",
       "      <td>1526358000</td>\n",
       "      <td>132899000</td>\n",
       "      <td>0</td>\n",
       "      <td>1393459000</td>\n",
       "      <td>-2</td>\n",
       "      <td>753686000</td>\n",
       "      <td>431471000</td>\n",
       "    </tr>\n",
       "  </tbody>\n",
       "</table>\n",
       "</div>"
      ],
      "text/plain": [
       "   State_Avg_Reading  Zip_Population  Density  Median_Income  Property_Taxes  \\\n",
       "0          33.409396           45996  midsize          49871          989357   \n",
       "1          33.409396          157110    urban          98071          231098   \n",
       "2          33.409396           34530  midsize         104802            3595   \n",
       "3          33.409396           50682  midsize          63060            6380   \n",
       "4          33.409396          175608    urban          66151          142245   \n",
       "\n",
       "   Percent_Taxes  Per_Pupil_Spending  Per_Pupil_Support  \\\n",
       "0           47.9               10173                392   \n",
       "1           19.2               13175                687   \n",
       "2           27.2               10928                340   \n",
       "3           16.6                9999                906   \n",
       "4           50.4                9183                531   \n",
       "\n",
       "   Per_Pupil_Support_Staff  Per_Pupil_Salaries  Total_Students  \\\n",
       "0                     1145                3257             902   \n",
       "1                      696                4720             399   \n",
       "2                      395                5608             229   \n",
       "3                      594                3395             234   \n",
       "4                      534                4448             517   \n",
       "\n",
       "   Student_Teacher_Ratio Title_I Virtual       Level  Total_Revenue  \\\n",
       "0                  13.56      no      no  Elementary     1526358000   \n",
       "1                  12.00     yes      no  Elementary     1526358000   \n",
       "2                  13.47     yes      no  Elementary        5614000   \n",
       "3                  10.58     yes      no  Elementary      103320000   \n",
       "4                  10.77     yes      no  Elementary     1526358000   \n",
       "\n",
       "   Federal_Revenue  State_Revenue  Local_Revenue  Income_Taxes  \\\n",
       "0        132899000              0     1393459000            -2   \n",
       "1        132899000              0     1393459000            -2   \n",
       "2           399000              0        5215000            -2   \n",
       "3          9720000              0       93600000            -2   \n",
       "4        132899000              0     1393459000            -2   \n",
       "\n",
       "   Total_Salaries  Instructional_Salaries  \n",
       "0       753686000               431471000  \n",
       "1       753686000               431471000  \n",
       "2         2390000                 1487000  \n",
       "3        52235000                31065000  \n",
       "4       753686000               431471000  "
      ]
     },
     "execution_count": 229,
     "metadata": {},
     "output_type": "execute_result"
    }
   ],
   "source": [
    "X_train2.head()"
   ]
  },
  {
   "cell_type": "code",
   "execution_count": 230,
   "metadata": {
    "scrolled": false
   },
   "outputs": [],
   "source": [
    "#Deal with nulls in training and testing data\n",
    "X_train2 = X_train2.fillna(value = {\"Level\":\"Other\"})\n",
    "X_test2 = X_test2.fillna(value = {'Level':'Other'})"
   ]
  },
  {
   "cell_type": "code",
   "execution_count": 231,
   "metadata": {},
   "outputs": [],
   "source": [
    "#Putting X back together\n",
    "X2 = pd.concat([X_train2, X_test2], axis=0)"
   ]
  },
  {
   "cell_type": "code",
   "execution_count": 232,
   "metadata": {},
   "outputs": [],
   "source": [
    "#Now need to one-hot encode  categorical columns\n",
    "#Isolate categorical columns\n",
    "cats2 = X2[['Density','Title_I', 'Virtual','Level']]\n",
    "#Transform data\n",
    "cats2 = pd.get_dummies(cats2)"
   ]
  },
  {
   "cell_type": "code",
   "execution_count": 233,
   "metadata": {},
   "outputs": [],
   "source": [
    "#Merge with main dataframe on key values\n",
    "X_numeric2 = pd.concat([X2, cats2], axis=1)"
   ]
  },
  {
   "cell_type": "code",
   "execution_count": 234,
   "metadata": {},
   "outputs": [],
   "source": [
    "#Drop non-numeric categorical columns \n",
    "X_numeric2 = X_numeric2.drop(['Density','Title_I', 'Virtual','Level'], axis=1)"
   ]
  },
  {
   "cell_type": "code",
   "execution_count": 235,
   "metadata": {},
   "outputs": [],
   "source": [
    "#Have to re-do the train test split\n",
    "X_train2, X_test2, y_train2, y_test2 = train_test_split(X_numeric2, target2, test_size=0.20, random_state=42)"
   ]
  },
  {
   "cell_type": "markdown",
   "metadata": {},
   "source": [
    "### Scaling Data Again"
   ]
  },
  {
   "cell_type": "code",
   "execution_count": 236,
   "metadata": {},
   "outputs": [],
   "source": [
    "scaler = StandardScaler()\n",
    "# Train our scaler on training data, then fit to testing\n",
    "X_train_scaled2 = scaler.fit_transform(X_train2, y=None)\n",
    "X_test_scaled2 = scaler.transform(X_test2)"
   ]
  },
  {
   "cell_type": "markdown",
   "metadata": {},
   "source": [
    "### Logistic Regression Model with Additional Features"
   ]
  },
  {
   "cell_type": "code",
   "execution_count": 237,
   "metadata": {},
   "outputs": [
    {
     "data": {
      "text/plain": [
       "LogisticRegression()"
      ]
     },
     "execution_count": 237,
     "metadata": {},
     "output_type": "execute_result"
    }
   ],
   "source": [
    "logreg = LogisticRegression()\n",
    "logreg.fit(X_train2, y_train2)"
   ]
  },
  {
   "cell_type": "code",
   "execution_count": 238,
   "metadata": {
    "scrolled": true
   },
   "outputs": [
    {
     "data": {
      "text/plain": [
       "0.5107304587517227"
      ]
     },
     "execution_count": 238,
     "metadata": {},
     "output_type": "execute_result"
    }
   ],
   "source": [
    "logreg.score(X_train_scaled2, y_train2)"
   ]
  },
  {
   "cell_type": "code",
   "execution_count": 239,
   "metadata": {
    "scrolled": false
   },
   "outputs": [
    {
     "data": {
      "text/plain": [
       "0.5124015748031496"
      ]
     },
     "execution_count": 239,
     "metadata": {},
     "output_type": "execute_result"
    }
   ],
   "source": [
    "logreg.score(X_test_scaled2, y_test2)"
   ]
  },
  {
   "cell_type": "markdown",
   "metadata": {},
   "source": [
    "### KNN Model with Additional Features"
   ]
  },
  {
   "cell_type": "code",
   "execution_count": 240,
   "metadata": {},
   "outputs": [],
   "source": [
    "knn2 = KNeighborsClassifier(n_neighbors=3)\n",
    "knn2.fit(X_train_scaled2, y_train2)\n",
    "#Predictions for the testing set\n",
    "y_preds = knn2.predict(X_test_scaled2)"
   ]
  },
  {
   "cell_type": "code",
   "execution_count": 241,
   "metadata": {
    "scrolled": true
   },
   "outputs": [
    {
     "name": "stdout",
     "output_type": "stream",
     "text": [
      "Train Scores\n",
      "------------\n",
      "Accuracy: 0.7498523331364442\n",
      "Precision: 0.749829509138341\n",
      "F1 Score: 0.7379872138585276\n",
      "ROC-AUC: 0.8121905865513442\n",
      "--------------------\n",
      "Test Scores\n",
      "-----------\n",
      "Accuracy: 0.5094488188976378\n",
      "Precision: 0.5092663650252673\n",
      "F1 Score: 0.48298755186721987\n",
      "ROC-AUC: 0.5120471633629529\n"
     ]
    },
    {
     "data": {
      "image/png": "[encoded data removed]",
      "text/plain": [
       "<Figure size 432x288 with 2 Axes>"
      ]
     },
     "metadata": {
      "needs_background": "light"
     },
     "output_type": "display_data"
    }
   ],
   "source": [
    "fn.evaluate(knn2, X_train_scaled2, X_test_scaled2, y_train2, y_test2)"
   ]
  },
  {
   "cell_type": "markdown",
   "metadata": {},
   "source": [
    "### Random Forest Model with Additional Features"
   ]
  },
  {
   "cell_type": "code",
   "execution_count": 242,
   "metadata": {},
   "outputs": [],
   "source": [
    "rf2 = RandomForestClassifier(max_depth=5, n_estimators=100, random_state=0)\n",
    "rf2.fit(X_train_scaled2, y_train2)\n",
    "rf_preds2 = rf2.predict(X_test_scaled2) "
   ]
  },
  {
   "cell_type": "code",
   "execution_count": 243,
   "metadata": {
    "scrolled": false
   },
   "outputs": [
    {
     "name": "stdout",
     "output_type": "stream",
     "text": [
      "Train Scores\n",
      "------------\n",
      "Accuracy: 0.5548828509549124\n",
      "Precision: 0.5858095450878199\n",
      "F1 Score: 0.2612531655910465\n",
      "ROC-AUC: 0.6048140999240819\n",
      "--------------------\n",
      "Test Scores\n",
      "-----------\n",
      "Accuracy: 0.5301181102362205\n",
      "Precision: 0.5281235426036873\n",
      "F1 Score: 0.22424439389015272\n",
      "ROC-AUC: 0.5329780805319083\n"
     ]
    },
    {
     "data": {
      "image/png": "[encoded data removed]",
      "text/plain": [
       "<Figure size 432x288 with 2 Axes>"
      ]
     },
     "metadata": {
      "needs_background": "light"
     },
     "output_type": "display_data"
    }
   ],
   "source": [
    "fn.evaluate(rf2, X_train_scaled2, X_test_scaled2, y_train2, y_test2)"
   ]
  },
  {
   "cell_type": "markdown",
   "metadata": {},
   "source": [
    "### Gradient Boosting Model with Additional Features"
   ]
  },
  {
   "cell_type": "code",
   "execution_count": 244,
   "metadata": {},
   "outputs": [],
   "source": [
    "gbmodel2 = GradientBoostingClassifier(n_estimators=100, learning_rate=1.0,\n",
    "max_depth=1, random_state=0).fit(X_train_scaled2, y_train2)"
   ]
  },
  {
   "cell_type": "code",
   "execution_count": 245,
   "metadata": {},
   "outputs": [],
   "source": [
    "gbmodel_preds2 = gbmodel2.predict(X_test_scaled2)"
   ]
  },
  {
   "cell_type": "code",
   "execution_count": 246,
   "metadata": {
    "scrolled": true
   },
   "outputs": [
    {
     "name": "stdout",
     "output_type": "stream",
     "text": [
      "Train Scores\n",
      "------------\n",
      "Accuracy: 0.5571470761961016\n",
      "Precision: 0.5566057591183537\n",
      "F1 Score: 0.4447324569524162\n",
      "ROC-AUC: 0.5815591883516176\n",
      "--------------------\n",
      "Test Scores\n",
      "-----------\n",
      "Accuracy: 0.5240157480314961\n",
      "Precision: 0.5186261682717103\n",
      "F1 Score: 0.4020771513353116\n",
      "ROC-AUC: 0.5241165413533835\n"
     ]
    },
    {
     "data": {
      "image/png": "[encoded data removed]",
      "text/plain": [
       "<Figure size 432x288 with 2 Axes>"
      ]
     },
     "metadata": {
      "needs_background": "light"
     },
     "output_type": "display_data"
    }
   ],
   "source": [
    "fn.evaluate(gbmodel2, X_train_scaled2, X_test_scaled2, y_train2, y_test2)"
   ]
  },
  {
   "cell_type": "markdown",
   "metadata": {},
   "source": [
    "### AdaBoost Model with Additional Features"
   ]
  },
  {
   "cell_type": "code",
   "execution_count": 247,
   "metadata": {},
   "outputs": [
    {
     "data": {
      "text/plain": [
       "AdaBoostClassifier()"
      ]
     },
     "execution_count": 247,
     "metadata": {},
     "output_type": "execute_result"
    }
   ],
   "source": [
    "ada2 = AdaBoostClassifier()\n",
    "ada2.fit(X_train_scaled2, y_train2)"
   ]
  },
  {
   "cell_type": "code",
   "execution_count": 248,
   "metadata": {},
   "outputs": [
    {
     "name": "stdout",
     "output_type": "stream",
     "text": [
      "Train Scores\n",
      "------------\n",
      "Accuracy: 0.5502067336089781\n",
      "Precision: 0.5492611624899076\n",
      "F1 Score: 0.4236881937436932\n",
      "ROC-AUC: 0.5674570173048243\n",
      "--------------------\n",
      "Test Scores\n",
      "-----------\n",
      "Accuracy: 0.5271653543307087\n",
      "Precision: 0.5216470421977416\n",
      "F1 Score: 0.38347022587269\n",
      "ROC-AUC: 0.5253327533710308\n"
     ]
    },
    {
     "data": {
      "image/png": "[encoded data removed]",
      "text/plain": [
       "<Figure size 432x288 with 2 Axes>"
      ]
     },
     "metadata": {
      "needs_background": "light"
     },
     "output_type": "display_data"
    }
   ],
   "source": [
    "fn.evaluate(ada2, X_train_scaled2, X_test_scaled2, y_train2, y_test2)"
   ]
  },
  {
   "cell_type": "markdown",
   "metadata": {},
   "source": [
    "### Feature Importances with Additional Features"
   ]
  },
  {
   "cell_type": "code",
   "execution_count": 249,
   "metadata": {},
   "outputs": [],
   "source": [
    "importances2 = rf2.feature_importances_"
   ]
  },
  {
   "cell_type": "code",
   "execution_count": 250,
   "metadata": {},
   "outputs": [],
   "source": [
    "rf_importances2 = pd.DataFrame(index=X_test2.columns, data=importances2).sort_values(by=0,ascending=False)"
   ]
  },
  {
   "cell_type": "code",
   "execution_count": 251,
   "metadata": {
    "scrolled": true
   },
   "outputs": [
    {
     "data": {
      "image/png": "[encoded data removed]",
      "text/plain": [
       "<Figure size 432x288 with 1 Axes>"
      ]
     },
     "metadata": {
      "needs_background": "light"
     },
     "output_type": "display_data"
    }
   ],
   "source": [
    "# plot feature importance\n",
    "rf_importances2.plot(kind='bar', legend=False, color='lightblue');"
   ]
  },
  {
   "cell_type": "markdown",
   "metadata": {},
   "source": [
    "### Logistic Regression Model Tuning"
   ]
  },
  {
   "cell_type": "code",
   "execution_count": 252,
   "metadata": {},
   "outputs": [
    {
     "data": {
      "text/plain": [
       "LogisticRegression(C=1, penalty='l1', solver='liblinear')"
      ]
     },
     "execution_count": 252,
     "metadata": {},
     "output_type": "execute_result"
    }
   ],
   "source": [
    "# Perform GridSearchCV to tune best-fit LR model\n",
    "param = {'C': [10**-2,10**-1,10**0,10**1,10**2]}\n",
    "\n",
    "lr_model3 = LogisticRegression(penalty='l1', solver='liblinear')\n",
    "gs_model = GridSearchCV(estimator=lr_model3, param_grid=param)\n",
    "gs_model.fit(X_train_scaled2, y_train2)\n",
    "\n",
    "# Train a LR model with best parameters\n",
    "model3 = LogisticRegression(**gs_model.best_params_, penalty='l1', solver='liblinear')\n",
    "model3.fit(X_train_scaled2, y_train2)"
   ]
  },
  {
   "cell_type": "code",
   "execution_count": 253,
   "metadata": {},
   "outputs": [
    {
     "data": {
      "text/plain": [
       "0.52766292577279"
      ]
     },
     "execution_count": 253,
     "metadata": {},
     "output_type": "execute_result"
    }
   ],
   "source": [
    "model3.score(X_train_scaled2, y_train2)"
   ]
  },
  {
   "cell_type": "code",
   "execution_count": 254,
   "metadata": {
    "scrolled": false
   },
   "outputs": [
    {
     "data": {
      "text/plain": [
       "0.5124015748031496"
      ]
     },
     "execution_count": 254,
     "metadata": {},
     "output_type": "execute_result"
    }
   ],
   "source": [
    "logreg.score(X_test_scaled2, y_test2)"
   ]
  },
  {
   "cell_type": "code",
   "execution_count": 255,
   "metadata": {},
   "outputs": [
    {
     "data": {
      "text/plain": [
       "array([ 3.17705325e-02, -5.01090612e-03, -8.53456533e-03, -1.78889040e-02,\n",
       "        1.34111722e-02, -2.73833887e-02,  2.88457283e-02,  6.79021482e-03,\n",
       "       -2.35984491e-03, -2.25797309e-02, -1.35684604e-02,  0.00000000e+00,\n",
       "       -7.79715219e-02,  1.50782627e-02, -8.13222510e-02,  4.95428171e-03,\n",
       "       -3.84500397e-01,  5.03620460e-01,  1.86753217e-04, -3.12324479e-02,\n",
       "        1.12160011e-04, -6.82200966e-03, -6.23073439e-07,  3.57531623e-02,\n",
       "       -2.78212149e-03,  0.00000000e+00,  3.18343783e-03, -9.51384373e-03])"
      ]
     },
     "execution_count": 255,
     "metadata": {},
     "output_type": "execute_result"
    }
   ],
   "source": [
    "coef = model3.coef_[0]\n",
    "coef"
   ]
  },
  {
   "cell_type": "code",
   "execution_count": 256,
   "metadata": {},
   "outputs": [],
   "source": [
    "coef = model3.coef_[0]\n",
    "imp_features = pd.Series(X_test2.columns)[list(coef!=0)]\n",
    "X_train3 = X_train2[imp_features]\n",
    "X_test3 = X_test2[imp_features]"
   ]
  },
  {
   "cell_type": "code",
   "execution_count": 257,
   "metadata": {},
   "outputs": [
    {
     "name": "stdout",
     "output_type": "stream",
     "text": [
      "Redundant Feature Names: ['Total_Revenue', 'Level_High']\n"
     ]
    }
   ],
   "source": [
    "print('Redundant Feature Names:', list(pd.Series(X_test2.columns[list(coef==0)])))"
   ]
  },
  {
   "cell_type": "code",
   "execution_count": 258,
   "metadata": {},
   "outputs": [],
   "source": [
    "# Trying logistic regression model without redundant features\n",
    "X_train_scaled3 = scaler.fit_transform(X_train2, y=None)\n",
    "X_test_scaled3 = scaler.transform(X_test2)"
   ]
  },
  {
   "cell_type": "code",
   "execution_count": 259,
   "metadata": {},
   "outputs": [
    {
     "data": {
      "text/plain": [
       "LogisticRegression()"
      ]
     },
     "execution_count": 259,
     "metadata": {},
     "output_type": "execute_result"
    }
   ],
   "source": [
    "logreg3 = LogisticRegression()\n",
    "logreg3.fit(X_train_scaled3, y_train2)"
   ]
  },
  {
   "cell_type": "code",
   "execution_count": 260,
   "metadata": {
    "scrolled": true
   },
   "outputs": [
    {
     "data": {
      "text/plain": [
       "0.5107304587517227"
      ]
     },
     "execution_count": 260,
     "metadata": {},
     "output_type": "execute_result"
    }
   ],
   "source": [
    "logreg.score(X_train_scaled3, y_train2)"
   ]
  },
  {
   "cell_type": "code",
   "execution_count": 261,
   "metadata": {
    "scrolled": false
   },
   "outputs": [
    {
     "data": {
      "text/plain": [
       "0.5124015748031496"
      ]
     },
     "execution_count": 261,
     "metadata": {},
     "output_type": "execute_result"
    }
   ],
   "source": [
    "logreg.score(X_test_scaled3, y_test2)"
   ]
  },
  {
   "cell_type": "markdown",
   "metadata": {},
   "source": [
    "### Adding Even More Data"
   ]
  },
  {
   "cell_type": "markdown",
   "metadata": {},
   "source": [
    "Since I'm not having a lot of luck with adding just a handful of features that I think are the most important, I'm going to add in all of the financial data I currently have to see if that improves my model. "
   ]
  },
  {
   "cell_type": "code",
   "execution_count": 262,
   "metadata": {},
   "outputs": [
    {
     "data": {
      "text/html": [
       "<div>\n",
       "<style scoped>\n",
       "    .dataframe tbody tr th:only-of-type {\n",
       "        vertical-align: middle;\n",
       "    }\n",
       "\n",
       "    .dataframe tbody tr th {\n",
       "        vertical-align: top;\n",
       "    }\n",
       "\n",
       "    .dataframe thead th {\n",
       "        text-align: right;\n",
       "    }\n",
       "</style>\n",
       "<table border=\"1\" class=\"dataframe\">\n",
       "  <thead>\n",
       "    <tr style=\"text-align: right;\">\n",
       "      <th></th>\n",
       "      <th>LEAID</th>\n",
       "      <th>CENSUSID</th>\n",
       "      <th>FIPST</th>\n",
       "      <th>CONUM</th>\n",
       "      <th>CSA</th>\n",
       "      <th>CBSA</th>\n",
       "      <th>NAME</th>\n",
       "      <th>STNAME</th>\n",
       "      <th>STABBR</th>\n",
       "      <th>SCHLEV</th>\n",
       "      <th>AGCHRT</th>\n",
       "      <th>YEAR</th>\n",
       "      <th>CCDNF</th>\n",
       "      <th>CENFILE</th>\n",
       "      <th>GSLO</th>\n",
       "      <th>GSHI</th>\n",
       "      <th>V33</th>\n",
       "      <th>MEMBERSCH</th>\n",
       "      <th>TOTALREV</th>\n",
       "      <th>TFEDREV</th>\n",
       "      <th>C14</th>\n",
       "      <th>C15</th>\n",
       "      <th>C16</th>\n",
       "      <th>C17</th>\n",
       "      <th>C19</th>\n",
       "      <th>B11</th>\n",
       "      <th>C20</th>\n",
       "      <th>C25</th>\n",
       "      <th>C36</th>\n",
       "      <th>B10</th>\n",
       "      <th>B12</th>\n",
       "      <th>B13</th>\n",
       "      <th>TSTREV</th>\n",
       "      <th>C01</th>\n",
       "      <th>C04</th>\n",
       "      <th>C05</th>\n",
       "      <th>C06</th>\n",
       "      <th>C07</th>\n",
       "      <th>C08</th>\n",
       "      <th>C09</th>\n",
       "      <th>C10</th>\n",
       "      <th>C11</th>\n",
       "      <th>C12</th>\n",
       "      <th>C13</th>\n",
       "      <th>C35</th>\n",
       "      <th>C38</th>\n",
       "      <th>C39</th>\n",
       "      <th>TLOCREV</th>\n",
       "      <th>T02</th>\n",
       "      <th>T06</th>\n",
       "      <th>T09</th>\n",
       "      <th>T15</th>\n",
       "      <th>T40</th>\n",
       "      <th>T99</th>\n",
       "      <th>D11</th>\n",
       "      <th>D23</th>\n",
       "      <th>A07</th>\n",
       "      <th>A08</th>\n",
       "      <th>A09</th>\n",
       "      <th>A11</th>\n",
       "      <th>A13</th>\n",
       "      <th>A15</th>\n",
       "      <th>A20</th>\n",
       "      <th>A40</th>\n",
       "      <th>U11</th>\n",
       "      <th>U22</th>\n",
       "      <th>U30</th>\n",
       "      <th>U50</th>\n",
       "      <th>U97</th>\n",
       "      <th>C24</th>\n",
       "      <th>TOTALEXP</th>\n",
       "      <th>TCURELSC</th>\n",
       "      <th>TCURINST</th>\n",
       "      <th>E13</th>\n",
       "      <th>V91</th>\n",
       "      <th>V92</th>\n",
       "      <th>TCURSSVC</th>\n",
       "      <th>E17</th>\n",
       "      <th>E07</th>\n",
       "      <th>E08</th>\n",
       "      <th>E09</th>\n",
       "      <th>V40</th>\n",
       "      <th>V45</th>\n",
       "      <th>V90</th>\n",
       "      <th>V85</th>\n",
       "      <th>TCUROTH</th>\n",
       "      <th>E11</th>\n",
       "      <th>V60</th>\n",
       "      <th>V65</th>\n",
       "      <th>TNONELSE</th>\n",
       "      <th>V70</th>\n",
       "      <th>V75</th>\n",
       "      <th>V80</th>\n",
       "      <th>TCAPOUT</th>\n",
       "      <th>F12</th>\n",
       "      <th>G15</th>\n",
       "      <th>K09</th>\n",
       "      <th>K10</th>\n",
       "      <th>K11</th>\n",
       "      <th>L12</th>\n",
       "      <th>M12</th>\n",
       "      <th>Q11</th>\n",
       "      <th>I86</th>\n",
       "      <th>Z32</th>\n",
       "      <th>Z33</th>\n",
       "      <th>Z35</th>\n",
       "      <th>Z36</th>\n",
       "      <th>Z37</th>\n",
       "      <th>Z38</th>\n",
       "      <th>V11</th>\n",
       "      <th>V13</th>\n",
       "      <th>V15</th>\n",
       "      <th>V17</th>\n",
       "      <th>V21</th>\n",
       "      <th>V23</th>\n",
       "      <th>V37</th>\n",
       "      <th>V29</th>\n",
       "      <th>Z34</th>\n",
       "      <th>V10</th>\n",
       "      <th>V12</th>\n",
       "      <th>V14</th>\n",
       "      <th>V16</th>\n",
       "      <th>V18</th>\n",
       "      <th>V22</th>\n",
       "      <th>V24</th>\n",
       "      <th>V38</th>\n",
       "      <th>V30</th>\n",
       "      <th>V32</th>\n",
       "      <th>V93</th>\n",
       "      <th>_19H</th>\n",
       "      <th>_21F</th>\n",
       "      <th>_31F</th>\n",
       "      <th>_41F</th>\n",
       "      <th>_61V</th>\n",
       "      <th>_66V</th>\n",
       "      <th>W01</th>\n",
       "      <th>W31</th>\n",
       "      <th>W61</th>\n",
       "      <th>V95</th>\n",
       "      <th>V02</th>\n",
       "      <th>K14</th>\n",
       "      <th>CE1</th>\n",
       "      <th>CE2</th>\n",
       "      <th>CE3</th>\n",
       "      <th>WEIGHT</th>\n",
       "      <th>FL_V33</th>\n",
       "      <th>FL_MEMBERSCH</th>\n",
       "      <th>FL_C14</th>\n",
       "      <th>FL_C15</th>\n",
       "      <th>FL_C16</th>\n",
       "      <th>FL_C17</th>\n",
       "      <th>FL_C19</th>\n",
       "      <th>FL_B11</th>\n",
       "      <th>FL_C20</th>\n",
       "      <th>FL_C25</th>\n",
       "      <th>FL_C36</th>\n",
       "      <th>FL_B10</th>\n",
       "      <th>FL_B12</th>\n",
       "      <th>FL_B13</th>\n",
       "      <th>FL_C01</th>\n",
       "      <th>FL_C04</th>\n",
       "      <th>FL_C05</th>\n",
       "      <th>FL_C06</th>\n",
       "      <th>FL_C07</th>\n",
       "      <th>FL_C08</th>\n",
       "      <th>FL_C09</th>\n",
       "      <th>FL_C10</th>\n",
       "      <th>FL_C11</th>\n",
       "      <th>FL_C12</th>\n",
       "      <th>FL_C13</th>\n",
       "      <th>FL_C35</th>\n",
       "      <th>FL_C38</th>\n",
       "      <th>FL_C39</th>\n",
       "      <th>FL_T02</th>\n",
       "      <th>FL_T06</th>\n",
       "      <th>FL_T09</th>\n",
       "      <th>FL_T15</th>\n",
       "      <th>FL_T40</th>\n",
       "      <th>FL_T99</th>\n",
       "      <th>FL_D11</th>\n",
       "      <th>FL_D23</th>\n",
       "      <th>FL_A07</th>\n",
       "      <th>FL_A08</th>\n",
       "      <th>FL_A09</th>\n",
       "      <th>FL_A11</th>\n",
       "      <th>FL_A13</th>\n",
       "      <th>FL_A15</th>\n",
       "      <th>FL_A20</th>\n",
       "      <th>FL_A40</th>\n",
       "      <th>FL_U11</th>\n",
       "      <th>FL_U22</th>\n",
       "      <th>FL_U30</th>\n",
       "      <th>FL_U50</th>\n",
       "      <th>FL_U97</th>\n",
       "      <th>FL_C24</th>\n",
       "      <th>FL_E13</th>\n",
       "      <th>FL_V91</th>\n",
       "      <th>FL_V92</th>\n",
       "      <th>FL_E17</th>\n",
       "      <th>FL_E07</th>\n",
       "      <th>FL_E08</th>\n",
       "      <th>FL_E09</th>\n",
       "      <th>FL_V40</th>\n",
       "      <th>FL_V45</th>\n",
       "      <th>FL_V90</th>\n",
       "      <th>FL_V85</th>\n",
       "      <th>FL_E11</th>\n",
       "      <th>FL_V60</th>\n",
       "      <th>FL_V65</th>\n",
       "      <th>FL_V70</th>\n",
       "      <th>FL_V75</th>\n",
       "      <th>FL_V80</th>\n",
       "      <th>FL_F12</th>\n",
       "      <th>FL_G15</th>\n",
       "      <th>FL_K09</th>\n",
       "      <th>FL_K10</th>\n",
       "      <th>FL_K11</th>\n",
       "      <th>FL_L12</th>\n",
       "      <th>FL_M12</th>\n",
       "      <th>FL_Q11</th>\n",
       "      <th>FL_I86</th>\n",
       "      <th>FL_Z32</th>\n",
       "      <th>FL_Z33</th>\n",
       "      <th>FL_Z35</th>\n",
       "      <th>FL_Z36</th>\n",
       "      <th>FL_Z37</th>\n",
       "      <th>FL_Z38</th>\n",
       "      <th>FL_V11</th>\n",
       "      <th>FL_V13</th>\n",
       "      <th>FL_V15</th>\n",
       "      <th>FL_V17</th>\n",
       "      <th>FL_V21</th>\n",
       "      <th>FL_V23</th>\n",
       "      <th>FL_V37</th>\n",
       "      <th>FL_V29</th>\n",
       "      <th>FL_Z34</th>\n",
       "      <th>FL_V10</th>\n",
       "      <th>FL_V12</th>\n",
       "      <th>FL_V14</th>\n",
       "      <th>FL_V16</th>\n",
       "      <th>FL_V18</th>\n",
       "      <th>FL_V22</th>\n",
       "      <th>FL_V24</th>\n",
       "      <th>FL_V38</th>\n",
       "      <th>FL_V30</th>\n",
       "      <th>FL_V32</th>\n",
       "      <th>FL_V93</th>\n",
       "      <th>FL_19H</th>\n",
       "      <th>FL_21F</th>\n",
       "      <th>FL_31F</th>\n",
       "      <th>FL_41F</th>\n",
       "      <th>FL_61V</th>\n",
       "      <th>FL_66V</th>\n",
       "      <th>FL_W01</th>\n",
       "      <th>FL_W31</th>\n",
       "      <th>FL_W61</th>\n",
       "      <th>FL_V95</th>\n",
       "      <th>FL_V02</th>\n",
       "      <th>FL_K14</th>\n",
       "      <th>FL_CE1</th>\n",
       "      <th>FL_CE2</th>\n",
       "      <th>FL_CE3</th>\n",
       "    </tr>\n",
       "  </thead>\n",
       "  <tbody>\n",
       "    <tr>\n",
       "      <th>0</th>\n",
       "      <td>100002</td>\n",
       "      <td>N</td>\n",
       "      <td>1</td>\n",
       "      <td>1073</td>\n",
       "      <td>142</td>\n",
       "      <td>13820</td>\n",
       "      <td>Alabama Youth Services</td>\n",
       "      <td>Alabama</td>\n",
       "      <td>AL</td>\n",
       "      <td>N</td>\n",
       "      <td>N</td>\n",
       "      <td>19</td>\n",
       "      <td>1</td>\n",
       "      <td>0</td>\n",
       "      <td>03</td>\n",
       "      <td>12</td>\n",
       "      <td>-2</td>\n",
       "      <td>-2</td>\n",
       "      <td>-1</td>\n",
       "      <td>-1</td>\n",
       "      <td>-1</td>\n",
       "      <td>-1</td>\n",
       "      <td>-1</td>\n",
       "      <td>-1</td>\n",
       "      <td>-1</td>\n",
       "      <td>-1</td>\n",
       "      <td>-1</td>\n",
       "      <td>-1</td>\n",
       "      <td>-1</td>\n",
       "      <td>-1</td>\n",
       "      <td>-1</td>\n",
       "      <td>-1</td>\n",
       "      <td>-1</td>\n",
       "      <td>-1</td>\n",
       "      <td>-1</td>\n",
       "      <td>-1</td>\n",
       "      <td>-1</td>\n",
       "      <td>-1</td>\n",
       "      <td>-1</td>\n",
       "      <td>-1</td>\n",
       "      <td>-1</td>\n",
       "      <td>-1</td>\n",
       "      <td>-1</td>\n",
       "      <td>-1</td>\n",
       "      <td>-1</td>\n",
       "      <td>-1</td>\n",
       "      <td>-1</td>\n",
       "      <td>-1</td>\n",
       "      <td>-2</td>\n",
       "      <td>-2</td>\n",
       "      <td>-2</td>\n",
       "      <td>-2</td>\n",
       "      <td>-2</td>\n",
       "      <td>-2</td>\n",
       "      <td>-1</td>\n",
       "      <td>-1</td>\n",
       "      <td>-1</td>\n",
       "      <td>-1</td>\n",
       "      <td>-1</td>\n",
       "      <td>-1</td>\n",
       "      <td>-1</td>\n",
       "      <td>-1</td>\n",
       "      <td>-1</td>\n",
       "      <td>-1</td>\n",
       "      <td>-1</td>\n",
       "      <td>-1</td>\n",
       "      <td>-1</td>\n",
       "      <td>-1</td>\n",
       "      <td>-1</td>\n",
       "      <td>-1</td>\n",
       "      <td>-1</td>\n",
       "      <td>-1</td>\n",
       "      <td>-1</td>\n",
       "      <td>-1</td>\n",
       "      <td>-1</td>\n",
       "      <td>-1</td>\n",
       "      <td>-1</td>\n",
       "      <td>-1</td>\n",
       "      <td>-1</td>\n",
       "      <td>-1</td>\n",
       "      <td>-1</td>\n",
       "      <td>-1</td>\n",
       "      <td>-1</td>\n",
       "      <td>-1</td>\n",
       "      <td>-1</td>\n",
       "      <td>-1</td>\n",
       "      <td>-1</td>\n",
       "      <td>-1</td>\n",
       "      <td>-1</td>\n",
       "      <td>-1</td>\n",
       "      <td>-1</td>\n",
       "      <td>-1</td>\n",
       "      <td>-1</td>\n",
       "      <td>-1</td>\n",
       "      <td>-1</td>\n",
       "      <td>-1</td>\n",
       "      <td>-1</td>\n",
       "      <td>-1</td>\n",
       "      <td>-1</td>\n",
       "      <td>-1</td>\n",
       "      <td>-1</td>\n",
       "      <td>-1</td>\n",
       "      <td>-1</td>\n",
       "      <td>-1</td>\n",
       "      <td>-1</td>\n",
       "      <td>-1</td>\n",
       "      <td>-1</td>\n",
       "      <td>-1</td>\n",
       "      <td>-1</td>\n",
       "      <td>-1</td>\n",
       "      <td>-1</td>\n",
       "      <td>-1</td>\n",
       "      <td>-1</td>\n",
       "      <td>-1</td>\n",
       "      <td>-1</td>\n",
       "      <td>-1</td>\n",
       "      <td>-1</td>\n",
       "      <td>-1</td>\n",
       "      <td>-1</td>\n",
       "      <td>-1</td>\n",
       "      <td>-1</td>\n",
       "      <td>-1</td>\n",
       "      <td>-1</td>\n",
       "      <td>-1</td>\n",
       "      <td>-1</td>\n",
       "      <td>-1</td>\n",
       "      <td>-1</td>\n",
       "      <td>-1</td>\n",
       "      <td>-1</td>\n",
       "      <td>-1</td>\n",
       "      <td>-1</td>\n",
       "      <td>-1</td>\n",
       "      <td>-1</td>\n",
       "      <td>-1</td>\n",
       "      <td>-1</td>\n",
       "      <td>-1</td>\n",
       "      <td>-1</td>\n",
       "      <td>-1</td>\n",
       "      <td>-1</td>\n",
       "      <td>-1</td>\n",
       "      <td>-1</td>\n",
       "      <td>-1</td>\n",
       "      <td>-1</td>\n",
       "      <td>-1</td>\n",
       "      <td>1</td>\n",
       "      <td>N</td>\n",
       "      <td>N</td>\n",
       "      <td>M</td>\n",
       "      <td>M</td>\n",
       "      <td>M</td>\n",
       "      <td>M</td>\n",
       "      <td>M</td>\n",
       "      <td>M</td>\n",
       "      <td>M</td>\n",
       "      <td>M</td>\n",
       "      <td>M</td>\n",
       "      <td>M</td>\n",
       "      <td>M</td>\n",
       "      <td>M</td>\n",
       "      <td>M</td>\n",
       "      <td>M</td>\n",
       "      <td>M</td>\n",
       "      <td>M</td>\n",
       "      <td>M</td>\n",
       "      <td>M</td>\n",
       "      <td>M</td>\n",
       "      <td>M</td>\n",
       "      <td>M</td>\n",
       "      <td>M</td>\n",
       "      <td>M</td>\n",
       "      <td>M</td>\n",
       "      <td>M</td>\n",
       "      <td>M</td>\n",
       "      <td>N</td>\n",
       "      <td>N</td>\n",
       "      <td>N</td>\n",
       "      <td>N</td>\n",
       "      <td>N</td>\n",
       "      <td>N</td>\n",
       "      <td>M</td>\n",
       "      <td>M</td>\n",
       "      <td>M</td>\n",
       "      <td>M</td>\n",
       "      <td>M</td>\n",
       "      <td>M</td>\n",
       "      <td>M</td>\n",
       "      <td>M</td>\n",
       "      <td>M</td>\n",
       "      <td>M</td>\n",
       "      <td>M</td>\n",
       "      <td>M</td>\n",
       "      <td>M</td>\n",
       "      <td>M</td>\n",
       "      <td>M</td>\n",
       "      <td>M</td>\n",
       "      <td>M</td>\n",
       "      <td>M</td>\n",
       "      <td>M</td>\n",
       "      <td>M</td>\n",
       "      <td>M</td>\n",
       "      <td>M</td>\n",
       "      <td>M</td>\n",
       "      <td>M</td>\n",
       "      <td>M</td>\n",
       "      <td>M</td>\n",
       "      <td>M</td>\n",
       "      <td>M</td>\n",
       "      <td>M</td>\n",
       "      <td>M</td>\n",
       "      <td>M</td>\n",
       "      <td>M</td>\n",
       "      <td>M</td>\n",
       "      <td>M</td>\n",
       "      <td>M</td>\n",
       "      <td>M</td>\n",
       "      <td>M</td>\n",
       "      <td>M</td>\n",
       "      <td>M</td>\n",
       "      <td>M</td>\n",
       "      <td>M</td>\n",
       "      <td>M</td>\n",
       "      <td>M</td>\n",
       "      <td>M</td>\n",
       "      <td>M</td>\n",
       "      <td>M</td>\n",
       "      <td>M</td>\n",
       "      <td>M</td>\n",
       "      <td>M</td>\n",
       "      <td>M</td>\n",
       "      <td>M</td>\n",
       "      <td>M</td>\n",
       "      <td>M</td>\n",
       "      <td>M</td>\n",
       "      <td>M</td>\n",
       "      <td>M</td>\n",
       "      <td>M</td>\n",
       "      <td>M</td>\n",
       "      <td>M</td>\n",
       "      <td>M</td>\n",
       "      <td>M</td>\n",
       "      <td>M</td>\n",
       "      <td>M</td>\n",
       "      <td>M</td>\n",
       "      <td>M</td>\n",
       "      <td>M</td>\n",
       "      <td>M</td>\n",
       "      <td>M</td>\n",
       "      <td>M</td>\n",
       "      <td>M</td>\n",
       "      <td>M</td>\n",
       "      <td>M</td>\n",
       "      <td>M</td>\n",
       "      <td>M</td>\n",
       "      <td>M</td>\n",
       "      <td>M</td>\n",
       "      <td>M</td>\n",
       "      <td>M</td>\n",
       "      <td>M</td>\n",
       "      <td>M</td>\n",
       "      <td>M</td>\n",
       "      <td>M</td>\n",
       "      <td>M</td>\n",
       "    </tr>\n",
       "    <tr>\n",
       "      <th>1</th>\n",
       "      <td>100005</td>\n",
       "      <td>01504840100000</td>\n",
       "      <td>1</td>\n",
       "      <td>1095</td>\n",
       "      <td>290</td>\n",
       "      <td>10700</td>\n",
       "      <td>Albertville City</td>\n",
       "      <td>Alabama</td>\n",
       "      <td>AL</td>\n",
       "      <td>03</td>\n",
       "      <td>3</td>\n",
       "      <td>19</td>\n",
       "      <td>1</td>\n",
       "      <td>1</td>\n",
       "      <td>PK</td>\n",
       "      <td>12</td>\n",
       "      <td>5636</td>\n",
       "      <td>5636</td>\n",
       "      <td>60116000</td>\n",
       "      <td>7939000</td>\n",
       "      <td>2439000</td>\n",
       "      <td>1134000</td>\n",
       "      <td>240000</td>\n",
       "      <td>0</td>\n",
       "      <td>101000</td>\n",
       "      <td>103000</td>\n",
       "      <td>412000</td>\n",
       "      <td>3467000</td>\n",
       "      <td>0</td>\n",
       "      <td>0</td>\n",
       "      <td>0</td>\n",
       "      <td>43000</td>\n",
       "      <td>36177000</td>\n",
       "      <td>29411000</td>\n",
       "      <td>78000</td>\n",
       "      <td>0</td>\n",
       "      <td>293000</td>\n",
       "      <td>97000</td>\n",
       "      <td>0</td>\n",
       "      <td>0</td>\n",
       "      <td>0</td>\n",
       "      <td>1555000</td>\n",
       "      <td>2275000</td>\n",
       "      <td>2468000</td>\n",
       "      <td>0</td>\n",
       "      <td>0</td>\n",
       "      <td>0</td>\n",
       "      <td>16000000</td>\n",
       "      <td>-2</td>\n",
       "      <td>5787000</td>\n",
       "      <td>0</td>\n",
       "      <td>0</td>\n",
       "      <td>0</td>\n",
       "      <td>430000</td>\n",
       "      <td>17000</td>\n",
       "      <td>5400000</td>\n",
       "      <td>93000</td>\n",
       "      <td>0</td>\n",
       "      <td>232000</td>\n",
       "      <td>0</td>\n",
       "      <td>1631000</td>\n",
       "      <td>0</td>\n",
       "      <td>366000</td>\n",
       "      <td>122000</td>\n",
       "      <td>78000</td>\n",
       "      <td>345000</td>\n",
       "      <td>2000</td>\n",
       "      <td>131000</td>\n",
       "      <td>1366000</td>\n",
       "      <td>0</td>\n",
       "      <td>55237000</td>\n",
       "      <td>49715000</td>\n",
       "      <td>28612000</td>\n",
       "      <td>28612000</td>\n",
       "      <td>0</td>\n",
       "      <td>0</td>\n",
       "      <td>17262000</td>\n",
       "      <td>3619000</td>\n",
       "      <td>1453000</td>\n",
       "      <td>1470000</td>\n",
       "      <td>2652000</td>\n",
       "      <td>4401000</td>\n",
       "      <td>2796000</td>\n",
       "      <td>871000</td>\n",
       "      <td>0</td>\n",
       "      <td>3841000</td>\n",
       "      <td>3841000</td>\n",
       "      <td>0</td>\n",
       "      <td>0</td>\n",
       "      <td>949000</td>\n",
       "      <td>150000</td>\n",
       "      <td>198000</td>\n",
       "      <td>601000</td>\n",
       "      <td>2750000</td>\n",
       "      <td>2351000</td>\n",
       "      <td>0</td>\n",
       "      <td>120000</td>\n",
       "      <td>279000</td>\n",
       "      <td>0</td>\n",
       "      <td>0</td>\n",
       "      <td>0</td>\n",
       "      <td>86000</td>\n",
       "      <td>1737000</td>\n",
       "      <td>26349000</td>\n",
       "      <td>16897000</td>\n",
       "      <td>13210000</td>\n",
       "      <td>838000</td>\n",
       "      <td>1089000</td>\n",
       "      <td>505000</td>\n",
       "      <td>2091000</td>\n",
       "      <td>794000</td>\n",
       "      <td>752000</td>\n",
       "      <td>1842000</td>\n",
       "      <td>1014000</td>\n",
       "      <td>1308000</td>\n",
       "      <td>530000</td>\n",
       "      <td>929000</td>\n",
       "      <td>10588000</td>\n",
       "      <td>6508000</td>\n",
       "      <td>780000</td>\n",
       "      <td>293000</td>\n",
       "      <td>219000</td>\n",
       "      <td>686000</td>\n",
       "      <td>458000</td>\n",
       "      <td>878000</td>\n",
       "      <td>163000</td>\n",
       "      <td>555000</td>\n",
       "      <td>0</td>\n",
       "      <td>395000</td>\n",
       "      <td>28876000</td>\n",
       "      <td>2017000</td>\n",
       "      <td>2634000</td>\n",
       "      <td>28259000</td>\n",
       "      <td>0</td>\n",
       "      <td>0</td>\n",
       "      <td>9516000</td>\n",
       "      <td>738000</td>\n",
       "      <td>8987000</td>\n",
       "      <td>1085000</td>\n",
       "      <td>0</td>\n",
       "      <td>0</td>\n",
       "      <td>-1</td>\n",
       "      <td>-1</td>\n",
       "      <td>0</td>\n",
       "      <td>1</td>\n",
       "      <td>R</td>\n",
       "      <td>R</td>\n",
       "      <td>R</td>\n",
       "      <td>R</td>\n",
       "      <td>R</td>\n",
       "      <td>R</td>\n",
       "      <td>R</td>\n",
       "      <td>R</td>\n",
       "      <td>R</td>\n",
       "      <td>R</td>\n",
       "      <td>R</td>\n",
       "      <td>R</td>\n",
       "      <td>R</td>\n",
       "      <td>R</td>\n",
       "      <td>R</td>\n",
       "      <td>R</td>\n",
       "      <td>R</td>\n",
       "      <td>R</td>\n",
       "      <td>R</td>\n",
       "      <td>M</td>\n",
       "      <td>M</td>\n",
       "      <td>M</td>\n",
       "      <td>R</td>\n",
       "      <td>R</td>\n",
       "      <td>R</td>\n",
       "      <td>R</td>\n",
       "      <td>M</td>\n",
       "      <td>M</td>\n",
       "      <td>N</td>\n",
       "      <td>R</td>\n",
       "      <td>M</td>\n",
       "      <td>M</td>\n",
       "      <td>M</td>\n",
       "      <td>R</td>\n",
       "      <td>R</td>\n",
       "      <td>R</td>\n",
       "      <td>R</td>\n",
       "      <td>M</td>\n",
       "      <td>R</td>\n",
       "      <td>R</td>\n",
       "      <td>R</td>\n",
       "      <td>R</td>\n",
       "      <td>R</td>\n",
       "      <td>R</td>\n",
       "      <td>R</td>\n",
       "      <td>R</td>\n",
       "      <td>R</td>\n",
       "      <td>R</td>\n",
       "      <td>R</td>\n",
       "      <td>R</td>\n",
       "      <td>R</td>\n",
       "      <td>R</td>\n",
       "      <td>M</td>\n",
       "      <td>R</td>\n",
       "      <td>R</td>\n",
       "      <td>R</td>\n",
       "      <td>R</td>\n",
       "      <td>R</td>\n",
       "      <td>R</td>\n",
       "      <td>R</td>\n",
       "      <td>R</td>\n",
       "      <td>R</td>\n",
       "      <td>M</td>\n",
       "      <td>M</td>\n",
       "      <td>R</td>\n",
       "      <td>R</td>\n",
       "      <td>R</td>\n",
       "      <td>R</td>\n",
       "      <td>R</td>\n",
       "      <td>R</td>\n",
       "      <td>R</td>\n",
       "      <td>R</td>\n",
       "      <td>M</td>\n",
       "      <td>M</td>\n",
       "      <td>R</td>\n",
       "      <td>R</td>\n",
       "      <td>R</td>\n",
       "      <td>R</td>\n",
       "      <td>R</td>\n",
       "      <td>R</td>\n",
       "      <td>R</td>\n",
       "      <td>R</td>\n",
       "      <td>R</td>\n",
       "      <td>R</td>\n",
       "      <td>R</td>\n",
       "      <td>R</td>\n",
       "      <td>R</td>\n",
       "      <td>R</td>\n",
       "      <td>R</td>\n",
       "      <td>R</td>\n",
       "      <td>R</td>\n",
       "      <td>R</td>\n",
       "      <td>R</td>\n",
       "      <td>R</td>\n",
       "      <td>R</td>\n",
       "      <td>R</td>\n",
       "      <td>R</td>\n",
       "      <td>R</td>\n",
       "      <td>R</td>\n",
       "      <td>R</td>\n",
       "      <td>M</td>\n",
       "      <td>R</td>\n",
       "      <td>A</td>\n",
       "      <td>R</td>\n",
       "      <td>R</td>\n",
       "      <td>I</td>\n",
       "      <td>M</td>\n",
       "      <td>M</td>\n",
       "      <td>R</td>\n",
       "      <td>R</td>\n",
       "      <td>R</td>\n",
       "      <td>R</td>\n",
       "      <td>M</td>\n",
       "      <td>M</td>\n",
       "      <td>M</td>\n",
       "      <td>M</td>\n",
       "      <td>M</td>\n",
       "    </tr>\n",
       "    <tr>\n",
       "      <th>2</th>\n",
       "      <td>100006</td>\n",
       "      <td>01504800100000</td>\n",
       "      <td>1</td>\n",
       "      <td>1095</td>\n",
       "      <td>290</td>\n",
       "      <td>10700</td>\n",
       "      <td>Marshall County</td>\n",
       "      <td>Alabama</td>\n",
       "      <td>AL</td>\n",
       "      <td>03</td>\n",
       "      <td>3</td>\n",
       "      <td>19</td>\n",
       "      <td>1</td>\n",
       "      <td>1</td>\n",
       "      <td>PK</td>\n",
       "      <td>12</td>\n",
       "      <td>5652</td>\n",
       "      <td>5652</td>\n",
       "      <td>61936000</td>\n",
       "      <td>7953000</td>\n",
       "      <td>2758000</td>\n",
       "      <td>1465000</td>\n",
       "      <td>386000</td>\n",
       "      <td>0</td>\n",
       "      <td>145000</td>\n",
       "      <td>51000</td>\n",
       "      <td>331000</td>\n",
       "      <td>2817000</td>\n",
       "      <td>0</td>\n",
       "      <td>0</td>\n",
       "      <td>0</td>\n",
       "      <td>0</td>\n",
       "      <td>40042000</td>\n",
       "      <td>30760000</td>\n",
       "      <td>65000</td>\n",
       "      <td>0</td>\n",
       "      <td>552000</td>\n",
       "      <td>42000</td>\n",
       "      <td>0</td>\n",
       "      <td>0</td>\n",
       "      <td>0</td>\n",
       "      <td>1642000</td>\n",
       "      <td>3434000</td>\n",
       "      <td>3547000</td>\n",
       "      <td>0</td>\n",
       "      <td>0</td>\n",
       "      <td>0</td>\n",
       "      <td>13941000</td>\n",
       "      <td>-2</td>\n",
       "      <td>7162000</td>\n",
       "      <td>0</td>\n",
       "      <td>0</td>\n",
       "      <td>0</td>\n",
       "      <td>10000</td>\n",
       "      <td>0</td>\n",
       "      <td>2054000</td>\n",
       "      <td>14000</td>\n",
       "      <td>0</td>\n",
       "      <td>575000</td>\n",
       "      <td>0</td>\n",
       "      <td>1495000</td>\n",
       "      <td>0</td>\n",
       "      <td>324000</td>\n",
       "      <td>1000</td>\n",
       "      <td>489000</td>\n",
       "      <td>209000</td>\n",
       "      <td>5000</td>\n",
       "      <td>535000</td>\n",
       "      <td>1068000</td>\n",
       "      <td>0</td>\n",
       "      <td>60022000</td>\n",
       "      <td>58351000</td>\n",
       "      <td>30884000</td>\n",
       "      <td>30884000</td>\n",
       "      <td>7000</td>\n",
       "      <td>0</td>\n",
       "      <td>23015000</td>\n",
       "      <td>4095000</td>\n",
       "      <td>1849000</td>\n",
       "      <td>2074000</td>\n",
       "      <td>3902000</td>\n",
       "      <td>5986000</td>\n",
       "      <td>3929000</td>\n",
       "      <td>1180000</td>\n",
       "      <td>0</td>\n",
       "      <td>4452000</td>\n",
       "      <td>4452000</td>\n",
       "      <td>0</td>\n",
       "      <td>0</td>\n",
       "      <td>724000</td>\n",
       "      <td>64000</td>\n",
       "      <td>167000</td>\n",
       "      <td>493000</td>\n",
       "      <td>266000</td>\n",
       "      <td>0</td>\n",
       "      <td>48000</td>\n",
       "      <td>65000</td>\n",
       "      <td>153000</td>\n",
       "      <td>0</td>\n",
       "      <td>0</td>\n",
       "      <td>0</td>\n",
       "      <td>48000</td>\n",
       "      <td>626000</td>\n",
       "      <td>32647000</td>\n",
       "      <td>19574000</td>\n",
       "      <td>13204000</td>\n",
       "      <td>1913000</td>\n",
       "      <td>1277000</td>\n",
       "      <td>772000</td>\n",
       "      <td>2618000</td>\n",
       "      <td>909000</td>\n",
       "      <td>1105000</td>\n",
       "      <td>2727000</td>\n",
       "      <td>1636000</td>\n",
       "      <td>2057000</td>\n",
       "      <td>508000</td>\n",
       "      <td>1370000</td>\n",
       "      <td>13208000</td>\n",
       "      <td>7529000</td>\n",
       "      <td>942000</td>\n",
       "      <td>291000</td>\n",
       "      <td>356000</td>\n",
       "      <td>1019000</td>\n",
       "      <td>748000</td>\n",
       "      <td>1282000</td>\n",
       "      <td>171000</td>\n",
       "      <td>834000</td>\n",
       "      <td>0</td>\n",
       "      <td>160000</td>\n",
       "      <td>26283000</td>\n",
       "      <td>0</td>\n",
       "      <td>2050000</td>\n",
       "      <td>24233000</td>\n",
       "      <td>0</td>\n",
       "      <td>0</td>\n",
       "      <td>1182000</td>\n",
       "      <td>322000</td>\n",
       "      <td>4357000</td>\n",
       "      <td>1508000</td>\n",
       "      <td>0</td>\n",
       "      <td>0</td>\n",
       "      <td>-1</td>\n",
       "      <td>-1</td>\n",
       "      <td>0</td>\n",
       "      <td>1</td>\n",
       "      <td>R</td>\n",
       "      <td>R</td>\n",
       "      <td>R</td>\n",
       "      <td>R</td>\n",
       "      <td>R</td>\n",
       "      <td>R</td>\n",
       "      <td>R</td>\n",
       "      <td>R</td>\n",
       "      <td>R</td>\n",
       "      <td>R</td>\n",
       "      <td>R</td>\n",
       "      <td>R</td>\n",
       "      <td>R</td>\n",
       "      <td>R</td>\n",
       "      <td>R</td>\n",
       "      <td>R</td>\n",
       "      <td>R</td>\n",
       "      <td>R</td>\n",
       "      <td>R</td>\n",
       "      <td>M</td>\n",
       "      <td>M</td>\n",
       "      <td>M</td>\n",
       "      <td>R</td>\n",
       "      <td>R</td>\n",
       "      <td>R</td>\n",
       "      <td>R</td>\n",
       "      <td>M</td>\n",
       "      <td>M</td>\n",
       "      <td>N</td>\n",
       "      <td>R</td>\n",
       "      <td>M</td>\n",
       "      <td>M</td>\n",
       "      <td>M</td>\n",
       "      <td>R</td>\n",
       "      <td>R</td>\n",
       "      <td>R</td>\n",
       "      <td>R</td>\n",
       "      <td>M</td>\n",
       "      <td>R</td>\n",
       "      <td>R</td>\n",
       "      <td>R</td>\n",
       "      <td>R</td>\n",
       "      <td>R</td>\n",
       "      <td>R</td>\n",
       "      <td>R</td>\n",
       "      <td>R</td>\n",
       "      <td>R</td>\n",
       "      <td>R</td>\n",
       "      <td>R</td>\n",
       "      <td>R</td>\n",
       "      <td>R</td>\n",
       "      <td>R</td>\n",
       "      <td>M</td>\n",
       "      <td>R</td>\n",
       "      <td>R</td>\n",
       "      <td>R</td>\n",
       "      <td>R</td>\n",
       "      <td>R</td>\n",
       "      <td>R</td>\n",
       "      <td>R</td>\n",
       "      <td>R</td>\n",
       "      <td>R</td>\n",
       "      <td>M</td>\n",
       "      <td>M</td>\n",
       "      <td>R</td>\n",
       "      <td>R</td>\n",
       "      <td>R</td>\n",
       "      <td>R</td>\n",
       "      <td>R</td>\n",
       "      <td>R</td>\n",
       "      <td>R</td>\n",
       "      <td>R</td>\n",
       "      <td>M</td>\n",
       "      <td>M</td>\n",
       "      <td>R</td>\n",
       "      <td>R</td>\n",
       "      <td>R</td>\n",
       "      <td>R</td>\n",
       "      <td>R</td>\n",
       "      <td>R</td>\n",
       "      <td>R</td>\n",
       "      <td>R</td>\n",
       "      <td>R</td>\n",
       "      <td>R</td>\n",
       "      <td>R</td>\n",
       "      <td>R</td>\n",
       "      <td>R</td>\n",
       "      <td>R</td>\n",
       "      <td>R</td>\n",
       "      <td>R</td>\n",
       "      <td>R</td>\n",
       "      <td>R</td>\n",
       "      <td>R</td>\n",
       "      <td>R</td>\n",
       "      <td>R</td>\n",
       "      <td>R</td>\n",
       "      <td>R</td>\n",
       "      <td>R</td>\n",
       "      <td>R</td>\n",
       "      <td>R</td>\n",
       "      <td>M</td>\n",
       "      <td>R</td>\n",
       "      <td>A</td>\n",
       "      <td>R</td>\n",
       "      <td>R</td>\n",
       "      <td>I</td>\n",
       "      <td>M</td>\n",
       "      <td>M</td>\n",
       "      <td>R</td>\n",
       "      <td>R</td>\n",
       "      <td>R</td>\n",
       "      <td>R</td>\n",
       "      <td>M</td>\n",
       "      <td>M</td>\n",
       "      <td>M</td>\n",
       "      <td>M</td>\n",
       "      <td>M</td>\n",
       "    </tr>\n",
       "    <tr>\n",
       "      <th>3</th>\n",
       "      <td>100007</td>\n",
       "      <td>01503740100000</td>\n",
       "      <td>1</td>\n",
       "      <td>1073</td>\n",
       "      <td>142</td>\n",
       "      <td>13820</td>\n",
       "      <td>Hoover City</td>\n",
       "      <td>Alabama</td>\n",
       "      <td>AL</td>\n",
       "      <td>03</td>\n",
       "      <td>3</td>\n",
       "      <td>19</td>\n",
       "      <td>1</td>\n",
       "      <td>1</td>\n",
       "      <td>PK</td>\n",
       "      <td>12</td>\n",
       "      <td>13952</td>\n",
       "      <td>13952</td>\n",
       "      <td>189124000</td>\n",
       "      <td>6935000</td>\n",
       "      <td>1205000</td>\n",
       "      <td>2631000</td>\n",
       "      <td>250000</td>\n",
       "      <td>0</td>\n",
       "      <td>127000</td>\n",
       "      <td>70000</td>\n",
       "      <td>77000</td>\n",
       "      <td>2505000</td>\n",
       "      <td>0</td>\n",
       "      <td>0</td>\n",
       "      <td>0</td>\n",
       "      <td>70000</td>\n",
       "      <td>78790000</td>\n",
       "      <td>63888000</td>\n",
       "      <td>79000</td>\n",
       "      <td>0</td>\n",
       "      <td>808000</td>\n",
       "      <td>78000</td>\n",
       "      <td>0</td>\n",
       "      <td>0</td>\n",
       "      <td>0</td>\n",
       "      <td>3076000</td>\n",
       "      <td>5508000</td>\n",
       "      <td>5353000</td>\n",
       "      <td>0</td>\n",
       "      <td>0</td>\n",
       "      <td>0</td>\n",
       "      <td>103399000</td>\n",
       "      <td>-2</td>\n",
       "      <td>76529000</td>\n",
       "      <td>0</td>\n",
       "      <td>0</td>\n",
       "      <td>0</td>\n",
       "      <td>5000</td>\n",
       "      <td>0</td>\n",
       "      <td>8839000</td>\n",
       "      <td>18000</td>\n",
       "      <td>0</td>\n",
       "      <td>4082000</td>\n",
       "      <td>0</td>\n",
       "      <td>4810000</td>\n",
       "      <td>0</td>\n",
       "      <td>916000</td>\n",
       "      <td>860000</td>\n",
       "      <td>3254000</td>\n",
       "      <td>1921000</td>\n",
       "      <td>27000</td>\n",
       "      <td>349000</td>\n",
       "      <td>1789000</td>\n",
       "      <td>0</td>\n",
       "      <td>195605000</td>\n",
       "      <td>168699000</td>\n",
       "      <td>102547000</td>\n",
       "      <td>102547000</td>\n",
       "      <td>3000</td>\n",
       "      <td>0</td>\n",
       "      <td>57484000</td>\n",
       "      <td>10266000</td>\n",
       "      <td>6610000</td>\n",
       "      <td>1722000</td>\n",
       "      <td>10604000</td>\n",
       "      <td>16670000</td>\n",
       "      <td>7686000</td>\n",
       "      <td>3926000</td>\n",
       "      <td>0</td>\n",
       "      <td>8668000</td>\n",
       "      <td>8668000</td>\n",
       "      <td>0</td>\n",
       "      <td>0</td>\n",
       "      <td>2362000</td>\n",
       "      <td>233000</td>\n",
       "      <td>0</td>\n",
       "      <td>2129000</td>\n",
       "      <td>17371000</td>\n",
       "      <td>15989000</td>\n",
       "      <td>78000</td>\n",
       "      <td>347000</td>\n",
       "      <td>957000</td>\n",
       "      <td>0</td>\n",
       "      <td>0</td>\n",
       "      <td>0</td>\n",
       "      <td>112000</td>\n",
       "      <td>7058000</td>\n",
       "      <td>97127000</td>\n",
       "      <td>65305000</td>\n",
       "      <td>51790000</td>\n",
       "      <td>4589000</td>\n",
       "      <td>1409000</td>\n",
       "      <td>1087000</td>\n",
       "      <td>6193000</td>\n",
       "      <td>3644000</td>\n",
       "      <td>632000</td>\n",
       "      <td>7543000</td>\n",
       "      <td>5104000</td>\n",
       "      <td>4109000</td>\n",
       "      <td>1433000</td>\n",
       "      <td>2981000</td>\n",
       "      <td>37483000</td>\n",
       "      <td>23051000</td>\n",
       "      <td>2133000</td>\n",
       "      <td>1235000</td>\n",
       "      <td>166000</td>\n",
       "      <td>2573000</td>\n",
       "      <td>2350000</td>\n",
       "      <td>2459000</td>\n",
       "      <td>1827000</td>\n",
       "      <td>1648000</td>\n",
       "      <td>0</td>\n",
       "      <td>753000</td>\n",
       "      <td>281008000</td>\n",
       "      <td>0</td>\n",
       "      <td>4745000</td>\n",
       "      <td>276263000</td>\n",
       "      <td>0</td>\n",
       "      <td>0</td>\n",
       "      <td>93000</td>\n",
       "      <td>149000</td>\n",
       "      <td>120932000</td>\n",
       "      <td>5648000</td>\n",
       "      <td>0</td>\n",
       "      <td>0</td>\n",
       "      <td>-1</td>\n",
       "      <td>-1</td>\n",
       "      <td>0</td>\n",
       "      <td>1</td>\n",
       "      <td>R</td>\n",
       "      <td>R</td>\n",
       "      <td>R</td>\n",
       "      <td>R</td>\n",
       "      <td>R</td>\n",
       "      <td>R</td>\n",
       "      <td>R</td>\n",
       "      <td>R</td>\n",
       "      <td>R</td>\n",
       "      <td>R</td>\n",
       "      <td>R</td>\n",
       "      <td>R</td>\n",
       "      <td>R</td>\n",
       "      <td>R</td>\n",
       "      <td>R</td>\n",
       "      <td>R</td>\n",
       "      <td>R</td>\n",
       "      <td>R</td>\n",
       "      <td>R</td>\n",
       "      <td>M</td>\n",
       "      <td>M</td>\n",
       "      <td>M</td>\n",
       "      <td>R</td>\n",
       "      <td>R</td>\n",
       "      <td>R</td>\n",
       "      <td>R</td>\n",
       "      <td>M</td>\n",
       "      <td>M</td>\n",
       "      <td>N</td>\n",
       "      <td>R</td>\n",
       "      <td>M</td>\n",
       "      <td>M</td>\n",
       "      <td>M</td>\n",
       "      <td>R</td>\n",
       "      <td>R</td>\n",
       "      <td>R</td>\n",
       "      <td>R</td>\n",
       "      <td>M</td>\n",
       "      <td>R</td>\n",
       "      <td>R</td>\n",
       "      <td>R</td>\n",
       "      <td>R</td>\n",
       "      <td>R</td>\n",
       "      <td>R</td>\n",
       "      <td>R</td>\n",
       "      <td>R</td>\n",
       "      <td>R</td>\n",
       "      <td>R</td>\n",
       "      <td>R</td>\n",
       "      <td>R</td>\n",
       "      <td>R</td>\n",
       "      <td>R</td>\n",
       "      <td>M</td>\n",
       "      <td>R</td>\n",
       "      <td>R</td>\n",
       "      <td>R</td>\n",
       "      <td>R</td>\n",
       "      <td>R</td>\n",
       "      <td>R</td>\n",
       "      <td>R</td>\n",
       "      <td>R</td>\n",
       "      <td>R</td>\n",
       "      <td>M</td>\n",
       "      <td>M</td>\n",
       "      <td>R</td>\n",
       "      <td>R</td>\n",
       "      <td>R</td>\n",
       "      <td>R</td>\n",
       "      <td>R</td>\n",
       "      <td>R</td>\n",
       "      <td>R</td>\n",
       "      <td>R</td>\n",
       "      <td>M</td>\n",
       "      <td>M</td>\n",
       "      <td>R</td>\n",
       "      <td>R</td>\n",
       "      <td>R</td>\n",
       "      <td>R</td>\n",
       "      <td>R</td>\n",
       "      <td>R</td>\n",
       "      <td>R</td>\n",
       "      <td>R</td>\n",
       "      <td>R</td>\n",
       "      <td>R</td>\n",
       "      <td>R</td>\n",
       "      <td>R</td>\n",
       "      <td>R</td>\n",
       "      <td>R</td>\n",
       "      <td>R</td>\n",
       "      <td>R</td>\n",
       "      <td>R</td>\n",
       "      <td>R</td>\n",
       "      <td>R</td>\n",
       "      <td>R</td>\n",
       "      <td>R</td>\n",
       "      <td>R</td>\n",
       "      <td>R</td>\n",
       "      <td>R</td>\n",
       "      <td>R</td>\n",
       "      <td>R</td>\n",
       "      <td>M</td>\n",
       "      <td>R</td>\n",
       "      <td>A</td>\n",
       "      <td>R</td>\n",
       "      <td>R</td>\n",
       "      <td>I</td>\n",
       "      <td>M</td>\n",
       "      <td>M</td>\n",
       "      <td>R</td>\n",
       "      <td>R</td>\n",
       "      <td>R</td>\n",
       "      <td>R</td>\n",
       "      <td>M</td>\n",
       "      <td>M</td>\n",
       "      <td>M</td>\n",
       "      <td>M</td>\n",
       "      <td>M</td>\n",
       "    </tr>\n",
       "    <tr>\n",
       "      <th>4</th>\n",
       "      <td>100008</td>\n",
       "      <td>01504530100000</td>\n",
       "      <td>1</td>\n",
       "      <td>1089</td>\n",
       "      <td>290</td>\n",
       "      <td>26620</td>\n",
       "      <td>Madison City</td>\n",
       "      <td>Alabama</td>\n",
       "      <td>AL</td>\n",
       "      <td>03</td>\n",
       "      <td>3</td>\n",
       "      <td>19</td>\n",
       "      <td>1</td>\n",
       "      <td>1</td>\n",
       "      <td>PK</td>\n",
       "      <td>12</td>\n",
       "      <td>11290</td>\n",
       "      <td>11290</td>\n",
       "      <td>129403000</td>\n",
       "      <td>6043000</td>\n",
       "      <td>795000</td>\n",
       "      <td>1975000</td>\n",
       "      <td>169000</td>\n",
       "      <td>0</td>\n",
       "      <td>93000</td>\n",
       "      <td>72000</td>\n",
       "      <td>924000</td>\n",
       "      <td>1406000</td>\n",
       "      <td>0</td>\n",
       "      <td>484000</td>\n",
       "      <td>0</td>\n",
       "      <td>125000</td>\n",
       "      <td>69870000</td>\n",
       "      <td>54121000</td>\n",
       "      <td>90000</td>\n",
       "      <td>0</td>\n",
       "      <td>501000</td>\n",
       "      <td>40000</td>\n",
       "      <td>0</td>\n",
       "      <td>0</td>\n",
       "      <td>0</td>\n",
       "      <td>2826000</td>\n",
       "      <td>3256000</td>\n",
       "      <td>9036000</td>\n",
       "      <td>0</td>\n",
       "      <td>0</td>\n",
       "      <td>0</td>\n",
       "      <td>53490000</td>\n",
       "      <td>-2</td>\n",
       "      <td>21211000</td>\n",
       "      <td>0</td>\n",
       "      <td>0</td>\n",
       "      <td>0</td>\n",
       "      <td>7000</td>\n",
       "      <td>0</td>\n",
       "      <td>17383000</td>\n",
       "      <td>17000</td>\n",
       "      <td>0</td>\n",
       "      <td>2882000</td>\n",
       "      <td>0</td>\n",
       "      <td>3300000</td>\n",
       "      <td>0</td>\n",
       "      <td>660000</td>\n",
       "      <td>2092000</td>\n",
       "      <td>1687000</td>\n",
       "      <td>758000</td>\n",
       "      <td>9000</td>\n",
       "      <td>488000</td>\n",
       "      <td>2996000</td>\n",
       "      <td>0</td>\n",
       "      <td>118941000</td>\n",
       "      <td>109357000</td>\n",
       "      <td>65771000</td>\n",
       "      <td>65771000</td>\n",
       "      <td>15000</td>\n",
       "      <td>0</td>\n",
       "      <td>38601000</td>\n",
       "      <td>8902000</td>\n",
       "      <td>6989000</td>\n",
       "      <td>1825000</td>\n",
       "      <td>5809000</td>\n",
       "      <td>9001000</td>\n",
       "      <td>4361000</td>\n",
       "      <td>1714000</td>\n",
       "      <td>0</td>\n",
       "      <td>4985000</td>\n",
       "      <td>4985000</td>\n",
       "      <td>0</td>\n",
       "      <td>0</td>\n",
       "      <td>1352000</td>\n",
       "      <td>1072000</td>\n",
       "      <td>1000</td>\n",
       "      <td>279000</td>\n",
       "      <td>4186000</td>\n",
       "      <td>3108000</td>\n",
       "      <td>0</td>\n",
       "      <td>22000</td>\n",
       "      <td>1056000</td>\n",
       "      <td>0</td>\n",
       "      <td>0</td>\n",
       "      <td>0</td>\n",
       "      <td>163000</td>\n",
       "      <td>3868000</td>\n",
       "      <td>61987000</td>\n",
       "      <td>41235000</td>\n",
       "      <td>29213000</td>\n",
       "      <td>3092000</td>\n",
       "      <td>2709000</td>\n",
       "      <td>1442000</td>\n",
       "      <td>4410000</td>\n",
       "      <td>3632000</td>\n",
       "      <td>782000</td>\n",
       "      <td>4099000</td>\n",
       "      <td>2245000</td>\n",
       "      <td>2238000</td>\n",
       "      <td>1037000</td>\n",
       "      <td>1469000</td>\n",
       "      <td>23501000</td>\n",
       "      <td>15117000</td>\n",
       "      <td>1455000</td>\n",
       "      <td>1315000</td>\n",
       "      <td>232000</td>\n",
       "      <td>1473000</td>\n",
       "      <td>1080000</td>\n",
       "      <td>1366000</td>\n",
       "      <td>377000</td>\n",
       "      <td>965000</td>\n",
       "      <td>0</td>\n",
       "      <td>664000</td>\n",
       "      <td>114240000</td>\n",
       "      <td>1303000</td>\n",
       "      <td>3410000</td>\n",
       "      <td>112133000</td>\n",
       "      <td>0</td>\n",
       "      <td>0</td>\n",
       "      <td>22914000</td>\n",
       "      <td>8928000</td>\n",
       "      <td>21327000</td>\n",
       "      <td>2969000</td>\n",
       "      <td>0</td>\n",
       "      <td>0</td>\n",
       "      <td>-1</td>\n",
       "      <td>-1</td>\n",
       "      <td>0</td>\n",
       "      <td>1</td>\n",
       "      <td>R</td>\n",
       "      <td>R</td>\n",
       "      <td>R</td>\n",
       "      <td>R</td>\n",
       "      <td>R</td>\n",
       "      <td>R</td>\n",
       "      <td>R</td>\n",
       "      <td>R</td>\n",
       "      <td>R</td>\n",
       "      <td>R</td>\n",
       "      <td>R</td>\n",
       "      <td>R</td>\n",
       "      <td>R</td>\n",
       "      <td>R</td>\n",
       "      <td>R</td>\n",
       "      <td>R</td>\n",
       "      <td>R</td>\n",
       "      <td>R</td>\n",
       "      <td>R</td>\n",
       "      <td>M</td>\n",
       "      <td>M</td>\n",
       "      <td>M</td>\n",
       "      <td>R</td>\n",
       "      <td>R</td>\n",
       "      <td>R</td>\n",
       "      <td>R</td>\n",
       "      <td>M</td>\n",
       "      <td>M</td>\n",
       "      <td>N</td>\n",
       "      <td>R</td>\n",
       "      <td>M</td>\n",
       "      <td>M</td>\n",
       "      <td>M</td>\n",
       "      <td>R</td>\n",
       "      <td>R</td>\n",
       "      <td>R</td>\n",
       "      <td>R</td>\n",
       "      <td>M</td>\n",
       "      <td>R</td>\n",
       "      <td>R</td>\n",
       "      <td>R</td>\n",
       "      <td>R</td>\n",
       "      <td>R</td>\n",
       "      <td>R</td>\n",
       "      <td>R</td>\n",
       "      <td>R</td>\n",
       "      <td>R</td>\n",
       "      <td>R</td>\n",
       "      <td>R</td>\n",
       "      <td>R</td>\n",
       "      <td>R</td>\n",
       "      <td>R</td>\n",
       "      <td>M</td>\n",
       "      <td>R</td>\n",
       "      <td>R</td>\n",
       "      <td>R</td>\n",
       "      <td>R</td>\n",
       "      <td>R</td>\n",
       "      <td>R</td>\n",
       "      <td>R</td>\n",
       "      <td>R</td>\n",
       "      <td>R</td>\n",
       "      <td>M</td>\n",
       "      <td>M</td>\n",
       "      <td>R</td>\n",
       "      <td>R</td>\n",
       "      <td>R</td>\n",
       "      <td>R</td>\n",
       "      <td>R</td>\n",
       "      <td>R</td>\n",
       "      <td>R</td>\n",
       "      <td>R</td>\n",
       "      <td>M</td>\n",
       "      <td>M</td>\n",
       "      <td>R</td>\n",
       "      <td>R</td>\n",
       "      <td>R</td>\n",
       "      <td>R</td>\n",
       "      <td>R</td>\n",
       "      <td>R</td>\n",
       "      <td>R</td>\n",
       "      <td>R</td>\n",
       "      <td>R</td>\n",
       "      <td>R</td>\n",
       "      <td>R</td>\n",
       "      <td>R</td>\n",
       "      <td>R</td>\n",
       "      <td>R</td>\n",
       "      <td>R</td>\n",
       "      <td>R</td>\n",
       "      <td>R</td>\n",
       "      <td>R</td>\n",
       "      <td>R</td>\n",
       "      <td>R</td>\n",
       "      <td>R</td>\n",
       "      <td>R</td>\n",
       "      <td>R</td>\n",
       "      <td>R</td>\n",
       "      <td>R</td>\n",
       "      <td>R</td>\n",
       "      <td>M</td>\n",
       "      <td>R</td>\n",
       "      <td>A</td>\n",
       "      <td>R</td>\n",
       "      <td>R</td>\n",
       "      <td>I</td>\n",
       "      <td>M</td>\n",
       "      <td>M</td>\n",
       "      <td>R</td>\n",
       "      <td>R</td>\n",
       "      <td>R</td>\n",
       "      <td>R</td>\n",
       "      <td>M</td>\n",
       "      <td>M</td>\n",
       "      <td>M</td>\n",
       "      <td>M</td>\n",
       "      <td>M</td>\n",
       "    </tr>\n",
       "  </tbody>\n",
       "</table>\n",
       "</div>"
      ],
      "text/plain": [
       "    LEAID        CENSUSID  FIPST CONUM  CSA   CBSA                    NAME  \\\n",
       "0  100002               N      1  1073  142  13820  Alabama Youth Services   \n",
       "1  100005  01504840100000      1  1095  290  10700        Albertville City   \n",
       "2  100006  01504800100000      1  1095  290  10700         Marshall County   \n",
       "3  100007  01503740100000      1  1073  142  13820             Hoover City   \n",
       "4  100008  01504530100000      1  1089  290  26620            Madison City   \n",
       "\n",
       "    STNAME STABBR SCHLEV AGCHRT  YEAR  CCDNF  CENFILE GSLO GSHI    V33  \\\n",
       "0  Alabama     AL      N      N    19      1        0   03   12     -2   \n",
       "1  Alabama     AL     03      3    19      1        1   PK   12   5636   \n",
       "2  Alabama     AL     03      3    19      1        1   PK   12   5652   \n",
       "3  Alabama     AL     03      3    19      1        1   PK   12  13952   \n",
       "4  Alabama     AL     03      3    19      1        1   PK   12  11290   \n",
       "\n",
       "   MEMBERSCH   TOTALREV  TFEDREV      C14      C15     C16  C17     C19  \\\n",
       "0         -2         -1       -1       -1       -1      -1   -1      -1   \n",
       "1       5636   60116000  7939000  2439000  1134000  240000    0  101000   \n",
       "2       5652   61936000  7953000  2758000  1465000  386000    0  145000   \n",
       "3      13952  189124000  6935000  1205000  2631000  250000    0  127000   \n",
       "4      11290  129403000  6043000   795000  1975000  169000    0   93000   \n",
       "\n",
       "      B11     C20      C25  C36     B10  B12     B13    TSTREV       C01  \\\n",
       "0      -1      -1       -1   -1      -1   -1      -1        -1        -1   \n",
       "1  103000  412000  3467000    0       0    0   43000  36177000  29411000   \n",
       "2   51000  331000  2817000    0       0    0       0  40042000  30760000   \n",
       "3   70000   77000  2505000    0       0    0   70000  78790000  63888000   \n",
       "4   72000  924000  1406000    0  484000    0  125000  69870000  54121000   \n",
       "\n",
       "     C04  C05     C06    C07  C08  C09  C10      C11      C12      C13  C35  \\\n",
       "0     -1   -1      -1     -1   -1   -1   -1       -1       -1       -1   -1   \n",
       "1  78000    0  293000  97000    0    0    0  1555000  2275000  2468000    0   \n",
       "2  65000    0  552000  42000    0    0    0  1642000  3434000  3547000    0   \n",
       "3  79000    0  808000  78000    0    0    0  3076000  5508000  5353000    0   \n",
       "4  90000    0  501000  40000    0    0    0  2826000  3256000  9036000    0   \n",
       "\n",
       "   C38  C39    TLOCREV  T02       T06  T09  T15  T40     T99    D11       D23  \\\n",
       "0   -1   -1         -1   -2        -2   -2   -2   -2      -2     -1        -1   \n",
       "1    0    0   16000000   -2   5787000    0    0    0  430000  17000   5400000   \n",
       "2    0    0   13941000   -2   7162000    0    0    0   10000      0   2054000   \n",
       "3    0    0  103399000   -2  76529000    0    0    0    5000      0   8839000   \n",
       "4    0    0   53490000   -2  21211000    0    0    0    7000      0  17383000   \n",
       "\n",
       "     A07  A08      A09  A11      A13  A15     A20      A40      U11      U22  \\\n",
       "0     -1   -1       -1   -1       -1   -1      -1       -1       -1       -1   \n",
       "1  93000    0   232000    0  1631000    0  366000   122000    78000   345000   \n",
       "2  14000    0   575000    0  1495000    0  324000     1000   489000   209000   \n",
       "3  18000    0  4082000    0  4810000    0  916000   860000  3254000  1921000   \n",
       "4  17000    0  2882000    0  3300000    0  660000  2092000  1687000   758000   \n",
       "\n",
       "     U30     U50      U97  C24   TOTALEXP   TCURELSC   TCURINST        E13  \\\n",
       "0     -1      -1       -1   -1         -1         -1         -1         -1   \n",
       "1   2000  131000  1366000    0   55237000   49715000   28612000   28612000   \n",
       "2   5000  535000  1068000    0   60022000   58351000   30884000   30884000   \n",
       "3  27000  349000  1789000    0  195605000  168699000  102547000  102547000   \n",
       "4   9000  488000  2996000    0  118941000  109357000   65771000   65771000   \n",
       "\n",
       "     V91  V92  TCURSSVC       E17      E07      E08       E09       V40  \\\n",
       "0     -1   -1        -1        -1       -1       -1        -1        -1   \n",
       "1      0    0  17262000   3619000  1453000  1470000   2652000   4401000   \n",
       "2   7000    0  23015000   4095000  1849000  2074000   3902000   5986000   \n",
       "3   3000    0  57484000  10266000  6610000  1722000  10604000  16670000   \n",
       "4  15000    0  38601000   8902000  6989000  1825000   5809000   9001000   \n",
       "\n",
       "       V45      V90  V85  TCUROTH      E11  V60  V65  TNONELSE      V70  \\\n",
       "0       -1       -1   -1       -1       -1   -1   -1        -1       -1   \n",
       "1  2796000   871000    0  3841000  3841000    0    0    949000   150000   \n",
       "2  3929000  1180000    0  4452000  4452000    0    0    724000    64000   \n",
       "3  7686000  3926000    0  8668000  8668000    0    0   2362000   233000   \n",
       "4  4361000  1714000    0  4985000  4985000    0    0   1352000  1072000   \n",
       "\n",
       "      V75      V80   TCAPOUT       F12    G15     K09      K10  K11  L12  M12  \\\n",
       "0      -1       -1        -1        -1     -1      -1       -1   -1   -1   -1   \n",
       "1  198000   601000   2750000   2351000      0  120000   279000    0    0    0   \n",
       "2  167000   493000    266000         0  48000   65000   153000    0    0    0   \n",
       "3       0  2129000  17371000  15989000  78000  347000   957000    0    0    0   \n",
       "4    1000   279000   4186000   3108000      0   22000  1056000    0    0    0   \n",
       "\n",
       "      Q11      I86       Z32       Z33       Z35      Z36      Z37      Z38  \\\n",
       "0      -1       -1        -1        -1        -1       -1       -1       -1   \n",
       "1   86000  1737000  26349000  16897000  13210000   838000  1089000   505000   \n",
       "2   48000   626000  32647000  19574000  13204000  1913000  1277000   772000   \n",
       "3  112000  7058000  97127000  65305000  51790000  4589000  1409000  1087000   \n",
       "4  163000  3868000  61987000  41235000  29213000  3092000  2709000  1442000   \n",
       "\n",
       "       V11      V13      V15      V17      V21      V23      V37      V29  \\\n",
       "0       -1       -1       -1       -1       -1       -1       -1       -1   \n",
       "1  2091000   794000   752000  1842000  1014000  1308000   530000   929000   \n",
       "2  2618000   909000  1105000  2727000  1636000  2057000   508000  1370000   \n",
       "3  6193000  3644000   632000  7543000  5104000  4109000  1433000  2981000   \n",
       "4  4410000  3632000   782000  4099000  2245000  2238000  1037000  1469000   \n",
       "\n",
       "        Z34       V10      V12      V14     V16      V18      V22      V24  \\\n",
       "0        -1        -1       -1       -1      -1       -1       -1       -1   \n",
       "1  10588000   6508000   780000   293000  219000   686000   458000   878000   \n",
       "2  13208000   7529000   942000   291000  356000  1019000   748000  1282000   \n",
       "3  37483000  23051000  2133000  1235000  166000  2573000  2350000  2459000   \n",
       "4  23501000  15117000  1455000  1315000  232000  1473000  1080000  1366000   \n",
       "\n",
       "       V38      V30  V32     V93       _19H     _21F     _31F       _41F  \\\n",
       "0       -1       -1   -1      -1         -1       -1       -1         -1   \n",
       "1   163000   555000    0  395000   28876000  2017000  2634000   28259000   \n",
       "2   171000   834000    0  160000   26283000        0  2050000   24233000   \n",
       "3  1827000  1648000    0  753000  281008000        0  4745000  276263000   \n",
       "4   377000   965000    0  664000  114240000  1303000  3410000  112133000   \n",
       "\n",
       "   _61V  _66V       W01      W31        W61      V95  V02  K14  CE1  CE2  CE3  \\\n",
       "0    -1    -1        -1       -1         -1       -1   -1   -1   -1   -1   -1   \n",
       "1     0     0   9516000   738000    8987000  1085000    0    0   -1   -1    0   \n",
       "2     0     0   1182000   322000    4357000  1508000    0    0   -1   -1    0   \n",
       "3     0     0     93000   149000  120932000  5648000    0    0   -1   -1    0   \n",
       "4     0     0  22914000  8928000   21327000  2969000    0    0   -1   -1    0   \n",
       "\n",
       "   WEIGHT FL_V33 FL_MEMBERSCH FL_C14 FL_C15 FL_C16 FL_C17 FL_C19 FL_B11  \\\n",
       "0       1      N            N      M      M      M      M      M      M   \n",
       "1       1      R            R      R      R      R      R      R      R   \n",
       "2       1      R            R      R      R      R      R      R      R   \n",
       "3       1      R            R      R      R      R      R      R      R   \n",
       "4       1      R            R      R      R      R      R      R      R   \n",
       "\n",
       "  FL_C20 FL_C25 FL_C36 FL_B10 FL_B12 FL_B13 FL_C01 FL_C04 FL_C05 FL_C06  \\\n",
       "0      M      M      M      M      M      M      M      M      M      M   \n",
       "1      R      R      R      R      R      R      R      R      R      R   \n",
       "2      R      R      R      R      R      R      R      R      R      R   \n",
       "3      R      R      R      R      R      R      R      R      R      R   \n",
       "4      R      R      R      R      R      R      R      R      R      R   \n",
       "\n",
       "  FL_C07 FL_C08 FL_C09 FL_C10 FL_C11 FL_C12 FL_C13 FL_C35 FL_C38 FL_C39  \\\n",
       "0      M      M      M      M      M      M      M      M      M      M   \n",
       "1      R      M      M      M      R      R      R      R      M      M   \n",
       "2      R      M      M      M      R      R      R      R      M      M   \n",
       "3      R      M      M      M      R      R      R      R      M      M   \n",
       "4      R      M      M      M      R      R      R      R      M      M   \n",
       "\n",
       "  FL_T02 FL_T06 FL_T09 FL_T15 FL_T40 FL_T99 FL_D11 FL_D23 FL_A07 FL_A08  \\\n",
       "0      N      N      N      N      N      N      M      M      M      M   \n",
       "1      N      R      M      M      M      R      R      R      R      M   \n",
       "2      N      R      M      M      M      R      R      R      R      M   \n",
       "3      N      R      M      M      M      R      R      R      R      M   \n",
       "4      N      R      M      M      M      R      R      R      R      M   \n",
       "\n",
       "  FL_A09 FL_A11 FL_A13 FL_A15 FL_A20 FL_A40 FL_U11 FL_U22 FL_U30 FL_U50  \\\n",
       "0      M      M      M      M      M      M      M      M      M      M   \n",
       "1      R      R      R      R      R      R      R      R      R      R   \n",
       "2      R      R      R      R      R      R      R      R      R      R   \n",
       "3      R      R      R      R      R      R      R      R      R      R   \n",
       "4      R      R      R      R      R      R      R      R      R      R   \n",
       "\n",
       "  FL_U97 FL_C24 FL_E13 FL_V91 FL_V92 FL_E17 FL_E07 FL_E08 FL_E09 FL_V40  \\\n",
       "0      M      M      M      M      M      M      M      M      M      M   \n",
       "1      R      R      R      R      M      R      R      R      R      R   \n",
       "2      R      R      R      R      M      R      R      R      R      R   \n",
       "3      R      R      R      R      M      R      R      R      R      R   \n",
       "4      R      R      R      R      M      R      R      R      R      R   \n",
       "\n",
       "  FL_V45 FL_V90 FL_V85 FL_E11 FL_V60 FL_V65 FL_V70 FL_V75 FL_V80 FL_F12  \\\n",
       "0      M      M      M      M      M      M      M      M      M      M   \n",
       "1      R      R      R      R      M      M      R      R      R      R   \n",
       "2      R      R      R      R      M      M      R      R      R      R   \n",
       "3      R      R      R      R      M      M      R      R      R      R   \n",
       "4      R      R      R      R      M      M      R      R      R      R   \n",
       "\n",
       "  FL_G15 FL_K09 FL_K10 FL_K11 FL_L12 FL_M12 FL_Q11 FL_I86 FL_Z32 FL_Z33  \\\n",
       "0      M      M      M      M      M      M      M      M      M      M   \n",
       "1      R      R      R      R      M      M      R      R      R      R   \n",
       "2      R      R      R      R      M      M      R      R      R      R   \n",
       "3      R      R      R      R      M      M      R      R      R      R   \n",
       "4      R      R      R      R      M      M      R      R      R      R   \n",
       "\n",
       "  FL_Z35 FL_Z36 FL_Z37 FL_Z38 FL_V11 FL_V13 FL_V15 FL_V17 FL_V21 FL_V23  \\\n",
       "0      M      M      M      M      M      M      M      M      M      M   \n",
       "1      R      R      R      R      R      R      R      R      R      R   \n",
       "2      R      R      R      R      R      R      R      R      R      R   \n",
       "3      R      R      R      R      R      R      R      R      R      R   \n",
       "4      R      R      R      R      R      R      R      R      R      R   \n",
       "\n",
       "  FL_V37 FL_V29 FL_Z34 FL_V10 FL_V12 FL_V14 FL_V16 FL_V18 FL_V22 FL_V24  \\\n",
       "0      M      M      M      M      M      M      M      M      M      M   \n",
       "1      R      R      R      R      R      R      R      R      R      R   \n",
       "2      R      R      R      R      R      R      R      R      R      R   \n",
       "3      R      R      R      R      R      R      R      R      R      R   \n",
       "4      R      R      R      R      R      R      R      R      R      R   \n",
       "\n",
       "  FL_V38 FL_V30 FL_V32 FL_V93 FL_19H FL_21F FL_31F FL_41F FL_61V FL_66V  \\\n",
       "0      M      M      M      M      M      M      M      M      M      M   \n",
       "1      R      R      M      R      A      R      R      I      M      M   \n",
       "2      R      R      M      R      A      R      R      I      M      M   \n",
       "3      R      R      M      R      A      R      R      I      M      M   \n",
       "4      R      R      M      R      A      R      R      I      M      M   \n",
       "\n",
       "  FL_W01 FL_W31 FL_W61 FL_V95 FL_V02 FL_K14 FL_CE1 FL_CE2 FL_CE3  \n",
       "0      M      M      M      M      M      M      M      M      M  \n",
       "1      R      R      R      R      M      M      M      M      M  \n",
       "2      R      R      R      R      M      M      M      M      M  \n",
       "3      R      R      R      R      M      M      M      M      M  \n",
       "4      R      R      R      R      M      M      M      M      M  "
      ]
     },
     "execution_count": 262,
     "metadata": {},
     "output_type": "execute_result"
    }
   ],
   "source": [
    "money.head()"
   ]
  },
  {
   "cell_type": "code",
   "execution_count": 263,
   "metadata": {},
   "outputs": [],
   "source": [
    "cols = [c for c in money.columns if c.lower()[:2] != 'fl']"
   ]
  },
  {
   "cell_type": "code",
   "execution_count": 264,
   "metadata": {},
   "outputs": [],
   "source": [
    "money = money[cols]"
   ]
  },
  {
   "cell_type": "code",
   "execution_count": 265,
   "metadata": {},
   "outputs": [],
   "source": [
    "money_nums = money.drop(labels=['CENSUSID','CONUM','CSA','CBSA','NAME','STNAME','STABBR','SCHLEV','AGCHRT','GSLO','GSHI'], axis=1)"
   ]
  },
  {
   "cell_type": "code",
   "execution_count": 266,
   "metadata": {},
   "outputs": [],
   "source": [
    "df3 = df.merge(money_nums, left_on='District_ID', right_on='LEAID', how='inner')"
   ]
  },
  {
   "cell_type": "code",
   "execution_count": 267,
   "metadata": {},
   "outputs": [],
   "source": [
    "#Transforming third version of data with all features\n",
    "#Splitting data into features and target\n",
    "#Dropping all identifier columns including zipcode - as median income is based on zipcode and is a good stand-in\n",
    "target3 = df3['Target']\n",
    "features3 = df3.drop(['School_ID','School_Name','District_Name','District_ID','Zip','City','Target','LEAID'], axis=1)               "
   ]
  },
  {
   "cell_type": "code",
   "execution_count": 268,
   "metadata": {},
   "outputs": [],
   "source": [
    "#Performing train-test split\n",
    "X_train3, X_test3, y_train3, y_test3 = train_test_split(features3, target3, test_size=0.20, random_state=42)"
   ]
  },
  {
   "cell_type": "code",
   "execution_count": 269,
   "metadata": {
    "scrolled": true
   },
   "outputs": [],
   "source": [
    "#Join state helper dataframe with my training predictors and testing data\n",
    "X_train3 = pd.merge(state_averages, X_train3, how = 'inner', on='State').drop(['State','%_Proficient_Reading'], axis=1)\n",
    "X_test3 = pd.merge(state_averages, X_test3, how = 'inner', on='State').drop(['State','%_Proficient_Reading'], axis=1)"
   ]
  },
  {
   "cell_type": "code",
   "execution_count": 270,
   "metadata": {
    "scrolled": false
   },
   "outputs": [],
   "source": [
    "#Deal with nulls in training and testing data\n",
    "X_train3 = X_train3.fillna(value = {\"Level\":\"Other\"})\n",
    "X_test3 = X_test3.fillna(value = {'Level':'Other'})"
   ]
  },
  {
   "cell_type": "code",
   "execution_count": 271,
   "metadata": {},
   "outputs": [],
   "source": [
    "#Putting X back together\n",
    "X3 = pd.concat([X_train3, X_test3], axis=0)"
   ]
  },
  {
   "cell_type": "code",
   "execution_count": 272,
   "metadata": {},
   "outputs": [],
   "source": [
    "#Now need to one-hot encode  categorical columns\n",
    "#Isolate categorical columns\n",
    "cats3 = X3[['Density','Title_I', 'Virtual','Level']]\n",
    "#Transform data\n",
    "cats3 = pd.get_dummies(cats3)"
   ]
  },
  {
   "cell_type": "code",
   "execution_count": 273,
   "metadata": {},
   "outputs": [],
   "source": [
    "#Merge with main dataframe on key values\n",
    "X_numeric3 = pd.concat([X3, cats3], axis=1)"
   ]
  },
  {
   "cell_type": "code",
   "execution_count": 274,
   "metadata": {},
   "outputs": [],
   "source": [
    "#Drop non-numeric categorical columns \n",
    "X_numeric3 = X_numeric3.drop(['Density','Title_I', 'Virtual','Level'], axis=1)"
   ]
  },
  {
   "cell_type": "code",
   "execution_count": 275,
   "metadata": {},
   "outputs": [],
   "source": [
    "#Have to re-do the train test split\n",
    "X_train3, X_test3, y_train3, y_test3 = train_test_split(X_numeric3, target3, test_size=0.20, random_state=42)"
   ]
  },
  {
   "cell_type": "markdown",
   "metadata": {},
   "source": [
    "### Scaling Data Again"
   ]
  },
  {
   "cell_type": "code",
   "execution_count": 276,
   "metadata": {},
   "outputs": [],
   "source": [
    "scaler = StandardScaler()\n",
    "# Train our scaler on training data, then fit to testing\n",
    "X_train_scaled3 = scaler.fit_transform(X_train3, y=None)\n",
    "X_test_scaled3 = scaler.transform(X_test3)"
   ]
  },
  {
   "cell_type": "markdown",
   "metadata": {},
   "source": [
    "### Logistic Regression Model with All Features"
   ]
  },
  {
   "cell_type": "code",
   "execution_count": 277,
   "metadata": {},
   "outputs": [
    {
     "name": "stderr",
     "output_type": "stream",
     "text": [
      "/opt/anaconda3/envs/learn-env/lib/python3.8/site-packages/sklearn/linear_model/_logistic.py:762: ConvergenceWarning: lbfgs failed to converge (status=1):\n",
      "STOP: TOTAL NO. of ITERATIONS REACHED LIMIT.\n",
      "\n",
      "Increase the number of iterations (max_iter) or scale the data as shown in:\n",
      "    https://scikit-learn.org/stable/modules/preprocessing.html\n",
      "Please also refer to the documentation for alternative solver options:\n",
      "    https://scikit-learn.org/stable/modules/linear_model.html#logistic-regression\n",
      "  n_iter_i = _check_optimize_result(\n"
     ]
    },
    {
     "data": {
      "text/plain": [
       "LogisticRegression()"
      ]
     },
     "execution_count": 277,
     "metadata": {},
     "output_type": "execute_result"
    }
   ],
   "source": [
    "logreg = LogisticRegression()\n",
    "logreg.fit(X_train3, y_train3)"
   ]
  },
  {
   "cell_type": "code",
   "execution_count": 278,
   "metadata": {
    "scrolled": true
   },
   "outputs": [
    {
     "data": {
      "text/plain": [
       "0.5054636739515652"
      ]
     },
     "execution_count": 278,
     "metadata": {},
     "output_type": "execute_result"
    }
   ],
   "source": [
    "logreg.score(X_train_scaled3, y_train3)"
   ]
  },
  {
   "cell_type": "code",
   "execution_count": 279,
   "metadata": {
    "scrolled": false
   },
   "outputs": [
    {
     "data": {
      "text/plain": [
       "0.5013779527559055"
      ]
     },
     "execution_count": 279,
     "metadata": {},
     "output_type": "execute_result"
    }
   ],
   "source": [
    "logreg.score(X_test_scaled3, y_test3)"
   ]
  },
  {
   "cell_type": "markdown",
   "metadata": {},
   "source": [
    "### Adaboost Model with All Features"
   ]
  },
  {
   "cell_type": "code",
   "execution_count": 280,
   "metadata": {
    "scrolled": true
   },
   "outputs": [
    {
     "data": {
      "text/plain": [
       "AdaBoostClassifier()"
      ]
     },
     "execution_count": 280,
     "metadata": {},
     "output_type": "execute_result"
    }
   ],
   "source": [
    "ada3 = AdaBoostClassifier()\n",
    "ada3.fit(X_train_scaled3, y_train3)"
   ]
  },
  {
   "cell_type": "code",
   "execution_count": 281,
   "metadata": {},
   "outputs": [
    {
     "name": "stdout",
     "output_type": "stream",
     "text": [
      "Train Scores\n",
      "------------\n",
      "Accuracy: 0.5578854105138806\n",
      "Precision: 0.5566451609373442\n",
      "F1 Score: 0.4632484761563284\n",
      "ROC-AUC: 0.5773680016645019\n",
      "--------------------\n",
      "Test Scores\n",
      "-----------\n",
      "Accuracy: 0.5251968503937008\n",
      "Precision: 0.520555779605168\n",
      "F1 Score: 0.42074927953890484\n",
      "ROC-AUC: 0.5213578108494377\n"
     ]
    },
    {
     "data": {
      "image/png": "[encoded data removed]",
      "text/plain": [
       "<Figure size 432x288 with 2 Axes>"
      ]
     },
     "metadata": {
      "needs_background": "light"
     },
     "output_type": "display_data"
    }
   ],
   "source": [
    "fn.evaluate(ada3, X_train_scaled3, X_test_scaled3, y_train3, y_test3)"
   ]
  },
  {
   "cell_type": "markdown",
   "metadata": {},
   "source": [
    "### Random Forest Model with All Features"
   ]
  },
  {
   "cell_type": "code",
   "execution_count": 282,
   "metadata": {},
   "outputs": [],
   "source": [
    "rf3 = RandomForestClassifier(max_depth=5, n_estimators=100, random_state=0)\n",
    "rf3.fit(X_train_scaled3, y_train3)\n",
    "rf_preds3 = rf3.predict(X_test_scaled3) "
   ]
  },
  {
   "cell_type": "code",
   "execution_count": 283,
   "metadata": {
    "scrolled": true
   },
   "outputs": [
    {
     "name": "stdout",
     "output_type": "stream",
     "text": [
      "Train Scores\n",
      "------------\n",
      "Accuracy: 0.5701909824768655\n",
      "Precision: 0.5838008472602787\n",
      "F1 Score: 0.38114812189936215\n",
      "ROC-AUC: 0.6017098218087906\n",
      "--------------------\n",
      "Test Scores\n",
      "-----------\n",
      "Accuracy: 0.5295275590551181\n",
      "Precision: 0.5242261579252009\n",
      "F1 Score: 0.32562076749435664\n",
      "ROC-AUC: 0.5383912259988815\n"
     ]
    },
    {
     "data": {
      "image/png": "[encoded data removed]",
      "text/plain": [
       "<Figure size 432x288 with 2 Axes>"
      ]
     },
     "metadata": {
      "needs_background": "light"
     },
     "output_type": "display_data"
    }
   ],
   "source": [
    "fn.evaluate(rf3, X_train_scaled3, X_test_scaled3, y_train3, y_test3)"
   ]
  },
  {
   "cell_type": "markdown",
   "metadata": {},
   "source": [
    "### Feature Importances with All Features"
   ]
  },
  {
   "cell_type": "markdown",
   "metadata": {},
   "source": [
    "The models are performing about the same with all features included. Since the random forest model seems to be performing the best (although only by about a percentage point), I'm going to use this model to try and select some of the most promising features from the set."
   ]
  },
  {
   "cell_type": "code",
   "execution_count": 284,
   "metadata": {},
   "outputs": [],
   "source": [
    "importances3 = rf3.feature_importances_"
   ]
  },
  {
   "cell_type": "code",
   "execution_count": 285,
   "metadata": {},
   "outputs": [],
   "source": [
    "rf_importances3 = pd.DataFrame(index=X_test3.columns, data=importances3).sort_values(by=0,ascending=False)"
   ]
  },
  {
   "cell_type": "code",
   "execution_count": 286,
   "metadata": {},
   "outputs": [
    {
     "data": {
      "text/html": [
       "<div>\n",
       "<style scoped>\n",
       "    .dataframe tbody tr th:only-of-type {\n",
       "        vertical-align: middle;\n",
       "    }\n",
       "\n",
       "    .dataframe tbody tr th {\n",
       "        vertical-align: top;\n",
       "    }\n",
       "\n",
       "    .dataframe thead th {\n",
       "        text-align: right;\n",
       "    }\n",
       "</style>\n",
       "<table border=\"1\" class=\"dataframe\">\n",
       "  <thead>\n",
       "    <tr style=\"text-align: right;\">\n",
       "      <th></th>\n",
       "      <th>0</th>\n",
       "    </tr>\n",
       "  </thead>\n",
       "  <tbody>\n",
       "    <tr>\n",
       "      <th>FIPST</th>\n",
       "      <td>0.056994</td>\n",
       "    </tr>\n",
       "    <tr>\n",
       "      <th>Student_Teacher_Ratio</th>\n",
       "      <td>0.028855</td>\n",
       "    </tr>\n",
       "    <tr>\n",
       "      <th>Per_Pupil_Support</th>\n",
       "      <td>0.027732</td>\n",
       "    </tr>\n",
       "    <tr>\n",
       "      <th>State_Avg_Reading</th>\n",
       "      <td>0.026359</td>\n",
       "    </tr>\n",
       "    <tr>\n",
       "      <th>Total_Students</th>\n",
       "      <td>0.025134</td>\n",
       "    </tr>\n",
       "    <tr>\n",
       "      <th>Per_Pupil_Support_Staff</th>\n",
       "      <td>0.022630</td>\n",
       "    </tr>\n",
       "    <tr>\n",
       "      <th>Percent_Taxes</th>\n",
       "      <td>0.022301</td>\n",
       "    </tr>\n",
       "    <tr>\n",
       "      <th>Per_Pupil_Spending</th>\n",
       "      <td>0.020677</td>\n",
       "    </tr>\n",
       "    <tr>\n",
       "      <th>Zip_Population</th>\n",
       "      <td>0.020495</td>\n",
       "    </tr>\n",
       "    <tr>\n",
       "      <th>Per_Pupil_Salaries</th>\n",
       "      <td>0.018659</td>\n",
       "    </tr>\n",
       "    <tr>\n",
       "      <th>Median_Income</th>\n",
       "      <td>0.018337</td>\n",
       "    </tr>\n",
       "    <tr>\n",
       "      <th>TSTREV</th>\n",
       "      <td>0.016340</td>\n",
       "    </tr>\n",
       "    <tr>\n",
       "      <th>C17</th>\n",
       "      <td>0.014636</td>\n",
       "    </tr>\n",
       "    <tr>\n",
       "      <th>C16</th>\n",
       "      <td>0.013940</td>\n",
       "    </tr>\n",
       "    <tr>\n",
       "      <th>E08</th>\n",
       "      <td>0.013518</td>\n",
       "    </tr>\n",
       "    <tr>\n",
       "      <th>C04</th>\n",
       "      <td>0.012269</td>\n",
       "    </tr>\n",
       "    <tr>\n",
       "      <th>Property_Taxes</th>\n",
       "      <td>0.012258</td>\n",
       "    </tr>\n",
       "    <tr>\n",
       "      <th>V15</th>\n",
       "      <td>0.011261</td>\n",
       "    </tr>\n",
       "    <tr>\n",
       "      <th>C19</th>\n",
       "      <td>0.011261</td>\n",
       "    </tr>\n",
       "    <tr>\n",
       "      <th>TCAPOUT</th>\n",
       "      <td>0.011244</td>\n",
       "    </tr>\n",
       "    <tr>\n",
       "      <th>K09</th>\n",
       "      <td>0.010170</td>\n",
       "    </tr>\n",
       "    <tr>\n",
       "      <th>C05</th>\n",
       "      <td>0.009867</td>\n",
       "    </tr>\n",
       "    <tr>\n",
       "      <th>V93</th>\n",
       "      <td>0.009694</td>\n",
       "    </tr>\n",
       "    <tr>\n",
       "      <th>E17</th>\n",
       "      <td>0.009548</td>\n",
       "    </tr>\n",
       "    <tr>\n",
       "      <th>V91</th>\n",
       "      <td>0.009433</td>\n",
       "    </tr>\n",
       "    <tr>\n",
       "      <th>C09</th>\n",
       "      <td>0.009188</td>\n",
       "    </tr>\n",
       "    <tr>\n",
       "      <th>C10</th>\n",
       "      <td>0.009073</td>\n",
       "    </tr>\n",
       "    <tr>\n",
       "      <th>C14</th>\n",
       "      <td>0.008826</td>\n",
       "    </tr>\n",
       "    <tr>\n",
       "      <th>C01</th>\n",
       "      <td>0.008745</td>\n",
       "    </tr>\n",
       "    <tr>\n",
       "      <th>C12</th>\n",
       "      <td>0.008729</td>\n",
       "    </tr>\n",
       "    <tr>\n",
       "      <th>_31F</th>\n",
       "      <td>0.008579</td>\n",
       "    </tr>\n",
       "    <tr>\n",
       "      <th>F12</th>\n",
       "      <td>0.008372</td>\n",
       "    </tr>\n",
       "    <tr>\n",
       "      <th>V45</th>\n",
       "      <td>0.008316</td>\n",
       "    </tr>\n",
       "    <tr>\n",
       "      <th>W01</th>\n",
       "      <td>0.008207</td>\n",
       "    </tr>\n",
       "    <tr>\n",
       "      <th>T06</th>\n",
       "      <td>0.007853</td>\n",
       "    </tr>\n",
       "    <tr>\n",
       "      <th>TCURSSVC</th>\n",
       "      <td>0.007834</td>\n",
       "    </tr>\n",
       "    <tr>\n",
       "      <th>V13</th>\n",
       "      <td>0.007809</td>\n",
       "    </tr>\n",
       "    <tr>\n",
       "      <th>TFEDREV</th>\n",
       "      <td>0.007793</td>\n",
       "    </tr>\n",
       "    <tr>\n",
       "      <th>T09</th>\n",
       "      <td>0.007676</td>\n",
       "    </tr>\n",
       "    <tr>\n",
       "      <th>TLOCREV</th>\n",
       "      <td>0.007553</td>\n",
       "    </tr>\n",
       "    <tr>\n",
       "      <th>D11</th>\n",
       "      <td>0.007546</td>\n",
       "    </tr>\n",
       "    <tr>\n",
       "      <th>C13</th>\n",
       "      <td>0.007466</td>\n",
       "    </tr>\n",
       "    <tr>\n",
       "      <th>C25</th>\n",
       "      <td>0.007376</td>\n",
       "    </tr>\n",
       "    <tr>\n",
       "      <th>U50</th>\n",
       "      <td>0.007126</td>\n",
       "    </tr>\n",
       "    <tr>\n",
       "      <th>CE2</th>\n",
       "      <td>0.007085</td>\n",
       "    </tr>\n",
       "    <tr>\n",
       "      <th>TOTALREV</th>\n",
       "      <td>0.007012</td>\n",
       "    </tr>\n",
       "    <tr>\n",
       "      <th>U22</th>\n",
       "      <td>0.006975</td>\n",
       "    </tr>\n",
       "    <tr>\n",
       "      <th>I86</th>\n",
       "      <td>0.006974</td>\n",
       "    </tr>\n",
       "    <tr>\n",
       "      <th>V22</th>\n",
       "      <td>0.006927</td>\n",
       "    </tr>\n",
       "    <tr>\n",
       "      <th>C08</th>\n",
       "      <td>0.006760</td>\n",
       "    </tr>\n",
       "    <tr>\n",
       "      <th>Q11</th>\n",
       "      <td>0.006520</td>\n",
       "    </tr>\n",
       "    <tr>\n",
       "      <th>W61</th>\n",
       "      <td>0.006516</td>\n",
       "    </tr>\n",
       "    <tr>\n",
       "      <th>V12</th>\n",
       "      <td>0.006247</td>\n",
       "    </tr>\n",
       "    <tr>\n",
       "      <th>_41F</th>\n",
       "      <td>0.006234</td>\n",
       "    </tr>\n",
       "    <tr>\n",
       "      <th>V33</th>\n",
       "      <td>0.006181</td>\n",
       "    </tr>\n",
       "    <tr>\n",
       "      <th>Z34</th>\n",
       "      <td>0.006179</td>\n",
       "    </tr>\n",
       "    <tr>\n",
       "      <th>W31</th>\n",
       "      <td>0.006155</td>\n",
       "    </tr>\n",
       "    <tr>\n",
       "      <th>V24</th>\n",
       "      <td>0.006111</td>\n",
       "    </tr>\n",
       "    <tr>\n",
       "      <th>A13</th>\n",
       "      <td>0.006083</td>\n",
       "    </tr>\n",
       "    <tr>\n",
       "      <th>K10</th>\n",
       "      <td>0.005972</td>\n",
       "    </tr>\n",
       "    <tr>\n",
       "      <th>V11</th>\n",
       "      <td>0.005951</td>\n",
       "    </tr>\n",
       "    <tr>\n",
       "      <th>E13</th>\n",
       "      <td>0.005820</td>\n",
       "    </tr>\n",
       "    <tr>\n",
       "      <th>TCURINST</th>\n",
       "      <td>0.005689</td>\n",
       "    </tr>\n",
       "    <tr>\n",
       "      <th>D23</th>\n",
       "      <td>0.005680</td>\n",
       "    </tr>\n",
       "    <tr>\n",
       "      <th>T02</th>\n",
       "      <td>0.005655</td>\n",
       "    </tr>\n",
       "    <tr>\n",
       "      <th>MEMBERSCH</th>\n",
       "      <td>0.005555</td>\n",
       "    </tr>\n",
       "    <tr>\n",
       "      <th>V17</th>\n",
       "      <td>0.005478</td>\n",
       "    </tr>\n",
       "    <tr>\n",
       "      <th>TOTALEXP</th>\n",
       "      <td>0.005474</td>\n",
       "    </tr>\n",
       "    <tr>\n",
       "      <th>V21</th>\n",
       "      <td>0.005284</td>\n",
       "    </tr>\n",
       "    <tr>\n",
       "      <th>V75</th>\n",
       "      <td>0.005123</td>\n",
       "    </tr>\n",
       "    <tr>\n",
       "      <th>V14</th>\n",
       "      <td>0.005038</td>\n",
       "    </tr>\n",
       "    <tr>\n",
       "      <th>A08</th>\n",
       "      <td>0.004999</td>\n",
       "    </tr>\n",
       "    <tr>\n",
       "      <th>T15</th>\n",
       "      <td>0.004952</td>\n",
       "    </tr>\n",
       "    <tr>\n",
       "      <th>E07</th>\n",
       "      <td>0.004870</td>\n",
       "    </tr>\n",
       "    <tr>\n",
       "      <th>V29</th>\n",
       "      <td>0.004865</td>\n",
       "    </tr>\n",
       "    <tr>\n",
       "      <th>V37</th>\n",
       "      <td>0.004834</td>\n",
       "    </tr>\n",
       "    <tr>\n",
       "      <th>V18</th>\n",
       "      <td>0.004805</td>\n",
       "    </tr>\n",
       "    <tr>\n",
       "      <th>V90</th>\n",
       "      <td>0.004649</td>\n",
       "    </tr>\n",
       "    <tr>\n",
       "      <th>V02</th>\n",
       "      <td>0.004633</td>\n",
       "    </tr>\n",
       "    <tr>\n",
       "      <th>V70</th>\n",
       "      <td>0.004610</td>\n",
       "    </tr>\n",
       "    <tr>\n",
       "      <th>C20</th>\n",
       "      <td>0.004580</td>\n",
       "    </tr>\n",
       "    <tr>\n",
       "      <th>V40</th>\n",
       "      <td>0.004554</td>\n",
       "    </tr>\n",
       "    <tr>\n",
       "      <th>Z32</th>\n",
       "      <td>0.004544</td>\n",
       "    </tr>\n",
       "    <tr>\n",
       "      <th>Z36</th>\n",
       "      <td>0.004535</td>\n",
       "    </tr>\n",
       "    <tr>\n",
       "      <th>A11</th>\n",
       "      <td>0.004530</td>\n",
       "    </tr>\n",
       "    <tr>\n",
       "      <th>A09</th>\n",
       "      <td>0.004527</td>\n",
       "    </tr>\n",
       "    <tr>\n",
       "      <th>C11</th>\n",
       "      <td>0.004469</td>\n",
       "    </tr>\n",
       "    <tr>\n",
       "      <th>B10</th>\n",
       "      <td>0.004344</td>\n",
       "    </tr>\n",
       "    <tr>\n",
       "      <th>E09</th>\n",
       "      <td>0.004319</td>\n",
       "    </tr>\n",
       "    <tr>\n",
       "      <th>_21F</th>\n",
       "      <td>0.004310</td>\n",
       "    </tr>\n",
       "    <tr>\n",
       "      <th>Z33</th>\n",
       "      <td>0.004293</td>\n",
       "    </tr>\n",
       "    <tr>\n",
       "      <th>V38</th>\n",
       "      <td>0.004239</td>\n",
       "    </tr>\n",
       "    <tr>\n",
       "      <th>K14</th>\n",
       "      <td>0.003974</td>\n",
       "    </tr>\n",
       "    <tr>\n",
       "      <th>C36</th>\n",
       "      <td>0.003894</td>\n",
       "    </tr>\n",
       "    <tr>\n",
       "      <th>TCUROTH</th>\n",
       "      <td>0.003882</td>\n",
       "    </tr>\n",
       "    <tr>\n",
       "      <th>TCURELSC</th>\n",
       "      <td>0.003762</td>\n",
       "    </tr>\n",
       "    <tr>\n",
       "      <th>U30</th>\n",
       "      <td>0.003756</td>\n",
       "    </tr>\n",
       "    <tr>\n",
       "      <th>U97</th>\n",
       "      <td>0.003732</td>\n",
       "    </tr>\n",
       "    <tr>\n",
       "      <th>Z38</th>\n",
       "      <td>0.003721</td>\n",
       "    </tr>\n",
       "    <tr>\n",
       "      <th>CE1</th>\n",
       "      <td>0.003591</td>\n",
       "    </tr>\n",
       "    <tr>\n",
       "      <th>C15</th>\n",
       "      <td>0.003526</td>\n",
       "    </tr>\n",
       "    <tr>\n",
       "      <th>C35</th>\n",
       "      <td>0.003464</td>\n",
       "    </tr>\n",
       "    <tr>\n",
       "      <th>V23</th>\n",
       "      <td>0.003386</td>\n",
       "    </tr>\n",
       "    <tr>\n",
       "      <th>TNONELSE</th>\n",
       "      <td>0.003349</td>\n",
       "    </tr>\n",
       "    <tr>\n",
       "      <th>V10</th>\n",
       "      <td>0.003297</td>\n",
       "    </tr>\n",
       "    <tr>\n",
       "      <th>V30</th>\n",
       "      <td>0.003262</td>\n",
       "    </tr>\n",
       "    <tr>\n",
       "      <th>B13</th>\n",
       "      <td>0.003260</td>\n",
       "    </tr>\n",
       "    <tr>\n",
       "      <th>C06</th>\n",
       "      <td>0.003197</td>\n",
       "    </tr>\n",
       "    <tr>\n",
       "      <th>A07</th>\n",
       "      <td>0.003148</td>\n",
       "    </tr>\n",
       "    <tr>\n",
       "      <th>E11</th>\n",
       "      <td>0.003066</td>\n",
       "    </tr>\n",
       "    <tr>\n",
       "      <th>T99</th>\n",
       "      <td>0.003031</td>\n",
       "    </tr>\n",
       "    <tr>\n",
       "      <th>V80</th>\n",
       "      <td>0.002981</td>\n",
       "    </tr>\n",
       "    <tr>\n",
       "      <th>V92</th>\n",
       "      <td>0.002971</td>\n",
       "    </tr>\n",
       "    <tr>\n",
       "      <th>Z35</th>\n",
       "      <td>0.002867</td>\n",
       "    </tr>\n",
       "    <tr>\n",
       "      <th>_19H</th>\n",
       "      <td>0.002841</td>\n",
       "    </tr>\n",
       "    <tr>\n",
       "      <th>B11</th>\n",
       "      <td>0.002818</td>\n",
       "    </tr>\n",
       "    <tr>\n",
       "      <th>A40</th>\n",
       "      <td>0.002799</td>\n",
       "    </tr>\n",
       "    <tr>\n",
       "      <th>Z37</th>\n",
       "      <td>0.002775</td>\n",
       "    </tr>\n",
       "    <tr>\n",
       "      <th>A20</th>\n",
       "      <td>0.002770</td>\n",
       "    </tr>\n",
       "    <tr>\n",
       "      <th>V16</th>\n",
       "      <td>0.002730</td>\n",
       "    </tr>\n",
       "    <tr>\n",
       "      <th>A15</th>\n",
       "      <td>0.002323</td>\n",
       "    </tr>\n",
       "    <tr>\n",
       "      <th>G15</th>\n",
       "      <td>0.002201</td>\n",
       "    </tr>\n",
       "    <tr>\n",
       "      <th>Title_I_yes</th>\n",
       "      <td>0.002186</td>\n",
       "    </tr>\n",
       "    <tr>\n",
       "      <th>C07</th>\n",
       "      <td>0.002169</td>\n",
       "    </tr>\n",
       "    <tr>\n",
       "      <th>V95</th>\n",
       "      <td>0.002127</td>\n",
       "    </tr>\n",
       "    <tr>\n",
       "      <th>Level_High</th>\n",
       "      <td>0.002084</td>\n",
       "    </tr>\n",
       "    <tr>\n",
       "      <th>C38</th>\n",
       "      <td>0.002054</td>\n",
       "    </tr>\n",
       "    <tr>\n",
       "      <th>V32</th>\n",
       "      <td>0.001953</td>\n",
       "    </tr>\n",
       "    <tr>\n",
       "      <th>K11</th>\n",
       "      <td>0.001778</td>\n",
       "    </tr>\n",
       "    <tr>\n",
       "      <th>_66V</th>\n",
       "      <td>0.001626</td>\n",
       "    </tr>\n",
       "    <tr>\n",
       "      <th>Density_urban</th>\n",
       "      <td>0.001565</td>\n",
       "    </tr>\n",
       "    <tr>\n",
       "      <th>Level_Other</th>\n",
       "      <td>0.001528</td>\n",
       "    </tr>\n",
       "    <tr>\n",
       "      <th>V60</th>\n",
       "      <td>0.001519</td>\n",
       "    </tr>\n",
       "    <tr>\n",
       "      <th>U11</th>\n",
       "      <td>0.001481</td>\n",
       "    </tr>\n",
       "    <tr>\n",
       "      <th>Level_Middle</th>\n",
       "      <td>0.001455</td>\n",
       "    </tr>\n",
       "    <tr>\n",
       "      <th>C39</th>\n",
       "      <td>0.001275</td>\n",
       "    </tr>\n",
       "    <tr>\n",
       "      <th>Virtual_yes</th>\n",
       "      <td>0.001271</td>\n",
       "    </tr>\n",
       "    <tr>\n",
       "      <th>T40</th>\n",
       "      <td>0.001152</td>\n",
       "    </tr>\n",
       "    <tr>\n",
       "      <th>L12</th>\n",
       "      <td>0.001148</td>\n",
       "    </tr>\n",
       "    <tr>\n",
       "      <th>Title_I_no</th>\n",
       "      <td>0.001080</td>\n",
       "    </tr>\n",
       "    <tr>\n",
       "      <th>B12</th>\n",
       "      <td>0.001077</td>\n",
       "    </tr>\n",
       "    <tr>\n",
       "      <th>Density_midsize</th>\n",
       "      <td>0.001012</td>\n",
       "    </tr>\n",
       "    <tr>\n",
       "      <th>Level_Elementary</th>\n",
       "      <td>0.000791</td>\n",
       "    </tr>\n",
       "    <tr>\n",
       "      <th>C24</th>\n",
       "      <td>0.000729</td>\n",
       "    </tr>\n",
       "    <tr>\n",
       "      <th>_61V</th>\n",
       "      <td>0.000721</td>\n",
       "    </tr>\n",
       "    <tr>\n",
       "      <th>V65</th>\n",
       "      <td>0.000413</td>\n",
       "    </tr>\n",
       "    <tr>\n",
       "      <th>Virtual_no</th>\n",
       "      <td>0.000365</td>\n",
       "    </tr>\n",
       "    <tr>\n",
       "      <th>CENFILE</th>\n",
       "      <td>0.000250</td>\n",
       "    </tr>\n",
       "    <tr>\n",
       "      <th>WEIGHT</th>\n",
       "      <td>0.000000</td>\n",
       "    </tr>\n",
       "    <tr>\n",
       "      <th>M12</th>\n",
       "      <td>0.000000</td>\n",
       "    </tr>\n",
       "    <tr>\n",
       "      <th>YEAR</th>\n",
       "      <td>0.000000</td>\n",
       "    </tr>\n",
       "    <tr>\n",
       "      <th>V85</th>\n",
       "      <td>0.000000</td>\n",
       "    </tr>\n",
       "    <tr>\n",
       "      <th>CCDNF</th>\n",
       "      <td>0.000000</td>\n",
       "    </tr>\n",
       "    <tr>\n",
       "      <th>CE3</th>\n",
       "      <td>0.000000</td>\n",
       "    </tr>\n",
       "  </tbody>\n",
       "</table>\n",
       "</div>"
      ],
      "text/plain": [
       "                                0\n",
       "FIPST                    0.056994\n",
       "Student_Teacher_Ratio    0.028855\n",
       "Per_Pupil_Support        0.027732\n",
       "State_Avg_Reading        0.026359\n",
       "Total_Students           0.025134\n",
       "Per_Pupil_Support_Staff  0.022630\n",
       "Percent_Taxes            0.022301\n",
       "Per_Pupil_Spending       0.020677\n",
       "Zip_Population           0.020495\n",
       "Per_Pupil_Salaries       0.018659\n",
       "Median_Income            0.018337\n",
       "TSTREV                   0.016340\n",
       "C17                      0.014636\n",
       "C16                      0.013940\n",
       "E08                      0.013518\n",
       "C04                      0.012269\n",
       "Property_Taxes           0.012258\n",
       "V15                      0.011261\n",
       "C19                      0.011261\n",
       "TCAPOUT                  0.011244\n",
       "K09                      0.010170\n",
       "C05                      0.009867\n",
       "V93                      0.009694\n",
       "E17                      0.009548\n",
       "V91                      0.009433\n",
       "C09                      0.009188\n",
       "C10                      0.009073\n",
       "C14                      0.008826\n",
       "C01                      0.008745\n",
       "C12                      0.008729\n",
       "_31F                     0.008579\n",
       "F12                      0.008372\n",
       "V45                      0.008316\n",
       "W01                      0.008207\n",
       "T06                      0.007853\n",
       "TCURSSVC                 0.007834\n",
       "V13                      0.007809\n",
       "TFEDREV                  0.007793\n",
       "T09                      0.007676\n",
       "TLOCREV                  0.007553\n",
       "D11                      0.007546\n",
       "C13                      0.007466\n",
       "C25                      0.007376\n",
       "U50                      0.007126\n",
       "CE2                      0.007085\n",
       "TOTALREV                 0.007012\n",
       "U22                      0.006975\n",
       "I86                      0.006974\n",
       "V22                      0.006927\n",
       "C08                      0.006760\n",
       "Q11                      0.006520\n",
       "W61                      0.006516\n",
       "V12                      0.006247\n",
       "_41F                     0.006234\n",
       "V33                      0.006181\n",
       "Z34                      0.006179\n",
       "W31                      0.006155\n",
       "V24                      0.006111\n",
       "A13                      0.006083\n",
       "K10                      0.005972\n",
       "V11                      0.005951\n",
       "E13                      0.005820\n",
       "TCURINST                 0.005689\n",
       "D23                      0.005680\n",
       "T02                      0.005655\n",
       "MEMBERSCH                0.005555\n",
       "V17                      0.005478\n",
       "TOTALEXP                 0.005474\n",
       "V21                      0.005284\n",
       "V75                      0.005123\n",
       "V14                      0.005038\n",
       "A08                      0.004999\n",
       "T15                      0.004952\n",
       "E07                      0.004870\n",
       "V29                      0.004865\n",
       "V37                      0.004834\n",
       "V18                      0.004805\n",
       "V90                      0.004649\n",
       "V02                      0.004633\n",
       "V70                      0.004610\n",
       "C20                      0.004580\n",
       "V40                      0.004554\n",
       "Z32                      0.004544\n",
       "Z36                      0.004535\n",
       "A11                      0.004530\n",
       "A09                      0.004527\n",
       "C11                      0.004469\n",
       "B10                      0.004344\n",
       "E09                      0.004319\n",
       "_21F                     0.004310\n",
       "Z33                      0.004293\n",
       "V38                      0.004239\n",
       "K14                      0.003974\n",
       "C36                      0.003894\n",
       "TCUROTH                  0.003882\n",
       "TCURELSC                 0.003762\n",
       "U30                      0.003756\n",
       "U97                      0.003732\n",
       "Z38                      0.003721\n",
       "CE1                      0.003591\n",
       "C15                      0.003526\n",
       "C35                      0.003464\n",
       "V23                      0.003386\n",
       "TNONELSE                 0.003349\n",
       "V10                      0.003297\n",
       "V30                      0.003262\n",
       "B13                      0.003260\n",
       "C06                      0.003197\n",
       "A07                      0.003148\n",
       "E11                      0.003066\n",
       "T99                      0.003031\n",
       "V80                      0.002981\n",
       "V92                      0.002971\n",
       "Z35                      0.002867\n",
       "_19H                     0.002841\n",
       "B11                      0.002818\n",
       "A40                      0.002799\n",
       "Z37                      0.002775\n",
       "A20                      0.002770\n",
       "V16                      0.002730\n",
       "A15                      0.002323\n",
       "G15                      0.002201\n",
       "Title_I_yes              0.002186\n",
       "C07                      0.002169\n",
       "V95                      0.002127\n",
       "Level_High               0.002084\n",
       "C38                      0.002054\n",
       "V32                      0.001953\n",
       "K11                      0.001778\n",
       "_66V                     0.001626\n",
       "Density_urban            0.001565\n",
       "Level_Other              0.001528\n",
       "V60                      0.001519\n",
       "U11                      0.001481\n",
       "Level_Middle             0.001455\n",
       "C39                      0.001275\n",
       "Virtual_yes              0.001271\n",
       "T40                      0.001152\n",
       "L12                      0.001148\n",
       "Title_I_no               0.001080\n",
       "B12                      0.001077\n",
       "Density_midsize          0.001012\n",
       "Level_Elementary         0.000791\n",
       "C24                      0.000729\n",
       "_61V                     0.000721\n",
       "V65                      0.000413\n",
       "Virtual_no               0.000365\n",
       "CENFILE                  0.000250\n",
       "WEIGHT                   0.000000\n",
       "M12                      0.000000\n",
       "YEAR                     0.000000\n",
       "V85                      0.000000\n",
       "CCDNF                    0.000000\n",
       "CE3                      0.000000"
      ]
     },
     "execution_count": 286,
     "metadata": {},
     "output_type": "execute_result"
    }
   ],
   "source": [
    "rf_importances3"
   ]
  },
  {
   "cell_type": "code",
   "execution_count": 287,
   "metadata": {
    "scrolled": true
   },
   "outputs": [
    {
     "data": {
      "image/png": "[encoded data removed]",
      "text/plain": [
       "<Figure size 3600x3456 with 1 Axes>"
      ]
     },
     "metadata": {
      "needs_background": "light"
     },
     "output_type": "display_data"
    }
   ],
   "source": [
    "# plot feature importance\n",
    "rf_importances3.plot(kind='bar', legend=False, color='lightblue', figsize=(50,48));"
   ]
  },
  {
   "cell_type": "code",
   "execution_count": 288,
   "metadata": {},
   "outputs": [],
   "source": [
    "imp_features2 = rf_importances3.loc[rf_importances3[0] > 0.01]"
   ]
  },
  {
   "cell_type": "code",
   "execution_count": 289,
   "metadata": {
    "scrolled": true
   },
   "outputs": [],
   "source": [
    "imp_features2 = imp_features2.transpose()"
   ]
  },
  {
   "cell_type": "code",
   "execution_count": 290,
   "metadata": {
    "scrolled": true
   },
   "outputs": [
    {
     "data": {
      "text/html": [
       "<div>\n",
       "<style scoped>\n",
       "    .dataframe tbody tr th:only-of-type {\n",
       "        vertical-align: middle;\n",
       "    }\n",
       "\n",
       "    .dataframe tbody tr th {\n",
       "        vertical-align: top;\n",
       "    }\n",
       "\n",
       "    .dataframe thead th {\n",
       "        text-align: right;\n",
       "    }\n",
       "</style>\n",
       "<table border=\"1\" class=\"dataframe\">\n",
       "  <thead>\n",
       "    <tr style=\"text-align: right;\">\n",
       "      <th></th>\n",
       "      <th>FIPST</th>\n",
       "      <th>Student_Teacher_Ratio</th>\n",
       "      <th>Per_Pupil_Support</th>\n",
       "      <th>State_Avg_Reading</th>\n",
       "      <th>Total_Students</th>\n",
       "      <th>Per_Pupil_Support_Staff</th>\n",
       "      <th>Percent_Taxes</th>\n",
       "      <th>Per_Pupil_Spending</th>\n",
       "      <th>Zip_Population</th>\n",
       "      <th>Per_Pupil_Salaries</th>\n",
       "      <th>Median_Income</th>\n",
       "      <th>TSTREV</th>\n",
       "      <th>C17</th>\n",
       "      <th>C16</th>\n",
       "      <th>E08</th>\n",
       "      <th>C04</th>\n",
       "      <th>Property_Taxes</th>\n",
       "      <th>V15</th>\n",
       "      <th>C19</th>\n",
       "      <th>TCAPOUT</th>\n",
       "      <th>K09</th>\n",
       "    </tr>\n",
       "  </thead>\n",
       "  <tbody>\n",
       "    <tr>\n",
       "      <th>0</th>\n",
       "      <td>0.056994</td>\n",
       "      <td>0.028855</td>\n",
       "      <td>0.027732</td>\n",
       "      <td>0.026359</td>\n",
       "      <td>0.025134</td>\n",
       "      <td>0.02263</td>\n",
       "      <td>0.022301</td>\n",
       "      <td>0.020677</td>\n",
       "      <td>0.020495</td>\n",
       "      <td>0.018659</td>\n",
       "      <td>0.018337</td>\n",
       "      <td>0.01634</td>\n",
       "      <td>0.014636</td>\n",
       "      <td>0.01394</td>\n",
       "      <td>0.013518</td>\n",
       "      <td>0.012269</td>\n",
       "      <td>0.012258</td>\n",
       "      <td>0.011261</td>\n",
       "      <td>0.011261</td>\n",
       "      <td>0.011244</td>\n",
       "      <td>0.01017</td>\n",
       "    </tr>\n",
       "  </tbody>\n",
       "</table>\n",
       "</div>"
      ],
      "text/plain": [
       "      FIPST  Student_Teacher_Ratio  Per_Pupil_Support  State_Avg_Reading  \\\n",
       "0  0.056994               0.028855           0.027732           0.026359   \n",
       "\n",
       "   Total_Students  Per_Pupil_Support_Staff  Percent_Taxes  Per_Pupil_Spending  \\\n",
       "0        0.025134                  0.02263       0.022301            0.020677   \n",
       "\n",
       "   Zip_Population  Per_Pupil_Salaries  Median_Income   TSTREV       C17  \\\n",
       "0        0.020495            0.018659       0.018337  0.01634  0.014636   \n",
       "\n",
       "       C16       E08       C04  Property_Taxes       V15       C19   TCAPOUT  \\\n",
       "0  0.01394  0.013518  0.012269        0.012258  0.011261  0.011261  0.011244   \n",
       "\n",
       "       K09  \n",
       "0  0.01017  "
      ]
     },
     "execution_count": 290,
     "metadata": {},
     "output_type": "execute_result"
    }
   ],
   "source": [
    "imp_features2"
   ]
  },
  {
   "cell_type": "code",
   "execution_count": 291,
   "metadata": {},
   "outputs": [],
   "source": [
    "importants_list = imp_features2.columns.values.tolist()"
   ]
  },
  {
   "cell_type": "code",
   "execution_count": 292,
   "metadata": {},
   "outputs": [
    {
     "data": {
      "text/plain": [
       "['FIPST',\n",
       " 'Student_Teacher_Ratio',\n",
       " 'Per_Pupil_Support',\n",
       " 'State_Avg_Reading',\n",
       " 'Total_Students',\n",
       " 'Per_Pupil_Support_Staff',\n",
       " 'Percent_Taxes',\n",
       " 'Per_Pupil_Spending',\n",
       " 'Zip_Population',\n",
       " 'Per_Pupil_Salaries',\n",
       " 'Median_Income',\n",
       " 'TSTREV',\n",
       " 'C17',\n",
       " 'C16',\n",
       " 'E08',\n",
       " 'C04',\n",
       " 'Property_Taxes',\n",
       " 'V15',\n",
       " 'C19',\n",
       " 'TCAPOUT',\n",
       " 'K09']"
      ]
     },
     "execution_count": 292,
     "metadata": {},
     "output_type": "execute_result"
    }
   ],
   "source": [
    "importants_list"
   ]
  },
  {
   "cell_type": "code",
   "execution_count": 293,
   "metadata": {},
   "outputs": [],
   "source": [
    "df4 = df3[[c for c in df3.columns if c in importants_list]]"
   ]
  },
  {
   "cell_type": "code",
   "execution_count": 294,
   "metadata": {
    "scrolled": false
   },
   "outputs": [
    {
     "data": {
      "text/html": [
       "<div>\n",
       "<style scoped>\n",
       "    .dataframe tbody tr th:only-of-type {\n",
       "        vertical-align: middle;\n",
       "    }\n",
       "\n",
       "    .dataframe tbody tr th {\n",
       "        vertical-align: top;\n",
       "    }\n",
       "\n",
       "    .dataframe thead th {\n",
       "        text-align: right;\n",
       "    }\n",
       "</style>\n",
       "<table border=\"1\" class=\"dataframe\">\n",
       "  <thead>\n",
       "    <tr style=\"text-align: right;\">\n",
       "      <th></th>\n",
       "      <th>Zip_Population</th>\n",
       "      <th>Median_Income</th>\n",
       "      <th>Property_Taxes</th>\n",
       "      <th>Percent_Taxes</th>\n",
       "      <th>Per_Pupil_Spending</th>\n",
       "      <th>Per_Pupil_Support</th>\n",
       "      <th>Per_Pupil_Support_Staff</th>\n",
       "      <th>Per_Pupil_Salaries</th>\n",
       "      <th>Total_Students</th>\n",
       "      <th>Student_Teacher_Ratio</th>\n",
       "      <th>FIPST</th>\n",
       "      <th>C16</th>\n",
       "      <th>C17</th>\n",
       "      <th>C19</th>\n",
       "      <th>TSTREV</th>\n",
       "      <th>C04</th>\n",
       "      <th>E08</th>\n",
       "      <th>TCAPOUT</th>\n",
       "      <th>K09</th>\n",
       "      <th>V15</th>\n",
       "    </tr>\n",
       "  </thead>\n",
       "  <tbody>\n",
       "    <tr>\n",
       "      <th>0</th>\n",
       "      <td>63864</td>\n",
       "      <td>41566</td>\n",
       "      <td>7637</td>\n",
       "      <td>8.7</td>\n",
       "      <td>8600</td>\n",
       "      <td>512</td>\n",
       "      <td>241</td>\n",
       "      <td>3357</td>\n",
       "      <td>206</td>\n",
       "      <td>11.31</td>\n",
       "      <td>37</td>\n",
       "      <td>4000</td>\n",
       "      <td>0</td>\n",
       "      <td>0</td>\n",
       "      <td>1506000</td>\n",
       "      <td>0</td>\n",
       "      <td>9000</td>\n",
       "      <td>18000</td>\n",
       "      <td>18000</td>\n",
       "      <td>0</td>\n",
       "    </tr>\n",
       "    <tr>\n",
       "      <th>1</th>\n",
       "      <td>63864</td>\n",
       "      <td>41566</td>\n",
       "      <td>2411346</td>\n",
       "      <td>24.4</td>\n",
       "      <td>15793</td>\n",
       "      <td>969</td>\n",
       "      <td>1189</td>\n",
       "      <td>5023</td>\n",
       "      <td>439</td>\n",
       "      <td>11.31</td>\n",
       "      <td>37</td>\n",
       "      <td>1305000</td>\n",
       "      <td>0</td>\n",
       "      <td>0</td>\n",
       "      <td>213378000</td>\n",
       "      <td>0</td>\n",
       "      <td>4900000</td>\n",
       "      <td>24800000</td>\n",
       "      <td>127000</td>\n",
       "      <td>3019000</td>\n",
       "    </tr>\n",
       "    <tr>\n",
       "      <th>2</th>\n",
       "      <td>63864</td>\n",
       "      <td>41566</td>\n",
       "      <td>15097</td>\n",
       "      <td>18.2</td>\n",
       "      <td>12453</td>\n",
       "      <td>588</td>\n",
       "      <td>825</td>\n",
       "      <td>4813</td>\n",
       "      <td>363</td>\n",
       "      <td>11.86</td>\n",
       "      <td>37</td>\n",
       "      <td>1305000</td>\n",
       "      <td>0</td>\n",
       "      <td>0</td>\n",
       "      <td>213378000</td>\n",
       "      <td>0</td>\n",
       "      <td>4900000</td>\n",
       "      <td>24800000</td>\n",
       "      <td>127000</td>\n",
       "      <td>3019000</td>\n",
       "    </tr>\n",
       "    <tr>\n",
       "      <th>3</th>\n",
       "      <td>63864</td>\n",
       "      <td>41566</td>\n",
       "      <td>0</td>\n",
       "      <td>46.0</td>\n",
       "      <td>14732</td>\n",
       "      <td>786</td>\n",
       "      <td>738</td>\n",
       "      <td>5595</td>\n",
       "      <td>1869</td>\n",
       "      <td>16.78</td>\n",
       "      <td>37</td>\n",
       "      <td>1305000</td>\n",
       "      <td>0</td>\n",
       "      <td>0</td>\n",
       "      <td>213378000</td>\n",
       "      <td>0</td>\n",
       "      <td>4900000</td>\n",
       "      <td>24800000</td>\n",
       "      <td>127000</td>\n",
       "      <td>3019000</td>\n",
       "    </tr>\n",
       "    <tr>\n",
       "      <th>4</th>\n",
       "      <td>63864</td>\n",
       "      <td>41566</td>\n",
       "      <td>0</td>\n",
       "      <td>0.0</td>\n",
       "      <td>0</td>\n",
       "      <td>0</td>\n",
       "      <td>0</td>\n",
       "      <td>0</td>\n",
       "      <td>339</td>\n",
       "      <td>10.59</td>\n",
       "      <td>37</td>\n",
       "      <td>1305000</td>\n",
       "      <td>0</td>\n",
       "      <td>0</td>\n",
       "      <td>213378000</td>\n",
       "      <td>0</td>\n",
       "      <td>4900000</td>\n",
       "      <td>24800000</td>\n",
       "      <td>127000</td>\n",
       "      <td>3019000</td>\n",
       "    </tr>\n",
       "  </tbody>\n",
       "</table>\n",
       "</div>"
      ],
      "text/plain": [
       "   Zip_Population  Median_Income  Property_Taxes  Percent_Taxes  \\\n",
       "0           63864          41566            7637            8.7   \n",
       "1           63864          41566         2411346           24.4   \n",
       "2           63864          41566           15097           18.2   \n",
       "3           63864          41566               0           46.0   \n",
       "4           63864          41566               0            0.0   \n",
       "\n",
       "   Per_Pupil_Spending  Per_Pupil_Support  Per_Pupil_Support_Staff  \\\n",
       "0                8600                512                      241   \n",
       "1               15793                969                     1189   \n",
       "2               12453                588                      825   \n",
       "3               14732                786                      738   \n",
       "4                   0                  0                        0   \n",
       "\n",
       "   Per_Pupil_Salaries  Total_Students  Student_Teacher_Ratio  FIPST      C16  \\\n",
       "0                3357             206                  11.31     37     4000   \n",
       "1                5023             439                  11.31     37  1305000   \n",
       "2                4813             363                  11.86     37  1305000   \n",
       "3                5595            1869                  16.78     37  1305000   \n",
       "4                   0             339                  10.59     37  1305000   \n",
       "\n",
       "   C17  C19     TSTREV  C04      E08   TCAPOUT     K09      V15  \n",
       "0    0    0    1506000    0     9000     18000   18000        0  \n",
       "1    0    0  213378000    0  4900000  24800000  127000  3019000  \n",
       "2    0    0  213378000    0  4900000  24800000  127000  3019000  \n",
       "3    0    0  213378000    0  4900000  24800000  127000  3019000  \n",
       "4    0    0  213378000    0  4900000  24800000  127000  3019000  "
      ]
     },
     "execution_count": 294,
     "metadata": {},
     "output_type": "execute_result"
    }
   ],
   "source": [
    "df4.head()"
   ]
  },
  {
   "cell_type": "code",
   "execution_count": 302,
   "metadata": {},
   "outputs": [
    {
     "data": {
      "text/plain": [
       "(25396, 20)"
      ]
     },
     "execution_count": 302,
     "metadata": {},
     "output_type": "execute_result"
    }
   ],
   "source": [
    "df4.shape"
   ]
  },
  {
   "cell_type": "code",
   "execution_count": 296,
   "metadata": {},
   "outputs": [],
   "source": [
    "#Train-test split for final model\n",
    "X_train4, X_test4, y_train4, y_test4 = train_test_split(df4, target3, test_size=0.20, random_state=42)"
   ]
  },
  {
   "cell_type": "code",
   "execution_count": 297,
   "metadata": {},
   "outputs": [],
   "source": [
    "scaler = StandardScaler()\n",
    "# Train our scaler on training data, then fit to testing\n",
    "X_train_scaled4 = scaler.fit_transform(X_train4, y=None)\n",
    "X_test_scaled4 = scaler.transform(X_test4)"
   ]
  },
  {
   "cell_type": "markdown",
   "metadata": {},
   "source": [
    "### Random Forest with Selected Features"
   ]
  },
  {
   "cell_type": "code",
   "execution_count": 298,
   "metadata": {},
   "outputs": [],
   "source": [
    "rf4 = RandomForestClassifier(max_depth=5, n_estimators=100, random_state=0)\n",
    "rf4.fit(X_train_scaled4, y_train4)\n",
    "rf_preds4 = rf4.predict(X_test_scaled4) "
   ]
  },
  {
   "cell_type": "code",
   "execution_count": 299,
   "metadata": {
    "scrolled": false
   },
   "outputs": [
    {
     "name": "stdout",
     "output_type": "stream",
     "text": [
      "Train Scores\n",
      "------------\n",
      "Accuracy: 0.6993502658003544\n",
      "Precision: 0.7001998887552309\n",
      "F1 Score: 0.6918886198547215\n",
      "ROC-AUC: 0.7648599997652047\n",
      "--------------------\n",
      "Test Scores\n",
      "-----------\n",
      "Accuracy: 0.6952755905511812\n",
      "Precision: 0.6960533169781541\n",
      "F1 Score: 0.6861313868613138\n",
      "ROC-AUC: 0.7542908407382093\n"
     ]
    },
    {
     "data": {
      "image/png": "[encoded data removed]",
      "text/plain": [
       "<Figure size 432x288 with 2 Axes>"
      ]
     },
     "metadata": {
      "needs_background": "light"
     },
     "output_type": "display_data"
    }
   ],
   "source": [
    "fn.evaluate(rf4, X_train_scaled4, X_test_scaled4, y_train4, y_test4)"
   ]
  },
  {
   "cell_type": "markdown",
   "metadata": {},
   "source": [
    "### AdaBoost with Selected Features"
   ]
  },
  {
   "cell_type": "code",
   "execution_count": 300,
   "metadata": {
    "scrolled": true
   },
   "outputs": [
    {
     "data": {
      "text/plain": [
       "AdaBoostClassifier()"
      ]
     },
     "execution_count": 300,
     "metadata": {},
     "output_type": "execute_result"
    }
   ],
   "source": [
    "ada4 = AdaBoostClassifier()\n",
    "ada4.fit(X_train_scaled4, y_train4)"
   ]
  },
  {
   "cell_type": "code",
   "execution_count": 301,
   "metadata": {
    "scrolled": true
   },
   "outputs": [
    {
     "name": "stdout",
     "output_type": "stream",
     "text": [
      "Train Scores\n",
      "------------\n",
      "Accuracy: 0.6928037015160464\n",
      "Precision: 0.6925795761302848\n",
      "F1 Score: 0.6741502636662664\n",
      "ROC-AUC: 0.7567943620174844\n",
      "--------------------\n",
      "Test Scores\n",
      "-----------\n",
      "Accuracy: 0.6893700787401574\n",
      "Precision: 0.6891234239218648\n",
      "F1 Score: 0.6697362913352868\n",
      "ROC-AUC: 0.746894845585037\n"
     ]
    },
    {
     "data": {
      "image/png": "[encoded data removed]",
      "text/plain": [
       "<Figure size 432x288 with 2 Axes>"
      ]
     },
     "metadata": {
      "needs_background": "light"
     },
     "output_type": "display_data"
    }
   ],
   "source": [
    "fn.evaluate(ada4, X_train_scaled4, X_test_scaled4, y_train4, y_test4)"
   ]
  },
  {
   "cell_type": "code",
   "execution_count": 317,
   "metadata": {},
   "outputs": [],
   "source": [
    "final_model = df4.rename({'FIPST':'State','C16':'Fed$_SchoolSafety','C19':'Fed$_CTE','TSTREV':'Total_State_Revenue','C04':'State$_StaffImprove','E08':'Superint_Expenditures','TCAPOUT':'Capital_Outlay','K09':'$_Equipment','V15':'Superint_Salaries','C17':'$_SchoolSafety'}, axis=1\n",
    "                         )"
   ]
  },
  {
   "cell_type": "code",
   "execution_count": 318,
   "metadata": {
    "scrolled": false
   },
   "outputs": [
    {
     "data": {
      "text/html": [
       "<div>\n",
       "<style scoped>\n",
       "    .dataframe tbody tr th:only-of-type {\n",
       "        vertical-align: middle;\n",
       "    }\n",
       "\n",
       "    .dataframe tbody tr th {\n",
       "        vertical-align: top;\n",
       "    }\n",
       "\n",
       "    .dataframe thead th {\n",
       "        text-align: right;\n",
       "    }\n",
       "</style>\n",
       "<table border=\"1\" class=\"dataframe\">\n",
       "  <thead>\n",
       "    <tr style=\"text-align: right;\">\n",
       "      <th></th>\n",
       "      <th>Zip_Population</th>\n",
       "      <th>Median_Income</th>\n",
       "      <th>Property_Taxes</th>\n",
       "      <th>Percent_Taxes</th>\n",
       "      <th>Per_Pupil_Spending</th>\n",
       "      <th>Per_Pupil_Support</th>\n",
       "      <th>Per_Pupil_Support_Staff</th>\n",
       "      <th>Per_Pupil_Salaries</th>\n",
       "      <th>Total_Students</th>\n",
       "      <th>Student_Teacher_Ratio</th>\n",
       "      <th>State</th>\n",
       "      <th>Fed$_SchoolSafety</th>\n",
       "      <th>$_SchoolSafety</th>\n",
       "      <th>Fed$_CTE</th>\n",
       "      <th>Total_State_Revenue</th>\n",
       "      <th>State$_StaffImprove</th>\n",
       "      <th>Superint_Expenditures</th>\n",
       "      <th>Capital_Outlay</th>\n",
       "      <th>$_Equipment</th>\n",
       "      <th>Superint_Salaries</th>\n",
       "    </tr>\n",
       "  </thead>\n",
       "  <tbody>\n",
       "    <tr>\n",
       "      <th>0</th>\n",
       "      <td>63864</td>\n",
       "      <td>41566</td>\n",
       "      <td>7637</td>\n",
       "      <td>8.7</td>\n",
       "      <td>8600</td>\n",
       "      <td>512</td>\n",
       "      <td>241</td>\n",
       "      <td>3357</td>\n",
       "      <td>206</td>\n",
       "      <td>11.31</td>\n",
       "      <td>37</td>\n",
       "      <td>4000</td>\n",
       "      <td>0</td>\n",
       "      <td>0</td>\n",
       "      <td>1506000</td>\n",
       "      <td>0</td>\n",
       "      <td>9000</td>\n",
       "      <td>18000</td>\n",
       "      <td>18000</td>\n",
       "      <td>0</td>\n",
       "    </tr>\n",
       "    <tr>\n",
       "      <th>1</th>\n",
       "      <td>63864</td>\n",
       "      <td>41566</td>\n",
       "      <td>2411346</td>\n",
       "      <td>24.4</td>\n",
       "      <td>15793</td>\n",
       "      <td>969</td>\n",
       "      <td>1189</td>\n",
       "      <td>5023</td>\n",
       "      <td>439</td>\n",
       "      <td>11.31</td>\n",
       "      <td>37</td>\n",
       "      <td>1305000</td>\n",
       "      <td>0</td>\n",
       "      <td>0</td>\n",
       "      <td>213378000</td>\n",
       "      <td>0</td>\n",
       "      <td>4900000</td>\n",
       "      <td>24800000</td>\n",
       "      <td>127000</td>\n",
       "      <td>3019000</td>\n",
       "    </tr>\n",
       "    <tr>\n",
       "      <th>2</th>\n",
       "      <td>63864</td>\n",
       "      <td>41566</td>\n",
       "      <td>15097</td>\n",
       "      <td>18.2</td>\n",
       "      <td>12453</td>\n",
       "      <td>588</td>\n",
       "      <td>825</td>\n",
       "      <td>4813</td>\n",
       "      <td>363</td>\n",
       "      <td>11.86</td>\n",
       "      <td>37</td>\n",
       "      <td>1305000</td>\n",
       "      <td>0</td>\n",
       "      <td>0</td>\n",
       "      <td>213378000</td>\n",
       "      <td>0</td>\n",
       "      <td>4900000</td>\n",
       "      <td>24800000</td>\n",
       "      <td>127000</td>\n",
       "      <td>3019000</td>\n",
       "    </tr>\n",
       "    <tr>\n",
       "      <th>3</th>\n",
       "      <td>63864</td>\n",
       "      <td>41566</td>\n",
       "      <td>0</td>\n",
       "      <td>46.0</td>\n",
       "      <td>14732</td>\n",
       "      <td>786</td>\n",
       "      <td>738</td>\n",
       "      <td>5595</td>\n",
       "      <td>1869</td>\n",
       "      <td>16.78</td>\n",
       "      <td>37</td>\n",
       "      <td>1305000</td>\n",
       "      <td>0</td>\n",
       "      <td>0</td>\n",
       "      <td>213378000</td>\n",
       "      <td>0</td>\n",
       "      <td>4900000</td>\n",
       "      <td>24800000</td>\n",
       "      <td>127000</td>\n",
       "      <td>3019000</td>\n",
       "    </tr>\n",
       "    <tr>\n",
       "      <th>4</th>\n",
       "      <td>63864</td>\n",
       "      <td>41566</td>\n",
       "      <td>0</td>\n",
       "      <td>0.0</td>\n",
       "      <td>0</td>\n",
       "      <td>0</td>\n",
       "      <td>0</td>\n",
       "      <td>0</td>\n",
       "      <td>339</td>\n",
       "      <td>10.59</td>\n",
       "      <td>37</td>\n",
       "      <td>1305000</td>\n",
       "      <td>0</td>\n",
       "      <td>0</td>\n",
       "      <td>213378000</td>\n",
       "      <td>0</td>\n",
       "      <td>4900000</td>\n",
       "      <td>24800000</td>\n",
       "      <td>127000</td>\n",
       "      <td>3019000</td>\n",
       "    </tr>\n",
       "  </tbody>\n",
       "</table>\n",
       "</div>"
      ],
      "text/plain": [
       "   Zip_Population  Median_Income  Property_Taxes  Percent_Taxes  \\\n",
       "0           63864          41566            7637            8.7   \n",
       "1           63864          41566         2411346           24.4   \n",
       "2           63864          41566           15097           18.2   \n",
       "3           63864          41566               0           46.0   \n",
       "4           63864          41566               0            0.0   \n",
       "\n",
       "   Per_Pupil_Spending  Per_Pupil_Support  Per_Pupil_Support_Staff  \\\n",
       "0                8600                512                      241   \n",
       "1               15793                969                     1189   \n",
       "2               12453                588                      825   \n",
       "3               14732                786                      738   \n",
       "4                   0                  0                        0   \n",
       "\n",
       "   Per_Pupil_Salaries  Total_Students  Student_Teacher_Ratio  State  \\\n",
       "0                3357             206                  11.31     37   \n",
       "1                5023             439                  11.31     37   \n",
       "2                4813             363                  11.86     37   \n",
       "3                5595            1869                  16.78     37   \n",
       "4                   0             339                  10.59     37   \n",
       "\n",
       "   Fed$_SchoolSafety  $_SchoolSafety  Fed$_CTE  Total_State_Revenue  \\\n",
       "0               4000               0         0              1506000   \n",
       "1            1305000               0         0            213378000   \n",
       "2            1305000               0         0            213378000   \n",
       "3            1305000               0         0            213378000   \n",
       "4            1305000               0         0            213378000   \n",
       "\n",
       "   State$_StaffImprove  Superint_Expenditures  Capital_Outlay  $_Equipment  \\\n",
       "0                    0                   9000           18000        18000   \n",
       "1                    0                4900000        24800000       127000   \n",
       "2                    0                4900000        24800000       127000   \n",
       "3                    0                4900000        24800000       127000   \n",
       "4                    0                4900000        24800000       127000   \n",
       "\n",
       "   Superint_Salaries  \n",
       "0                  0  \n",
       "1            3019000  \n",
       "2            3019000  \n",
       "3            3019000  \n",
       "4            3019000  "
      ]
     },
     "execution_count": 318,
     "metadata": {},
     "output_type": "execute_result"
    }
   ],
   "source": [
    "final_model.head()"
   ]
  },
  {
   "cell_type": "markdown",
   "metadata": {},
   "source": [
    "### Importances from Final Model"
   ]
  },
  {
   "cell_type": "code",
   "execution_count": 319,
   "metadata": {},
   "outputs": [],
   "source": [
    "final_importances = rf4.feature_importances_"
   ]
  },
  {
   "cell_type": "code",
   "execution_count": 320,
   "metadata": {},
   "outputs": [],
   "source": [
    "rf_importances4 = pd.DataFrame(index=final_model.columns, data=final_importances).sort_values(by=0,ascending=False)"
   ]
  },
  {
   "cell_type": "code",
   "execution_count": 321,
   "metadata": {},
   "outputs": [
    {
     "data": {
      "text/html": [
       "<div>\n",
       "<style scoped>\n",
       "    .dataframe tbody tr th:only-of-type {\n",
       "        vertical-align: middle;\n",
       "    }\n",
       "\n",
       "    .dataframe tbody tr th {\n",
       "        vertical-align: top;\n",
       "    }\n",
       "\n",
       "    .dataframe thead th {\n",
       "        text-align: right;\n",
       "    }\n",
       "</style>\n",
       "<table border=\"1\" class=\"dataframe\">\n",
       "  <thead>\n",
       "    <tr style=\"text-align: right;\">\n",
       "      <th></th>\n",
       "      <th>0</th>\n",
       "    </tr>\n",
       "  </thead>\n",
       "  <tbody>\n",
       "    <tr>\n",
       "      <th>State</th>\n",
       "      <td>0.202026</td>\n",
       "    </tr>\n",
       "    <tr>\n",
       "      <th>Student_Teacher_Ratio</th>\n",
       "      <td>0.163056</td>\n",
       "    </tr>\n",
       "    <tr>\n",
       "      <th>$_Equipment</th>\n",
       "      <td>0.120359</td>\n",
       "    </tr>\n",
       "    <tr>\n",
       "      <th>Superint_Salaries</th>\n",
       "      <td>0.083847</td>\n",
       "    </tr>\n",
       "    <tr>\n",
       "      <th>Total_State_Revenue</th>\n",
       "      <td>0.080139</td>\n",
       "    </tr>\n",
       "    <tr>\n",
       "      <th>Capital_Outlay</th>\n",
       "      <td>0.058783</td>\n",
       "    </tr>\n",
       "    <tr>\n",
       "      <th>Total_Students</th>\n",
       "      <td>0.050262</td>\n",
       "    </tr>\n",
       "    <tr>\n",
       "      <th>Fed$_CTE</th>\n",
       "      <td>0.049467</td>\n",
       "    </tr>\n",
       "    <tr>\n",
       "      <th>Fed$_SchoolSafety</th>\n",
       "      <td>0.048026</td>\n",
       "    </tr>\n",
       "    <tr>\n",
       "      <th>Superint_Expenditures</th>\n",
       "      <td>0.041242</td>\n",
       "    </tr>\n",
       "    <tr>\n",
       "      <th>$_SchoolSafety</th>\n",
       "      <td>0.035943</td>\n",
       "    </tr>\n",
       "    <tr>\n",
       "      <th>State$_StaffImprove</th>\n",
       "      <td>0.029563</td>\n",
       "    </tr>\n",
       "    <tr>\n",
       "      <th>Zip_Population</th>\n",
       "      <td>0.019467</td>\n",
       "    </tr>\n",
       "    <tr>\n",
       "      <th>Median_Income</th>\n",
       "      <td>0.003405</td>\n",
       "    </tr>\n",
       "    <tr>\n",
       "      <th>Per_Pupil_Salaries</th>\n",
       "      <td>0.002845</td>\n",
       "    </tr>\n",
       "    <tr>\n",
       "      <th>Property_Taxes</th>\n",
       "      <td>0.002613</td>\n",
       "    </tr>\n",
       "    <tr>\n",
       "      <th>Per_Pupil_Support_Staff</th>\n",
       "      <td>0.002579</td>\n",
       "    </tr>\n",
       "    <tr>\n",
       "      <th>Per_Pupil_Support</th>\n",
       "      <td>0.002415</td>\n",
       "    </tr>\n",
       "    <tr>\n",
       "      <th>Percent_Taxes</th>\n",
       "      <td>0.002047</td>\n",
       "    </tr>\n",
       "    <tr>\n",
       "      <th>Per_Pupil_Spending</th>\n",
       "      <td>0.001918</td>\n",
       "    </tr>\n",
       "  </tbody>\n",
       "</table>\n",
       "</div>"
      ],
      "text/plain": [
       "                                0\n",
       "State                    0.202026\n",
       "Student_Teacher_Ratio    0.163056\n",
       "$_Equipment              0.120359\n",
       "Superint_Salaries        0.083847\n",
       "Total_State_Revenue      0.080139\n",
       "Capital_Outlay           0.058783\n",
       "Total_Students           0.050262\n",
       "Fed$_CTE                 0.049467\n",
       "Fed$_SchoolSafety        0.048026\n",
       "Superint_Expenditures    0.041242\n",
       "$_SchoolSafety           0.035943\n",
       "State$_StaffImprove      0.029563\n",
       "Zip_Population           0.019467\n",
       "Median_Income            0.003405\n",
       "Per_Pupil_Salaries       0.002845\n",
       "Property_Taxes           0.002613\n",
       "Per_Pupil_Support_Staff  0.002579\n",
       "Per_Pupil_Support        0.002415\n",
       "Percent_Taxes            0.002047\n",
       "Per_Pupil_Spending       0.001918"
      ]
     },
     "execution_count": 321,
     "metadata": {},
     "output_type": "execute_result"
    }
   ],
   "source": [
    "rf_importances4"
   ]
  },
  {
   "cell_type": "code",
   "execution_count": 322,
   "metadata": {
    "scrolled": true
   },
   "outputs": [
    {
     "data": {
      "image/png": "[encoded data removed]",
      "text/plain": [
       "<Figure size 3600x3456 with 1 Axes>"
      ]
     },
     "metadata": {
      "needs_background": "light"
     },
     "output_type": "display_data"
    }
   ],
   "source": [
    "# plot feature importance\n",
    "rf_importances4.plot(kind='bar', legend=False, color='lightblue', figsize=(50,48));"
   ]
  }
 ],
 "metadata": {
  "kernelspec": {
   "display_name": "Python 3",
   "language": "python",
   "name": "python3"
  },
  "language_info": {
   "codemirror_mode": {
    "name": "ipython",
    "version": 3
   },
   "file_extension": ".py",
   "mimetype": "text/x-python",
   "name": "python",
   "nbconvert_exporter": "python",
   "pygments_lexer": "ipython3",
   "version": "3.8.5"
  }
 },
 "nbformat": 4,
 "nbformat_minor": 4
}
