{
 "cells": [
  {
   "cell_type": "code",
   "execution_count": 1,
   "metadata": {},
   "outputs": [],
   "source": [
    "# Import all necessary libraries\n",
    "import numpy as np\n",
    "import pandas as pd\n",
    "import matplotlib.pyplot as pl\n",
    "import seaborn as sn\n",
    "#import functions as fn\n",
    "from sklearn.pipeline import Pipeline\n",
    "from sklearn.model_selection import train_test_split, GridSearchCV\n",
    "from sklearn.preprocessing import StandardScaler, MinMaxScaler\n",
    "from sklearn.metrics import accuracy_score, classification_report\n",
    "from sklearn.metrics import f1_score, roc_auc_score, plot_confusion_matrix, precision_score, recall_score "
   ]
  },
  {
   "cell_type": "code",
   "execution_count": 2,
   "metadata": {},
   "outputs": [],
   "source": [
    "#View options\n",
    "#'display.float_format', lambda x: '%8.0f' % x\n",
    "pd.set_option('display.max_columns', None, 'display.max_rows', None)"
   ]
  },
  {
   "cell_type": "code",
   "execution_count": 3,
   "metadata": {},
   "outputs": [],
   "source": [
    "#Import final polished dataframe\n",
    "df = pd.read_csv('data/final.csv',encoding='cp1252')"
   ]
  },
  {
   "cell_type": "code",
   "execution_count": 4,
   "metadata": {},
   "outputs": [],
   "source": [
    "df = df.drop(columns=['Unnamed: 0'], axis=1)"
   ]
  },
  {
   "cell_type": "code",
   "execution_count": 5,
   "metadata": {
    "scrolled": true
   },
   "outputs": [
    {
     "data": {
      "text/plain": [
       "(73040, 23)"
      ]
     },
     "execution_count": 5,
     "metadata": {},
     "output_type": "execute_result"
    }
   ],
   "source": [
    "df.shape"
   ]
  },
  {
   "cell_type": "code",
   "execution_count": 6,
   "metadata": {},
   "outputs": [],
   "source": [
    "#Dealing with some missing school size data before transforming\n",
    "df = df[df.Total_Students.apply(lambda x: x.isnumeric())]"
   ]
  },
  {
   "cell_type": "code",
   "execution_count": 7,
   "metadata": {},
   "outputs": [],
   "source": [
    "#Transform all numerical data to appropriate datatypes\n",
    "df['Total_Students'] = df['Total_Students'].astype(int)"
   ]
  },
  {
   "cell_type": "code",
   "execution_count": 8,
   "metadata": {},
   "outputs": [],
   "source": [
    "#Found some nonsense values in Student/Teacher ratio column, need to replace with 16 (national average)\n",
    "gibberish = df.loc[df['Student_Teacher_Ratio'] == 'Ã¢â‚¬â€œ']"
   ]
  },
  {
   "cell_type": "code",
   "execution_count": 9,
   "metadata": {},
   "outputs": [],
   "source": [
    "df['level'] = np.nan"
   ]
  },
  {
   "cell_type": "code",
   "execution_count": 10,
   "metadata": {
    "scrolled": false
   },
   "outputs": [
    {
     "name": "stderr",
     "output_type": "stream",
     "text": [
      "<ipython-input-10-3d3f8f40a880>:12: SettingWithCopyWarning: \n",
      "A value is trying to be set on a copy of a slice from a DataFrame\n",
      "\n",
      "See the caveats in the documentation: https://pandas.pydata.org/pandas-docs/stable/user_guide/indexing.html#returning-a-view-versus-a-copy\n",
      "  df['level'][i] = element\n",
      "/opt/anaconda3/envs/learn-env/lib/python3.8/site-packages/pandas/core/indexing.py:670: SettingWithCopyWarning: \n",
      "A value is trying to be set on a copy of a slice from a DataFrame\n",
      "\n",
      "See the caveats in the documentation: https://pandas.pydata.org/pandas-docs/stable/user_guide/indexing.html#returning-a-view-versus-a-copy\n",
      "  iloc._setitem_with_indexer(indexer, value)\n",
      "<ipython-input-10-3d3f8f40a880>:4: SettingWithCopyWarning: \n",
      "A value is trying to be set on a copy of a slice from a DataFrame\n",
      "\n",
      "See the caveats in the documentation: https://pandas.pydata.org/pandas-docs/stable/user_guide/indexing.html#returning-a-view-versus-a-copy\n",
      "  df['level'][i] = 'High'\n",
      "<ipython-input-10-3d3f8f40a880>:10: SettingWithCopyWarning: \n",
      "A value is trying to be set on a copy of a slice from a DataFrame\n",
      "\n",
      "See the caveats in the documentation: https://pandas.pydata.org/pandas-docs/stable/user_guide/indexing.html#returning-a-view-versus-a-copy\n",
      "  df['level'][i] = 'Other'\n",
      "<ipython-input-10-3d3f8f40a880>:6: SettingWithCopyWarning: \n",
      "A value is trying to be set on a copy of a slice from a DataFrame\n",
      "\n",
      "See the caveats in the documentation: https://pandas.pydata.org/pandas-docs/stable/user_guide/indexing.html#returning-a-view-versus-a-copy\n",
      "  df['level'][i] = 'Other'\n",
      "<ipython-input-10-3d3f8f40a880>:8: SettingWithCopyWarning: \n",
      "A value is trying to be set on a copy of a slice from a DataFrame\n",
      "\n",
      "See the caveats in the documentation: https://pandas.pydata.org/pandas-docs/stable/user_guide/indexing.html#returning-a-view-versus-a-copy\n",
      "  df['level'][i] = 'Other'\n"
     ]
    }
   ],
   "source": [
    "# Enumerate to replace values in ['Level'] to simplify variables\n",
    "for i, element in enumerate(df['Level']): \n",
    "    if element == 'Secondary':\n",
    "        df['level'][i] = 'High'\n",
    "    elif element == 'Prekindergarten': \n",
    "        df['level'][i] = 'Other'\n",
    "    elif element == 'Ungraded': \n",
    "        df['level'][i] = 'Other'\n",
    "    elif element == 'Not applicable':\n",
    "        df['level'][i] = 'Other' \n",
    "    else: \n",
    "        df['level'][i] = element"
   ]
  },
  {
   "cell_type": "code",
   "execution_count": 11,
   "metadata": {
    "scrolled": true
   },
   "outputs": [
    {
     "data": {
      "text/plain": [
       "Elementary    40801\n",
       "High          16288\n",
       "Middle        13103\n",
       "Other          2608\n",
       "Name: level, dtype: int64"
      ]
     },
     "execution_count": 11,
     "metadata": {},
     "output_type": "execute_result"
    }
   ],
   "source": [
    "df['level'].value_counts()"
   ]
  },
  {
   "cell_type": "code",
   "execution_count": 12,
   "metadata": {},
   "outputs": [],
   "source": [
    "df = df.drop(['Level'], axis=1)"
   ]
  },
  {
   "cell_type": "code",
   "execution_count": 13,
   "metadata": {},
   "outputs": [],
   "source": [
    "df = df.rename(columns={'level':'Level'})"
   ]
  },
  {
   "cell_type": "code",
   "execution_count": 14,
   "metadata": {},
   "outputs": [],
   "source": [
    "#Need to fill Nans in Level column"
   ]
  },
  {
   "cell_type": "code",
   "execution_count": 15,
   "metadata": {},
   "outputs": [],
   "source": [
    "df['Student_Teacher_Ratio'].replace('Ã¢â‚¬â€œ','16',inplace=True)"
   ]
  },
  {
   "cell_type": "code",
   "execution_count": 16,
   "metadata": {},
   "outputs": [],
   "source": [
    "df = df[df['Student_Teacher_Ratio'] != 'Ã¢â‚¬Â']"
   ]
  },
  {
   "cell_type": "code",
   "execution_count": 17,
   "metadata": {},
   "outputs": [],
   "source": [
    "df['Student_Teacher_Ratio'].replace('Ã¢â‚¬Â\\xa0','16',inplace=True)"
   ]
  },
  {
   "cell_type": "code",
   "execution_count": 18,
   "metadata": {
    "scrolled": false
   },
   "outputs": [],
   "source": [
    "df['Student_Teacher_Ratio'] = df['Student_Teacher_Ratio'].astype(float)"
   ]
  },
  {
   "cell_type": "code",
   "execution_count": 19,
   "metadata": {
    "scrolled": true
   },
   "outputs": [
    {
     "data": {
      "text/plain": [
       "0    0.506308\n",
       "1    0.493692\n",
       "Name: Target, dtype: float64"
      ]
     },
     "execution_count": 19,
     "metadata": {},
     "output_type": "execute_result"
    }
   ],
   "source": [
    "# Exploring balance of target classes\n",
    "df['Target'].value_counts(normalize=True)"
   ]
  },
  {
   "cell_type": "code",
   "execution_count": 20,
   "metadata": {},
   "outputs": [],
   "source": [
    "#Splitting data into features and target\n",
    "#Dropping all identifier columns including zipcode - as median income is based on zipcode and is a good stand-in\n",
    "target = df['Target']\n",
    "features = df.drop(['School_ID','School_Name','District_Name','District_ID','Zip','City','Target'], axis=1)               "
   ]
  },
  {
   "cell_type": "code",
   "execution_count": 21,
   "metadata": {},
   "outputs": [
    {
     "data": {
      "image/png": "[encoded data removed]",
      "text/plain": [
       "<Figure size 1440x1296 with 2 Axes>"
      ]
     },
     "metadata": {
      "needs_background": "light"
     },
     "output_type": "display_data"
    }
   ],
   "source": [
    "#Exploring multicollinearity\n",
    "corr = features.corr()\n",
    "pl.figure(figsize = (20,18))\n",
    "sn.heatmap(corr, annot=True)\n",
    "pl.show()"
   ]
  },
  {
   "cell_type": "code",
   "execution_count": 22,
   "metadata": {},
   "outputs": [],
   "source": [
    "#Performing train-test split\n",
    "X_train, X_test, y_train, y_test = train_test_split(features, target, test_size=0.20, random_state=42)"
   ]
  },
  {
   "cell_type": "markdown",
   "metadata": {},
   "source": [
    "### Dealing with Categorical Data"
   ]
  },
  {
   "cell_type": "code",
   "execution_count": 23,
   "metadata": {},
   "outputs": [
    {
     "data": {
      "text/plain": [
       "State                       object\n",
       "Zip_Population               int64\n",
       "Density                     object\n",
       "Median_Income                int64\n",
       "Property_Taxes               int64\n",
       "Percent_Taxes              float64\n",
       "Per_Pupil_Spending           int64\n",
       "Per_Pupil_Support            int64\n",
       "Per_Pupil_Support_Staff      int64\n",
       "Per_Pupil_Salaries           int64\n",
       "Total_Students               int64\n",
       "Student_Teacher_Ratio      float64\n",
       "Title_I                     object\n",
       "Virtual                     object\n",
       "%_Proficient_Reading         int64\n",
       "Level                       object\n",
       "dtype: object"
      ]
     },
     "execution_count": 23,
     "metadata": {},
     "output_type": "execute_result"
    }
   ],
   "source": [
    "features.dtypes"
   ]
  },
  {
   "cell_type": "markdown",
   "metadata": {},
   "source": [
    "Since there are 50 state possibilities, one-hot encoding would lead to dozens of unnecessary columns. After some thought, I decided to use target encoding to deal with states, using the continuous version of the target to replace each state with the average percentage of students proficient in that state. Though this is an imperfect substitute for location, it is true that states differ markedly from each other in their levels of student achievement and tend to stay consistent from year to year (for example, Massachusetts is continually one of the top-performing states in the nation, while Louisiana is consistently one of the lowest). Thus, treating states this way should feed my model some valuable information about student performance."
   ]
  },
  {
   "cell_type": "code",
   "execution_count": 24,
   "metadata": {},
   "outputs": [],
   "source": [
    "#Target encoding state column \n",
    "#Create a groupby dataframe that gives us the mean in each numeric column for each state\n",
    "state_averages = X_train.groupby(['State']).mean().reset_index()"
   ]
  },
  {
   "cell_type": "code",
   "execution_count": 25,
   "metadata": {},
   "outputs": [],
   "source": [
    "state_averages = state_averages.filter(['%_Proficient_Reading','State'], axis=1).rename(columns={'%_Proficient_Reading':'State_Avg_Reading'})\n"
   ]
  },
  {
   "cell_type": "code",
   "execution_count": 26,
   "metadata": {
    "scrolled": true
   },
   "outputs": [],
   "source": [
    "#Join state helper dataframe with my training predictors and testing data\n",
    "X_train = pd.merge(state_averages, X_train, how = 'inner', on='State').drop(['State','%_Proficient_Reading'], axis=1)\n",
    "X_test = pd.merge(state_averages, X_test, how = 'inner', on='State').drop(['State','%_Proficient_Reading'], axis=1)"
   ]
  },
  {
   "cell_type": "code",
   "execution_count": 27,
   "metadata": {
    "scrolled": true
   },
   "outputs": [
    {
     "data": {
      "text/html": [
       "<div>\n",
       "<style scoped>\n",
       "    .dataframe tbody tr th:only-of-type {\n",
       "        vertical-align: middle;\n",
       "    }\n",
       "\n",
       "    .dataframe tbody tr th {\n",
       "        vertical-align: top;\n",
       "    }\n",
       "\n",
       "    .dataframe thead th {\n",
       "        text-align: right;\n",
       "    }\n",
       "</style>\n",
       "<table border=\"1\" class=\"dataframe\">\n",
       "  <thead>\n",
       "    <tr style=\"text-align: right;\">\n",
       "      <th></th>\n",
       "      <th>State_Avg_Reading</th>\n",
       "      <th>Zip_Population</th>\n",
       "      <th>Density</th>\n",
       "      <th>Median_Income</th>\n",
       "      <th>Property_Taxes</th>\n",
       "      <th>Percent_Taxes</th>\n",
       "      <th>Per_Pupil_Spending</th>\n",
       "      <th>Per_Pupil_Support</th>\n",
       "      <th>Per_Pupil_Support_Staff</th>\n",
       "      <th>Per_Pupil_Salaries</th>\n",
       "      <th>Total_Students</th>\n",
       "      <th>Student_Teacher_Ratio</th>\n",
       "      <th>Title_I</th>\n",
       "      <th>Virtual</th>\n",
       "      <th>Level</th>\n",
       "    </tr>\n",
       "  </thead>\n",
       "  <tbody>\n",
       "    <tr>\n",
       "      <th>0</th>\n",
       "      <td>35.559524</td>\n",
       "      <td>1410</td>\n",
       "      <td>midsize</td>\n",
       "      <td>72188</td>\n",
       "      <td>7518</td>\n",
       "      <td>35.6</td>\n",
       "      <td>10545</td>\n",
       "      <td>389</td>\n",
       "      <td>438</td>\n",
       "      <td>4049</td>\n",
       "      <td>39</td>\n",
       "      <td>4.18</td>\n",
       "      <td>yes</td>\n",
       "      <td>no</td>\n",
       "      <td>NaN</td>\n",
       "    </tr>\n",
       "    <tr>\n",
       "      <th>1</th>\n",
       "      <td>35.559524</td>\n",
       "      <td>1410</td>\n",
       "      <td>midsize</td>\n",
       "      <td>72188</td>\n",
       "      <td>7518</td>\n",
       "      <td>35.6</td>\n",
       "      <td>10545</td>\n",
       "      <td>389</td>\n",
       "      <td>438</td>\n",
       "      <td>4049</td>\n",
       "      <td>48</td>\n",
       "      <td>4.05</td>\n",
       "      <td>yes</td>\n",
       "      <td>no</td>\n",
       "      <td>NaN</td>\n",
       "    </tr>\n",
       "    <tr>\n",
       "      <th>2</th>\n",
       "      <td>35.559524</td>\n",
       "      <td>45366</td>\n",
       "      <td>midsize</td>\n",
       "      <td>61089</td>\n",
       "      <td>989357</td>\n",
       "      <td>47.9</td>\n",
       "      <td>10173</td>\n",
       "      <td>392</td>\n",
       "      <td>1145</td>\n",
       "      <td>3257</td>\n",
       "      <td>198</td>\n",
       "      <td>9.66</td>\n",
       "      <td>yes</td>\n",
       "      <td>yes</td>\n",
       "      <td>Elementary</td>\n",
       "    </tr>\n",
       "    <tr>\n",
       "      <th>3</th>\n",
       "      <td>35.559524</td>\n",
       "      <td>107571</td>\n",
       "      <td>urban</td>\n",
       "      <td>62602</td>\n",
       "      <td>6090</td>\n",
       "      <td>41.4</td>\n",
       "      <td>9813</td>\n",
       "      <td>581</td>\n",
       "      <td>616</td>\n",
       "      <td>3995</td>\n",
       "      <td>321</td>\n",
       "      <td>12.07</td>\n",
       "      <td>yes</td>\n",
       "      <td>yes</td>\n",
       "      <td>Elementary</td>\n",
       "    </tr>\n",
       "    <tr>\n",
       "      <th>4</th>\n",
       "      <td>35.559524</td>\n",
       "      <td>12114</td>\n",
       "      <td>midsize</td>\n",
       "      <td>47060</td>\n",
       "      <td>7640</td>\n",
       "      <td>36.2</td>\n",
       "      <td>13364</td>\n",
       "      <td>661</td>\n",
       "      <td>223</td>\n",
       "      <td>4595</td>\n",
       "      <td>280</td>\n",
       "      <td>15.56</td>\n",
       "      <td>yes</td>\n",
       "      <td>yes</td>\n",
       "      <td>Elementary</td>\n",
       "    </tr>\n",
       "  </tbody>\n",
       "</table>\n",
       "</div>"
      ],
      "text/plain": [
       "   State_Avg_Reading  Zip_Population  Density  Median_Income  Property_Taxes  \\\n",
       "0          35.559524            1410  midsize          72188            7518   \n",
       "1          35.559524            1410  midsize          72188            7518   \n",
       "2          35.559524           45366  midsize          61089          989357   \n",
       "3          35.559524          107571    urban          62602            6090   \n",
       "4          35.559524           12114  midsize          47060            7640   \n",
       "\n",
       "   Percent_Taxes  Per_Pupil_Spending  Per_Pupil_Support  \\\n",
       "0           35.6               10545                389   \n",
       "1           35.6               10545                389   \n",
       "2           47.9               10173                392   \n",
       "3           41.4                9813                581   \n",
       "4           36.2               13364                661   \n",
       "\n",
       "   Per_Pupil_Support_Staff  Per_Pupil_Salaries  Total_Students  \\\n",
       "0                      438                4049              39   \n",
       "1                      438                4049              48   \n",
       "2                     1145                3257             198   \n",
       "3                      616                3995             321   \n",
       "4                      223                4595             280   \n",
       "\n",
       "   Student_Teacher_Ratio Title_I Virtual       Level  \n",
       "0                   4.18     yes      no         NaN  \n",
       "1                   4.05     yes      no         NaN  \n",
       "2                   9.66     yes     yes  Elementary  \n",
       "3                  12.07     yes     yes  Elementary  \n",
       "4                  15.56     yes     yes  Elementary  "
      ]
     },
     "execution_count": 27,
     "metadata": {},
     "output_type": "execute_result"
    }
   ],
   "source": [
    "X_train.head()"
   ]
  },
  {
   "cell_type": "code",
   "execution_count": 28,
   "metadata": {
    "scrolled": false
   },
   "outputs": [],
   "source": [
    "#Deal with nulls in training and testing data\n",
    "X_train = X_train.fillna(value = {\"Level\":\"Other\"})\n",
    "X_test = X_test.fillna(value = {'Level':'Other'})"
   ]
  },
  {
   "cell_type": "code",
   "execution_count": 29,
   "metadata": {},
   "outputs": [],
   "source": [
    "#Putting X back together\n",
    "X = pd.concat([X_train, X_test], axis=0)"
   ]
  },
  {
   "cell_type": "code",
   "execution_count": 30,
   "metadata": {},
   "outputs": [
    {
     "data": {
      "image/png": "[encoded data removed]",
      "text/plain": [
       "<Figure size 360x360 with 1 Axes>"
      ]
     },
     "metadata": {
      "needs_background": "light"
     },
     "output_type": "display_data"
    }
   ],
   "source": [
    "sn.displot(X, x='State_Avg_Reading', binwidth=3, color=\"lightblue\")\n",
    "pl.savefig(\"State Averages\")"
   ]
  },
  {
   "cell_type": "code",
   "execution_count": 32,
   "metadata": {},
   "outputs": [],
   "source": [
    "#Now need to one-hot encode  categorical columns\n",
    "#Isolate categorical columns\n",
    "cats = X[['Density','Title_I', 'Virtual','Level']]\n",
    "#Transform data\n",
    "cats = pd.get_dummies(cats)"
   ]
  },
  {
   "cell_type": "code",
   "execution_count": 33,
   "metadata": {
    "scrolled": true
   },
   "outputs": [
    {
     "data": {
      "text/html": [
       "<div>\n",
       "<style scoped>\n",
       "    .dataframe tbody tr th:only-of-type {\n",
       "        vertical-align: middle;\n",
       "    }\n",
       "\n",
       "    .dataframe tbody tr th {\n",
       "        vertical-align: top;\n",
       "    }\n",
       "\n",
       "    .dataframe thead th {\n",
       "        text-align: right;\n",
       "    }\n",
       "</style>\n",
       "<table border=\"1\" class=\"dataframe\">\n",
       "  <thead>\n",
       "    <tr style=\"text-align: right;\">\n",
       "      <th></th>\n",
       "      <th>Density_midsize</th>\n",
       "      <th>Density_urban</th>\n",
       "      <th>Title_I_no</th>\n",
       "      <th>Title_I_yes</th>\n",
       "      <th>Virtual_no</th>\n",
       "      <th>Virtual_yes</th>\n",
       "      <th>Level_Elementary</th>\n",
       "      <th>Level_High</th>\n",
       "      <th>Level_Middle</th>\n",
       "      <th>Level_Other</th>\n",
       "    </tr>\n",
       "  </thead>\n",
       "  <tbody>\n",
       "    <tr>\n",
       "      <th>0</th>\n",
       "      <td>1</td>\n",
       "      <td>0</td>\n",
       "      <td>0</td>\n",
       "      <td>1</td>\n",
       "      <td>1</td>\n",
       "      <td>0</td>\n",
       "      <td>0</td>\n",
       "      <td>0</td>\n",
       "      <td>0</td>\n",
       "      <td>1</td>\n",
       "    </tr>\n",
       "    <tr>\n",
       "      <th>1</th>\n",
       "      <td>1</td>\n",
       "      <td>0</td>\n",
       "      <td>0</td>\n",
       "      <td>1</td>\n",
       "      <td>1</td>\n",
       "      <td>0</td>\n",
       "      <td>0</td>\n",
       "      <td>0</td>\n",
       "      <td>0</td>\n",
       "      <td>1</td>\n",
       "    </tr>\n",
       "    <tr>\n",
       "      <th>2</th>\n",
       "      <td>1</td>\n",
       "      <td>0</td>\n",
       "      <td>0</td>\n",
       "      <td>1</td>\n",
       "      <td>0</td>\n",
       "      <td>1</td>\n",
       "      <td>1</td>\n",
       "      <td>0</td>\n",
       "      <td>0</td>\n",
       "      <td>0</td>\n",
       "    </tr>\n",
       "    <tr>\n",
       "      <th>3</th>\n",
       "      <td>0</td>\n",
       "      <td>1</td>\n",
       "      <td>0</td>\n",
       "      <td>1</td>\n",
       "      <td>0</td>\n",
       "      <td>1</td>\n",
       "      <td>1</td>\n",
       "      <td>0</td>\n",
       "      <td>0</td>\n",
       "      <td>0</td>\n",
       "    </tr>\n",
       "    <tr>\n",
       "      <th>4</th>\n",
       "      <td>1</td>\n",
       "      <td>0</td>\n",
       "      <td>0</td>\n",
       "      <td>1</td>\n",
       "      <td>0</td>\n",
       "      <td>1</td>\n",
       "      <td>1</td>\n",
       "      <td>0</td>\n",
       "      <td>0</td>\n",
       "      <td>0</td>\n",
       "    </tr>\n",
       "  </tbody>\n",
       "</table>\n",
       "</div>"
      ],
      "text/plain": [
       "   Density_midsize  Density_urban  Title_I_no  Title_I_yes  Virtual_no  \\\n",
       "0                1              0           0            1           1   \n",
       "1                1              0           0            1           1   \n",
       "2                1              0           0            1           0   \n",
       "3                0              1           0            1           0   \n",
       "4                1              0           0            1           0   \n",
       "\n",
       "   Virtual_yes  Level_Elementary  Level_High  Level_Middle  Level_Other  \n",
       "0            0                 0           0             0            1  \n",
       "1            0                 0           0             0            1  \n",
       "2            1                 1           0             0            0  \n",
       "3            1                 1           0             0            0  \n",
       "4            1                 1           0             0            0  "
      ]
     },
     "execution_count": 33,
     "metadata": {},
     "output_type": "execute_result"
    }
   ],
   "source": [
    "cats.head()"
   ]
  },
  {
   "cell_type": "code",
   "execution_count": 36,
   "metadata": {},
   "outputs": [],
   "source": [
    "#Merge with main dataframe on key values\n",
    "X_numeric = pd.concat([X, cats], axis=1)"
   ]
  },
  {
   "cell_type": "code",
   "execution_count": 38,
   "metadata": {},
   "outputs": [],
   "source": [
    "#Drop non-numeric categorical columns \n",
    "X_numeric = X.drop(['Density','Title_I', 'Virtual','Level'], axis=1)"
   ]
  },
  {
   "cell_type": "code",
   "execution_count": 40,
   "metadata": {},
   "outputs": [],
   "source": [
    "#Have to re-do the train test split\n",
    "X_train, X_test, y_train, y_test = train_test_split(X_numeric, target, test_size=0.20, random_state=42)"
   ]
  },
  {
   "cell_type": "markdown",
   "metadata": {},
   "source": [
    "### Scaling Data"
   ]
  },
  {
   "cell_type": "code",
   "execution_count": null,
   "metadata": {},
   "outputs": [],
   "source": []
  }
 ],
 "metadata": {
  "kernelspec": {
   "display_name": "Python 3",
   "language": "python",
   "name": "python3"
  },
  "language_info": {
   "codemirror_mode": {
    "name": "ipython",
    "version": 3
   },
   "file_extension": ".py",
   "mimetype": "text/x-python",
   "name": "python",
   "nbconvert_exporter": "python",
   "pygments_lexer": "ipython3",
   "version": "3.8.5"
  }
 },
 "nbformat": 4,
 "nbformat_minor": 4
}
