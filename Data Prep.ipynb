{
 "cells": [
  {
   "cell_type": "markdown",
   "metadata": {},
   "source": [
    "Business question: What are the most significant predictors of student achievement on a school level?"
   ]
  },
  {
   "cell_type": "code",
   "execution_count": 20,
   "metadata": {},
   "outputs": [],
   "source": [
    "# Import all necessary libraries\n",
    "import numpy as np\n",
    "import pandas as pd\n",
    "import matplotlib.pyplot as pl\n",
    "import seaborn as sn\n",
    "#import functions as fn\n",
    "from sklearn.pipeline import Pipeline\n",
    "from sklearn.model_selection import train_test_split, GridSearchCV\n",
    "from sklearn.preprocessing import StandardScaler, MinMaxScaler\n",
    "from sklearn.metrics import accuracy_score, classification_report\n",
    "from sklearn.metrics import f1_score, roc_auc_score, plot_confusion_matrix, precision_score, recall_score \n",
    "#from category_encoders import CountEncoder"
   ]
  },
  {
   "cell_type": "code",
   "execution_count": 21,
   "metadata": {},
   "outputs": [],
   "source": [
    "#View options\n",
    "#'display.float_format', lambda x: '%8.0f' % x\n",
    "pd.set_option('display.max_columns', None, 'display.max_rows', None)"
   ]
  },
  {
   "cell_type": "markdown",
   "metadata": {},
   "source": [
    "# Data Preparation and Cleaning"
   ]
  },
  {
   "cell_type": "code",
   "execution_count": 22,
   "metadata": {},
   "outputs": [],
   "source": [
    "#Dealing with characteristic and location data first (this is merge 1)\n",
    "df = pd.read_csv('data/us_doe_school_characteristics.csv',encoding='cp1252')"
   ]
  },
  {
   "cell_type": "code",
   "execution_count": 23,
   "metadata": {
    "scrolled": true
   },
   "outputs": [
    {
     "data": {
      "text/plain": [
       "(99763, 20)"
      ]
     },
     "execution_count": 23,
     "metadata": {},
     "output_type": "execute_result"
    }
   ],
   "source": [
    "df.shape"
   ]
  },
  {
   "cell_type": "code",
   "execution_count": 24,
   "metadata": {},
   "outputs": [],
   "source": [
    "df1 = df.drop(['FIPST','ST','STATE_AGENCY_NO','UNION','SHARED_TIME','TITLEI_STATUS_TEXT','MAGNET_TEXT','NSLP_STATUS','NSLP_STATUS_TEXT','VIRTUAL_TEXT'], axis=1).set_index(['ST_SCHID'])"
   ]
  },
  {
   "cell_type": "code",
   "execution_count": 25,
   "metadata": {
    "scrolled": true
   },
   "outputs": [
    {
     "data": {
      "text/plain": [
       "dtype('O')"
      ]
     },
     "execution_count": 25,
     "metadata": {},
     "output_type": "execute_result"
    }
   ],
   "source": [
    "df1.index.dtype"
   ]
  },
  {
   "cell_type": "code",
   "execution_count": 26,
   "metadata": {},
   "outputs": [
    {
     "data": {
      "text/html": [
       "<div>\n",
       "<style scoped>\n",
       "    .dataframe tbody tr th:only-of-type {\n",
       "        vertical-align: middle;\n",
       "    }\n",
       "\n",
       "    .dataframe tbody tr th {\n",
       "        vertical-align: top;\n",
       "    }\n",
       "\n",
       "    .dataframe thead th {\n",
       "        text-align: right;\n",
       "    }\n",
       "</style>\n",
       "<table border=\"1\" class=\"dataframe\">\n",
       "  <thead>\n",
       "    <tr style=\"text-align: right;\">\n",
       "      <th></th>\n",
       "      <th>SCHOOL_YEAR</th>\n",
       "      <th>STATENAME</th>\n",
       "      <th>SCH_NAME</th>\n",
       "      <th>ST_LEAID</th>\n",
       "      <th>LEAID</th>\n",
       "      <th>NCESSCH</th>\n",
       "      <th>SCHID</th>\n",
       "      <th>TITLEI_STATUS</th>\n",
       "      <th>VIRTUAL</th>\n",
       "    </tr>\n",
       "    <tr>\n",
       "      <th>ST_SCHID</th>\n",
       "      <th></th>\n",
       "      <th></th>\n",
       "      <th></th>\n",
       "      <th></th>\n",
       "      <th></th>\n",
       "      <th></th>\n",
       "      <th></th>\n",
       "      <th></th>\n",
       "      <th></th>\n",
       "    </tr>\n",
       "  </thead>\n",
       "  <tbody>\n",
       "    <tr>\n",
       "      <th>AL-101-0010</th>\n",
       "      <td>2020-2021</td>\n",
       "      <td>ALABAMA</td>\n",
       "      <td>Albertville Middle School</td>\n",
       "      <td>AL-101</td>\n",
       "      <td>100005</td>\n",
       "      <td>1.000050e+10</td>\n",
       "      <td>100870</td>\n",
       "      <td>SWELIGTGPROG</td>\n",
       "      <td>NOTVIRTUAL</td>\n",
       "    </tr>\n",
       "    <tr>\n",
       "      <th>AL-101-0020</th>\n",
       "      <td>2020-2021</td>\n",
       "      <td>ALABAMA</td>\n",
       "      <td>Albertville High School</td>\n",
       "      <td>AL-101</td>\n",
       "      <td>100005</td>\n",
       "      <td>1.000050e+10</td>\n",
       "      <td>100871</td>\n",
       "      <td>SWELIGTGPROG</td>\n",
       "      <td>NOTVIRTUAL</td>\n",
       "    </tr>\n",
       "    <tr>\n",
       "      <th>AL-101-0110</th>\n",
       "      <td>2020-2021</td>\n",
       "      <td>ALABAMA</td>\n",
       "      <td>Albertville Intermediate School</td>\n",
       "      <td>AL-101</td>\n",
       "      <td>100005</td>\n",
       "      <td>1.000050e+10</td>\n",
       "      <td>100879</td>\n",
       "      <td>SWELIGTGPROG</td>\n",
       "      <td>NOTVIRTUAL</td>\n",
       "    </tr>\n",
       "    <tr>\n",
       "      <th>AL-101-0200</th>\n",
       "      <td>2020-2021</td>\n",
       "      <td>ALABAMA</td>\n",
       "      <td>Albertville Elementary School</td>\n",
       "      <td>AL-101</td>\n",
       "      <td>100005</td>\n",
       "      <td>1.000050e+10</td>\n",
       "      <td>100889</td>\n",
       "      <td>SWELIGTGPROG</td>\n",
       "      <td>NOTVIRTUAL</td>\n",
       "    </tr>\n",
       "    <tr>\n",
       "      <th>AL-101-0035</th>\n",
       "      <td>2020-2021</td>\n",
       "      <td>ALABAMA</td>\n",
       "      <td>Albertville Kindergarten and PreK</td>\n",
       "      <td>AL-101</td>\n",
       "      <td>100005</td>\n",
       "      <td>1.000050e+10</td>\n",
       "      <td>101616</td>\n",
       "      <td>SWELIGTGPROG</td>\n",
       "      <td>NOTVIRTUAL</td>\n",
       "    </tr>\n",
       "  </tbody>\n",
       "</table>\n",
       "</div>"
      ],
      "text/plain": [
       "            SCHOOL_YEAR STATENAME                           SCH_NAME ST_LEAID  \\\n",
       "ST_SCHID                                                                        \n",
       "AL-101-0010   2020-2021   ALABAMA          Albertville Middle School   AL-101   \n",
       "AL-101-0020   2020-2021   ALABAMA            Albertville High School   AL-101   \n",
       "AL-101-0110   2020-2021   ALABAMA    Albertville Intermediate School   AL-101   \n",
       "AL-101-0200   2020-2021   ALABAMA      Albertville Elementary School   AL-101   \n",
       "AL-101-0035   2020-2021   ALABAMA  Albertville Kindergarten and PreK   AL-101   \n",
       "\n",
       "              LEAID       NCESSCH   SCHID TITLEI_STATUS     VIRTUAL  \n",
       "ST_SCHID                                                             \n",
       "AL-101-0010  100005  1.000050e+10  100870  SWELIGTGPROG  NOTVIRTUAL  \n",
       "AL-101-0020  100005  1.000050e+10  100871  SWELIGTGPROG  NOTVIRTUAL  \n",
       "AL-101-0110  100005  1.000050e+10  100879  SWELIGTGPROG  NOTVIRTUAL  \n",
       "AL-101-0200  100005  1.000050e+10  100889  SWELIGTGPROG  NOTVIRTUAL  \n",
       "AL-101-0035  100005  1.000050e+10  101616  SWELIGTGPROG  NOTVIRTUAL  "
      ]
     },
     "execution_count": 26,
     "metadata": {},
     "output_type": "execute_result"
    }
   ],
   "source": [
    "df1.head()"
   ]
  },
  {
   "cell_type": "code",
   "execution_count": 27,
   "metadata": {},
   "outputs": [
    {
     "name": "stderr",
     "output_type": "stream",
     "text": [
      "/opt/anaconda3/envs/learn-env/lib/python3.8/site-packages/IPython/core/interactiveshell.py:3145: DtypeWarning: Columns (14,15,21,22,39,41,42) have mixed types.Specify dtype option on import or set low_memory=False.\n",
      "  has_raised = await self.run_ast_nodes(code_ast.body, cell_name,\n"
     ]
    }
   ],
   "source": [
    "locations_df = pd.read_csv('data/us_doe_locations.csv', encoding = 'cp1252')"
   ]
  },
  {
   "cell_type": "code",
   "execution_count": 28,
   "metadata": {
    "scrolled": false
   },
   "outputs": [
    {
     "data": {
      "text/plain": [
       "0"
      ]
     },
     "execution_count": 28,
     "metadata": {},
     "output_type": "execute_result"
    }
   ],
   "source": [
    "locations_df.duplicated(['ST_SCHID']).sum()"
   ]
  },
  {
   "cell_type": "code",
   "execution_count": 29,
   "metadata": {},
   "outputs": [],
   "source": [
    "df2 = locations_df[['ST_SCHID', 'LSTREET1','LCITY','LSTATE','LZIP','LEVEL']]"
   ]
  },
  {
   "cell_type": "code",
   "execution_count": 30,
   "metadata": {},
   "outputs": [],
   "source": [
    "df2 = df2.set_index(['ST_SCHID'])"
   ]
  },
  {
   "cell_type": "code",
   "execution_count": 31,
   "metadata": {
    "scrolled": true
   },
   "outputs": [
    {
     "data": {
      "text/plain": [
       "(99763, 9)"
      ]
     },
     "execution_count": 31,
     "metadata": {},
     "output_type": "execute_result"
    }
   ],
   "source": [
    "df1.shape"
   ]
  },
  {
   "cell_type": "code",
   "execution_count": 32,
   "metadata": {
    "scrolled": false
   },
   "outputs": [
    {
     "data": {
      "text/plain": [
       "(101662, 5)"
      ]
     },
     "execution_count": 32,
     "metadata": {},
     "output_type": "execute_result"
    }
   ],
   "source": [
    "df2.shape"
   ]
  },
  {
   "cell_type": "code",
   "execution_count": 33,
   "metadata": {},
   "outputs": [
    {
     "data": {
      "text/html": [
       "<div>\n",
       "<style scoped>\n",
       "    .dataframe tbody tr th:only-of-type {\n",
       "        vertical-align: middle;\n",
       "    }\n",
       "\n",
       "    .dataframe tbody tr th {\n",
       "        vertical-align: top;\n",
       "    }\n",
       "\n",
       "    .dataframe thead th {\n",
       "        text-align: right;\n",
       "    }\n",
       "</style>\n",
       "<table border=\"1\" class=\"dataframe\">\n",
       "  <thead>\n",
       "    <tr style=\"text-align: right;\">\n",
       "      <th></th>\n",
       "      <th>LSTREET1</th>\n",
       "      <th>LCITY</th>\n",
       "      <th>LSTATE</th>\n",
       "      <th>LZIP</th>\n",
       "      <th>LEVEL</th>\n",
       "    </tr>\n",
       "    <tr>\n",
       "      <th>ST_SCHID</th>\n",
       "      <th></th>\n",
       "      <th></th>\n",
       "      <th></th>\n",
       "      <th></th>\n",
       "      <th></th>\n",
       "    </tr>\n",
       "  </thead>\n",
       "  <tbody>\n",
       "    <tr>\n",
       "      <th>AL-101-0010</th>\n",
       "      <td>600 E Alabama Ave</td>\n",
       "      <td>Albertville</td>\n",
       "      <td>AL</td>\n",
       "      <td>35950</td>\n",
       "      <td>Middle</td>\n",
       "    </tr>\n",
       "    <tr>\n",
       "      <th>AL-101-0020</th>\n",
       "      <td>402 E McCord Ave</td>\n",
       "      <td>Albertville</td>\n",
       "      <td>AL</td>\n",
       "      <td>35950</td>\n",
       "      <td>High</td>\n",
       "    </tr>\n",
       "    <tr>\n",
       "      <th>AL-101-0110</th>\n",
       "      <td>901 W McKinney Ave</td>\n",
       "      <td>Albertville</td>\n",
       "      <td>AL</td>\n",
       "      <td>35950</td>\n",
       "      <td>Middle</td>\n",
       "    </tr>\n",
       "    <tr>\n",
       "      <th>AL-101-0200</th>\n",
       "      <td>145 West End Drive</td>\n",
       "      <td>Albertville</td>\n",
       "      <td>AL</td>\n",
       "      <td>35950</td>\n",
       "      <td>Elementary</td>\n",
       "    </tr>\n",
       "    <tr>\n",
       "      <th>AL-101-0035</th>\n",
       "      <td>257 Country Club Rd</td>\n",
       "      <td>Albertville</td>\n",
       "      <td>AL</td>\n",
       "      <td>35951</td>\n",
       "      <td>Elementary</td>\n",
       "    </tr>\n",
       "  </tbody>\n",
       "</table>\n",
       "</div>"
      ],
      "text/plain": [
       "                        LSTREET1        LCITY LSTATE   LZIP       LEVEL\n",
       "ST_SCHID                                                               \n",
       "AL-101-0010    600 E Alabama Ave  Albertville     AL  35950      Middle\n",
       "AL-101-0020     402 E McCord Ave  Albertville     AL  35950        High\n",
       "AL-101-0110   901 W McKinney Ave  Albertville     AL  35950      Middle\n",
       "AL-101-0200   145 West End Drive  Albertville     AL  35950  Elementary\n",
       "AL-101-0035  257 Country Club Rd  Albertville     AL  35951  Elementary"
      ]
     },
     "execution_count": 33,
     "metadata": {},
     "output_type": "execute_result"
    }
   ],
   "source": [
    "df2.head()"
   ]
  },
  {
   "cell_type": "code",
   "execution_count": 34,
   "metadata": {},
   "outputs": [],
   "source": [
    "merged1 = df1.merge(df2, how='outer', left_index=True, right_index=True).reset_index()"
   ]
  },
  {
   "cell_type": "code",
   "execution_count": 35,
   "metadata": {
    "scrolled": false
   },
   "outputs": [
    {
     "data": {
      "text/plain": [
       "(101662, 15)"
      ]
     },
     "execution_count": 35,
     "metadata": {},
     "output_type": "execute_result"
    }
   ],
   "source": [
    "merged1.shape"
   ]
  },
  {
   "cell_type": "code",
   "execution_count": 36,
   "metadata": {
    "scrolled": true
   },
   "outputs": [
    {
     "data": {
      "text/plain": [
       "ST_SCHID            0\n",
       "SCHOOL_YEAR      1899\n",
       "STATENAME        1899\n",
       "SCH_NAME         1899\n",
       "ST_LEAID         1899\n",
       "LEAID            1899\n",
       "NCESSCH          1899\n",
       "SCHID            1899\n",
       "TITLEI_STATUS    1899\n",
       "VIRTUAL          1899\n",
       "LSTREET1            3\n",
       "LCITY               0\n",
       "LSTATE              0\n",
       "LZIP                0\n",
       "LEVEL               0\n",
       "dtype: int64"
      ]
     },
     "execution_count": 36,
     "metadata": {},
     "output_type": "execute_result"
    }
   ],
   "source": [
    "merged1.isna().sum()"
   ]
  },
  {
   "cell_type": "code",
   "execution_count": 37,
   "metadata": {},
   "outputs": [],
   "source": [
    "#About 2% of our data in this first merged dataframe contain nulls. Let's get rid of them\n",
    "merged1 = merged1.dropna()"
   ]
  },
  {
   "cell_type": "code",
   "execution_count": 40,
   "metadata": {},
   "outputs": [],
   "source": [
    "merged1['NCESSCH'] = merged1['NCESSCH'].astype(int)"
   ]
  },
  {
   "cell_type": "code",
   "execution_count": 44,
   "metadata": {},
   "outputs": [],
   "source": [
    "enrolls = pd.read_csv('data/us_doe_enrollments.csv',encoding='cp1252')"
   ]
  },
  {
   "cell_type": "code",
   "execution_count": 45,
   "metadata": {},
   "outputs": [
    {
     "data": {
      "text/plain": [
       "6"
      ]
     },
     "execution_count": 45,
     "metadata": {},
     "output_type": "execute_result"
    }
   ],
   "source": [
    "enrolls.duplicated(['State School ID [Public School] 2020-21']).sum()"
   ]
  },
  {
   "cell_type": "code",
   "execution_count": 46,
   "metadata": {},
   "outputs": [],
   "source": [
    "enrolls_dupes = enrolls.loc[enrolls.duplicated(['State School ID [Public School] 2020-21'])]"
   ]
  },
  {
   "cell_type": "code",
   "execution_count": 47,
   "metadata": {},
   "outputs": [],
   "source": [
    "df4 = enrolls.drop_duplicates(subset = ['State School ID [Public School] 2020-21']).dropna()"
   ]
  },
  {
   "cell_type": "code",
   "execution_count": 48,
   "metadata": {},
   "outputs": [
    {
     "data": {
      "text/plain": [
       "ï»¿School Name                                                      object\n",
       "State Name [Public School] Latest available year                    object\n",
       "School ID - NCES Assigned [Public School] Latest available year    float64\n",
       "State Name [Public School] 2020-21                                  object\n",
       "School Name [Public School] 2020-21                                 object\n",
       "Agency ID - NCES Assigned [Public School] Latest available year    float64\n",
       "ANSI/FIPS State Code [Public School] Latest available year         float64\n",
       "State Agency ID [Public School] 2020-21                             object\n",
       "State School ID [Public School] 2020-21                             object\n",
       "Total Students All Grades (Excludes AE) [Public School] 2020-21     object\n",
       "Pupil/Teacher Ratio [Public School] 2020-21                         object\n",
       "dtype: object"
      ]
     },
     "execution_count": 48,
     "metadata": {},
     "output_type": "execute_result"
    }
   ],
   "source": [
    "df4.dtypes"
   ]
  },
  {
   "cell_type": "code",
   "execution_count": 49,
   "metadata": {},
   "outputs": [
    {
     "data": {
      "text/plain": [
       "(99568, 11)"
      ]
     },
     "execution_count": 49,
     "metadata": {},
     "output_type": "execute_result"
    }
   ],
   "source": [
    "df4.shape"
   ]
  },
  {
   "cell_type": "code",
   "execution_count": 50,
   "metadata": {},
   "outputs": [
    {
     "data": {
      "text/plain": [
       "ST_SCHID          object\n",
       "SCHOOL_YEAR       object\n",
       "STATENAME         object\n",
       "SCH_NAME          object\n",
       "ST_LEAID          object\n",
       "LEAID            float64\n",
       "NCESSCH            int64\n",
       "SCHID            float64\n",
       "TITLEI_STATUS     object\n",
       "VIRTUAL           object\n",
       "LSTREET1          object\n",
       "LCITY             object\n",
       "LSTATE            object\n",
       "LZIP               int64\n",
       "LEVEL             object\n",
       "dtype: object"
      ]
     },
     "execution_count": 50,
     "metadata": {},
     "output_type": "execute_result"
    }
   ],
   "source": [
    "merged1.dtypes"
   ]
  },
  {
   "cell_type": "code",
   "execution_count": 51,
   "metadata": {},
   "outputs": [
    {
     "data": {
      "text/plain": [
       "(99760, 15)"
      ]
     },
     "execution_count": 51,
     "metadata": {},
     "output_type": "execute_result"
    }
   ],
   "source": [
    "merged1.shape"
   ]
  },
  {
   "cell_type": "code",
   "execution_count": 52,
   "metadata": {},
   "outputs": [],
   "source": [
    "enroll2 = df4[['State School ID [Public School] 2020-21','Total Students All Grades (Excludes AE) [Public School] 2020-21','Pupil/Teacher Ratio [Public School] 2020-21']]\n"
   ]
  },
  {
   "cell_type": "code",
   "execution_count": 54,
   "metadata": {},
   "outputs": [],
   "source": [
    "enroll_final = enroll2.rename(columns={'State School ID [Public School] 2020-21': 'ST_SCHID', 'Total Students All Grades (Excludes AE) [Public School] 2020-21': 'Total Students', 'Pupil/Teacher Ratio [Public School] 2020-21':'Student:Teacher Ratio'})\n",
    "                                       "
   ]
  },
  {
   "cell_type": "code",
   "execution_count": 55,
   "metadata": {
    "scrolled": true
   },
   "outputs": [
    {
     "data": {
      "text/html": [
       "<div>\n",
       "<style scoped>\n",
       "    .dataframe tbody tr th:only-of-type {\n",
       "        vertical-align: middle;\n",
       "    }\n",
       "\n",
       "    .dataframe tbody tr th {\n",
       "        vertical-align: top;\n",
       "    }\n",
       "\n",
       "    .dataframe thead th {\n",
       "        text-align: right;\n",
       "    }\n",
       "</style>\n",
       "<table border=\"1\" class=\"dataframe\">\n",
       "  <thead>\n",
       "    <tr style=\"text-align: right;\">\n",
       "      <th></th>\n",
       "      <th>ST_SCHID</th>\n",
       "      <th>Total Students</th>\n",
       "      <th>Student:Teacher Ratio</th>\n",
       "    </tr>\n",
       "  </thead>\n",
       "  <tbody>\n",
       "    <tr>\n",
       "      <th>0</th>\n",
       "      <td>MA-0170-01700045</td>\n",
       "      <td>1139</td>\n",
       "      <td>11.89</td>\n",
       "    </tr>\n",
       "    <tr>\n",
       "      <th>1</th>\n",
       "      <td>NV-02-02093</td>\n",
       "      <td>352</td>\n",
       "      <td>35.2</td>\n",
       "    </tr>\n",
       "    <tr>\n",
       "      <th>2</th>\n",
       "      <td>NV-02-02364</td>\n",
       "      <td>163</td>\n",
       "      <td>16.3</td>\n",
       "    </tr>\n",
       "    <tr>\n",
       "      <th>3</th>\n",
       "      <td>WA-31025-1656</td>\n",
       "      <td>175</td>\n",
       "      <td>23.33</td>\n",
       "    </tr>\n",
       "    <tr>\n",
       "      <th>4</th>\n",
       "      <td>MN-010112-010112067</td>\n",
       "      <td>34</td>\n",
       "      <td>â€“</td>\n",
       "    </tr>\n",
       "  </tbody>\n",
       "</table>\n",
       "</div>"
      ],
      "text/plain": [
       "              ST_SCHID Total Students Student:Teacher Ratio\n",
       "0     MA-0170-01700045           1139                 11.89\n",
       "1          NV-02-02093            352                  35.2\n",
       "2          NV-02-02364            163                  16.3\n",
       "3        WA-31025-1656            175                 23.33\n",
       "4  MN-010112-010112067             34                   â€“"
      ]
     },
     "execution_count": 55,
     "metadata": {},
     "output_type": "execute_result"
    }
   ],
   "source": [
    "enroll_final.head()"
   ]
  },
  {
   "cell_type": "code",
   "execution_count": 58,
   "metadata": {},
   "outputs": [],
   "source": [
    "us_df = pd.merge(merged1, enroll_final, on='ST_SCHID',how='right')"
   ]
  },
  {
   "cell_type": "code",
   "execution_count": 61,
   "metadata": {},
   "outputs": [],
   "source": [
    "maybe_final = us_df[['ST_SCHID','STATENAME','SCH_NAME','ST_LEAID','TITLEI_STATUS','VIRTUAL','LSTREET1','LCITY','LSTATE','LZIP','LEVEL','Total Students', 'Student:Teacher Ratio']]"
   ]
  }
 ],
 "metadata": {
  "kernelspec": {
   "display_name": "Python 3",
   "language": "python",
   "name": "python3"
  },
  "language_info": {
   "codemirror_mode": {
    "name": "ipython",
    "version": 3
   },
   "file_extension": ".py",
   "mimetype": "text/x-python",
   "name": "python",
   "nbconvert_exporter": "python",
   "pygments_lexer": "ipython3",
   "version": "3.8.5"
  }
 },
 "nbformat": 4,
 "nbformat_minor": 4
}
